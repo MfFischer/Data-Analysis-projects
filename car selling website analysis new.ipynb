{
 "cells": [
  {
   "cell_type": "markdown",
   "metadata": {},
   "source": [
    "# CAR PRICE ANALYSIS\n",
    "\n",
    "\n",
    "As an analyst at Crankshaft List website where hundreds of free advertisements for vehicles are published every day,\n",
    "\n",
    "I will study the data collected over the last few years and determine which factors influence the price of a vehicle. "
   ]
  },
  {
   "cell_type": "markdown",
   "metadata": {},
   "source": [
    "### Table of Contents\n",
    "* <a href=\"#Step 1\">Opening the Data</a><br>\n",
    "    * <a href=\"#car_tail\">car_sales tail</a><br>\n",
    "    * <a href=\"#car_shape\">Car_sales shape</a><br>\n",
    "    * <a href=\"#car_columns\">Car columns</a><br>\n",
    "    * <a href=\"#car_info\">Car Info</a><br>\n",
    "    * <a href=\"#car_describe\">Car describe</a><br>\n",
    "        * <a href=\"#step1_conclusion\">Conclusion</a><br>\n",
    "* <a href=\"#Step 2\">Data preprocessing</a><br>\n",
    "    * <a href=\"#checkingfor nan\">Checking for Nan Values</a><br>\n",
    "    * <a href=\"#frequency replacement\">Replacement by frequency</a><br>\n",
    "    * <a href=\"#Real2int\">Changing Real number to Int</a><br>\n",
    "        * <a href=\"#Step2conclusion\">Conclusion</a><br>\n",
    "* <a href=\"#Step 3\">Make calculations and add them to the table</a><br>\n",
    "    * <a href=\"#Datetime64\">Adding week, month and year column</a><br>\n",
    "    * <a href=\"#carAge\">Adding the age of the car</a><br>\n",
    "    * <a href=\"#carMilage\">Adding the Average milage of the car</a><br>\n",
    "    * <a href=\"#condition2numeric\">Replacing the condition value to Numeric</a><br>\n",
    "    * <a href=\"#condition2numeric\">Replacing the condition value to Numeric</a><br>\n",
    "        * <a href=\"#Step3conclusion\">Conclusion</a><br>\n",
    "* <a href=\"#Step 4\">Carry out exploratory data analysis</a><br>\n",
    "    * <a href=\"#carsalesboxplot\">Checking the age column upper limit</a><br>\n",
    "    * <a href=\"#agefiltered\">filtered age column</a><br>\n",
    "    * <a href=\"#priceupperlimit\">Checking the price column upper limit</a><br>\n",
    "    * <a href=\"#pricefiltered\">filtered price column</a><br>\n",
    "    * <a href=\"#odometerupperlimit\">Checking the odometer column upper limit</a><br>\n",
    "    * <a href=\"#odometerfiltered\">filtered odometer column</a><br>\n",
    "    * <a href=\"#cylinderupperlimit\">Checking the cylinder column upper limit</a><br>\n",
    "    * <a href=\"#conditioncount\">Condition column value count</a><br>\n",
    "    * <a href=\"#dayslistedhist\">Days Listed histogram</a><br>\n",
    "    * <a href=\"#Adbyprice\">number of ad and the average price</a><br>\n",
    "    * <a href=\"#3colhist\">Hist of columns price, days listed and type</a><br>\n",
    "    * <a href=\"#translhist\">analysis of transmission column</a><br>\n",
    "    * <a href=\"#painthist\">analysis of paint column</a><br>\n",
    "        * <a href=\"#step4conclusion\">Conclusion</a><br>\n",
    "* <a href=\"#Step 5\">Overall conclusion</a><br>       "
   ]
  },
  {
   "cell_type": "markdown",
   "metadata": {},
   "source": [
    "<p><a name=\"Step 1\"></a></p>\n",
    "\n",
    "### Step 1. Open the data file and study the general information. "
   ]
  },
  {
   "cell_type": "code",
   "execution_count": 1,
   "metadata": {},
   "outputs": [],
   "source": [
    "import pandas as pd\n",
    "import numpy as np\n",
    "import matplotlib.pyplot as plt"
   ]
  },
  {
   "cell_type": "code",
   "execution_count": 2,
   "metadata": {},
   "outputs": [
    {
     "name": "stdout",
     "output_type": "stream",
     "text": [
      "   price  model_year           model  condition  cylinders fuel  odometer  \\\n",
      "0   9400      2011.0          bmw x5       good        6.0  gas  145000.0   \n",
      "1  25500         NaN      ford f-150       good        6.0  gas   88705.0   \n",
      "2   5500      2013.0  hyundai sonata   like new        4.0  gas  110000.0   \n",
      "3   1500      2003.0      ford f-150       fair        8.0  gas       NaN   \n",
      "4  14900      2017.0    chrysler 200  excellent        4.0  gas   80903.0   \n",
      "\n",
      "  transmission    type paint_color  is_4wd date_posted  days_listed  \n",
      "0    automatic     SUV         NaN     1.0  2018-06-23           19  \n",
      "1    automatic  pickup       white     1.0  2018-10-19           50  \n",
      "2    automatic   sedan         red     NaN  2019-02-07           79  \n",
      "3    automatic  pickup         NaN     NaN  2019-03-22            9  \n",
      "4    automatic   sedan       black     NaN  2019-04-02           28  \n"
     ]
    }
   ],
   "source": [
    "# Making a list of missing value types\n",
    "car_sales = pd.read_csv(r'C:\\Users\\User\\Documents\\YandexDataA\\sprint 3/vehicles_us (3).csv')\n",
    "\n",
    "print(car_sales.head())\n"
   ]
  },
  {
   "cell_type": "markdown",
   "metadata": {},
   "source": [
    "<p><a name=\"car_tail\"></a></p>"
   ]
  },
  {
   "cell_type": "code",
   "execution_count": 3,
   "metadata": {},
   "outputs": [
    {
     "name": "stdout",
     "output_type": "stream",
     "text": [
      "       price  model_year           model  condition  cylinders fuel  odometer  \\\n",
      "51520   9249      2013.0   nissan maxima   like new        6.0  gas   88136.0   \n",
      "51521   2700      2002.0     honda civic    salvage        4.0  gas  181500.0   \n",
      "51522   3950      2009.0  hyundai sonata  excellent        4.0  gas  128000.0   \n",
      "51523   7455      2013.0  toyota corolla       good        4.0  gas  139573.0   \n",
      "51524   6300      2014.0   nissan altima       good        4.0  gas       NaN   \n",
      "\n",
      "      transmission   type paint_color  is_4wd date_posted  days_listed  \n",
      "51520    automatic  sedan       black     NaN  2018-10-03           37  \n",
      "51521    automatic  sedan       white     NaN  2018-11-14           22  \n",
      "51522    automatic  sedan        blue     NaN  2018-11-15           32  \n",
      "51523    automatic  sedan       black     NaN  2018-07-02           71  \n",
      "51524    automatic  sedan         NaN     NaN  2018-06-05           10  \n"
     ]
    }
   ],
   "source": [
    "print(car_sales.tail())"
   ]
  },
  {
   "cell_type": "markdown",
   "metadata": {},
   "source": [
    "<p><a name=\"car_shape\"></a></p>"
   ]
  },
  {
   "cell_type": "code",
   "execution_count": 4,
   "metadata": {},
   "outputs": [
    {
     "data": {
      "text/plain": [
       "(51525, 13)"
      ]
     },
     "execution_count": 4,
     "metadata": {},
     "output_type": "execute_result"
    }
   ],
   "source": [
    "#im calling the shape function to see how many row and columns the data set contains.\n",
    "\n",
    "car_sales.shape"
   ]
  },
  {
   "cell_type": "markdown",
   "metadata": {},
   "source": [
    "<p><a name=\"car_columns\"></a></p>"
   ]
  },
  {
   "cell_type": "code",
   "execution_count": 5,
   "metadata": {},
   "outputs": [
    {
     "data": {
      "text/plain": [
       "Index(['price', 'model_year', 'model', 'condition', 'cylinders', 'fuel',\n",
       "       'odometer', 'transmission', 'type', 'paint_color', 'is_4wd',\n",
       "       'date_posted', 'days_listed'],\n",
       "      dtype='object')"
      ]
     },
     "execution_count": 5,
     "metadata": {},
     "output_type": "execute_result"
    }
   ],
   "source": [
    "# im calling columns function to see what are the column names\n",
    "car_sales.columns"
   ]
  },
  {
   "cell_type": "markdown",
   "metadata": {},
   "source": [
    "<p><a name=\"car_info\"></a></p>"
   ]
  },
  {
   "cell_type": "code",
   "execution_count": 6,
   "metadata": {},
   "outputs": [
    {
     "name": "stdout",
     "output_type": "stream",
     "text": [
      "<class 'pandas.core.frame.DataFrame'>\n",
      "RangeIndex: 51525 entries, 0 to 51524\n",
      "Data columns (total 13 columns):\n",
      " #   Column        Non-Null Count  Dtype  \n",
      "---  ------        --------------  -----  \n",
      " 0   price         51525 non-null  int64  \n",
      " 1   model_year    47906 non-null  float64\n",
      " 2   model         51525 non-null  object \n",
      " 3   condition     51525 non-null  object \n",
      " 4   cylinders     46265 non-null  float64\n",
      " 5   fuel          51525 non-null  object \n",
      " 6   odometer      43633 non-null  float64\n",
      " 7   transmission  51525 non-null  object \n",
      " 8   type          51525 non-null  object \n",
      " 9   paint_color   42258 non-null  object \n",
      " 10  is_4wd        25572 non-null  float64\n",
      " 11  date_posted   51525 non-null  object \n",
      " 12  days_listed   51525 non-null  int64  \n",
      "dtypes: float64(4), int64(2), object(7)\n",
      "memory usage: 5.1+ MB\n"
     ]
    }
   ],
   "source": [
    "car_sales.info()"
   ]
  },
  {
   "cell_type": "markdown",
   "metadata": {},
   "source": [
    "<p><a name=\"car_describe\"></a></p>"
   ]
  },
  {
   "cell_type": "code",
   "execution_count": 7,
   "metadata": {},
   "outputs": [
    {
     "data": {
      "text/html": [
       "<div>\n",
       "<style scoped>\n",
       "    .dataframe tbody tr th:only-of-type {\n",
       "        vertical-align: middle;\n",
       "    }\n",
       "\n",
       "    .dataframe tbody tr th {\n",
       "        vertical-align: top;\n",
       "    }\n",
       "\n",
       "    .dataframe thead th {\n",
       "        text-align: right;\n",
       "    }\n",
       "</style>\n",
       "<table border=\"1\" class=\"dataframe\">\n",
       "  <thead>\n",
       "    <tr style=\"text-align: right;\">\n",
       "      <th></th>\n",
       "      <th>price</th>\n",
       "      <th>model_year</th>\n",
       "      <th>cylinders</th>\n",
       "      <th>odometer</th>\n",
       "      <th>is_4wd</th>\n",
       "      <th>days_listed</th>\n",
       "    </tr>\n",
       "  </thead>\n",
       "  <tbody>\n",
       "    <tr>\n",
       "      <th>count</th>\n",
       "      <td>51525.000000</td>\n",
       "      <td>47906.000000</td>\n",
       "      <td>46265.000000</td>\n",
       "      <td>43633.000000</td>\n",
       "      <td>25572.0</td>\n",
       "      <td>51525.00000</td>\n",
       "    </tr>\n",
       "    <tr>\n",
       "      <th>mean</th>\n",
       "      <td>12132.464920</td>\n",
       "      <td>2009.750470</td>\n",
       "      <td>6.125235</td>\n",
       "      <td>115553.461738</td>\n",
       "      <td>1.0</td>\n",
       "      <td>39.55476</td>\n",
       "    </tr>\n",
       "    <tr>\n",
       "      <th>std</th>\n",
       "      <td>10040.803015</td>\n",
       "      <td>6.282065</td>\n",
       "      <td>1.660360</td>\n",
       "      <td>65094.611341</td>\n",
       "      <td>0.0</td>\n",
       "      <td>28.20427</td>\n",
       "    </tr>\n",
       "    <tr>\n",
       "      <th>min</th>\n",
       "      <td>1.000000</td>\n",
       "      <td>1908.000000</td>\n",
       "      <td>3.000000</td>\n",
       "      <td>0.000000</td>\n",
       "      <td>1.0</td>\n",
       "      <td>0.00000</td>\n",
       "    </tr>\n",
       "    <tr>\n",
       "      <th>25%</th>\n",
       "      <td>5000.000000</td>\n",
       "      <td>2006.000000</td>\n",
       "      <td>4.000000</td>\n",
       "      <td>70000.000000</td>\n",
       "      <td>1.0</td>\n",
       "      <td>19.00000</td>\n",
       "    </tr>\n",
       "    <tr>\n",
       "      <th>50%</th>\n",
       "      <td>9000.000000</td>\n",
       "      <td>2011.000000</td>\n",
       "      <td>6.000000</td>\n",
       "      <td>113000.000000</td>\n",
       "      <td>1.0</td>\n",
       "      <td>33.00000</td>\n",
       "    </tr>\n",
       "    <tr>\n",
       "      <th>75%</th>\n",
       "      <td>16839.000000</td>\n",
       "      <td>2014.000000</td>\n",
       "      <td>8.000000</td>\n",
       "      <td>155000.000000</td>\n",
       "      <td>1.0</td>\n",
       "      <td>53.00000</td>\n",
       "    </tr>\n",
       "    <tr>\n",
       "      <th>max</th>\n",
       "      <td>375000.000000</td>\n",
       "      <td>2019.000000</td>\n",
       "      <td>12.000000</td>\n",
       "      <td>990000.000000</td>\n",
       "      <td>1.0</td>\n",
       "      <td>271.00000</td>\n",
       "    </tr>\n",
       "  </tbody>\n",
       "</table>\n",
       "</div>"
      ],
      "text/plain": [
       "               price    model_year     cylinders       odometer   is_4wd  \\\n",
       "count   51525.000000  47906.000000  46265.000000   43633.000000  25572.0   \n",
       "mean    12132.464920   2009.750470      6.125235  115553.461738      1.0   \n",
       "std     10040.803015      6.282065      1.660360   65094.611341      0.0   \n",
       "min         1.000000   1908.000000      3.000000       0.000000      1.0   \n",
       "25%      5000.000000   2006.000000      4.000000   70000.000000      1.0   \n",
       "50%      9000.000000   2011.000000      6.000000  113000.000000      1.0   \n",
       "75%     16839.000000   2014.000000      8.000000  155000.000000      1.0   \n",
       "max    375000.000000   2019.000000     12.000000  990000.000000      1.0   \n",
       "\n",
       "       days_listed  \n",
       "count  51525.00000  \n",
       "mean      39.55476  \n",
       "std       28.20427  \n",
       "min        0.00000  \n",
       "25%       19.00000  \n",
       "50%       33.00000  \n",
       "75%       53.00000  \n",
       "max      271.00000  "
      ]
     },
     "execution_count": 7,
     "metadata": {},
     "output_type": "execute_result"
    }
   ],
   "source": [
    "car_sales.describe()"
   ]
  },
  {
   "cell_type": "markdown",
   "metadata": {},
   "source": [
    "<p><a name=\"step1_conclusion\"></a></p>"
   ]
  },
  {
   "cell_type": "markdown",
   "metadata": {},
   "source": [
    "### Conclusion\n",
    "The car_sales dataset has 51525 rows and 13 columns.There are Nan values inplaced in columns 'model_year', 'cylinders', 'odometer','paint_color', and 'is_4wd'.I'm using Pandadictionary since my task involves, data cleaning and data manipulation"
   ]
  },
  {
   "cell_type": "markdown",
   "metadata": {},
   "source": []
  },
  {
   "cell_type": "markdown",
   "metadata": {},
   "source": [
    "<p><a name=\"Step 2\"></a></p>\n",
    "\n",
    "### Step 2. Data preprocessing"
   ]
  },
  {
   "cell_type": "code",
   "execution_count": 8,
   "metadata": {},
   "outputs": [
    {
     "name": "stdout",
     "output_type": "stream",
     "text": [
      "price               0\n",
      "model_year       3619\n",
      "model               0\n",
      "condition           0\n",
      "cylinders        5260\n",
      "fuel                0\n",
      "odometer         7892\n",
      "transmission        0\n",
      "type                0\n",
      "paint_color      9267\n",
      "is_4wd          25953\n",
      "date_posted         0\n",
      "days_listed         0\n",
      "dtype: int64\n"
     ]
    }
   ],
   "source": [
    "# Total of missing values for each column\n",
    "print (car_sales.isnull().sum())"
   ]
  },
  {
   "cell_type": "markdown",
   "metadata": {},
   "source": [
    "<p><a name=\"checkingfor nan\"></a></p>"
   ]
  },
  {
   "cell_type": "code",
   "execution_count": 9,
   "metadata": {},
   "outputs": [],
   "source": [
    "# checking for the Nan values in model year column.\n",
    "\n",
    "missing_year = car_sales[\"model_year\"].isna().sum()\n",
    "total = car_sales.index\n",
    "number_of_rows = len(total)"
   ]
  },
  {
   "cell_type": "code",
   "execution_count": 10,
   "metadata": {},
   "outputs": [],
   "source": [
    "# finding out the percentage of Nan values before dropping and replacing them.\n",
    "missing_year_percentage = missing_year /  number_of_rows"
   ]
  },
  {
   "cell_type": "code",
   "execution_count": 11,
   "metadata": {},
   "outputs": [
    {
     "name": "stdout",
     "output_type": "stream",
     "text": [
      "the percentage of missing model year in the data: 7.02%\n"
     ]
    }
   ],
   "source": [
    "print('the percentage of missing model year in the data:', \"{:.2%}\". format(missing_year_percentage))"
   ]
  },
  {
   "cell_type": "code",
   "execution_count": 12,
   "metadata": {},
   "outputs": [],
   "source": [
    "# getting the median value of the column\n",
    "\n",
    "median_model_year = car_sales['model_year'].median()"
   ]
  },
  {
   "cell_type": "code",
   "execution_count": 13,
   "metadata": {},
   "outputs": [
    {
     "name": "stdout",
     "output_type": "stream",
     "text": [
      "2011.0\n"
     ]
    }
   ],
   "source": [
    "#this is the median value of the column which I will be using to \n",
    "#fill up the NaN values.\n",
    "print(median_model_year)"
   ]
  },
  {
   "cell_type": "code",
   "execution_count": 14,
   "metadata": {},
   "outputs": [],
   "source": [
    "#filling up the Nan values with median by calling the fillna function.\n",
    "\n",
    "car_sales['model_year'] = car_sales['model_year'].fillna(value= median_model_year)"
   ]
  },
  {
   "cell_type": "code",
   "execution_count": 15,
   "metadata": {},
   "outputs": [],
   "source": [
    "#Determining the missing value of 'cylinders column and replacing it with median'\n",
    "cylinders = car_sales[\"cylinders\"].isna().sum()\n",
    "total = car_sales.index\n",
    "number_of_rows = len(total)"
   ]
  },
  {
   "cell_type": "code",
   "execution_count": 16,
   "metadata": {},
   "outputs": [],
   "source": [
    "#getting the median value of the column.\n",
    "\n",
    "median_cylinder = car_sales['cylinders'].median()"
   ]
  },
  {
   "cell_type": "code",
   "execution_count": 17,
   "metadata": {},
   "outputs": [],
   "source": [
    "car_sales['cylinders'] = car_sales['cylinders'].fillna(value= median_cylinder)"
   ]
  },
  {
   "cell_type": "code",
   "execution_count": 18,
   "metadata": {},
   "outputs": [],
   "source": [
    "#Determining the missing value of 'Odometer' column and replacing it with median'\n",
    "odometer = car_sales[\"odometer\"].isna().sum()\n",
    "total = car_sales.index\n",
    "number_of_rows = len(total)"
   ]
  },
  {
   "cell_type": "code",
   "execution_count": 19,
   "metadata": {},
   "outputs": [],
   "source": [
    "#finding out the percentage of the Nan values in the column.\n",
    "odometer_percentage = odometer /  number_of_rows"
   ]
  },
  {
   "cell_type": "code",
   "execution_count": 20,
   "metadata": {},
   "outputs": [
    {
     "name": "stdout",
     "output_type": "stream",
     "text": [
      "the percentage of missing odometers in the data: 15.32%\n"
     ]
    }
   ],
   "source": [
    "print('the percentage of missing odometers in the data:', \"{:.2%}\". format(odometer_percentage))"
   ]
  },
  {
   "cell_type": "code",
   "execution_count": 21,
   "metadata": {},
   "outputs": [],
   "source": [
    "# getting the median of the column.\n",
    "median_odometer = car_sales['odometer'].median()"
   ]
  },
  {
   "cell_type": "code",
   "execution_count": 22,
   "metadata": {},
   "outputs": [],
   "source": [
    "car_sales['odometer'] = car_sales['odometer'].fillna(value= median_odometer)"
   ]
  },
  {
   "cell_type": "markdown",
   "metadata": {},
   "source": [
    "I used median to fill the missing value primarily because the number of Nan values in the data is more than 1% of the dataset which is high and usually the best option given this case."
   ]
  },
  {
   "cell_type": "markdown",
   "metadata": {},
   "source": [
    "<p><a name=\"frequency replacement\"></a></p>"
   ]
  },
  {
   "cell_type": "code",
   "execution_count": 23,
   "metadata": {},
   "outputs": [],
   "source": [
    "#Determining the missing value of 'paint color' column and replacinf them with frequency using value_counts function.\n",
    "paint_color = car_sales[\"paint_color\"].isna().sum()\n",
    "total = car_sales.index\n",
    "number_of_rows = len(total)"
   ]
  },
  {
   "cell_type": "code",
   "execution_count": 24,
   "metadata": {},
   "outputs": [],
   "source": [
    "paint_color_percentage = paint_color /  number_of_rows"
   ]
  },
  {
   "cell_type": "code",
   "execution_count": 25,
   "metadata": {},
   "outputs": [
    {
     "name": "stdout",
     "output_type": "stream",
     "text": [
      "the percentage of missing paint_color in the data: 17.99%\n"
     ]
    }
   ],
   "source": [
    "print('the percentage of missing paint_color in the data:', \"{:.2%}\". format(paint_color_percentage))"
   ]
  },
  {
   "cell_type": "code",
   "execution_count": 26,
   "metadata": {},
   "outputs": [
    {
     "name": "stdout",
     "output_type": "stream",
     "text": [
      "white     10029\n",
      "black      7692\n",
      "silver     6244\n",
      "grey       5037\n",
      "blue       4475\n",
      "red        4421\n",
      "green      1396\n",
      "brown      1223\n",
      "custom     1153\n",
      "yellow      255\n",
      "orange      231\n",
      "purple      102\n",
      "Name: paint_color, dtype: int64\n"
     ]
    }
   ],
   "source": [
    "# in the case of paint_color im using value_counts function to get the most number of frequency to replace \n",
    "# the missing value since its not a numerical value.\n",
    "\n",
    "print(car_sales['paint_color'].value_counts())"
   ]
  },
  {
   "cell_type": "code",
   "execution_count": 27,
   "metadata": {},
   "outputs": [],
   "source": [
    "# im replacing the missing value with 'white'\n",
    "car_sales[\"paint_color\"].fillna(\"white\", inplace = True)"
   ]
  },
  {
   "cell_type": "code",
   "execution_count": 28,
   "metadata": {},
   "outputs": [
    {
     "name": "stdout",
     "output_type": "stream",
     "text": [
      "   price  model_year           model  condition  cylinders fuel  odometer  \\\n",
      "0   9400      2011.0          bmw x5       good        6.0  gas  145000.0   \n",
      "1  25500      2011.0      ford f-150       good        6.0  gas   88705.0   \n",
      "2   5500      2013.0  hyundai sonata   like new        4.0  gas  110000.0   \n",
      "3   1500      2003.0      ford f-150       fair        8.0  gas  113000.0   \n",
      "4  14900      2017.0    chrysler 200  excellent        4.0  gas   80903.0   \n",
      "\n",
      "  transmission    type paint_color  is_4wd date_posted  days_listed  \n",
      "0    automatic     SUV       white     1.0  2018-06-23           19  \n",
      "1    automatic  pickup       white     1.0  2018-10-19           50  \n",
      "2    automatic   sedan         red     NaN  2019-02-07           79  \n",
      "3    automatic  pickup       white     NaN  2019-03-22            9  \n",
      "4    automatic   sedan       black     NaN  2019-04-02           28  \n"
     ]
    }
   ],
   "source": [
    "print(car_sales.head())"
   ]
  },
  {
   "cell_type": "code",
   "execution_count": 29,
   "metadata": {},
   "outputs": [],
   "source": [
    "#Determining the missing values 'is_4wd' column\n",
    "count = car_sales[\"is_4wd\"].isna().sum()"
   ]
  },
  {
   "cell_type": "code",
   "execution_count": 30,
   "metadata": {},
   "outputs": [
    {
     "name": "stdout",
     "output_type": "stream",
     "text": [
      "25953\n"
     ]
    }
   ],
   "source": [
    "print(count)"
   ]
  },
  {
   "cell_type": "markdown",
   "metadata": {},
   "source": [
    "In this case of column is_4wd where 25953 values are missing, the Nan values indicates that the car is not 4 wheel drive so therefore i will replace it with 0."
   ]
  },
  {
   "cell_type": "code",
   "execution_count": 31,
   "metadata": {},
   "outputs": [],
   "source": [
    "#first i have to convert Nan values to 0\n",
    "car_sales[\"is_4wd\"].fillna(\"0\", inplace = True)\n"
   ]
  },
  {
   "cell_type": "markdown",
   "metadata": {},
   "source": [
    "<p><a name=\"Real2int\"></a></p>"
   ]
  },
  {
   "cell_type": "code",
   "execution_count": 32,
   "metadata": {},
   "outputs": [],
   "source": [
    "#Since the columns 'model_year', 'cylinders' and odometer contains real number,I will change it to integer\n",
    "# by calling the astype function for the particular columns.I'm using this function for its versatility to go \n",
    "# one type to another in a dataframe.\n",
    "\n",
    "car_sales = car_sales.astype({\"model_year\": int, \"cylinders\": int, \"odometer\": int, \"is_4wd\" : int})"
   ]
  },
  {
   "cell_type": "code",
   "execution_count": 33,
   "metadata": {},
   "outputs": [
    {
     "name": "stdout",
     "output_type": "stream",
     "text": [
      "   price  model_year           model  condition  cylinders fuel  odometer  \\\n",
      "0   9400        2011          bmw x5       good          6  gas    145000   \n",
      "1  25500        2011      ford f-150       good          6  gas     88705   \n",
      "2   5500        2013  hyundai sonata   like new          4  gas    110000   \n",
      "3   1500        2003      ford f-150       fair          8  gas    113000   \n",
      "4  14900        2017    chrysler 200  excellent          4  gas     80903   \n",
      "\n",
      "  transmission    type paint_color  is_4wd date_posted  days_listed  \n",
      "0    automatic     SUV       white       1  2018-06-23           19  \n",
      "1    automatic  pickup       white       1  2018-10-19           50  \n",
      "2    automatic   sedan         red       0  2019-02-07           79  \n",
      "3    automatic  pickup       white       0  2019-03-22            9  \n",
      "4    automatic   sedan       black       0  2019-04-02           28  \n"
     ]
    }
   ],
   "source": [
    "print(car_sales.head())"
   ]
  },
  {
   "cell_type": "code",
   "execution_count": 34,
   "metadata": {},
   "outputs": [
    {
     "name": "stdout",
     "output_type": "stream",
     "text": [
      "<class 'pandas.core.frame.DataFrame'>\n",
      "RangeIndex: 51525 entries, 0 to 51524\n",
      "Data columns (total 13 columns):\n",
      " #   Column        Non-Null Count  Dtype \n",
      "---  ------        --------------  ----- \n",
      " 0   price         51525 non-null  int64 \n",
      " 1   model_year    51525 non-null  int32 \n",
      " 2   model         51525 non-null  object\n",
      " 3   condition     51525 non-null  object\n",
      " 4   cylinders     51525 non-null  int32 \n",
      " 5   fuel          51525 non-null  object\n",
      " 6   odometer      51525 non-null  int32 \n",
      " 7   transmission  51525 non-null  object\n",
      " 8   type          51525 non-null  object\n",
      " 9   paint_color   51525 non-null  object\n",
      " 10  is_4wd        51525 non-null  int32 \n",
      " 11  date_posted   51525 non-null  object\n",
      " 12  days_listed   51525 non-null  int64 \n",
      "dtypes: int32(4), int64(2), object(7)\n",
      "memory usage: 4.3+ MB\n"
     ]
    }
   ],
   "source": [
    "# i call info to check if the data set has no longer Nan values and the data types are in correct form.\n",
    "car_sales.info()"
   ]
  },
  {
   "cell_type": "markdown",
   "metadata": {},
   "source": [
    "<p><a name=\"Step2conclusion\"></a></p>"
   ]
  },
  {
   "cell_type": "markdown",
   "metadata": {},
   "source": [
    "### Conclusion"
   ]
  },
  {
   "cell_type": "markdown",
   "metadata": {},
   "source": [
    "The dataset that contain Nan values in columns model_year, cylinders, odometer and paint_color this is because the person who posted the ad did not fill up the information being ask or the information is not available due to damage part like odometer., while in is_4wd column the value Nan value indicates that the vehicle is not 4wd and is therefore shoul be change to 0 from Nan."
   ]
  },
  {
   "cell_type": "markdown",
   "metadata": {},
   "source": [
    "<p><a name=\"Step 3\"></a></p>"
   ]
  },
  {
   "cell_type": "markdown",
   "metadata": {},
   "source": [
    "### Step 3. Make calculations and add them to the table"
   ]
  },
  {
   "cell_type": "code",
   "execution_count": 35,
   "metadata": {},
   "outputs": [],
   "source": [
    "#I have to calculate and add in the table the time data in the 'date_posted' column by converting it from a \n",
    "#string type to datetime64.\n",
    "\n",
    "car_sales['date_posted']= pd.to_datetime(car_sales['date_posted'], format = '%Y-%m-%dT%H:%M')"
   ]
  },
  {
   "cell_type": "markdown",
   "metadata": {},
   "source": [
    "<p><a name=\"Datetime64\"></a></p>"
   ]
  },
  {
   "cell_type": "code",
   "execution_count": 36,
   "metadata": {},
   "outputs": [],
   "source": [
    "#I will add the weekday,'month' and year column to the table\n",
    "car_sales['day_of_week'] = pd.DatetimeIndex(car_sales['date_posted']).weekday\n",
    "car_sales['month'] = pd.DatetimeIndex(car_sales['date_posted']).month \n",
    "car_sales['year'] = pd.DatetimeIndex(car_sales['date_posted']).year"
   ]
  },
  {
   "cell_type": "code",
   "execution_count": 37,
   "metadata": {},
   "outputs": [],
   "source": [
    "#calculating the car age and adding them in the table\n",
    "car_age =  car_sales['year'] - car_sales['model_year'] "
   ]
  },
  {
   "cell_type": "markdown",
   "metadata": {},
   "source": [
    "<p><a name=\"carAge\"></a></p>"
   ]
  },
  {
   "cell_type": "code",
   "execution_count": 38,
   "metadata": {},
   "outputs": [],
   "source": [
    "# Adding the column 'age' in the table\n",
    "car_sales['age']= car_age"
   ]
  },
  {
   "cell_type": "code",
   "execution_count": 39,
   "metadata": {},
   "outputs": [],
   "source": [
    "#calculating the average milage per year and adding them in the table\n",
    "average_milage =  car_sales['odometer'] / car_sales['age']"
   ]
  },
  {
   "cell_type": "markdown",
   "metadata": {},
   "source": [
    "<p><a name=\"carMilage\"></a></p>"
   ]
  },
  {
   "cell_type": "code",
   "execution_count": 40,
   "metadata": {},
   "outputs": [],
   "source": [
    "# adding the milage per year of the car in the table.\n",
    "car_sales['average_milage'] = average_milage"
   ]
  },
  {
   "cell_type": "markdown",
   "metadata": {},
   "source": [
    "<p><a name=\"condition2numeric\"></a></p>"
   ]
  },
  {
   "cell_type": "code",
   "execution_count": 41,
   "metadata": {},
   "outputs": [],
   "source": [
    "#Replacing 'condition' column to numeric value\n",
    "condition = car_sales['condition'].replace(to_replace = ['new', 'like new', 'excellent', 'good', 'fair', 'salvage'], value = ['5', '4', '3', '2', '1', '0' ])"
   ]
  },
  {
   "cell_type": "code",
   "execution_count": 42,
   "metadata": {},
   "outputs": [],
   "source": [
    "#Achanging  the 'condition' column of the car in the table\n",
    "car_sales['condition'] = condition"
   ]
  },
  {
   "cell_type": "code",
   "execution_count": 43,
   "metadata": {},
   "outputs": [
    {
     "name": "stdout",
     "output_type": "stream",
     "text": [
      "   price  model_year           model condition  cylinders fuel  odometer  \\\n",
      "0   9400        2011          bmw x5         2          6  gas    145000   \n",
      "1  25500        2011      ford f-150         2          6  gas     88705   \n",
      "2   5500        2013  hyundai sonata         4          4  gas    110000   \n",
      "3   1500        2003      ford f-150         1          8  gas    113000   \n",
      "4  14900        2017    chrysler 200         3          4  gas     80903   \n",
      "\n",
      "  transmission    type paint_color  is_4wd date_posted  days_listed  \\\n",
      "0    automatic     SUV       white       1  2018-06-23           19   \n",
      "1    automatic  pickup       white       1  2018-10-19           50   \n",
      "2    automatic   sedan         red       0  2019-02-07           79   \n",
      "3    automatic  pickup       white       0  2019-03-22            9   \n",
      "4    automatic   sedan       black       0  2019-04-02           28   \n",
      "\n",
      "   day_of_week  month  year  age  average_milage  \n",
      "0            5      6  2018    7    20714.285714  \n",
      "1            4     10  2018    7    12672.142857  \n",
      "2            3      2  2019    6    18333.333333  \n",
      "3            4      3  2019   16     7062.500000  \n",
      "4            1      4  2019    2    40451.500000  \n"
     ]
    }
   ],
   "source": [
    "print(car_sales.head())"
   ]
  },
  {
   "cell_type": "code",
   "execution_count": 44,
   "metadata": {},
   "outputs": [
    {
     "data": {
      "text/plain": [
       "inf             2126\n",
       "1.614286e+04     927\n",
       "2.260000e+04     592\n",
       "1.412500e+04     572\n",
       "1.883333e+04     544\n",
       "                ... \n",
       "1.804860e+04       1\n",
       "3.491925e+04       1\n",
       "2.360350e+04       1\n",
       "2.009533e+04       1\n",
       "1.845333e+04       1\n",
       "Name: average_milage, Length: 22691, dtype: int64"
      ]
     },
     "execution_count": 44,
     "metadata": {},
     "output_type": "execute_result"
    }
   ],
   "source": [
    "# im calling the value counts of average_milage to see if the outliers in the has effect of the computation of milage\n",
    "car_sales['average_milage'].value_counts()"
   ]
  },
  {
   "cell_type": "markdown",
   "metadata": {},
   "source": [
    "there are inf values in average milage column. inf  is the result of a numerical calculation that is mathematically infinite, such as: 1/0 → INF in this case this is the direct effect of odometers that has 0 values."
   ]
  },
  {
   "cell_type": "markdown",
   "metadata": {},
   "source": [
    "<p><a name=\"Stepconclusion\"></a></p>"
   ]
  },
  {
   "cell_type": "markdown",
   "metadata": {},
   "source": [
    "### Conclusion"
   ]
  },
  {
   "cell_type": "markdown",
   "metadata": {},
   "source": [
    "The columns day of the week, month and year has been added and the column age and average milage has been calculated and also added in the table."
   ]
  },
  {
   "cell_type": "markdown",
   "metadata": {},
   "source": [
    "<p><a name=\"Step 4\"></a></p>"
   ]
  },
  {
   "cell_type": "markdown",
   "metadata": {},
   "source": [
    "### Step 4. Carry out exploratory data analysis"
   ]
  },
  {
   "cell_type": "markdown",
   "metadata": {},
   "source": [
    "To remove statistical outliers, it is helpful to visualize the data to estimate the outliers."
   ]
  },
  {
   "cell_type": "code",
   "execution_count": 45,
   "metadata": {},
   "outputs": [
    {
     "name": "stdout",
     "output_type": "stream",
     "text": [
      "max:  110\n",
      "min: 0\n",
      "mean: 8.469228529839883\n",
      "median: 7.0\n"
     ]
    },
    {
     "data": {
      "image/png": "[encoded data removed]",
      "text/plain": [
       "<Figure size 432x288 with 1 Axes>"
      ]
     },
     "metadata": {
      "needs_background": "light"
     },
     "output_type": "display_data"
    }
   ],
   "source": [
    "#invistegating the age of cars for resale\n",
    "\n",
    "car_sales['age'].plot.hist(bins=25)\n",
    "plt.title('Age')\n",
    "plt.xlabel('Years')\n",
    "\n",
    "print(\"max: \", car_sales['age'].max())\n",
    "print(\"min:\", car_sales['age'].min())\n",
    "print(\"mean:\", car_sales['age'].mean())\n",
    "print(\"median:\", car_sales['age'].median())"
   ]
  },
  {
   "cell_type": "markdown",
   "metadata": {},
   "source": [
    "the average numbers of cars for resale are 7-9 years old, the 110 value in age is seem to be odd and is considered to be outlier."
   ]
  },
  {
   "cell_type": "markdown",
   "metadata": {},
   "source": [
    "<p><a name=\"carsalesboxplot\"></a></p>"
   ]
  },
  {
   "cell_type": "code",
   "execution_count": 46,
   "metadata": {},
   "outputs": [
    {
     "name": "stdout",
     "output_type": "stream",
     "text": [
      "The lower limit: 4.0\n",
      "The upper limit: 24.0\n"
     ]
    },
    {
     "data": {
      "image/png": "[encoded data removed]",
      "text/plain": [
       "<Figure size 432x288 with 1 Axes>"
      ]
     },
     "metadata": {
      "needs_background": "light"
     },
     "output_type": "display_data"
    }
   ],
   "source": [
    "#calling the boxplot to determine the upperlimits of outliers\n",
    "car_sales.boxplot('age')\n",
    "plt.ylim(0, 110)\n",
    "\n",
    "Q1 = car_sales['age'].quantile(0.25)\n",
    "Q3 = car_sales['age'].quantile(0.75)\n",
    "IQR = Q3 - Q1\n",
    "print('The lower limit:', Q1)\n",
    "print('The upper limit:', Q3+1.5*IQR)"
   ]
  },
  {
   "cell_type": "markdown",
   "metadata": {},
   "source": [
    "The lower whisker starts at 0, the minimum value, and the upper limit one ends at about 24, which is 1.5 IQR above the third quartile. That is the approximate border of the \"typical\" range. Everything beyond it can usually be considered an outlier."
   ]
  },
  {
   "cell_type": "markdown",
   "metadata": {},
   "source": [
    "<p><a name=\"agefiltered\"></a></p>"
   ]
  },
  {
   "cell_type": "code",
   "execution_count": 47,
   "metadata": {},
   "outputs": [],
   "source": [
    "#filter the age column of the data by removing the outliers in the age column.\n",
    "\n",
    "filtered_age = car_sales[car_sales['age'] < 24] "
   ]
  },
  {
   "cell_type": "code",
   "execution_count": 48,
   "metadata": {},
   "outputs": [
    {
     "data": {
      "text/plain": [
       "<AxesSubplot:>"
      ]
     },
     "execution_count": 48,
     "metadata": {},
     "output_type": "execute_result"
    },
    {
     "data": {
      "image/png": "[encoded data removed]",
      "text/plain": [
       "<Figure size 432x288 with 1 Axes>"
      ]
     },
     "metadata": {
      "needs_background": "light"
     },
     "output_type": "display_data"
    }
   ],
   "source": [
    "# making histogram of the filtered 'age' column\n",
    "\n",
    "filtered_age['age'].hist(bins=25)"
   ]
  },
  {
   "cell_type": "markdown",
   "metadata": {},
   "source": [
    "the filtered 'age' column histogram is easier to read, here we can see that the cars with the highest number being sold are in 7 years age and the older the car gets the less likely it is being sold."
   ]
  },
  {
   "cell_type": "code",
   "execution_count": 49,
   "metadata": {},
   "outputs": [
    {
     "name": "stdout",
     "output_type": "stream",
     "text": [
      "max:  375000\n",
      "min: 1\n",
      "mean: 12132.464919941776\n",
      "median: 9000.0\n"
     ]
    },
    {
     "data": {
      "image/png": "[encoded data removed]",
      "text/plain": [
       "<Figure size 432x288 with 1 Axes>"
      ]
     },
     "metadata": {
      "needs_background": "light"
     },
     "output_type": "display_data"
    }
   ],
   "source": [
    "#invistegating the car price\n",
    "\n",
    "car_sales['price'].plot.hist(bins=25)\n",
    "plt.title('Price')\n",
    "plt.xlabel('Amount')\n",
    "print(\"max: \", car_sales['price'].max())\n",
    "print(\"min:\", car_sales['price'].min())\n",
    "print(\"mean:\", car_sales['price'].mean())\n",
    "print(\"median:\", car_sales['price'].median())"
   ]
  },
  {
   "cell_type": "markdown",
   "metadata": {},
   "source": [
    "in this case of the price where median and mean value has big difference is due to the outliers, minimun price value of 1 and maximun value of 375000 is abnormal and is therefore considered outliers which makes the readability of the data hard."
   ]
  },
  {
   "cell_type": "markdown",
   "metadata": {},
   "source": [
    "<p><a name=\"priceupperlimit\"></a></p>"
   ]
  },
  {
   "cell_type": "code",
   "execution_count": 50,
   "metadata": {},
   "outputs": [
    {
     "name": "stdout",
     "output_type": "stream",
     "text": [
      "The lower limit: 5000.0\n",
      "The upper limit: 34597.5\n"
     ]
    },
    {
     "data": {
      "image/png": "[encoded data removed]",
      "text/plain": [
       "<Figure size 432x288 with 1 Axes>"
      ]
     },
     "metadata": {
      "needs_background": "light"
     },
     "output_type": "display_data"
    }
   ],
   "source": [
    "#calling the boxplot to determine the upperlimits of outliers\n",
    "car_sales.boxplot('price')\n",
    "plt.ylim(1, 375000)\n",
    "\n",
    "Q1 = car_sales['price'].quantile(0.25)\n",
    "Q3 = car_sales['price'].quantile(0.75)\n",
    "IQR = Q3 - Q1\n",
    "print('The lower limit:', Q1)\n",
    "print('The upper limit:', Q3+1.5*IQR)"
   ]
  },
  {
   "cell_type": "markdown",
   "metadata": {},
   "source": [
    "in the case of price column 34597.5 is the upper limit of outliers and anything beyond it is outliers."
   ]
  },
  {
   "cell_type": "markdown",
   "metadata": {},
   "source": [
    "<p><a name=\"pricefiltered\"></a></p>"
   ]
  },
  {
   "cell_type": "code",
   "execution_count": 51,
   "metadata": {},
   "outputs": [],
   "source": [
    "#filter the price column of the data by removing the outliers in the price column.\n",
    "\n",
    "filtered_price = filtered_age[filtered_age['price'] < 34597.5] "
   ]
  },
  {
   "cell_type": "code",
   "execution_count": 52,
   "metadata": {},
   "outputs": [
    {
     "data": {
      "text/plain": [
       "Text(0.5, 0, 'Amount')"
      ]
     },
     "execution_count": 52,
     "metadata": {},
     "output_type": "execute_result"
    },
    {
     "data": {
      "image/png": "[encoded data removed]",
      "text/plain": [
       "<Figure size 432x288 with 1 Axes>"
      ]
     },
     "metadata": {
      "needs_background": "light"
     },
     "output_type": "display_data"
    }
   ],
   "source": [
    "#making histogram of the filtered 'price' column\n",
    "\n",
    "filtered_price['price'].hist(bins=25)\n",
    "plt.title('Price')\n",
    "plt.xlabel('Amount')"
   ]
  },
  {
   "cell_type": "markdown",
   "metadata": {},
   "source": [
    "here we can see cleary the distribution of price than the previous unfiltered histogram, we can see here that the higher the price the less likely it is being sold in the website and the highest number of cars being sold are at 4000-6000 price range."
   ]
  },
  {
   "cell_type": "code",
   "execution_count": 53,
   "metadata": {},
   "outputs": [
    {
     "name": "stdout",
     "output_type": "stream",
     "text": [
      "max:  990000\n",
      "min: 0\n",
      "mean: 115162.3521785541\n",
      "median: 113000.0\n"
     ]
    },
    {
     "data": {
      "text/plain": [
       "Text(0.5, 0, 'Milage')"
      ]
     },
     "execution_count": 53,
     "metadata": {},
     "output_type": "execute_result"
    },
    {
     "data": {
      "image/png": "[encoded data removed]",
      "text/plain": [
       "<Figure size 432x288 with 1 Axes>"
      ]
     },
     "metadata": {
      "needs_background": "light"
     },
     "output_type": "display_data"
    }
   ],
   "source": [
    "#investigating the milage \n",
    "car_sales['odometer'].plot.hist(bins=100)\n",
    "print(\"max: \", car_sales['odometer'].max())\n",
    "print(\"min:\", car_sales['odometer'].min())\n",
    "print(\"mean:\", car_sales['odometer'].mean())\n",
    "print(\"median:\", car_sales['odometer'].median())\n",
    "plt.title('Odometer')\n",
    "plt.xlabel('Milage')\n"
   ]
  },
  {
   "cell_type": "markdown",
   "metadata": {},
   "source": [
    "<p><a name=\"odometerupperlimit\"></a></p>"
   ]
  },
  {
   "cell_type": "code",
   "execution_count": 54,
   "metadata": {},
   "outputs": [
    {
     "name": "stdout",
     "output_type": "stream",
     "text": [
      "The lower limit: 79181.0\n",
      "the upper limit: 247581.0\n"
     ]
    },
    {
     "data": {
      "image/png": "[encoded data removed]",
      "text/plain": [
       "<Figure size 432x288 with 1 Axes>"
      ]
     },
     "metadata": {
      "needs_background": "light"
     },
     "output_type": "display_data"
    }
   ],
   "source": [
    "#calling the boxplot to determine the upperlimit of outliers in odometer column\n",
    "\n",
    "car_sales.boxplot('odometer')\n",
    "plt.ylim(0, 990000)\n",
    "\n",
    "Q1 = car_sales['odometer'].quantile(0.25)\n",
    "Q3 = car_sales['odometer'].quantile(0.75)\n",
    "IQR = Q3 - Q1\n",
    "print('The lower limit:', Q1)\n",
    "print('the upper limit:', Q3+1.5*IQR)"
   ]
  },
  {
   "cell_type": "markdown",
   "metadata": {},
   "source": [
    "in the Odometer column 247581 is the upper limit anything beyond that is considered outlier."
   ]
  },
  {
   "cell_type": "markdown",
   "metadata": {},
   "source": [
    "<p><a name=\"odometerfiltered\"></a></p>"
   ]
  },
  {
   "cell_type": "code",
   "execution_count": 55,
   "metadata": {},
   "outputs": [],
   "source": [
    "#filter the odometer column of the data by removing the outliers in the odometer column.\n",
    "\n",
    "filtered_milage = filtered_price[filtered_price['odometer'] < 250000] "
   ]
  },
  {
   "cell_type": "markdown",
   "metadata": {},
   "source": [
    "for milage we can see that majority of the cars for resale are in range 113k-115k kms.the minimun is 0 and maximun is 990000 which can be considered as outliers."
   ]
  },
  {
   "cell_type": "code",
   "execution_count": 56,
   "metadata": {},
   "outputs": [
    {
     "data": {
      "text/plain": [
       "Text(0.5, 0, 'Milage')"
      ]
     },
     "execution_count": 56,
     "metadata": {},
     "output_type": "execute_result"
    },
    {
     "data": {
      "image/png": "[encoded data removed]",
      "text/plain": [
       "<Figure size 432x288 with 1 Axes>"
      ]
     },
     "metadata": {
      "needs_background": "light"
     },
     "output_type": "display_data"
    }
   ],
   "source": [
    "filtered_milage['odometer'].hist(bins=25)\n",
    "plt.title('Odometer')\n",
    "plt.xlabel('Milage')"
   ]
  },
  {
   "cell_type": "markdown",
   "metadata": {},
   "source": [
    "the filtered 'odometer' column is easier to read since there are no more outliers.We notice a sudden climb peak in the number of cars which has 113000 milage. The higher the milage the lower the number of cars being sold."
   ]
  },
  {
   "cell_type": "code",
   "execution_count": 57,
   "metadata": {},
   "outputs": [
    {
     "name": "stdout",
     "output_type": "stream",
     "text": [
      "max:  12\n",
      "min: 3\n",
      "mean: 6.112450266860747\n",
      "median: 6.0\n"
     ]
    },
    {
     "data": {
      "image/png": "[encoded data removed]",
      "text/plain": [
       "<Figure size 432x288 with 1 Axes>"
      ]
     },
     "metadata": {
      "needs_background": "light"
     },
     "output_type": "display_data"
    }
   ],
   "source": [
    "#investigating the cylinders of the cars\n",
    "\n",
    "car_sales['cylinders'].value_counts().plot(kind= 'bar', grid = True)\n",
    "plt.show\n",
    "plt.title('Cylinders')\n",
    "plt.xlabel('Number of Cylinders')\n",
    "print(\"max: \", car_sales['cylinders'].max())\n",
    "print(\"min:\", car_sales['cylinders'].min())\n",
    "print(\"mean:\", car_sales['cylinders'].mean())\n",
    "print(\"median:\", car_sales['cylinders'].median())"
   ]
  },
  {
   "cell_type": "markdown",
   "metadata": {},
   "source": [
    "most cars being sold are 6 cylinders while having the maximun 12 cylinders seems odd and could possibly be an outlier which is need to be checked."
   ]
  },
  {
   "cell_type": "markdown",
   "metadata": {},
   "source": [
    "<p><a name=\"cylinderupperlimit\"></a></p>"
   ]
  },
  {
   "cell_type": "code",
   "execution_count": 58,
   "metadata": {},
   "outputs": [
    {
     "name": "stdout",
     "output_type": "stream",
     "text": [
      "The lower limit: 4.0\n",
      "the upper limit: 14.0\n"
     ]
    },
    {
     "data": {
      "image/png": "[encoded data removed]",
      "text/plain": [
       "<Figure size 432x288 with 1 Axes>"
      ]
     },
     "metadata": {
      "needs_background": "light"
     },
     "output_type": "display_data"
    }
   ],
   "source": [
    "#calling the boxplot to determine the upperlimit of outliers in cylinders column\n",
    "\n",
    "car_sales.boxplot('cylinders')\n",
    "Q1 = car_sales['cylinders'].quantile(0.25)\n",
    "Q3 = car_sales['cylinders'].quantile(0.75)\n",
    "IQR = Q3 - Q1\n",
    "print('The lower limit:', Q1)\n",
    "print('the upper limit:', Q3+1.5*IQR)"
   ]
  },
  {
   "cell_type": "markdown",
   "metadata": {},
   "source": [
    "In this case of cylinders we do not filter the column since there is no value considered outliers."
   ]
  },
  {
   "cell_type": "markdown",
   "metadata": {},
   "source": [
    "<p><a name=\"conditioncount\"></a></p>"
   ]
  },
  {
   "cell_type": "code",
   "execution_count": 59,
   "metadata": {},
   "outputs": [
    {
     "name": "stdout",
     "output_type": "stream",
     "text": [
      "max:  5\n",
      "min: 0\n",
      "median: 3.0\n"
     ]
    },
    {
     "data": {
      "image/png": "[encoded data removed]",
      "text/plain": [
       "<Figure size 432x288 with 1 Axes>"
      ]
     },
     "metadata": {
      "needs_background": "light"
     },
     "output_type": "display_data"
    }
   ],
   "source": [
    "#examining the condition of the vehicles whe the ad was placed\n",
    "car_sales['condition'].value_counts().plot(kind= 'bar', grid = True)\n",
    "plt.show\n",
    "plt.title('Condition')\n",
    "plt.xlabel('Level of Condition')\n",
    "print(\"max: \", car_sales['condition'].max())\n",
    "print(\"min:\", car_sales['condition'].min())\n",
    "print(\"median:\", car_sales['condition'].median())"
   ]
  },
  {
   "cell_type": "markdown",
   "metadata": {},
   "source": [
    "majority of the cars being sold in are in excellent condition and followed by like new condition."
   ]
  },
  {
   "cell_type": "markdown",
   "metadata": {},
   "source": [
    "<p><a name=\"dayslistedhist\"></a></p>"
   ]
  },
  {
   "cell_type": "code",
   "execution_count": 60,
   "metadata": {},
   "outputs": [
    {
     "name": "stdout",
     "output_type": "stream",
     "text": [
      "max:  271\n",
      "mean: 39.55475982532751\n",
      "median: 33.0\n"
     ]
    },
    {
     "data": {
      "image/png": "[encoded data removed]",
      "text/plain": [
       "<Figure size 432x288 with 1 Axes>"
      ]
     },
     "metadata": {
      "needs_background": "light"
     },
     "output_type": "display_data"
    }
   ],
   "source": [
    "#calculating the max, mean and median of 'days_listed ' column and plotting histogram\n",
    "\n",
    "car_sales['days_listed'].plot.hist(bins=25)\n",
    "plt.title('Days Listed')\n",
    "plt.xlabel('Number of Days')\n",
    "print(\"max: \", car_sales['days_listed'].max())\n",
    "print(\"mean:\", car_sales['days_listed'].mean())\n",
    "print(\"median:\", car_sales['days_listed'].median())"
   ]
  },
  {
   "cell_type": "code",
   "execution_count": 61,
   "metadata": {},
   "outputs": [
    {
     "name": "stdout",
     "output_type": "stream",
     "text": [
      "Removed quickly: 0.10%\n",
      "Listed long: 0.07%\n"
     ]
    }
   ],
   "source": [
    "# divide the number of listing under 1 day by the total number of listing\n",
    "\n",
    "fast= len(car_sales.query('days_listed < 1')) / len(car_sales)  \n",
    "print('Removed quickly:',  \"{:.2%}\". format(fast) )\n",
    "\n",
    "long= len(car_sales.query('days_listed > 200')) / len(car_sales)\n",
    "print('Listed long:',  \"{:.2%}\". format(long) )"
   ]
  },
  {
   "cell_type": "markdown",
   "metadata": {},
   "source": [
    "The car is typically listed in the website for 33 days, there is 0.10% of car that are removed quikly in the site this happens when the listing has errors and is therefore being removed, and 0.07%  of the listing is considered to be listed abnormally long when was not taken out even if its already sold."
   ]
  },
  {
   "cell_type": "markdown",
   "metadata": {},
   "source": [
    "<p><a name=\"Adbyprice\"></a></p>"
   ]
  },
  {
   "cell_type": "code",
   "execution_count": 62,
   "metadata": {},
   "outputs": [],
   "source": [
    "# analyzing the number of ad and the average price by calling the pivot table function\n",
    "\n",
    "average_sales =filtered_milage.pivot_table(index='type', values='price', aggfunc='mean')"
   ]
  },
  {
   "cell_type": "code",
   "execution_count": 63,
   "metadata": {},
   "outputs": [],
   "source": [
    "#analyzing the number of ads per car type and renaming the columns.\n",
    "\n",
    "car_type= filtered_milage.pivot_table(index='type', values='days_listed', aggfunc=['first','count'])\n",
    "car_type.columns = ['car_type', 'days_listed']"
   ]
  },
  {
   "cell_type": "code",
   "execution_count": 64,
   "metadata": {},
   "outputs": [],
   "source": [
    "#combining the 3 columns to get a better view of the data by calling the join function\n",
    "\n",
    "car_average_sales= car_type.join(average_sales)"
   ]
  },
  {
   "cell_type": "code",
   "execution_count": 65,
   "metadata": {},
   "outputs": [
    {
     "name": "stdout",
     "output_type": "stream",
     "text": [
      "        car_type  days_listed         price\n",
      "type                                       \n",
      "sedan         79        11964   6996.876212\n",
      "SUV           19        11822  10497.212062\n",
      "truck         64        10986  15228.560259\n",
      "pickup        50         6209  15168.155742\n",
      "coupe        101         2009  13554.806371\n"
     ]
    }
   ],
   "source": [
    "print(car_average_sales.sort_values('days_listed', ascending=False).head())"
   ]
  },
  {
   "cell_type": "markdown",
   "metadata": {},
   "source": [
    "the sedan vehicle type has the most number of ads with average price of 6996 closely followed by SUV with an average price of 10497."
   ]
  },
  {
   "cell_type": "markdown",
   "metadata": {},
   "source": [
    "<p><a name=\"3colhist\"></a></p>"
   ]
  },
  {
   "cell_type": "code",
   "execution_count": 66,
   "metadata": {},
   "outputs": [
    {
     "data": {
      "image/png": "[encoded data removed]",
      "text/plain": [
       "<Figure size 432x288 with 4 Axes>"
      ]
     },
     "metadata": {
      "needs_background": "light"
     },
     "output_type": "display_data"
    }
   ],
   "source": [
    "#creating histogram for the 3 particular columns\n",
    "\n",
    "car_average_sales.hist(bins=30);"
   ]
  },
  {
   "cell_type": "markdown",
   "metadata": {},
   "source": [
    "The graph shows the hist of the 3 columns car_type, days listed and price, this shows the dependency of car_type to the price of the vehicles.The vehicles that recieve the highest days of listing are sedan and suv."
   ]
  },
  {
   "cell_type": "markdown",
   "metadata": {},
   "source": [
    "<p><a name=\"transhist\"></a></p>"
   ]
  },
  {
   "cell_type": "code",
   "execution_count": 67,
   "metadata": {},
   "outputs": [],
   "source": [
    "# analyzing  the average price for categorical value transmisson by calling the pivot table function\n",
    "average_transmission =car_sales.pivot_table(index='transmission', values='price', aggfunc='mean')"
   ]
  },
  {
   "cell_type": "code",
   "execution_count": 68,
   "metadata": {},
   "outputs": [],
   "source": [
    "trans_type= car_sales.pivot_table(index='transmission', values='days_listed', aggfunc=['first','count'])\n",
    "trans_type.columns = ['count', 'days_listed']"
   ]
  },
  {
   "cell_type": "code",
   "execution_count": 69,
   "metadata": {},
   "outputs": [],
   "source": [
    "car_trans_type= trans_type.join(average_transmission)"
   ]
  },
  {
   "cell_type": "code",
   "execution_count": 70,
   "metadata": {},
   "outputs": [
    {
     "name": "stdout",
     "output_type": "stream",
     "text": [
      "                count  days_listed     price\n",
      "count        1.000000    -0.945394  0.566703\n",
      "days_listed -0.945394     1.000000 -0.267215\n",
      "price        0.566703    -0.267215  1.000000\n"
     ]
    }
   ],
   "source": [
    "print(car_trans_type.corr())"
   ]
  },
  {
   "cell_type": "code",
   "execution_count": 71,
   "metadata": {},
   "outputs": [
    {
     "data": {
      "image/png": "[encoded data removed]",
      "text/plain": [
       "<Figure size 720x720 with 9 Axes>"
      ]
     },
     "metadata": {
      "needs_background": "light"
     },
     "output_type": "display_data"
    }
   ],
   "source": [
    "pd.plotting.scatter_matrix(car_trans_type, figsize=(10, 10));"
   ]
  },
  {
   "cell_type": "markdown",
   "metadata": {},
   "source": [
    "<p><a name=\"painthist\"></a></p>"
   ]
  },
  {
   "cell_type": "code",
   "execution_count": 72,
   "metadata": {},
   "outputs": [],
   "source": [
    "# analyzing  the average price for categorical value paint_color by calling the pivot table function\n",
    "average_color =car_sales.pivot_table(index='paint_color', values='price', aggfunc='mean')"
   ]
  },
  {
   "cell_type": "code",
   "execution_count": 73,
   "metadata": {},
   "outputs": [],
   "source": [
    "paint_color= car_sales.pivot_table(index='paint_color', values='days_listed', aggfunc=['first','count'])\n",
    "paint_color.columns = ['count', 'days_listed']"
   ]
  },
  {
   "cell_type": "code",
   "execution_count": 74,
   "metadata": {},
   "outputs": [],
   "source": [
    "paint_color_type= paint_color.join(average_color)"
   ]
  },
  {
   "cell_type": "code",
   "execution_count": 75,
   "metadata": {},
   "outputs": [
    {
     "name": "stdout",
     "output_type": "stream",
     "text": [
      "               count  days_listed     price\n",
      "count        1.00000    -0.255280  0.522210\n",
      "days_listed -0.25528     1.000000  0.257294\n",
      "price        0.52221     0.257294  1.000000\n"
     ]
    }
   ],
   "source": [
    "print(paint_color_type.corr())"
   ]
  },
  {
   "cell_type": "code",
   "execution_count": 76,
   "metadata": {},
   "outputs": [
    {
     "data": {
      "image/png": "[encoded data removed]",
      "text/plain": [
       "<Figure size 648x648 with 9 Axes>"
      ]
     },
     "metadata": {
      "needs_background": "light"
     },
     "output_type": "display_data"
    }
   ],
   "source": [
    "pd.plotting.scatter_matrix(paint_color_type, figsize=(9, 9));"
   ]
  },
  {
   "cell_type": "markdown",
   "metadata": {},
   "source": [
    "<p><a name=\"step4conclusion\"></a></p>"
   ]
  },
  {
   "cell_type": "markdown",
   "metadata": {},
   "source": [
    "### Conclusion\n",
    "\n",
    "the factor the impact the price most is the milage and condition, As mileage increases, for condition, the accident-free car with paint scratches and surface rust might describe it as excellent, whereas most buyers might call it good to average—but it is as important as mileage in assessing value which directly affect the price. the type of vehicle also play a role like the mid price sedans due to its popularity and affordability."
   ]
  },
  {
   "cell_type": "markdown",
   "metadata": {},
   "source": [
    "<p><a name=\"Step 5\"></a></p>"
   ]
  },
  {
   "cell_type": "markdown",
   "metadata": {},
   "source": [
    "### Step 5. Overall conclusion\n",
    "\n",
    "I therefore conclude that the age, mileage , condition, type variables and categorical variables such astransmission type and color,  has positive corelation in price variable.As mileage and age increases, so does wear and tear,” colors plays and influencing factor while transmission is due to the convenience and driver involment.The cars that has 6 cylinders and with 7 years of age are the one that sells mostly. There are outliers in the data due to some errors made in the listing or because data is not available when the listing was made this makes the data hard to read and is therefore need to be cleaned removed for better readability."
   ]
  }
 ],
 "metadata": {
  "kernelspec": {
   "display_name": "Python 3",
   "language": "python",
   "name": "python3"
  },
  "language_info": {
   "codemirror_mode": {
    "name": "ipython",
    "version": 3
   },
   "file_extension": ".py",
   "mimetype": "text/x-python",
   "name": "python",
   "nbconvert_exporter": "python",
   "pygments_lexer": "ipython3",
   "version": "3.8.5"
  },
  "toc": {
   "base_numbering": 1,
   "nav_menu": {},
   "number_sections": true,
   "sideBar": true,
   "skip_h1_title": true,
   "title_cell": "Table of Contents",
   "title_sidebar": "Contents",
   "toc_cell": false,
   "toc_position": {},
   "toc_section_display": true,
   "toc_window_display": false
  }
 },
 "nbformat": 4,
 "nbformat_minor": 4
}
