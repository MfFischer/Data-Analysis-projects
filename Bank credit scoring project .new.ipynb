{
 "cells": [
  {
   "cell_type": "markdown",
   "metadata": {},
   "source": [
    "## Analyzing borrowers’ risk of defaulting\n",
    "\n",
    "My project is to prepare a report for a bank’s loan division. I will need to find out if a customer’s marital status and number of children has an impact on whether they will default on a loan.\n",
    "\n",
    "This report will be considered when building a **credit scoring** of a potential customer. "
   ]
  },
  {
   "cell_type": "markdown",
   "metadata": {},
   "source": [
    "### Table of Contents\n",
    "* <a href=\"#Step 1\">Opening the Data</a><br>\n",
    "    * <a href=\"#df_tail\">data tail</a><br>\n",
    "    * <a href=\"#df_shape\">Data shape</a><br>\n",
    "    * <a href=\"#df_columns\">Data columns</a><br>\n",
    "    * <a href=\"#df_describe\">Data describe</a><br>\n",
    "        * <a href=\"#step1_conclusion\">Conclusion</a><br>\n",
    "* <a href=\"#Step 2\">Data preprocessing</a><br>\n",
    "    * <a href=\"#data_typ_rep\">Data type replacement</a><br>\n",
    "    * <a href=\"#real2int\">Real number data type to Integer type</a><br>\n",
    "    * <a href=\"#processdup\">Processing Duplicates</a><br>\n",
    "        * <a href=\"#dupconclusion\">Conclusion</a><br>\n",
    "    * <a href=\"#Categ_data\">Categorizing the Data</a><br>\n",
    "        * <a href=\"#Categ_conclusion\">Conclusion</a><br>\n",
    "* <a href=\"#Step 3\">Answer these Questions</a><br>\n",
    "* <a href=\"#Step 4\">General Conclusion</a><br>"
   ]
  },
  {
   "cell_type": "markdown",
   "metadata": {},
   "source": [
    "<p><a name=\"Step 1\"></a></p>\n",
    "\n",
    " ### Step 1. Opening the Data"
   ]
  },
  {
   "cell_type": "code",
   "execution_count": 24,
   "metadata": {},
   "outputs": [
    {
     "name": "stdout",
     "output_type": "stream",
     "text": [
      "   children  days_employed  dob_years            education  education_id  \\\n",
      "0         1   -8437.673028         42    bachelor's degree             0   \n",
      "1         1   -4024.803754         36  secondary education             1   \n",
      "2         0   -5623.422610         33  Secondary Education             1   \n",
      "3         3   -4124.747207         32  secondary education             1   \n",
      "4         0  340266.072047         53  secondary education             1   \n",
      "\n",
      "       family_status  family_status_id gender income_type  debt  total_income  \\\n",
      "0            married                 0      F    employee     0     40620.102   \n",
      "1            married                 0      F    employee     0     17932.802   \n",
      "2            married                 0      M    employee     0     23341.752   \n",
      "3            married                 0      M    employee     0     42820.568   \n",
      "4  civil partnership                 1      F     retiree     0     25378.572   \n",
      "\n",
      "                   purpose  \n",
      "0    purchase of the house  \n",
      "1             car purchase  \n",
      "2    purchase of the house  \n",
      "3  supplementary education  \n",
      "4        to have a wedding  \n"
     ]
    }
   ],
   "source": [
    "import pandas as pd\n",
    "import numpy as np\n",
    "\n",
    "df = pd.read_csv(r'C:\\Users\\User\\Documents\\YandexDataA\\sprint 2/credit_scoring_eng (2).csv')\n",
    "\n",
    "print(df.head())\n"
   ]
  },
  {
   "cell_type": "markdown",
   "metadata": {},
   "source": [
    "<p><a name=\"df_tail\"></a></p>"
   ]
  },
  {
   "cell_type": "markdown",
   "metadata": {},
   "source": [
    "print(df.tail())"
   ]
  },
  {
   "cell_type": "markdown",
   "metadata": {},
   "source": [
    "<p><a name=\"df_shape\"></a></p>"
   ]
  },
  {
   "cell_type": "markdown",
   "metadata": {},
   "source": [
    "<p><a name=\"df_columns\"></a></p>"
   ]
  },
  {
   "cell_type": "code",
   "execution_count": 3,
   "metadata": {},
   "outputs": [
    {
     "data": {
      "text/plain": [
       "Index(['children', 'days_employed', 'dob_years', 'education', 'education_id',\n",
       "       'family_status', 'family_status_id', 'gender', 'income_type', 'debt',\n",
       "       'total_income', 'purpose'],\n",
       "      dtype='object')"
      ]
     },
     "execution_count": 3,
     "metadata": {},
     "output_type": "execute_result"
    }
   ],
   "source": [
    "df.columns\n",
    "\n",
    "#Columns of the dataset"
   ]
  },
  {
   "cell_type": "markdown",
   "metadata": {},
   "source": [
    "<p><a name=\"df_describe\"></a></p>"
   ]
  },
  {
   "cell_type": "code",
   "execution_count": 4,
   "metadata": {},
   "outputs": [
    {
     "data": {
      "text/html": [
       "<div>\n",
       "<style scoped>\n",
       "    .dataframe tbody tr th:only-of-type {\n",
       "        vertical-align: middle;\n",
       "    }\n",
       "\n",
       "    .dataframe tbody tr th {\n",
       "        vertical-align: top;\n",
       "    }\n",
       "\n",
       "    .dataframe thead th {\n",
       "        text-align: right;\n",
       "    }\n",
       "</style>\n",
       "<table border=\"1\" class=\"dataframe\">\n",
       "  <thead>\n",
       "    <tr style=\"text-align: right;\">\n",
       "      <th></th>\n",
       "      <th>children</th>\n",
       "      <th>days_employed</th>\n",
       "      <th>dob_years</th>\n",
       "      <th>education_id</th>\n",
       "      <th>family_status_id</th>\n",
       "      <th>debt</th>\n",
       "      <th>total_income</th>\n",
       "    </tr>\n",
       "  </thead>\n",
       "  <tbody>\n",
       "    <tr>\n",
       "      <td>count</td>\n",
       "      <td>21525.000000</td>\n",
       "      <td>19351.000000</td>\n",
       "      <td>21525.000000</td>\n",
       "      <td>21525.000000</td>\n",
       "      <td>21525.000000</td>\n",
       "      <td>21525.000000</td>\n",
       "      <td>19351.000000</td>\n",
       "    </tr>\n",
       "    <tr>\n",
       "      <td>mean</td>\n",
       "      <td>0.538908</td>\n",
       "      <td>63046.497661</td>\n",
       "      <td>43.293380</td>\n",
       "      <td>0.817236</td>\n",
       "      <td>0.972544</td>\n",
       "      <td>0.080883</td>\n",
       "      <td>26787.568355</td>\n",
       "    </tr>\n",
       "    <tr>\n",
       "      <td>std</td>\n",
       "      <td>1.381587</td>\n",
       "      <td>140827.311974</td>\n",
       "      <td>12.574584</td>\n",
       "      <td>0.548138</td>\n",
       "      <td>1.420324</td>\n",
       "      <td>0.272661</td>\n",
       "      <td>16475.450632</td>\n",
       "    </tr>\n",
       "    <tr>\n",
       "      <td>min</td>\n",
       "      <td>-1.000000</td>\n",
       "      <td>-18388.949901</td>\n",
       "      <td>0.000000</td>\n",
       "      <td>0.000000</td>\n",
       "      <td>0.000000</td>\n",
       "      <td>0.000000</td>\n",
       "      <td>3306.762000</td>\n",
       "    </tr>\n",
       "    <tr>\n",
       "      <td>25%</td>\n",
       "      <td>0.000000</td>\n",
       "      <td>-2747.423625</td>\n",
       "      <td>33.000000</td>\n",
       "      <td>1.000000</td>\n",
       "      <td>0.000000</td>\n",
       "      <td>0.000000</td>\n",
       "      <td>16488.504500</td>\n",
       "    </tr>\n",
       "    <tr>\n",
       "      <td>50%</td>\n",
       "      <td>0.000000</td>\n",
       "      <td>-1203.369529</td>\n",
       "      <td>42.000000</td>\n",
       "      <td>1.000000</td>\n",
       "      <td>0.000000</td>\n",
       "      <td>0.000000</td>\n",
       "      <td>23202.870000</td>\n",
       "    </tr>\n",
       "    <tr>\n",
       "      <td>75%</td>\n",
       "      <td>1.000000</td>\n",
       "      <td>-291.095954</td>\n",
       "      <td>53.000000</td>\n",
       "      <td>1.000000</td>\n",
       "      <td>1.000000</td>\n",
       "      <td>0.000000</td>\n",
       "      <td>32549.611000</td>\n",
       "    </tr>\n",
       "    <tr>\n",
       "      <td>max</td>\n",
       "      <td>20.000000</td>\n",
       "      <td>401755.400475</td>\n",
       "      <td>75.000000</td>\n",
       "      <td>4.000000</td>\n",
       "      <td>4.000000</td>\n",
       "      <td>1.000000</td>\n",
       "      <td>362496.645000</td>\n",
       "    </tr>\n",
       "  </tbody>\n",
       "</table>\n",
       "</div>"
      ],
      "text/plain": [
       "           children  days_employed     dob_years  education_id  \\\n",
       "count  21525.000000   19351.000000  21525.000000  21525.000000   \n",
       "mean       0.538908   63046.497661     43.293380      0.817236   \n",
       "std        1.381587  140827.311974     12.574584      0.548138   \n",
       "min       -1.000000  -18388.949901      0.000000      0.000000   \n",
       "25%        0.000000   -2747.423625     33.000000      1.000000   \n",
       "50%        0.000000   -1203.369529     42.000000      1.000000   \n",
       "75%        1.000000    -291.095954     53.000000      1.000000   \n",
       "max       20.000000  401755.400475     75.000000      4.000000   \n",
       "\n",
       "       family_status_id          debt   total_income  \n",
       "count      21525.000000  21525.000000   19351.000000  \n",
       "mean           0.972544      0.080883   26787.568355  \n",
       "std            1.420324      0.272661   16475.450632  \n",
       "min            0.000000      0.000000    3306.762000  \n",
       "25%            0.000000      0.000000   16488.504500  \n",
       "50%            0.000000      0.000000   23202.870000  \n",
       "75%            1.000000      0.000000   32549.611000  \n",
       "max            4.000000      1.000000  362496.645000  "
      ]
     },
     "execution_count": 4,
     "metadata": {},
     "output_type": "execute_result"
    }
   ],
   "source": [
    "df.describe()\n",
    "\n",
    "## Descriptive stats\n",
    "# Distribution of the data"
   ]
  },
  {
   "cell_type": "markdown",
   "metadata": {},
   "source": [
    "<p><a name=\"step1_conclusion\"></a></p>"
   ]
  },
  {
   "cell_type": "markdown",
   "metadata": {},
   "source": [
    "### Conclusion\n",
    "The dataset has 21525 rows and 12 columns.There are Nan values inplaced in columns 'day_employed' and 'total_income'.The shape function shows that there are only 21471 rows and the rest are NaN. I'm using Pandas dictionary since my task involves, data cleaning and data manipulation."
   ]
  },
  {
   "cell_type": "markdown",
   "metadata": {},
   "source": [
    "<p><a name=\"Step 2\"></a></p>\n",
    "\n",
    "### Step 2. Data preprocessing"
   ]
  },
  {
   "cell_type": "markdown",
   "metadata": {},
   "source": [
    "<p><a name=\"data_typ_rep\"></a></p>\n",
    "\n",
    "### Data type replacement"
   ]
  },
  {
   "cell_type": "code",
   "execution_count": 5,
   "metadata": {},
   "outputs": [],
   "source": [
    "# idetifying and filling up the missing values using unique function.\n",
    "days_employed = df['days_employed'].unique()\n",
    "total_income = df ['total_income'].unique()"
   ]
  },
  {
   "cell_type": "code",
   "execution_count": 6,
   "metadata": {},
   "outputs": [
    {
     "name": "stdout",
     "output_type": "stream",
     "text": [
      "Unique days employed: 19352\n",
      "Unique total income: 19349\n"
     ]
    }
   ],
   "source": [
    "print('Unique days employed:' , len(days_employed))\n",
    "print('Unique total income:', len (total_income))\n"
   ]
  },
  {
   "cell_type": "markdown",
   "metadata": {},
   "source": [
    "This 2 columns have the same number of missing value since they are relative in scaling of data in a payroll calculator. Therefore, when the column days employed is missing, the column total income would also be missing."
   ]
  },
  {
   "cell_type": "code",
   "execution_count": 7,
   "metadata": {},
   "outputs": [
    {
     "name": "stdout",
     "output_type": "stream",
     "text": [
      "children            2174\n",
      "days_employed          0\n",
      "dob_years           2174\n",
      "education           2174\n",
      "education_id        2174\n",
      "family_status       2174\n",
      "family_status_id    2174\n",
      "gender              2174\n",
      "income_type         2174\n",
      "debt                2174\n",
      "total_income           0\n",
      "purpose             2174\n",
      "dtype: int64\n"
     ]
    }
   ],
   "source": [
    "#We will determine how may rows missing in days_employed and total_ income column\n",
    "print(df[df['days_employed'].isna()].count()) \n"
   ]
  },
  {
   "cell_type": "code",
   "execution_count": 8,
   "metadata": {},
   "outputs": [
    {
     "name": "stdout",
     "output_type": "stream",
     "text": [
      "children            2174\n",
      "days_employed          0\n",
      "dob_years           2174\n",
      "education           2174\n",
      "education_id        2174\n",
      "family_status       2174\n",
      "family_status_id    2174\n",
      "gender              2174\n",
      "income_type         2174\n",
      "debt                2174\n",
      "total_income           0\n",
      "purpose             2174\n",
      "dtype: int64\n"
     ]
    }
   ],
   "source": [
    "print(df[df['total_income'].isna()].count()) \n"
   ]
  },
  {
   "cell_type": "code",
   "execution_count": 9,
   "metadata": {
    "scrolled": true
   },
   "outputs": [],
   "source": [
    "#this is the average of the columns: days employed and total income that I will be using to \n",
    "#fill up the NaN values of the column.\n",
    "\n",
    "mean_days_employed = df['days_employed'].mean()\n",
    "mean_total_income = df['total_income'].mean()"
   ]
  },
  {
   "cell_type": "code",
   "execution_count": 10,
   "metadata": {},
   "outputs": [],
   "source": [
    "#I will use fillna passing values from the average total of respective rows with missing values.\n",
    "\n",
    "df['days_employed'] = df['days_employed'].fillna(value= mean_days_employed)\n",
    "df['total_income'] = df['total_income'].fillna(value= mean_total_income)"
   ]
  },
  {
   "cell_type": "code",
   "execution_count": 11,
   "metadata": {},
   "outputs": [
    {
     "name": "stdout",
     "output_type": "stream",
     "text": [
      "<class 'pandas.core.frame.DataFrame'>\n",
      "RangeIndex: 21525 entries, 0 to 21524\n",
      "Data columns (total 12 columns):\n",
      "children            21525 non-null int64\n",
      "days_employed       21525 non-null float64\n",
      "dob_years           21525 non-null int64\n",
      "education           21525 non-null object\n",
      "education_id        21525 non-null int64\n",
      "family_status       21525 non-null object\n",
      "family_status_id    21525 non-null int64\n",
      "gender              21525 non-null object\n",
      "income_type         21525 non-null object\n",
      "debt                21525 non-null int64\n",
      "total_income        21525 non-null float64\n",
      "purpose             21525 non-null object\n",
      "dtypes: float64(2), int64(5), object(5)\n",
      "memory usage: 2.0+ MB\n"
     ]
    }
   ],
   "source": [
    "df.info()\n"
   ]
  },
  {
   "cell_type": "markdown",
   "metadata": {},
   "source": [
    "As you can see here in the info, we no longer have missing value in the dataset.I used mean in replacing the missing values since they are numerical variable.I use mean to fill the missing value first because it's a common practice, second because the number of outliers in the data is not that high, if the outliers is more than 1% then i will use median."
   ]
  },
  {
   "cell_type": "markdown",
   "metadata": {},
   "source": [
    "<p><a name=\"real2int\"></a></p>\n",
    "\n",
    "#### Real number data type to Integer type"
   ]
  },
  {
   "cell_type": "code",
   "execution_count": 12,
   "metadata": {},
   "outputs": [],
   "source": [
    "#Since the columns 'day_employed' and total_income contains real number,I will change it to integer\n",
    "# by calling the astype function for the particular columns.I'm using this function for its versatility to go \n",
    "# one type to another in a dataframe.\n",
    "\n",
    "df = df.astype({\"days_employed\": int, \"total_income\": int})"
   ]
  },
  {
   "cell_type": "code",
   "execution_count": 13,
   "metadata": {},
   "outputs": [
    {
     "name": "stdout",
     "output_type": "stream",
     "text": [
      "   children  days_employed  dob_years            education  education_id  \\\n",
      "0         1          -8437         42    bachelor's degree             0   \n",
      "1         1          -4024         36  secondary education             1   \n",
      "2         0          -5623         33  Secondary Education             1   \n",
      "3         3          -4124         32  secondary education             1   \n",
      "4         0         340266         53  secondary education             1   \n",
      "\n",
      "       family_status  family_status_id gender income_type  debt  total_income  \\\n",
      "0            married                 0      F    employee     0         40620   \n",
      "1            married                 0      F    employee     0         17932   \n",
      "2            married                 0      M    employee     0         23341   \n",
      "3            married                 0      M    employee     0         42820   \n",
      "4  civil partnership                 1      F     retiree     0         25378   \n",
      "\n",
      "                   purpose  \n",
      "0    purchase of the house  \n",
      "1             car purchase  \n",
      "2    purchase of the house  \n",
      "3  supplementary education  \n",
      "4        to have a wedding  \n"
     ]
    }
   ],
   "source": [
    "print(df.head())"
   ]
  },
  {
   "cell_type": "markdown",
   "metadata": {},
   "source": [
    "### Conclusion\n",
    "In the column name 'days_employed' meaning ,how many days before the application, the person started current employment (time only relative to the application) in this case the negative refer to the days of being employed before the application and positive refer after the application. But the significant high positive value data points mean they are nan/unknown for days_employed. \n"
   ]
  },
  {
   "cell_type": "markdown",
   "metadata": {},
   "source": [
    "<p><a name=\"processdup\"></a></p>\n",
    "\n",
    "### Processing duplicates"
   ]
  },
  {
   "cell_type": "code",
   "execution_count": 14,
   "metadata": {},
   "outputs": [
    {
     "name": "stdout",
     "output_type": "stream",
     "text": [
      "Duplicated rows in the dataset: 54\n"
     ]
    }
   ],
   "source": [
    "# Now want to find out how many duplicates entries i have in the dataset, \n",
    "# so i will call the duplicate and sum function to do this.\n",
    "\n",
    "print ('Duplicated rows in the dataset:', df.duplicated().sum())\n"
   ]
  },
  {
   "cell_type": "code",
   "execution_count": 15,
   "metadata": {},
   "outputs": [],
   "source": [
    "duplicated = df.duplicated().sum()\n",
    "total = df.index\n",
    "number_of_rows = len(total)"
   ]
  },
  {
   "cell_type": "code",
   "execution_count": 16,
   "metadata": {},
   "outputs": [],
   "source": [
    "duplicated_percentage = duplicated /  number_of_rows"
   ]
  },
  {
   "cell_type": "code",
   "execution_count": 17,
   "metadata": {},
   "outputs": [
    {
     "name": "stdout",
     "output_type": "stream",
     "text": [
      "the percentage of duplicates in the data: 0.25%\n"
     ]
    }
   ],
   "source": [
    "print('the percentage of duplicates in the data:', \"{:.2%}\". format(duplicated_percentage))"
   ]
  },
  {
   "cell_type": "markdown",
   "metadata": {},
   "source": [
    "There are 54 duplicated row entries in the dataset which is 0.25% of our data. A duplicate credit entry means that the credit account information has been recorded more than once. Therefore, it appears to be two separate accounts."
   ]
  },
  {
   "cell_type": "code",
   "execution_count": 18,
   "metadata": {},
   "outputs": [],
   "source": [
    "# since the value_counts function dont work for me, I will have to use the drop_duplicates function for the entire dataset.\n",
    "\n",
    "df = df.drop_duplicates(subset=None, keep='first', inplace=False)"
   ]
  },
  {
   "cell_type": "code",
   "execution_count": 19,
   "metadata": {},
   "outputs": [
    {
     "name": "stdout",
     "output_type": "stream",
     "text": [
      "0\n"
     ]
    }
   ],
   "source": [
    "print(df.duplicated().sum())\n"
   ]
  },
  {
   "cell_type": "code",
   "execution_count": 20,
   "metadata": {},
   "outputs": [
    {
     "name": "stdout",
     "output_type": "stream",
     "text": [
      "<class 'pandas.core.frame.DataFrame'>\n",
      "Int64Index: 21471 entries, 0 to 21524\n",
      "Data columns (total 12 columns):\n",
      "children            21471 non-null int64\n",
      "days_employed       21471 non-null int64\n",
      "dob_years           21471 non-null int64\n",
      "education           21471 non-null object\n",
      "education_id        21471 non-null int64\n",
      "family_status       21471 non-null object\n",
      "family_status_id    21471 non-null int64\n",
      "gender              21471 non-null object\n",
      "income_type         21471 non-null object\n",
      "debt                21471 non-null int64\n",
      "total_income        21471 non-null int64\n",
      "purpose             21471 non-null object\n",
      "dtypes: int64(7), object(5)\n",
      "memory usage: 2.1+ MB\n"
     ]
    }
   ],
   "source": [
    "# i call the info to very the result.\n",
    "\n",
    "df.info()"
   ]
  },
  {
   "cell_type": "markdown",
   "metadata": {},
   "source": [
    "<p><a name=\"dupconclusion\"></a></p>\n",
    "\n",
    "### Conclusion\n",
    "The info of the dataframe shows equal number of all rows from the total of 21525 prior to the drop.duplicate call, and now there are 21471 entries.I use drop.duplicate method since its the easiest way to remove the duplicate in a Dataframe, however i pass the **Subset**: for it takes a column or list of column label. It’s default value is none. After passing columns, it will consider them only for duplicates.**keep:** *'first'*, for it considers first value as unique and rest of the same values as duplicate. **Inplace:** *False* so it does not remove rows with duplicates."
   ]
  },
  {
   "cell_type": "markdown",
   "metadata": {},
   "source": [
    "<p><a name=\"Categ_data\"></a></p>\n",
    "\n",
    "### Categorizing Data\n",
    "I categoried the Data to see if demographic variable such as marital staus and number of children and total income will have direct effect on financial viariable in such as  purpose in terms of paying bank the loan."
   ]
  },
  {
   "cell_type": "code",
   "execution_count": 21,
   "metadata": {},
   "outputs": [],
   "source": [
    "# I will change some columns name and retain some names to understand easier whats the content of the column.\n",
    "\n",
    "df.set_axis(['children','days_employed', 'age', 'education','education_id', 'marital_status', 'status_id', 'gender', 'income_type', 'debt', 'total_income', 'purpose'], axis = 'columns', inplace = True)"
   ]
  },
  {
   "cell_type": "code",
   "execution_count": 22,
   "metadata": {},
   "outputs": [
    {
     "name": "stdout",
     "output_type": "stream",
     "text": [
      "<class 'pandas.core.frame.DataFrame'>\n",
      "Int64Index: 21471 entries, 0 to 21524\n",
      "Data columns (total 12 columns):\n",
      "children          21471 non-null int64\n",
      "days_employed     21471 non-null int64\n",
      "age               21471 non-null int64\n",
      "education         21471 non-null object\n",
      "education_id      21471 non-null int64\n",
      "marital_status    21471 non-null object\n",
      "status_id         21471 non-null int64\n",
      "gender            21471 non-null object\n",
      "income_type       21471 non-null object\n",
      "debt              21471 non-null int64\n",
      "total_income      21471 non-null int64\n",
      "purpose           21471 non-null object\n",
      "dtypes: int64(7), object(5)\n",
      "memory usage: 2.1+ MB\n"
     ]
    }
   ],
   "source": [
    "df.info()"
   ]
  },
  {
   "cell_type": "code",
   "execution_count": 23,
   "metadata": {},
   "outputs": [],
   "source": [
    "person_info = df[['children','marital_status' , 'total_income', 'purpose']]"
   ]
  },
  {
   "cell_type": "code",
   "execution_count": 24,
   "metadata": {},
   "outputs": [
    {
     "name": "stdout",
     "output_type": "stream",
     "text": [
      "   children     marital_status  total_income  \\\n",
      "0         1            married         40620   \n",
      "1         1            married         17932   \n",
      "2         0            married         23341   \n",
      "3         3            married         42820   \n",
      "4         0  civil partnership         25378   \n",
      "5         0  civil partnership         40922   \n",
      "6         0            married         38484   \n",
      "7         0            married         21731   \n",
      "8         2  civil partnership         15337   \n",
      "9         0            married         23108   \n",
      "\n",
      "                               purpose  \n",
      "0                purchase of the house  \n",
      "1                         car purchase  \n",
      "2                purchase of the house  \n",
      "3              supplementary education  \n",
      "4                    to have a wedding  \n",
      "5                purchase of the house  \n",
      "6                 housing transactions  \n",
      "7                            education  \n",
      "8                     having a wedding  \n",
      "9  purchase of the house for my family  \n"
     ]
    }
   ],
   "source": [
    "print(person_info.head(10))"
   ]
  },
  {
   "cell_type": "code",
   "execution_count": 25,
   "metadata": {},
   "outputs": [],
   "source": [
    "person_info_grouped = person_info.groupby('marital_status').count()\n",
    "\n",
    "# in order to get a better view of  the datas i need for scoring i have to take out this columns and group them in a dataset\n",
    "# according to marital status."
   ]
  },
  {
   "cell_type": "code",
   "execution_count": 26,
   "metadata": {},
   "outputs": [
    {
     "name": "stdout",
     "output_type": "stream",
     "text": [
      "                   children  total_income  purpose\n",
      "marital_status                                    \n",
      "civil partnership      4163          4163     4163\n",
      "divorced               1195          1195     1195\n",
      "married               12344         12344    12344\n",
      "unmarried              2810          2810     2810\n",
      "widow / widower         959           959      959\n"
     ]
    }
   ],
   "source": [
    "print(person_info_grouped)"
   ]
  },
  {
   "cell_type": "markdown",
   "metadata": {},
   "source": [
    "I specifically choose this 4 columns since i wanted to see if demographic variables like 'marital_status' and 'children' will have effect on financial variables 'total_income' and 'purpose'."
   ]
  },
  {
   "cell_type": "code",
   "execution_count": 27,
   "metadata": {},
   "outputs": [],
   "source": [
    "# grouping the 2 demosgraphic variables marital_status and total income,\n",
    "# while passing the value of agg to get the count, min,mean and max of total income.\n",
    "\n",
    "info_grouped = df.groupby('marital_status').agg({'total_income': ['count', 'min', 'median', 'max']})"
   ]
  },
  {
   "cell_type": "code",
   "execution_count": 28,
   "metadata": {},
   "outputs": [
    {
     "name": "stdout",
     "output_type": "stream",
     "text": [
      "                  total_income                       \n",
      "                         count   min   median     max\n",
      "marital_status                                       \n",
      "civil partnership         4163  3392  24903.0  276204\n",
      "divorced                  1195  5402  25357.0  216039\n",
      "married                  12344  3306  25216.0  362496\n",
      "unmarried                 2810  3913  25046.5  274402\n",
      "widow / widower            959  5443  21903.0  117616\n"
     ]
    }
   ],
   "source": [
    "print(info_grouped)"
   ]
  },
  {
   "cell_type": "code",
   "execution_count": 29,
   "metadata": {
    "scrolled": true
   },
   "outputs": [
    {
     "name": "stdout",
     "output_type": "stream",
     "text": [
      "married              57.491500\n",
      "civil partnership    19.388943\n",
      "unmarried            13.087420\n",
      "divorced              5.565647\n",
      "widow / widower       4.466490\n",
      "Name: marital_status, dtype: float64\n"
     ]
    }
   ],
   "source": [
    "print(df['marital_status'].value_counts(normalize=True) * 100)"
   ]
  },
  {
   "cell_type": "markdown",
   "metadata": {},
   "source": [
    "Our results indicates that 57.49% of the clients are married with the average income of 27016. I have to take into account at looking at this 2 data for the reason because it might have some effects on paying back capabilities."
   ]
  },
  {
   "cell_type": "code",
   "execution_count": 30,
   "metadata": {},
   "outputs": [],
   "source": [
    "purpose_grouped = df.groupby('purpose').agg({'total_income': ['count', 'min', 'median', 'max']})"
   ]
  },
  {
   "cell_type": "code",
   "execution_count": 31,
   "metadata": {},
   "outputs": [
    {
     "name": "stdout",
     "output_type": "stream",
     "text": [
      "                                total_income                       \n",
      "                                       count   min   median     max\n",
      "purpose                                                            \n",
      "building a property                      619  4664  24490.0  352136\n",
      "building a real estate                   625  5217  24519.0  107520\n",
      "buy commercial real estate               662  4245  23690.0  205804\n",
      "buy real estate                          621  4650  26221.0  198426\n",
      "buy residential real estate              606  5029  25876.5  125832\n",
      "buying a second-hand car                 478  5639  23345.5  137492\n",
      "buying my own car                        505  5579  25469.0  107686\n",
      "buying property for renting out          652  5195  25127.0  115521\n",
      "car                                      494  5452  25194.0  228469\n",
      "car purchase                             461  3418  24660.0  130563\n"
     ]
    }
   ],
   "source": [
    "print(purpose_grouped.head(10))"
   ]
  },
  {
   "cell_type": "code",
   "execution_count": 32,
   "metadata": {},
   "outputs": [
    {
     "name": "stdout",
     "output_type": "stream",
     "text": [
      "wedding ceremony                            3.693354\n",
      "having a wedding                            3.600205\n",
      "to have a wedding                           3.581575\n",
      "real estate transactions                    3.143775\n",
      "buy commercial real estate                  3.083229\n",
      "housing transactions                        3.036654\n",
      "buying property for renting out             3.036654\n",
      "transactions with commercial real estate    3.027339\n",
      "purchase of the house                       3.008709\n",
      "housing                                     3.008709\n",
      "purchase of the house for my family         2.971450\n",
      "construction of own property                2.957478\n",
      "property                                    2.948163\n",
      "transactions with my real estate            2.920218\n",
      "building a real estate                      2.910903\n",
      "buy real estate                             2.892273\n",
      "purchase of my own house                    2.887616\n",
      "building a property                         2.882958\n",
      "housing renovation                          2.827069\n",
      "buy residential real estate                 2.822412\n",
      "buying my own car                           2.352010\n",
      "going to university                         2.310093\n",
      "car                                         2.300778\n",
      "second-hand car purchase                    2.263518\n",
      "to own a car                                2.230916\n",
      "cars                                        2.226259\n",
      "buying a second-hand car                    2.226259\n",
      "to buy a car                                2.198314\n",
      "car purchase                                2.147082\n",
      "supplementary education                     2.142425\n",
      "purchase of a car                           2.119137\n",
      "university education                        2.105165\n",
      "to get a supplementary education            2.081878\n",
      "education                                   2.081878\n",
      "getting an education                        2.058591\n",
      "profile education                           2.030646\n",
      "getting higher education                    1.984072\n",
      "to become educated                          1.900238\n",
      "Name: purpose, dtype: float64\n"
     ]
    }
   ],
   "source": [
    "print(df['purpose'].value_counts(normalize=True) * 100)"
   ]
  },
  {
   "cell_type": "markdown",
   "metadata": {},
   "source": [
    "As we can see here, the 4 major purpose of the loan are, buying a house or something related to real property, wedding expenses, buying a car and for educational purposes."
   ]
  },
  {
   "cell_type": "code",
   "execution_count": 33,
   "metadata": {},
   "outputs": [
    {
     "name": "stdout",
     "output_type": "stream",
     "text": [
      "26787    9.873783\n",
      "19552    0.032602\n",
      "23344    0.027945\n",
      "17855    0.023287\n",
      "15835    0.023287\n",
      "           ...   \n",
      "37016    0.004657\n",
      "30869    0.004657\n",
      "14780    0.004657\n",
      "22673    0.004657\n",
      "40964    0.004657\n",
      "Name: total_income, Length: 15389, dtype: float64\n"
     ]
    }
   ],
   "source": [
    "print(df['total_income'].value_counts(normalize=True) * 100)"
   ]
  },
  {
   "cell_type": "code",
   "execution_count": 34,
   "metadata": {},
   "outputs": [],
   "source": [
    "def income_level(income):\n",
    "    \n",
    "    if income <= 15000:\n",
    "        return 'low'\n",
    "    if income <= 30000:\n",
    "        return 'middle'\n",
    "    return 'high' "
   ]
  },
  {
   "cell_type": "code",
   "execution_count": 35,
   "metadata": {},
   "outputs": [],
   "source": [
    "df['income_level'] =df['total_income'].apply(income_level)"
   ]
  },
  {
   "cell_type": "code",
   "execution_count": 36,
   "metadata": {},
   "outputs": [
    {
     "name": "stdout",
     "output_type": "stream",
     "text": [
      "    children  days_employed  age            education  education_id  \\\n",
      "0          1          -8437   42    bachelor's degree             0   \n",
      "1          1          -4024   36  secondary education             1   \n",
      "2          0          -5623   33  Secondary Education             1   \n",
      "3          3          -4124   32  secondary education             1   \n",
      "4          0         340266   53  secondary education             1   \n",
      "5          0           -926   27    bachelor's degree             0   \n",
      "6          0          -2879   43    bachelor's degree             0   \n",
      "7          0           -152   50  SECONDARY EDUCATION             1   \n",
      "8          2          -6929   35    BACHELOR'S DEGREE             0   \n",
      "9          0          -2188   41  secondary education             1   \n",
      "10         2          -4171   36    bachelor's degree             0   \n",
      "11         0           -792   40  secondary education             1   \n",
      "12         0          63046   65  secondary education             1   \n",
      "13         0          -1846   54         some college             2   \n",
      "14         0          -1844   56    bachelor's degree             0   \n",
      "15         1           -972   26  secondary education             1   \n",
      "16         0          -1719   35  secondary education             1   \n",
      "17         0          -2369   33    bachelor's degree             0   \n",
      "18         0         400281   53  secondary education             1   \n",
      "19         0         -10038   48  SECONDARY EDUCATION             1   \n",
      "\n",
      "       marital_status  status_id gender income_type  debt  total_income  \\\n",
      "0             married          0      F    employee     0         40620   \n",
      "1             married          0      F    employee     0         17932   \n",
      "2             married          0      M    employee     0         23341   \n",
      "3             married          0      M    employee     0         42820   \n",
      "4   civil partnership          1      F     retiree     0         25378   \n",
      "5   civil partnership          1      M    business     0         40922   \n",
      "6             married          0      F    business     0         38484   \n",
      "7             married          0      M    employee     0         21731   \n",
      "8   civil partnership          1      F    employee     0         15337   \n",
      "9             married          0      M    employee     0         23108   \n",
      "10            married          0      M    business     0         18230   \n",
      "11            married          0      F    employee     0         12331   \n",
      "12  civil partnership          1      M     retiree     0         26787   \n",
      "13            married          0      F    employee     0         20873   \n",
      "14  civil partnership          1      F    business     1         26420   \n",
      "15            married          0      F    employee     0         18691   \n",
      "16            married          0      F    employee     0         46272   \n",
      "17  civil partnership          1      M    employee     0         14465   \n",
      "18    widow / widower          2      F     retiree     0          9091   \n",
      "19           divorced          3      F    employee     0         38852   \n",
      "\n",
      "                                purpose income_level  \n",
      "0                 purchase of the house         high  \n",
      "1                          car purchase       middle  \n",
      "2                 purchase of the house       middle  \n",
      "3               supplementary education         high  \n",
      "4                     to have a wedding       middle  \n",
      "5                 purchase of the house         high  \n",
      "6                  housing transactions         high  \n",
      "7                             education       middle  \n",
      "8                      having a wedding       middle  \n",
      "9   purchase of the house for my family       middle  \n",
      "10                      buy real estate       middle  \n",
      "11           buy commercial real estate          low  \n",
      "12                    to have a wedding       middle  \n",
      "13                         car purchase       middle  \n",
      "14          buy residential real estate       middle  \n",
      "15         construction of own property       middle  \n",
      "16                             property         high  \n",
      "17                  building a property          low  \n",
      "18             buying a second-hand car          low  \n",
      "19                    buying my own car         high  \n"
     ]
    }
   ],
   "source": [
    "print(df.head(20))"
   ]
  },
  {
   "cell_type": "code",
   "execution_count": 37,
   "metadata": {},
   "outputs": [
    {
     "data": {
      "text/html": [
       "<div>\n",
       "<style scoped>\n",
       "    .dataframe tbody tr th:only-of-type {\n",
       "        vertical-align: middle;\n",
       "    }\n",
       "\n",
       "    .dataframe tbody tr th {\n",
       "        vertical-align: top;\n",
       "    }\n",
       "\n",
       "    .dataframe thead tr th {\n",
       "        text-align: left;\n",
       "    }\n",
       "\n",
       "    .dataframe thead tr:last-of-type th {\n",
       "        text-align: right;\n",
       "    }\n",
       "</style>\n",
       "<table border=\"1\" class=\"dataframe\">\n",
       "  <thead>\n",
       "    <tr>\n",
       "      <th></th>\n",
       "      <th></th>\n",
       "      <th></th>\n",
       "      <th>sum</th>\n",
       "      <th>len</th>\n",
       "    </tr>\n",
       "    <tr>\n",
       "      <th></th>\n",
       "      <th></th>\n",
       "      <th></th>\n",
       "      <th>total_income</th>\n",
       "      <th>total_income</th>\n",
       "    </tr>\n",
       "    <tr>\n",
       "      <th>marital_status</th>\n",
       "      <th>children</th>\n",
       "      <th>purpose</th>\n",
       "      <th></th>\n",
       "      <th></th>\n",
       "    </tr>\n",
       "  </thead>\n",
       "  <tbody>\n",
       "    <tr>\n",
       "      <td rowspan=\"5\" valign=\"top\">civil partnership</td>\n",
       "      <td rowspan=\"5\" valign=\"top\">-1</td>\n",
       "      <td>having a wedding</td>\n",
       "      <td>21102</td>\n",
       "      <td>1</td>\n",
       "    </tr>\n",
       "    <tr>\n",
       "      <td>profile education</td>\n",
       "      <td>16450</td>\n",
       "      <td>1</td>\n",
       "    </tr>\n",
       "    <tr>\n",
       "      <td>to buy a car</td>\n",
       "      <td>51456</td>\n",
       "      <td>1</td>\n",
       "    </tr>\n",
       "    <tr>\n",
       "      <td>to have a wedding</td>\n",
       "      <td>15700</td>\n",
       "      <td>1</td>\n",
       "    </tr>\n",
       "    <tr>\n",
       "      <td>to own a car</td>\n",
       "      <td>8705</td>\n",
       "      <td>1</td>\n",
       "    </tr>\n",
       "    <tr>\n",
       "      <td>...</td>\n",
       "      <td>...</td>\n",
       "      <td>...</td>\n",
       "      <td>...</td>\n",
       "      <td>...</td>\n",
       "    </tr>\n",
       "    <tr>\n",
       "      <td rowspan=\"5\" valign=\"top\">widow / widower</td>\n",
       "      <td>3</td>\n",
       "      <td>university education</td>\n",
       "      <td>22735</td>\n",
       "      <td>1</td>\n",
       "    </tr>\n",
       "    <tr>\n",
       "      <td>4</td>\n",
       "      <td>housing transactions</td>\n",
       "      <td>26235</td>\n",
       "      <td>1</td>\n",
       "    </tr>\n",
       "    <tr>\n",
       "      <td rowspan=\"3\" valign=\"top\">20</td>\n",
       "      <td>housing transactions</td>\n",
       "      <td>22687</td>\n",
       "      <td>2</td>\n",
       "    </tr>\n",
       "    <tr>\n",
       "      <td>purchase of the house</td>\n",
       "      <td>26787</td>\n",
       "      <td>1</td>\n",
       "    </tr>\n",
       "    <tr>\n",
       "      <td>transactions with commercial real estate</td>\n",
       "      <td>42315</td>\n",
       "      <td>1</td>\n",
       "    </tr>\n",
       "  </tbody>\n",
       "</table>\n",
       "<p>709 rows × 2 columns</p>\n",
       "</div>"
      ],
      "text/plain": [
       "                                                                             sum  \\\n",
       "                                                                    total_income   \n",
       "marital_status    children purpose                                                 \n",
       "civil partnership -1       having a wedding                                21102   \n",
       "                           profile education                               16450   \n",
       "                           to buy a car                                    51456   \n",
       "                           to have a wedding                               15700   \n",
       "                           to own a car                                     8705   \n",
       "...                                                                          ...   \n",
       "widow / widower    3       university education                            22735   \n",
       "                   4       housing transactions                            26235   \n",
       "                   20      housing transactions                            22687   \n",
       "                           purchase of the house                           26787   \n",
       "                           transactions with commercial real estate        42315   \n",
       "\n",
       "                                                                             len  \n",
       "                                                                    total_income  \n",
       "marital_status    children purpose                                                \n",
       "civil partnership -1       having a wedding                                    1  \n",
       "                           profile education                                   1  \n",
       "                           to buy a car                                        1  \n",
       "                           to have a wedding                                   1  \n",
       "                           to own a car                                        1  \n",
       "...                                                                          ...  \n",
       "widow / widower    3       university education                                1  \n",
       "                   4       housing transactions                                1  \n",
       "                   20      housing transactions                                2  \n",
       "                           purchase of the house                               1  \n",
       "                           transactions with commercial real estate            1  \n",
       "\n",
       "[709 rows x 2 columns]"
      ]
     },
     "execution_count": 37,
     "metadata": {},
     "output_type": "execute_result"
    }
   ],
   "source": [
    "pd.pivot_table(df,index=[\"marital_status\",\"children\", \"purpose\"],values=[\"total_income\"], aggfunc=[np.sum, len])"
   ]
  },
  {
   "cell_type": "code",
   "execution_count": null,
   "metadata": {},
   "outputs": [],
   "source": []
  },
  {
   "cell_type": "markdown",
   "metadata": {},
   "source": [
    "<p><a name=\"Categ_conclusion\"></a></p>\n",
    "\n",
    "## Conclusion"
   ]
  },
  {
   "cell_type": "markdown",
   "metadata": {},
   "source": [
    "Our results indicates that 57.49% of the clients are married with the average income of 27016. I have to take into account at looking at this 2 data for the reason because it might have some effects on paying back capabilities.As for the purpose that top  major purpose of the loan are related to real property purchases and then followed by car purchases."
   ]
  },
  {
   "cell_type": "markdown",
   "metadata": {},
   "source": [
    "<p><a name=\"Step 3\"></a></p>\n",
    "\n",
    "### Step 3. Answer these questions'"
   ]
  },
  {
   "cell_type": "markdown",
   "metadata": {},
   "source": [
    "- Is there a relation between having kids and repaying a loan on time?"
   ]
  },
  {
   "cell_type": "markdown",
   "metadata": {},
   "source": [
    "The number of kids the client have would have some effect on clients capability to pay back on time because having more kids would mean more financial stress. in our client with marital status of widow/widower shown in the pivot table, client A has 4 kids and has a total income of 26235 and the other client B that has no kids with total income of 22687 they have the same loan purpose also which means client A would most likely to face financial stress due to the fact that he has 4 kids even if he earns more than client B."
   ]
  },
  {
   "cell_type": "markdown",
   "metadata": {},
   "source": [
    "### Conclusion"
   ]
  },
  {
   "cell_type": "markdown",
   "metadata": {},
   "source": [
    "- Is there a relation between marital status and repaying a loan on time?"
   ]
  },
  {
   "cell_type": "markdown",
   "metadata": {},
   "source": [
    "There is a relation between marital status and repaying the loan on time.Like in our data which 57.49% of the clients are married couples.They have the fexibility to use both of their incomes to pay back in case financial stress araise.While in the case of divoced clients which comprises of around 5.5%, it could be a factor since the client might have alimony or chilcare monthly payments.These regular payments will factor into the debt-to-income ratio which is a factor in repaying the loan on time.\n"
   ]
  },
  {
   "cell_type": "markdown",
   "metadata": {},
   "source": [
    "### Conclusion"
   ]
  },
  {
   "cell_type": "markdown",
   "metadata": {},
   "source": [
    "- Is there a relation between income level and repaying a loan on time?"
   ]
  },
  {
   "cell_type": "markdown",
   "metadata": {},
   "source": [
    "More often income and credit score rates and positively corelated since the higher income is related with higher probability of paying back."
   ]
  },
  {
   "cell_type": "markdown",
   "metadata": {},
   "source": [
    "### Conclusion"
   ]
  },
  {
   "cell_type": "markdown",
   "metadata": {},
   "source": [
    "- How do different loan purposes affect on-time repayment of the loan?"
   ]
  },
  {
   "cell_type": "markdown",
   "metadata": {},
   "source": [
    "The dataset mostly consist of personal loans.The loan purpose however affects the on-time repayment in the sense that lower loan size and shorter maturity period  decrease credit risk."
   ]
  },
  {
   "cell_type": "markdown",
   "metadata": {},
   "source": [
    "<p><a name=\"Step 4\"></a></p>\n",
    "\n",
    "### Step 4. General conclusion"
   ]
  },
  {
   "cell_type": "markdown",
   "metadata": {},
   "source": [
    "I therefore conclude that the demographic variables such as marital status, children, and total income has positive corelation in in financial variable which is the purpose in terms of on-time payment of the loan.This is due to the financial strees that demographic variable may cause during the period of loan payment."
   ]
  }
 ],
 "metadata": {
  "kernelspec": {
   "display_name": "Python 3",
   "language": "python",
   "name": "python3"
  },
  "language_info": {
   "codemirror_mode": {
    "name": "ipython",
    "version": 3
   },
   "file_extension": ".py",
   "mimetype": "text/x-python",
   "name": "python",
   "nbconvert_exporter": "python",
   "pygments_lexer": "ipython3",
   "version": "3.8.5"
  },
  "toc": {
   "base_numbering": 1,
   "nav_menu": {},
   "number_sections": true,
   "sideBar": true,
   "skip_h1_title": false,
   "title_cell": "Table of Contents",
   "title_sidebar": "Contents",
   "toc_cell": false,
   "toc_position": {},
   "toc_section_display": true,
   "toc_window_display": false
  }
 },
 "nbformat": 4,
 "nbformat_minor": 4
}
