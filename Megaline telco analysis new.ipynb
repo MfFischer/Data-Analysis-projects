{
 "cells": [
  {
   "cell_type": "markdown",
   "metadata": {},
   "source": [
    "### MEGALINE TELECOM RESEARCH\n",
    "\n",
    "This project is to analyze clients' behavior and determine which prepaid plan is more profitable for the company. The goal of this research is for the commercial department to know which of the plans is more profitable in order to adjust the advertising budget."
   ]
  },
  {
   "cell_type": "markdown",
   "metadata": {},
   "source": [
    "### Table of Contents\n",
    "* <a href=\"#Step 1\">Opening the Data ></a><br>\n",
    "    * <a href=\"#calldata\">Call Data File</a><br>\n",
    "    * <a href=\"#internetdata\">Internet Data File</a><br>\n",
    "    * <a href=\"#messagesdata\">Messages Data File</a><br>\n",
    "    * <a href=\"#plansdata\">Plans Data File</a><br>\n",
    "    * <a href=\"#usersdata\">Users Data File</a><br>\n",
    "        * <a href=\"#step1_conclusion\">Conclusion</a><br>\n",
    "* <a href=\"#Step 2\">Prepare the Data</a><br>\n",
    "    * <a href=\"#calldataprep\">Preparing call data</a><br>\n",
    "    * <a href=\"#internetdataprep\">Preparing internet data</a><br>\n",
    "    * <a href=\"#messagesdataprep\">Preparing messeges data</a><br>\n",
    "    * <a href=\"#plansdataprep\">Preparing Plans data</a><br>\n",
    "    * <a href=\"#usersdataprep\">Preparing Users data</a><br>\n",
    "    * <a href=\"#smspermonth\">Messages consumed per Month</a><br>\n",
    "    * <a href=\"#callpermonth\">Call minutes consumed per Month</a><br>\n",
    "    * <a href=\"#Gbpermonth\">Internet consumed per Month</a><br>\n",
    "    * <a href=\"#monthlyCharges\">Adding the Monthly Charges</a><br>\n",
    "        * <a href=\"#step2_conclusion\">Conclusion</a><br>\n",
    "* <a href=\"#Step 3\">Analyze The Data</a><br>\n",
    "    * <a href=\"#surfusers\">separating the Surf plan subscribers</a><br>\n",
    "    * <a href=\"#ultimateusers\">separating the Ultimate plan subscribers</a><br>\n",
    "    * <a href=\"#sms\">Values of Text volume</a><br>\n",
    "    * <a href=\"#call\">Values of Call volume</a><br>\n",
    "    * <a href=\"#internet\">Values of internet volume</a><br>\n",
    "    * <a href=\"#volumereq\">Monthly volume requirement</a><br>\n",
    "        * <a href=\"#Step3conclusion\">Conclusion</a><br>\n",
    "* <a href=\"#Step 4\">Test the hypotheses</a><br>\n",
    "    * <a href=\"#hyphotesis1\">Testing users plan hyphotesis</a><br>\n",
    "        * <a href=\"#step4conclusion\">Conclusion</a><br>\n",
    "* <a href=\"#Step 5\">Overall conclusion</a><br>       "
   ]
  },
  {
   "cell_type": "code",
   "execution_count": 1,
   "metadata": {},
   "outputs": [],
   "source": [
    "from scipy import stats as st\n",
    "import numpy as np\n",
    "from datetime import timedelta\n",
    "import pandas as pd\n",
    "import matplotlib.pyplot as plt"
   ]
  },
  {
   "cell_type": "code",
   "execution_count": 2,
   "metadata": {},
   "outputs": [],
   "source": [
    "call_data = pd.read_csv(r'C:\\Users\\User\\Documents\\YandexDataA\\sprint4/megaline_calls (2).csv')\n",
    "internet_data = pd.read_csv(r'C:\\Users\\User\\Documents\\YandexDataA\\sprint4/megaline_internet (2).csv')\n",
    "messages_data = pd.read_csv(r'C:\\Users\\User\\Documents\\YandexDataA\\sprint4/megaline_messages (1).csv')\n",
    "plans_data = pd.read_csv(r'C:\\Users\\User\\Documents\\YandexDataA\\sprint4/megaline_plans (1).csv')\n",
    "users_data = pd.read_csv(r'C:\\Users\\User\\Documents\\YandexDataA\\sprint4/megaline_users (1).csv')"
   ]
  },
  {
   "cell_type": "markdown",
   "metadata": {},
   "source": [
    "<p><a name=\"Step 1\"></a></p>\n",
    "\n",
    "### Step 1. Open the data file and study the general information"
   ]
  },
  {
   "cell_type": "markdown",
   "metadata": {},
   "source": [
    "<p><a name=\"calldata\"></a></p>"
   ]
  },
  {
   "cell_type": "code",
   "execution_count": 3,
   "metadata": {},
   "outputs": [
    {
     "name": "stdout",
     "output_type": "stream",
     "text": [
      "         id  user_id   call_date  duration\n",
      "0   1000_93     1000  2018-12-27      8.52\n",
      "1  1000_145     1000  2018-12-27     13.66\n",
      "2  1000_247     1000  2018-12-27     14.48\n",
      "3  1000_309     1000  2018-12-28      5.76\n",
      "4  1000_380     1000  2018-12-30      4.22\n"
     ]
    }
   ],
   "source": [
    "# Opening the call data file\n",
    "print(call_data.head())"
   ]
  },
  {
   "cell_type": "code",
   "execution_count": 4,
   "metadata": {},
   "outputs": [
    {
     "name": "stdout",
     "output_type": "stream",
     "text": [
      "              id  user_id   call_date  duration\n",
      "137730  1499_199     1499  2018-11-21      8.72\n",
      "137731  1499_200     1499  2018-10-20     10.89\n",
      "137732  1499_201     1499  2018-09-21      8.12\n",
      "137733  1499_202     1499  2018-10-10      0.37\n",
      "137734  1499_203     1499  2018-12-29     13.86\n"
     ]
    }
   ],
   "source": [
    "print(call_data.tail())"
   ]
  },
  {
   "cell_type": "code",
   "execution_count": 5,
   "metadata": {},
   "outputs": [
    {
     "data": {
      "text/plain": [
       "(137735, 4)"
      ]
     },
     "execution_count": 5,
     "metadata": {},
     "output_type": "execute_result"
    }
   ],
   "source": [
    "call_data.shape"
   ]
  },
  {
   "cell_type": "code",
   "execution_count": 6,
   "metadata": {},
   "outputs": [
    {
     "data": {
      "text/html": [
       "<div>\n",
       "<style scoped>\n",
       "    .dataframe tbody tr th:only-of-type {\n",
       "        vertical-align: middle;\n",
       "    }\n",
       "\n",
       "    .dataframe tbody tr th {\n",
       "        vertical-align: top;\n",
       "    }\n",
       "\n",
       "    .dataframe thead th {\n",
       "        text-align: right;\n",
       "    }\n",
       "</style>\n",
       "<table border=\"1\" class=\"dataframe\">\n",
       "  <thead>\n",
       "    <tr style=\"text-align: right;\">\n",
       "      <th></th>\n",
       "      <th>user_id</th>\n",
       "      <th>duration</th>\n",
       "    </tr>\n",
       "  </thead>\n",
       "  <tbody>\n",
       "    <tr>\n",
       "      <th>count</th>\n",
       "      <td>137735.000000</td>\n",
       "      <td>137735.000000</td>\n",
       "    </tr>\n",
       "    <tr>\n",
       "      <th>mean</th>\n",
       "      <td>1247.658046</td>\n",
       "      <td>6.745927</td>\n",
       "    </tr>\n",
       "    <tr>\n",
       "      <th>std</th>\n",
       "      <td>139.416268</td>\n",
       "      <td>5.839241</td>\n",
       "    </tr>\n",
       "    <tr>\n",
       "      <th>min</th>\n",
       "      <td>1000.000000</td>\n",
       "      <td>0.000000</td>\n",
       "    </tr>\n",
       "    <tr>\n",
       "      <th>25%</th>\n",
       "      <td>1128.000000</td>\n",
       "      <td>1.290000</td>\n",
       "    </tr>\n",
       "    <tr>\n",
       "      <th>50%</th>\n",
       "      <td>1247.000000</td>\n",
       "      <td>5.980000</td>\n",
       "    </tr>\n",
       "    <tr>\n",
       "      <th>75%</th>\n",
       "      <td>1365.000000</td>\n",
       "      <td>10.690000</td>\n",
       "    </tr>\n",
       "    <tr>\n",
       "      <th>max</th>\n",
       "      <td>1499.000000</td>\n",
       "      <td>37.600000</td>\n",
       "    </tr>\n",
       "  </tbody>\n",
       "</table>\n",
       "</div>"
      ],
      "text/plain": [
       "             user_id       duration\n",
       "count  137735.000000  137735.000000\n",
       "mean     1247.658046       6.745927\n",
       "std       139.416268       5.839241\n",
       "min      1000.000000       0.000000\n",
       "25%      1128.000000       1.290000\n",
       "50%      1247.000000       5.980000\n",
       "75%      1365.000000      10.690000\n",
       "max      1499.000000      37.600000"
      ]
     },
     "execution_count": 6,
     "metadata": {},
     "output_type": "execute_result"
    }
   ],
   "source": [
    "call_data.describe()"
   ]
  },
  {
   "cell_type": "code",
   "execution_count": 7,
   "metadata": {},
   "outputs": [
    {
     "name": "stdout",
     "output_type": "stream",
     "text": [
      "<class 'pandas.core.frame.DataFrame'>\n",
      "RangeIndex: 137735 entries, 0 to 137734\n",
      "Data columns (total 4 columns):\n",
      " #   Column     Non-Null Count   Dtype  \n",
      "---  ------     --------------   -----  \n",
      " 0   id         137735 non-null  object \n",
      " 1   user_id    137735 non-null  int64  \n",
      " 2   call_date  137735 non-null  object \n",
      " 3   duration   137735 non-null  float64\n",
      "dtypes: float64(1), int64(1), object(2)\n",
      "memory usage: 4.2+ MB\n"
     ]
    }
   ],
   "source": [
    "call_data.info()"
   ]
  },
  {
   "cell_type": "markdown",
   "metadata": {},
   "source": [
    "<p><a name=\"internetdata\"></a></p>"
   ]
  },
  {
   "cell_type": "code",
   "execution_count": 8,
   "metadata": {},
   "outputs": [
    {
     "name": "stdout",
     "output_type": "stream",
     "text": [
      "         id  user_id session_date  mb_used\n",
      "0   1000_13     1000   2018-12-29    89.86\n",
      "1  1000_204     1000   2018-12-31     0.00\n",
      "2  1000_379     1000   2018-12-28   660.40\n",
      "3  1000_413     1000   2018-12-26   270.99\n",
      "4  1000_442     1000   2018-12-27   880.22\n"
     ]
    }
   ],
   "source": [
    "# opening internet data file\n",
    "print(internet_data.head())"
   ]
  },
  {
   "cell_type": "code",
   "execution_count": 9,
   "metadata": {},
   "outputs": [
    {
     "name": "stdout",
     "output_type": "stream",
     "text": [
      "              id  user_id session_date  mb_used\n",
      "104820  1499_215     1499   2018-10-20   218.06\n",
      "104821  1499_216     1499   2018-12-30   304.72\n",
      "104822  1499_217     1499   2018-09-22   292.75\n",
      "104823  1499_218     1499   2018-12-07     0.00\n",
      "104824  1499_219     1499   2018-12-24   758.31\n"
     ]
    }
   ],
   "source": [
    "print(internet_data.tail())"
   ]
  },
  {
   "cell_type": "code",
   "execution_count": 10,
   "metadata": {},
   "outputs": [
    {
     "data": {
      "text/plain": [
       "(104825, 4)"
      ]
     },
     "execution_count": 10,
     "metadata": {},
     "output_type": "execute_result"
    }
   ],
   "source": [
    "internet_data.shape"
   ]
  },
  {
   "cell_type": "code",
   "execution_count": 11,
   "metadata": {},
   "outputs": [
    {
     "data": {
      "text/html": [
       "<div>\n",
       "<style scoped>\n",
       "    .dataframe tbody tr th:only-of-type {\n",
       "        vertical-align: middle;\n",
       "    }\n",
       "\n",
       "    .dataframe tbody tr th {\n",
       "        vertical-align: top;\n",
       "    }\n",
       "\n",
       "    .dataframe thead th {\n",
       "        text-align: right;\n",
       "    }\n",
       "</style>\n",
       "<table border=\"1\" class=\"dataframe\">\n",
       "  <thead>\n",
       "    <tr style=\"text-align: right;\">\n",
       "      <th></th>\n",
       "      <th>user_id</th>\n",
       "      <th>mb_used</th>\n",
       "    </tr>\n",
       "  </thead>\n",
       "  <tbody>\n",
       "    <tr>\n",
       "      <td>count</td>\n",
       "      <td>104825.000000</td>\n",
       "      <td>104825.000000</td>\n",
       "    </tr>\n",
       "    <tr>\n",
       "      <td>mean</td>\n",
       "      <td>1242.496361</td>\n",
       "      <td>366.713701</td>\n",
       "    </tr>\n",
       "    <tr>\n",
       "      <td>std</td>\n",
       "      <td>142.053913</td>\n",
       "      <td>277.170542</td>\n",
       "    </tr>\n",
       "    <tr>\n",
       "      <td>min</td>\n",
       "      <td>1000.000000</td>\n",
       "      <td>0.000000</td>\n",
       "    </tr>\n",
       "    <tr>\n",
       "      <td>25%</td>\n",
       "      <td>1122.000000</td>\n",
       "      <td>136.080000</td>\n",
       "    </tr>\n",
       "    <tr>\n",
       "      <td>50%</td>\n",
       "      <td>1236.000000</td>\n",
       "      <td>343.980000</td>\n",
       "    </tr>\n",
       "    <tr>\n",
       "      <td>75%</td>\n",
       "      <td>1367.000000</td>\n",
       "      <td>554.610000</td>\n",
       "    </tr>\n",
       "    <tr>\n",
       "      <td>max</td>\n",
       "      <td>1499.000000</td>\n",
       "      <td>1693.470000</td>\n",
       "    </tr>\n",
       "  </tbody>\n",
       "</table>\n",
       "</div>"
      ],
      "text/plain": [
       "             user_id        mb_used\n",
       "count  104825.000000  104825.000000\n",
       "mean     1242.496361     366.713701\n",
       "std       142.053913     277.170542\n",
       "min      1000.000000       0.000000\n",
       "25%      1122.000000     136.080000\n",
       "50%      1236.000000     343.980000\n",
       "75%      1367.000000     554.610000\n",
       "max      1499.000000    1693.470000"
      ]
     },
     "execution_count": 11,
     "metadata": {},
     "output_type": "execute_result"
    }
   ],
   "source": [
    "internet_data.describe()"
   ]
  },
  {
   "cell_type": "code",
   "execution_count": 12,
   "metadata": {},
   "outputs": [
    {
     "name": "stdout",
     "output_type": "stream",
     "text": [
      "<class 'pandas.core.frame.DataFrame'>\n",
      "RangeIndex: 104825 entries, 0 to 104824\n",
      "Data columns (total 4 columns):\n",
      "id              104825 non-null object\n",
      "user_id         104825 non-null int64\n",
      "session_date    104825 non-null object\n",
      "mb_used         104825 non-null float64\n",
      "dtypes: float64(1), int64(1), object(2)\n",
      "memory usage: 3.2+ MB\n"
     ]
    }
   ],
   "source": [
    "internet_data.info()"
   ]
  },
  {
   "cell_type": "markdown",
   "metadata": {},
   "source": [
    "<p><a name=\"messagesdata\"></a></p>"
   ]
  },
  {
   "cell_type": "code",
   "execution_count": 13,
   "metadata": {},
   "outputs": [
    {
     "name": "stdout",
     "output_type": "stream",
     "text": [
      "         id  user_id message_date\n",
      "0  1000_125     1000   2018-12-27\n",
      "1  1000_160     1000   2018-12-31\n",
      "2  1000_223     1000   2018-12-31\n",
      "3  1000_251     1000   2018-12-27\n",
      "4  1000_255     1000   2018-12-26\n"
     ]
    }
   ],
   "source": [
    "# Opening the messages_data file\n",
    "\n",
    "print (messages_data.head())"
   ]
  },
  {
   "cell_type": "code",
   "execution_count": 14,
   "metadata": {},
   "outputs": [
    {
     "name": "stdout",
     "output_type": "stream",
     "text": [
      "             id  user_id message_date\n",
      "76046  1497_526     1497   2018-12-24\n",
      "76047  1497_536     1497   2018-12-24\n",
      "76048  1497_547     1497   2018-12-31\n",
      "76049  1497_558     1497   2018-12-24\n",
      "76050  1497_613     1497   2018-12-23\n"
     ]
    }
   ],
   "source": [
    "print(messages_data.tail())"
   ]
  },
  {
   "cell_type": "code",
   "execution_count": 15,
   "metadata": {},
   "outputs": [
    {
     "data": {
      "text/plain": [
       "(76051, 3)"
      ]
     },
     "execution_count": 15,
     "metadata": {},
     "output_type": "execute_result"
    }
   ],
   "source": [
    "messages_data.shape"
   ]
  },
  {
   "cell_type": "code",
   "execution_count": 16,
   "metadata": {},
   "outputs": [
    {
     "data": {
      "text/html": [
       "<div>\n",
       "<style scoped>\n",
       "    .dataframe tbody tr th:only-of-type {\n",
       "        vertical-align: middle;\n",
       "    }\n",
       "\n",
       "    .dataframe tbody tr th {\n",
       "        vertical-align: top;\n",
       "    }\n",
       "\n",
       "    .dataframe thead th {\n",
       "        text-align: right;\n",
       "    }\n",
       "</style>\n",
       "<table border=\"1\" class=\"dataframe\">\n",
       "  <thead>\n",
       "    <tr style=\"text-align: right;\">\n",
       "      <th></th>\n",
       "      <th>user_id</th>\n",
       "    </tr>\n",
       "  </thead>\n",
       "  <tbody>\n",
       "    <tr>\n",
       "      <td>count</td>\n",
       "      <td>76051.000000</td>\n",
       "    </tr>\n",
       "    <tr>\n",
       "      <td>mean</td>\n",
       "      <td>1245.972768</td>\n",
       "    </tr>\n",
       "    <tr>\n",
       "      <td>std</td>\n",
       "      <td>139.843635</td>\n",
       "    </tr>\n",
       "    <tr>\n",
       "      <td>min</td>\n",
       "      <td>1000.000000</td>\n",
       "    </tr>\n",
       "    <tr>\n",
       "      <td>25%</td>\n",
       "      <td>1123.000000</td>\n",
       "    </tr>\n",
       "    <tr>\n",
       "      <td>50%</td>\n",
       "      <td>1251.000000</td>\n",
       "    </tr>\n",
       "    <tr>\n",
       "      <td>75%</td>\n",
       "      <td>1362.000000</td>\n",
       "    </tr>\n",
       "    <tr>\n",
       "      <td>max</td>\n",
       "      <td>1497.000000</td>\n",
       "    </tr>\n",
       "  </tbody>\n",
       "</table>\n",
       "</div>"
      ],
      "text/plain": [
       "            user_id\n",
       "count  76051.000000\n",
       "mean    1245.972768\n",
       "std      139.843635\n",
       "min     1000.000000\n",
       "25%     1123.000000\n",
       "50%     1251.000000\n",
       "75%     1362.000000\n",
       "max     1497.000000"
      ]
     },
     "execution_count": 16,
     "metadata": {},
     "output_type": "execute_result"
    }
   ],
   "source": [
    "messages_data.describe()"
   ]
  },
  {
   "cell_type": "code",
   "execution_count": 17,
   "metadata": {},
   "outputs": [
    {
     "name": "stdout",
     "output_type": "stream",
     "text": [
      "<class 'pandas.core.frame.DataFrame'>\n",
      "RangeIndex: 76051 entries, 0 to 76050\n",
      "Data columns (total 3 columns):\n",
      "id              76051 non-null object\n",
      "user_id         76051 non-null int64\n",
      "message_date    76051 non-null object\n",
      "dtypes: int64(1), object(2)\n",
      "memory usage: 1.7+ MB\n"
     ]
    }
   ],
   "source": [
    "messages_data.info()"
   ]
  },
  {
   "cell_type": "markdown",
   "metadata": {},
   "source": [
    "<p><a name=\"plansdata\"></a></p>"
   ]
  },
  {
   "cell_type": "code",
   "execution_count": 18,
   "metadata": {},
   "outputs": [
    {
     "name": "stdout",
     "output_type": "stream",
     "text": [
      "   messages_included  mb_per_month_included  minutes_included  \\\n",
      "0                 50                  15360               500   \n",
      "1               1000                  30720              3000   \n",
      "\n",
      "   usd_monthly_pay  usd_per_gb  usd_per_message  usd_per_minute plan_name  \n",
      "0               20          10             0.03            0.03      surf  \n",
      "1               70           7             0.01            0.01  ultimate  \n"
     ]
    }
   ],
   "source": [
    "#Opening the plans_data file\n",
    "print(plans_data)"
   ]
  },
  {
   "cell_type": "code",
   "execution_count": 19,
   "metadata": {},
   "outputs": [
    {
     "data": {
      "text/plain": [
       "(2, 8)"
      ]
     },
     "execution_count": 19,
     "metadata": {},
     "output_type": "execute_result"
    }
   ],
   "source": [
    "plans_data.shape"
   ]
  },
  {
   "cell_type": "code",
   "execution_count": 20,
   "metadata": {},
   "outputs": [
    {
     "data": {
      "text/plain": [
       "Index(['messages_included', 'mb_per_month_included', 'minutes_included',\n",
       "       'usd_monthly_pay', 'usd_per_gb', 'usd_per_message', 'usd_per_minute',\n",
       "       'plan_name'],\n",
       "      dtype='object')"
      ]
     },
     "execution_count": 20,
     "metadata": {},
     "output_type": "execute_result"
    }
   ],
   "source": [
    "plans_data.columns"
   ]
  },
  {
   "cell_type": "code",
   "execution_count": 21,
   "metadata": {},
   "outputs": [
    {
     "data": {
      "text/html": [
       "<div>\n",
       "<style scoped>\n",
       "    .dataframe tbody tr th:only-of-type {\n",
       "        vertical-align: middle;\n",
       "    }\n",
       "\n",
       "    .dataframe tbody tr th {\n",
       "        vertical-align: top;\n",
       "    }\n",
       "\n",
       "    .dataframe thead th {\n",
       "        text-align: right;\n",
       "    }\n",
       "</style>\n",
       "<table border=\"1\" class=\"dataframe\">\n",
       "  <thead>\n",
       "    <tr style=\"text-align: right;\">\n",
       "      <th></th>\n",
       "      <th>messages_included</th>\n",
       "      <th>mb_per_month_included</th>\n",
       "      <th>minutes_included</th>\n",
       "      <th>usd_monthly_pay</th>\n",
       "      <th>usd_per_gb</th>\n",
       "      <th>usd_per_message</th>\n",
       "      <th>usd_per_minute</th>\n",
       "    </tr>\n",
       "  </thead>\n",
       "  <tbody>\n",
       "    <tr>\n",
       "      <td>count</td>\n",
       "      <td>2.000000</td>\n",
       "      <td>2.000000</td>\n",
       "      <td>2.000000</td>\n",
       "      <td>2.000000</td>\n",
       "      <td>2.00000</td>\n",
       "      <td>2.000000</td>\n",
       "      <td>2.000000</td>\n",
       "    </tr>\n",
       "    <tr>\n",
       "      <td>mean</td>\n",
       "      <td>525.000000</td>\n",
       "      <td>23040.000000</td>\n",
       "      <td>1750.000000</td>\n",
       "      <td>45.000000</td>\n",
       "      <td>8.50000</td>\n",
       "      <td>0.020000</td>\n",
       "      <td>0.020000</td>\n",
       "    </tr>\n",
       "    <tr>\n",
       "      <td>std</td>\n",
       "      <td>671.751442</td>\n",
       "      <td>10861.160159</td>\n",
       "      <td>1767.766953</td>\n",
       "      <td>35.355339</td>\n",
       "      <td>2.12132</td>\n",
       "      <td>0.014142</td>\n",
       "      <td>0.014142</td>\n",
       "    </tr>\n",
       "    <tr>\n",
       "      <td>min</td>\n",
       "      <td>50.000000</td>\n",
       "      <td>15360.000000</td>\n",
       "      <td>500.000000</td>\n",
       "      <td>20.000000</td>\n",
       "      <td>7.00000</td>\n",
       "      <td>0.010000</td>\n",
       "      <td>0.010000</td>\n",
       "    </tr>\n",
       "    <tr>\n",
       "      <td>25%</td>\n",
       "      <td>287.500000</td>\n",
       "      <td>19200.000000</td>\n",
       "      <td>1125.000000</td>\n",
       "      <td>32.500000</td>\n",
       "      <td>7.75000</td>\n",
       "      <td>0.015000</td>\n",
       "      <td>0.015000</td>\n",
       "    </tr>\n",
       "    <tr>\n",
       "      <td>50%</td>\n",
       "      <td>525.000000</td>\n",
       "      <td>23040.000000</td>\n",
       "      <td>1750.000000</td>\n",
       "      <td>45.000000</td>\n",
       "      <td>8.50000</td>\n",
       "      <td>0.020000</td>\n",
       "      <td>0.020000</td>\n",
       "    </tr>\n",
       "    <tr>\n",
       "      <td>75%</td>\n",
       "      <td>762.500000</td>\n",
       "      <td>26880.000000</td>\n",
       "      <td>2375.000000</td>\n",
       "      <td>57.500000</td>\n",
       "      <td>9.25000</td>\n",
       "      <td>0.025000</td>\n",
       "      <td>0.025000</td>\n",
       "    </tr>\n",
       "    <tr>\n",
       "      <td>max</td>\n",
       "      <td>1000.000000</td>\n",
       "      <td>30720.000000</td>\n",
       "      <td>3000.000000</td>\n",
       "      <td>70.000000</td>\n",
       "      <td>10.00000</td>\n",
       "      <td>0.030000</td>\n",
       "      <td>0.030000</td>\n",
       "    </tr>\n",
       "  </tbody>\n",
       "</table>\n",
       "</div>"
      ],
      "text/plain": [
       "       messages_included  mb_per_month_included  minutes_included  \\\n",
       "count           2.000000               2.000000          2.000000   \n",
       "mean          525.000000           23040.000000       1750.000000   \n",
       "std           671.751442           10861.160159       1767.766953   \n",
       "min            50.000000           15360.000000        500.000000   \n",
       "25%           287.500000           19200.000000       1125.000000   \n",
       "50%           525.000000           23040.000000       1750.000000   \n",
       "75%           762.500000           26880.000000       2375.000000   \n",
       "max          1000.000000           30720.000000       3000.000000   \n",
       "\n",
       "       usd_monthly_pay  usd_per_gb  usd_per_message  usd_per_minute  \n",
       "count         2.000000     2.00000         2.000000        2.000000  \n",
       "mean         45.000000     8.50000         0.020000        0.020000  \n",
       "std          35.355339     2.12132         0.014142        0.014142  \n",
       "min          20.000000     7.00000         0.010000        0.010000  \n",
       "25%          32.500000     7.75000         0.015000        0.015000  \n",
       "50%          45.000000     8.50000         0.020000        0.020000  \n",
       "75%          57.500000     9.25000         0.025000        0.025000  \n",
       "max          70.000000    10.00000         0.030000        0.030000  "
      ]
     },
     "execution_count": 21,
     "metadata": {},
     "output_type": "execute_result"
    }
   ],
   "source": [
    "plans_data.describe()"
   ]
  },
  {
   "cell_type": "code",
   "execution_count": 22,
   "metadata": {},
   "outputs": [
    {
     "name": "stdout",
     "output_type": "stream",
     "text": [
      "<class 'pandas.core.frame.DataFrame'>\n",
      "RangeIndex: 2 entries, 0 to 1\n",
      "Data columns (total 8 columns):\n",
      "messages_included        2 non-null int64\n",
      "mb_per_month_included    2 non-null int64\n",
      "minutes_included         2 non-null int64\n",
      "usd_monthly_pay          2 non-null int64\n",
      "usd_per_gb               2 non-null int64\n",
      "usd_per_message          2 non-null float64\n",
      "usd_per_minute           2 non-null float64\n",
      "plan_name                2 non-null object\n",
      "dtypes: float64(2), int64(5), object(1)\n",
      "memory usage: 256.0+ bytes\n"
     ]
    }
   ],
   "source": [
    "plans_data.info()"
   ]
  },
  {
   "cell_type": "markdown",
   "metadata": {},
   "source": [
    "<p><a name=\"usersdata\"></a></p>"
   ]
  },
  {
   "cell_type": "code",
   "execution_count": 23,
   "metadata": {},
   "outputs": [
    {
     "name": "stdout",
     "output_type": "stream",
     "text": [
      "   user_id first_name  last_name  age                                   city  \\\n",
      "0     1000   Anamaria      Bauer   45  Atlanta-Sandy Springs-Roswell, GA MSA   \n",
      "1     1001     Mickey  Wilkerson   28        Seattle-Tacoma-Bellevue, WA MSA   \n",
      "2     1002     Carlee    Hoffman   36   Las Vegas-Henderson-Paradise, NV MSA   \n",
      "3     1003   Reynaldo    Jenkins   52                          Tulsa, OK MSA   \n",
      "4     1004    Leonila   Thompson   40        Seattle-Tacoma-Bellevue, WA MSA   \n",
      "\n",
      "     reg_date      plan churn_date  \n",
      "0  2018-12-24  ultimate        NaN  \n",
      "1  2018-08-13      surf        NaN  \n",
      "2  2018-10-21      surf        NaN  \n",
      "3  2018-01-28      surf        NaN  \n",
      "4  2018-05-23      surf        NaN  \n"
     ]
    }
   ],
   "source": [
    "# Opening the users_data file\n",
    "print(users_data.head())"
   ]
  },
  {
   "cell_type": "code",
   "execution_count": 24,
   "metadata": {},
   "outputs": [
    {
     "name": "stdout",
     "output_type": "stream",
     "text": [
      "     user_id first_name   last_name  age  \\\n",
      "495     1495      Fidel      Sharpe   67   \n",
      "496     1496      Ariel    Shepherd   49   \n",
      "497     1497      Donte     Barrera   49   \n",
      "498     1498       Scot  Williamson   51   \n",
      "499     1499      Shena     Dickson   37   \n",
      "\n",
      "                                          city    reg_date      plan  \\\n",
      "495  New York-Newark-Jersey City, NY-NJ-PA MSA  2018-09-04      surf   \n",
      "496               New Orleans-Metairie, LA MSA  2018-02-20      surf   \n",
      "497     Los Angeles-Long Beach-Anaheim, CA MSA  2018-12-10  ultimate   \n",
      "498  New York-Newark-Jersey City, NY-NJ-PA MSA  2018-02-04      surf   \n",
      "499          Orlando-Kissimmee-Sanford, FL MSA  2018-05-06      surf   \n",
      "\n",
      "    churn_date  \n",
      "495        NaN  \n",
      "496        NaN  \n",
      "497        NaN  \n",
      "498        NaN  \n",
      "499        NaN  \n"
     ]
    }
   ],
   "source": [
    "print(users_data.tail())"
   ]
  },
  {
   "cell_type": "code",
   "execution_count": 25,
   "metadata": {},
   "outputs": [
    {
     "data": {
      "text/plain": [
       "(500, 8)"
      ]
     },
     "execution_count": 25,
     "metadata": {},
     "output_type": "execute_result"
    }
   ],
   "source": [
    "users_data.shape"
   ]
  },
  {
   "cell_type": "code",
   "execution_count": 26,
   "metadata": {},
   "outputs": [
    {
     "data": {
      "text/plain": [
       "Index(['user_id', 'first_name', 'last_name', 'age', 'city', 'reg_date', 'plan',\n",
       "       'churn_date'],\n",
       "      dtype='object')"
      ]
     },
     "execution_count": 26,
     "metadata": {},
     "output_type": "execute_result"
    }
   ],
   "source": [
    "users_data.columns"
   ]
  },
  {
   "cell_type": "code",
   "execution_count": 27,
   "metadata": {},
   "outputs": [
    {
     "data": {
      "text/html": [
       "<div>\n",
       "<style scoped>\n",
       "    .dataframe tbody tr th:only-of-type {\n",
       "        vertical-align: middle;\n",
       "    }\n",
       "\n",
       "    .dataframe tbody tr th {\n",
       "        vertical-align: top;\n",
       "    }\n",
       "\n",
       "    .dataframe thead th {\n",
       "        text-align: right;\n",
       "    }\n",
       "</style>\n",
       "<table border=\"1\" class=\"dataframe\">\n",
       "  <thead>\n",
       "    <tr style=\"text-align: right;\">\n",
       "      <th></th>\n",
       "      <th>user_id</th>\n",
       "      <th>age</th>\n",
       "    </tr>\n",
       "  </thead>\n",
       "  <tbody>\n",
       "    <tr>\n",
       "      <td>count</td>\n",
       "      <td>500.000000</td>\n",
       "      <td>500.000000</td>\n",
       "    </tr>\n",
       "    <tr>\n",
       "      <td>mean</td>\n",
       "      <td>1249.500000</td>\n",
       "      <td>45.486000</td>\n",
       "    </tr>\n",
       "    <tr>\n",
       "      <td>std</td>\n",
       "      <td>144.481833</td>\n",
       "      <td>16.972269</td>\n",
       "    </tr>\n",
       "    <tr>\n",
       "      <td>min</td>\n",
       "      <td>1000.000000</td>\n",
       "      <td>18.000000</td>\n",
       "    </tr>\n",
       "    <tr>\n",
       "      <td>25%</td>\n",
       "      <td>1124.750000</td>\n",
       "      <td>30.000000</td>\n",
       "    </tr>\n",
       "    <tr>\n",
       "      <td>50%</td>\n",
       "      <td>1249.500000</td>\n",
       "      <td>46.000000</td>\n",
       "    </tr>\n",
       "    <tr>\n",
       "      <td>75%</td>\n",
       "      <td>1374.250000</td>\n",
       "      <td>61.000000</td>\n",
       "    </tr>\n",
       "    <tr>\n",
       "      <td>max</td>\n",
       "      <td>1499.000000</td>\n",
       "      <td>75.000000</td>\n",
       "    </tr>\n",
       "  </tbody>\n",
       "</table>\n",
       "</div>"
      ],
      "text/plain": [
       "           user_id         age\n",
       "count   500.000000  500.000000\n",
       "mean   1249.500000   45.486000\n",
       "std     144.481833   16.972269\n",
       "min    1000.000000   18.000000\n",
       "25%    1124.750000   30.000000\n",
       "50%    1249.500000   46.000000\n",
       "75%    1374.250000   61.000000\n",
       "max    1499.000000   75.000000"
      ]
     },
     "execution_count": 27,
     "metadata": {},
     "output_type": "execute_result"
    }
   ],
   "source": [
    "users_data.describe()"
   ]
  },
  {
   "cell_type": "code",
   "execution_count": 28,
   "metadata": {},
   "outputs": [
    {
     "name": "stdout",
     "output_type": "stream",
     "text": [
      "<class 'pandas.core.frame.DataFrame'>\n",
      "RangeIndex: 500 entries, 0 to 499\n",
      "Data columns (total 8 columns):\n",
      "user_id       500 non-null int64\n",
      "first_name    500 non-null object\n",
      "last_name     500 non-null object\n",
      "age           500 non-null int64\n",
      "city          500 non-null object\n",
      "reg_date      500 non-null object\n",
      "plan          500 non-null object\n",
      "churn_date    34 non-null object\n",
      "dtypes: int64(2), object(6)\n",
      "memory usage: 31.4+ KB\n"
     ]
    }
   ],
   "source": [
    "users_data.info()"
   ]
  },
  {
   "cell_type": "markdown",
   "metadata": {},
   "source": [
    "<p><a name=\"step1_conclusion\"></a></p>\n",
    "\n",
    "### Conclusion\n",
    "\n",
    "We have 5 Datasets, the call data which has 137735 rows and 4 columns, the internet data which has 104825 rows and 4 columns, messages data which has 76051 rows and 3 columns, plans data with 2 rows and 8 columns and users data with 500 rows and  8 columns.There are several data types which are in wrong formats like the dates which are all in object instead of datetime64, and some real numbers which needs to be converted to int. there are no duplicates however there are NaN values which need to be processed."
   ]
  },
  {
   "cell_type": "markdown",
   "metadata": {},
   "source": [
    "<p><a name=\"Step 2\"></a></p>\n",
    "\n",
    "### Step 2. Prepare the data"
   ]
  },
  {
   "cell_type": "markdown",
   "metadata": {},
   "source": [
    "<p><a name=\"calldataprep\"></a></p>"
   ]
  },
  {
   "cell_type": "code",
   "execution_count": 29,
   "metadata": {},
   "outputs": [
    {
     "name": "stdout",
     "output_type": "stream",
     "text": [
      "id           0\n",
      "user_id      0\n",
      "call_date    0\n",
      "duration     0\n",
      "dtype: int64\n"
     ]
    }
   ],
   "source": [
    "#Checking for Nan values in the call_data file.\n",
    "print (call_data.isnull().sum())"
   ]
  },
  {
   "cell_type": "code",
   "execution_count": 30,
   "metadata": {},
   "outputs": [],
   "source": [
    "# #I will convert the call_date column by converting it from a string type to datetime64.\n",
    "call_data['call_date']= pd.to_datetime(call_data['call_date'], format = '%Y-%m-%dT%H:%M')"
   ]
  },
  {
   "cell_type": "code",
   "execution_count": 31,
   "metadata": {},
   "outputs": [],
   "source": [
    "# then i will call the pivot table to group the columns  user_id and call date to duration \n",
    "#to know the numbers of calls made per user _id in a month\n",
    "call_data_grouped=pd.pivot_table(call_data,index=[\"user_id\"],values=[\"duration\"], aggfunc=['count','sum'])\n",
    "call_data_grouped.columns = ['count', 'total call']"
   ]
  },
  {
   "cell_type": "code",
   "execution_count": 32,
   "metadata": {},
   "outputs": [],
   "source": [
    "# I will round off the total call to whole number in order to have a better calculation of charges\n",
    "#call_data_grouped['total call'] = call_data_grouped['total call'].apply(np.ceil) "
   ]
  },
  {
   "cell_type": "code",
   "execution_count": 33,
   "metadata": {},
   "outputs": [
    {
     "name": "stdout",
     "output_type": "stream",
     "text": [
      "         count  total call\n",
      "user_id                   \n",
      "1000        16      116.83\n",
      "1001       261     1640.46\n",
      "1002       113      777.13\n",
      "1003       149     1041.00\n",
      "1004       370     2618.95\n",
      "...        ...         ...\n",
      "1495       253     1666.41\n",
      "1496       195     1376.21\n",
      "1497        54      276.53\n",
      "1498       451     3029.97\n",
      "1499       204     1450.31\n",
      "\n",
      "[481 rows x 2 columns]\n"
     ]
    }
   ],
   "source": [
    "print(call_data_grouped)"
   ]
  },
  {
   "cell_type": "markdown",
   "metadata": {},
   "source": [
    "We will be able to determine the number of  calls made and total of minutes used of every user by calling the pivot table.The 0.0 minutes calls will not affect the total call per month, therefore im leaving it as it is and will not drop it. Zero duration calls happen When a systems attempts a call but fails to connect, that call is usually logged as a call with zero duration. These failures may be due to a number of causes, such as an incorrectly dialed number, or that the called user was busy or did not answer."
   ]
  },
  {
   "cell_type": "markdown",
   "metadata": {},
   "source": [
    "<p><a name=\"internetdataprep\"></a></p>"
   ]
  },
  {
   "cell_type": "code",
   "execution_count": 34,
   "metadata": {},
   "outputs": [
    {
     "name": "stdout",
     "output_type": "stream",
     "text": [
      "id              0\n",
      "user_id         0\n",
      "session_date    0\n",
      "mb_used         0\n",
      "dtype: int64\n"
     ]
    }
   ],
   "source": [
    "#Preparing the internet data file\n",
    "print (internet_data.isnull().sum())"
   ]
  },
  {
   "cell_type": "markdown",
   "metadata": {},
   "source": [
    "There is no NaN values, so what i have to do is convert the data types and mb_used to gb_used"
   ]
  },
  {
   "cell_type": "code",
   "execution_count": 35,
   "metadata": {},
   "outputs": [],
   "source": [
    "#I will convert the session date column  from a string type to datetime64.\n",
    "internet_data['session_date']= pd.to_datetime(internet_data['session_date'], format = '%Y-%m-%dT%H:%M')"
   ]
  },
  {
   "cell_type": "code",
   "execution_count": 36,
   "metadata": {},
   "outputs": [],
   "source": [
    "# i will caculate megabytes to gigabytes and make a column for it.\n",
    "internet_data['Gb_used']= internet_data['mb_used'] / 1024"
   ]
  },
  {
   "cell_type": "code",
   "execution_count": 37,
   "metadata": {},
   "outputs": [],
   "source": [
    "# to get a better view of the data i will make a slice of the 3 columns i will be needing to get\n",
    "# the information of internet usages per month of every user.\n",
    "internet_data1 = internet_data[['user_id', 'Gb_used']]"
   ]
  },
  {
   "cell_type": "code",
   "execution_count": 38,
   "metadata": {},
   "outputs": [],
   "source": [
    "#by calling the pivot i will have a better look on the number of times and total usage of interenet per month of every user.\n",
    "internet_data_grouped= pd.pivot_table(internet_data1,index=[\"user_id\"],values=['Gb_used'], aggfunc=['sum'])\n",
    "internet_data_grouped.columns = ['Gb consumed']"
   ]
  },
  {
   "cell_type": "code",
   "execution_count": 39,
   "metadata": {},
   "outputs": [],
   "source": [
    "# I will will join the filtered call data and internet usage data per user.\n",
    "call_internet= call_data_grouped.join(internet_data_grouped)"
   ]
  },
  {
   "cell_type": "code",
   "execution_count": 40,
   "metadata": {},
   "outputs": [
    {
     "name": "stdout",
     "output_type": "stream",
     "text": [
      "         count  total call  Gb consumed\n",
      "user_id                                \n",
      "1000        16      116.83     1.856904\n",
      "1001       261     1640.46    78.552676\n",
      "1002       113      777.13    39.348955\n",
      "1003       149     1041.00    26.410293\n",
      "1004       370     2618.95   152.688291\n",
      "...        ...         ...          ...\n",
      "1495       253     1666.41    96.573203\n",
      "1496       195     1376.21    62.762344\n",
      "1497        54      276.53    10.846240\n",
      "1498       451     3029.97   222.192510\n",
      "1499       204     1450.31    69.677959\n",
      "\n",
      "[481 rows x 3 columns]\n"
     ]
    }
   ],
   "source": [
    "print(call_internet)"
   ]
  },
  {
   "cell_type": "markdown",
   "metadata": {},
   "source": [
    "By calling the pivot table it makes the data easier to read and we will be able to get the information we need, as to the total GB every user consumed per month.I will also use the join function to add the call data for every user."
   ]
  },
  {
   "cell_type": "markdown",
   "metadata": {},
   "source": [
    "<p><a name=\"messagesdataprep\"></a></p>"
   ]
  },
  {
   "cell_type": "code",
   "execution_count": 41,
   "metadata": {},
   "outputs": [
    {
     "name": "stdout",
     "output_type": "stream",
     "text": [
      "id              0\n",
      "user_id         0\n",
      "message_date    0\n",
      "dtype: int64\n"
     ]
    }
   ],
   "source": [
    "#Cheking for Nan values in messages_data-\n",
    "print (messages_data.isnull().sum())"
   ]
  },
  {
   "cell_type": "code",
   "execution_count": 42,
   "metadata": {},
   "outputs": [],
   "source": [
    "#changing the data type of id column from object to int by calling the astype.\n",
    "messages_data = messages_data.astype({\"id\": int})"
   ]
  },
  {
   "cell_type": "code",
   "execution_count": 43,
   "metadata": {},
   "outputs": [],
   "source": [
    "#Changing the message_date column from object to datetime64.\n",
    "messages_data['message_date']= pd.to_datetime(messages_data['message_date'], format = '%Y-%m-%dT%H:%M')"
   ]
  },
  {
   "cell_type": "code",
   "execution_count": 44,
   "metadata": {},
   "outputs": [],
   "source": [
    "# i will add the month column for me to be able to calculate the usage per month.\n",
    "messages_data['month'] = pd.DatetimeIndex(messages_data['message_date']).month "
   ]
  },
  {
   "cell_type": "code",
   "execution_count": 45,
   "metadata": {},
   "outputs": [],
   "source": [
    "#by calling the pivot i will have a better look on the number messages per month of every user.\n",
    "messages_data_grouped= pd.pivot_table(messages_data,index=[\"user_id\"],values=['id'], aggfunc=['count'])\n",
    "messages_data_grouped.columns = ['messages count']"
   ]
  },
  {
   "cell_type": "code",
   "execution_count": 46,
   "metadata": {},
   "outputs": [],
   "source": [
    "call_internet_messages = call_internet.join(messages_data_grouped)"
   ]
  },
  {
   "cell_type": "code",
   "execution_count": 47,
   "metadata": {},
   "outputs": [
    {
     "name": "stdout",
     "output_type": "stream",
     "text": [
      "         count  total call  Gb consumed  messages count\n",
      "user_id                                                \n",
      "1000        16      116.83     1.856904            11.0\n",
      "1001       261     1640.46    78.552676           207.0\n",
      "1002       113      777.13    39.348955            88.0\n",
      "1003       149     1041.00    26.410293            50.0\n",
      "1004       370     2618.95   152.688291           177.0\n",
      "...        ...         ...          ...             ...\n",
      "1495       253     1666.41    96.573203             NaN\n",
      "1496       195     1376.21    62.762344            65.0\n",
      "1497        54      276.53    10.846240            50.0\n",
      "1498       451     3029.97   222.192510             NaN\n",
      "1499       204     1450.31    69.677959             NaN\n",
      "\n",
      "[481 rows x 4 columns]\n"
     ]
    }
   ],
   "source": [
    "print(call_internet_messages)"
   ]
  },
  {
   "cell_type": "markdown",
   "metadata": {},
   "source": [
    "with the result of pivot table we can see how many messeges the user sent every month.The NaN values indicates the user did not utilized the messages and internet data in the plan. and so therefore i will replace the NaN values with 0."
   ]
  },
  {
   "cell_type": "code",
   "execution_count": 48,
   "metadata": {},
   "outputs": [
    {
     "name": "stdout",
     "output_type": "stream",
     "text": [
      "count              0\n",
      "total call         0\n",
      "Gb consumed        1\n",
      "messages count    87\n",
      "dtype: int64\n"
     ]
    }
   ],
   "source": [
    "print (call_internet_messages.isnull().sum())"
   ]
  },
  {
   "cell_type": "code",
   "execution_count": 49,
   "metadata": {},
   "outputs": [],
   "source": [
    "# fill the Nan values with 0.0\n",
    "call_internet_messages = call_internet_messages.fillna(value= 0.0)"
   ]
  },
  {
   "cell_type": "markdown",
   "metadata": {},
   "source": [
    "For the NaN values of messages count  and Gb consumed the possible reason could be that Pandas automatically converts the None to a NaN value.which could mean that the user has not consumed the messages and internet data yet when the data was taken. I am replacing it with 0 value so that the computation later with usage of the products will be more accurate compared to imputing it with meadian and mean."
   ]
  },
  {
   "cell_type": "code",
   "execution_count": 50,
   "metadata": {},
   "outputs": [],
   "source": [
    "#converting the columns from real numbers to int.\n",
    "call_internet_messages = call_internet_messages.astype({\"messages count\": int })"
   ]
  },
  {
   "cell_type": "code",
   "execution_count": 51,
   "metadata": {},
   "outputs": [
    {
     "name": "stdout",
     "output_type": "stream",
     "text": [
      "         count  total call  Gb consumed  messages count\n",
      "user_id                                                \n",
      "1000        16      116.83     1.856904              11\n",
      "1001       261     1640.46    78.552676             207\n",
      "1002       113      777.13    39.348955              88\n",
      "1003       149     1041.00    26.410293              50\n",
      "1004       370     2618.95   152.688291             177\n",
      "...        ...         ...          ...             ...\n",
      "1495       253     1666.41    96.573203               0\n",
      "1496       195     1376.21    62.762344              65\n",
      "1497        54      276.53    10.846240              50\n",
      "1498       451     3029.97   222.192510               0\n",
      "1499       204     1450.31    69.677959               0\n",
      "\n",
      "[481 rows x 4 columns]\n"
     ]
    }
   ],
   "source": [
    "print(call_internet_messages)"
   ]
  },
  {
   "cell_type": "code",
   "execution_count": 52,
   "metadata": {},
   "outputs": [
    {
     "name": "stdout",
     "output_type": "stream",
     "text": [
      "count             0\n",
      "total call        0\n",
      "Gb consumed       0\n",
      "messages count    0\n",
      "dtype: int64\n"
     ]
    }
   ],
   "source": [
    "print (call_internet_messages.isnull().sum())"
   ]
  },
  {
   "cell_type": "markdown",
   "metadata": {},
   "source": [
    "There is no longer NaN values and all are converted to the desired data type."
   ]
  },
  {
   "cell_type": "markdown",
   "metadata": {},
   "source": [
    "<p><a name=\"plansdataprep\"></a></p>"
   ]
  },
  {
   "cell_type": "code",
   "execution_count": 53,
   "metadata": {},
   "outputs": [
    {
     "name": "stdout",
     "output_type": "stream",
     "text": [
      "messages_included        0\n",
      "mb_per_month_included    0\n",
      "minutes_included         0\n",
      "usd_monthly_pay          0\n",
      "usd_per_gb               0\n",
      "usd_per_message          0\n",
      "usd_per_minute           0\n",
      "plan_name                0\n",
      "dtype: int64\n"
     ]
    }
   ],
   "source": [
    "print (plans_data.isnull().sum())"
   ]
  },
  {
   "cell_type": "markdown",
   "metadata": {},
   "source": [
    "Checking for NaN values in the data set"
   ]
  },
  {
   "cell_type": "code",
   "execution_count": 54,
   "metadata": {},
   "outputs": [],
   "source": [
    "plans_data['Gb_per_month_included']= plans_data['mb_per_month_included'] / 1000"
   ]
  },
  {
   "cell_type": "code",
   "execution_count": 55,
   "metadata": {},
   "outputs": [
    {
     "name": "stdout",
     "output_type": "stream",
     "text": [
      "   messages_included  mb_per_month_included  minutes_included  \\\n",
      "0                 50                  15360               500   \n",
      "1               1000                  30720              3000   \n",
      "\n",
      "   usd_monthly_pay  usd_per_gb  usd_per_message  usd_per_minute plan_name  \\\n",
      "0               20          10             0.03            0.03      surf   \n",
      "1               70           7             0.01            0.01  ultimate   \n",
      "\n",
      "   Gb_per_month_included  \n",
      "0                  15.36  \n",
      "1                  30.72  \n"
     ]
    }
   ],
   "source": [
    "print(plans_data)"
   ]
  },
  {
   "cell_type": "markdown",
   "metadata": {},
   "source": []
  },
  {
   "cell_type": "markdown",
   "metadata": {},
   "source": [
    "<p><a name=\"usersdataprep\"></a></p>"
   ]
  },
  {
   "cell_type": "code",
   "execution_count": 56,
   "metadata": {},
   "outputs": [
    {
     "name": "stdout",
     "output_type": "stream",
     "text": [
      "user_id         0\n",
      "first_name      0\n",
      "last_name       0\n",
      "age             0\n",
      "city            0\n",
      "reg_date        0\n",
      "plan            0\n",
      "churn_date    466\n",
      "dtype: int64\n"
     ]
    }
   ],
   "source": [
    "print (users_data.isnull().sum())"
   ]
  },
  {
   "cell_type": "markdown",
   "metadata": {},
   "source": [
    "In this data where churn date if the value is missing, the calling plan was being used when this data was retrieved.the date the user stopped using the service. Therefore, i have to replace the missing values  by the column of reg date."
   ]
  },
  {
   "cell_type": "code",
   "execution_count": 57,
   "metadata": {},
   "outputs": [],
   "source": [
    "#changing Nan values of churn data to Nat.\n",
    "users_data['churn_date'] = users_data['churn_date'].fillna(users_data['reg_date'])"
   ]
  },
  {
   "cell_type": "code",
   "execution_count": 58,
   "metadata": {},
   "outputs": [],
   "source": [
    "#Changing the reg_date column from object to datetime64.\n",
    "users_data['reg_date']= pd.to_datetime(users_data['reg_date'], format = '%Y-%m-%dT%H:%M')"
   ]
  },
  {
   "cell_type": "code",
   "execution_count": 59,
   "metadata": {},
   "outputs": [],
   "source": [
    "#determining the reg_month and adding it to the table\n",
    "users_data['reg_month'] = pd.DatetimeIndex(users_data['reg_date']).month "
   ]
  },
  {
   "cell_type": "code",
   "execution_count": 60,
   "metadata": {},
   "outputs": [],
   "source": [
    "#Changing the churn_date column from object to datetime64.\n",
    "users_data['churn_date']= pd.to_datetime(users_data['churn_date'], format = '%Y-%m-%dT%H:%M')"
   ]
  },
  {
   "cell_type": "code",
   "execution_count": 61,
   "metadata": {},
   "outputs": [],
   "source": [
    "#determining the churn month column and adding it to the table\n",
    "users_data['churn_month'] =pd.DatetimeIndex(users_data['churn_date']).month "
   ]
  },
  {
   "cell_type": "code",
   "execution_count": 62,
   "metadata": {},
   "outputs": [],
   "source": [
    "#Getting the total number of months subscription of each user, i will add 1 so i dont get the value of zero.\n",
    "users_data['total_month']=  users_data['churn_month'] - users_data['reg_month'] + 1"
   ]
  },
  {
   "cell_type": "code",
   "execution_count": 63,
   "metadata": {},
   "outputs": [
    {
     "name": "stdout",
     "output_type": "stream",
     "text": [
      "   user_id first_name  last_name  age                                   city  \\\n",
      "0     1000   Anamaria      Bauer   45  Atlanta-Sandy Springs-Roswell, GA MSA   \n",
      "1     1001     Mickey  Wilkerson   28        Seattle-Tacoma-Bellevue, WA MSA   \n",
      "2     1002     Carlee    Hoffman   36   Las Vegas-Henderson-Paradise, NV MSA   \n",
      "3     1003   Reynaldo    Jenkins   52                          Tulsa, OK MSA   \n",
      "4     1004    Leonila   Thompson   40        Seattle-Tacoma-Bellevue, WA MSA   \n",
      "\n",
      "    reg_date      plan churn_date  reg_month  churn_month  total_month  \n",
      "0 2018-12-24  ultimate 2018-12-24         12           12            1  \n",
      "1 2018-08-13      surf 2018-08-13          8            8            1  \n",
      "2 2018-10-21      surf 2018-10-21         10           10            1  \n",
      "3 2018-01-28      surf 2018-01-28          1            1            1  \n",
      "4 2018-05-23      surf 2018-05-23          5            5            1  \n"
     ]
    }
   ],
   "source": [
    "print(users_data.head())"
   ]
  },
  {
   "cell_type": "code",
   "execution_count": 64,
   "metadata": {},
   "outputs": [],
   "source": [
    "#Replacing 'plan' column to numeric value assignments in Plan_data file\n",
    "plan = users_data['plan'].replace(to_replace = ['ultimate', 'surf'], value = ['1', '0' ])"
   ]
  },
  {
   "cell_type": "code",
   "execution_count": 65,
   "metadata": {},
   "outputs": [],
   "source": [
    " users_data['plan'] = plan"
   ]
  },
  {
   "cell_type": "code",
   "execution_count": 66,
   "metadata": {},
   "outputs": [],
   "source": [
    " users_data =  users_data.astype({'plan': int})"
   ]
  },
  {
   "cell_type": "code",
   "execution_count": 67,
   "metadata": {},
   "outputs": [],
   "source": [
    "#slicing the users data to 3 particular columns\n",
    "users_info = users_data[['user_id','plan' , 'total_month']]"
   ]
  },
  {
   "cell_type": "code",
   "execution_count": 68,
   "metadata": {},
   "outputs": [
    {
     "name": "stdout",
     "output_type": "stream",
     "text": [
      "   user_id  plan  total_month\n",
      "0     1000     1            1\n",
      "1     1001     0            1\n",
      "2     1002     0            1\n",
      "3     1003     0            1\n",
      "4     1004     0            1\n"
     ]
    }
   ],
   "source": [
    "print(users_info.head())"
   ]
  },
  {
   "cell_type": "code",
   "execution_count": 69,
   "metadata": {},
   "outputs": [],
   "source": [
    "def plan_messages(plan):\n",
    "    if plan == 1:\n",
    "        return 1000\n",
    "    if plan == 0:\n",
    "        return 50"
   ]
  },
  {
   "cell_type": "code",
   "execution_count": 70,
   "metadata": {},
   "outputs": [],
   "source": [
    "import sys\n",
    "import warnings\n",
    "if not sys.warnoptions:\n",
    "       warnings.simplefilter(\"ignore\")"
   ]
  },
  {
   "cell_type": "code",
   "execution_count": 71,
   "metadata": {},
   "outputs": [],
   "source": [
    "users_info['plan_messages'] =users_info['plan'].apply(plan_messages)"
   ]
  },
  {
   "cell_type": "code",
   "execution_count": 72,
   "metadata": {},
   "outputs": [],
   "source": [
    "def call_plan(plan):\n",
    "    if plan == 1:\n",
    "        return 3000\n",
    "    if plan == 0:\n",
    "        return 500"
   ]
  },
  {
   "cell_type": "code",
   "execution_count": 73,
   "metadata": {},
   "outputs": [],
   "source": [
    "users_info['call_plan'] =users_info['plan'].apply(call_plan )"
   ]
  },
  {
   "cell_type": "code",
   "execution_count": 74,
   "metadata": {},
   "outputs": [],
   "source": [
    "def internet_plan(plan):\n",
    "    if plan == 1:\n",
    "        return 30.72\n",
    "    if plan == 0:\n",
    "        return 15.36"
   ]
  },
  {
   "cell_type": "code",
   "execution_count": 75,
   "metadata": {},
   "outputs": [],
   "source": [
    "users_info['internet_plan'] = users_info['plan'].apply(internet_plan)"
   ]
  },
  {
   "cell_type": "code",
   "execution_count": 76,
   "metadata": {},
   "outputs": [],
   "source": [
    "#Merge the filtered users data and the dataset for call, internet and messeges datas.\n",
    "users_info_grouped = pd.merge(users_info, call_internet_messages, on='user_id')\n"
   ]
  },
  {
   "cell_type": "code",
   "execution_count": 77,
   "metadata": {},
   "outputs": [
    {
     "name": "stdout",
     "output_type": "stream",
     "text": [
      "   user_id  plan  total_month  plan_messages  call_plan  internet_plan  count  \\\n",
      "0     1000     1            1           1000       3000          30.72     16   \n",
      "1     1001     0            1             50        500          15.36    261   \n",
      "2     1002     0            1             50        500          15.36    113   \n",
      "3     1003     0            1             50        500          15.36    149   \n",
      "4     1004     0            1             50        500          15.36    370   \n",
      "\n",
      "   total call  Gb consumed  messages count  \n",
      "0      116.83     1.856904              11  \n",
      "1     1640.46    78.552676             207  \n",
      "2      777.13    39.348955              88  \n",
      "3     1041.00    26.410293              50  \n",
      "4     2618.95   152.688291             177  \n"
     ]
    }
   ],
   "source": [
    "print(users_info_grouped.head())"
   ]
  },
  {
   "cell_type": "markdown",
   "metadata": {},
   "source": [
    "<p><a name=\"smspermonth\"></a></p>"
   ]
  },
  {
   "cell_type": "code",
   "execution_count": 78,
   "metadata": {},
   "outputs": [],
   "source": [
    "#Calculating the monthly uses of messages and subtracting it according to users plan\n",
    "users_info_grouped['sms_per_month'] = (users_info_grouped['messages count'] \n",
    "                                            /  users_info_grouped['total_month']) - users_info_grouped['plan_messages']"
   ]
  },
  {
   "cell_type": "markdown",
   "metadata": {},
   "source": [
    "<p><a name=\"callpermonth\"></a></p>"
   ]
  },
  {
   "cell_type": "code",
   "execution_count": 79,
   "metadata": {},
   "outputs": [],
   "source": [
    "#Calculating the total calls per month and subtractiong it according to users plan\n",
    "\n",
    "users_info_grouped['call_per_month'] = (users_info_grouped['total call'] \n",
    "                                            /  users_info_grouped['total_month']) - users_info_grouped['call_plan']"
   ]
  },
  {
   "cell_type": "code",
   "execution_count": 80,
   "metadata": {},
   "outputs": [],
   "source": [
    "# I am rounding off the call per month to calculate easier the usage.\n",
    "users_info_grouped['call_per_month'] = users_info_grouped['call_per_month'].apply(np.ceil) "
   ]
  },
  {
   "cell_type": "markdown",
   "metadata": {},
   "source": [
    "<p><a name=\"Gbpermonth\"></a></p>"
   ]
  },
  {
   "cell_type": "code",
   "execution_count": 81,
   "metadata": {},
   "outputs": [],
   "source": [
    "#Calculating the total internet used per month and subtractiong it according to users plan\n",
    "\n",
    "users_info_grouped['Gb_per_month'] = (users_info_grouped['Gb consumed'] \n",
    "                                            /  users_info_grouped['total_month']) - users_info_grouped['internet_plan']"
   ]
  },
  {
   "cell_type": "code",
   "execution_count": 82,
   "metadata": {},
   "outputs": [],
   "source": [
    "# I am rounding off the internet cunsumed per month to calculate easier the usage.\n",
    "users_info_grouped['Gb_per_month'] = users_info_grouped['Gb_per_month'].apply(np.ceil) "
   ]
  },
  {
   "cell_type": "code",
   "execution_count": 83,
   "metadata": {},
   "outputs": [],
   "source": [
    "#to be able to ha a proper computation of charges i will replaces negative numbers of usage to 0.\n",
    "users_info_grouped[users_info_grouped < 0] = 0"
   ]
  },
  {
   "cell_type": "markdown",
   "metadata": {},
   "source": [
    "<p><a name=\"monthlyCharges\"></a></p>"
   ]
  },
  {
   "cell_type": "code",
   "execution_count": 84,
   "metadata": {},
   "outputs": [],
   "source": [
    "# Add the monthly Plan charge for call\n",
    "def plan_charge(plan):\n",
    "    if plan == 1 :\n",
    "        return 70\n",
    "    if plan == 0:\n",
    "        return 20"
   ]
  },
  {
   "cell_type": "code",
   "execution_count": 85,
   "metadata": {},
   "outputs": [],
   "source": [
    "users_info_grouped['plan_charge'] =users_info_grouped['plan'].apply(plan_charge)"
   ]
  },
  {
   "cell_type": "code",
   "execution_count": 86,
   "metadata": {},
   "outputs": [],
   "source": [
    "#Add charges for messages sent that exceeds the plan\n",
    "def sms_charge(plan):\n",
    "    if plan == 1:\n",
    "        return 0.01\n",
    "    if plan == 0:\n",
    "        return 0.03"
   ]
  },
  {
   "cell_type": "code",
   "execution_count": 87,
   "metadata": {},
   "outputs": [],
   "source": [
    "users_info_grouped['sms_charge'] =users_info_grouped['plan'].apply(sms_charge)"
   ]
  },
  {
   "cell_type": "code",
   "execution_count": 88,
   "metadata": {},
   "outputs": [],
   "source": [
    "#calculating the total charges of exceed messages according to plan charges and adding it to the table\n",
    "\n",
    "users_info_grouped['sms_charge'] = users_info_grouped['sms_per_month'] * users_info_grouped['sms_charge']"
   ]
  },
  {
   "cell_type": "code",
   "execution_count": 89,
   "metadata": {},
   "outputs": [],
   "source": [
    "#Add charges for calls made that exceeds the plan\n",
    "def call_charge(plan):\n",
    "    if plan == 1:\n",
    "        return 0.01\n",
    "    if plan == 0:\n",
    "        return 0.03"
   ]
  },
  {
   "cell_type": "code",
   "execution_count": 90,
   "metadata": {},
   "outputs": [],
   "source": [
    "users_info_grouped['call_charge'] =users_info_grouped['plan'].apply(call_charge)"
   ]
  },
  {
   "cell_type": "code",
   "execution_count": 91,
   "metadata": {},
   "outputs": [],
   "source": [
    "#calculating the  charges of exceed calls according to plan charges and adding it to the table\n",
    "users_info_grouped['call_charge'] = users_info_grouped['call_per_month']* users_info_grouped['call_charge']"
   ]
  },
  {
   "cell_type": "code",
   "execution_count": 92,
   "metadata": {},
   "outputs": [],
   "source": [
    "#Add charges for internet used that exceeds the plan\n",
    "def internet_charge(plan):\n",
    "    if plan == 1:\n",
    "        return 7\n",
    "    if plan == 0:\n",
    "        return 10"
   ]
  },
  {
   "cell_type": "code",
   "execution_count": 93,
   "metadata": {},
   "outputs": [],
   "source": [
    "users_info_grouped['internet_charge'] =users_info_grouped['plan'].apply(internet_charge)"
   ]
  },
  {
   "cell_type": "code",
   "execution_count": 94,
   "metadata": {},
   "outputs": [],
   "source": [
    "#calculating the  charges of exceed internet used according to plan charges and adding it to the table\n",
    "users_info_grouped['internet_charge'] = users_info_grouped['Gb_per_month'] * users_info_grouped['internet_charge']"
   ]
  },
  {
   "cell_type": "code",
   "execution_count": 95,
   "metadata": {},
   "outputs": [],
   "source": [
    "#Calculating the total monthly charge of each user according to plan and  adding it to the table\n",
    "users_info_grouped['total_montly_charge'] = users_info_grouped['plan_charge'] + users_info_grouped['sms_charge'] + users_info_grouped['call_charge'] + users_info_grouped['internet_charge']                                                  "
   ]
  },
  {
   "cell_type": "code",
   "execution_count": 96,
   "metadata": {},
   "outputs": [
    {
     "name": "stdout",
     "output_type": "stream",
     "text": [
      "   user_id  plan  total_month  plan_messages  call_plan  internet_plan  count  \\\n",
      "0     1000     1            1           1000       3000          30.72     16   \n",
      "1     1001     0            1             50        500          15.36    261   \n",
      "2     1002     0            1             50        500          15.36    113   \n",
      "3     1003     0            1             50        500          15.36    149   \n",
      "4     1004     0            1             50        500          15.36    370   \n",
      "\n",
      "   total call  Gb consumed  messages count  sms_per_month  call_per_month  \\\n",
      "0      116.83     1.856904              11            0.0             0.0   \n",
      "1     1640.46    78.552676             207          157.0          1141.0   \n",
      "2      777.13    39.348955              88           38.0           278.0   \n",
      "3     1041.00    26.410293              50            0.0           541.0   \n",
      "4     2618.95   152.688291             177          127.0          2119.0   \n",
      "\n",
      "   Gb_per_month  plan_charge  sms_charge  call_charge  internet_charge  \\\n",
      "0           0.0           70        0.00         0.00              0.0   \n",
      "1          64.0           20        4.71        34.23            640.0   \n",
      "2          24.0           20        1.14         8.34            240.0   \n",
      "3          12.0           20        0.00        16.23            120.0   \n",
      "4         138.0           20        3.81        63.57           1380.0   \n",
      "\n",
      "   total_montly_charge  \n",
      "0                70.00  \n",
      "1               698.94  \n",
      "2               269.48  \n",
      "3               156.23  \n",
      "4              1467.38  \n"
     ]
    }
   ],
   "source": [
    "print(users_info_grouped.head())"
   ]
  },
  {
   "cell_type": "code",
   "execution_count": 97,
   "metadata": {},
   "outputs": [
    {
     "data": {
      "text/html": [
       "<div>\n",
       "<style scoped>\n",
       "    .dataframe tbody tr th:only-of-type {\n",
       "        vertical-align: middle;\n",
       "    }\n",
       "\n",
       "    .dataframe tbody tr th {\n",
       "        vertical-align: top;\n",
       "    }\n",
       "\n",
       "    .dataframe thead th {\n",
       "        text-align: right;\n",
       "    }\n",
       "</style>\n",
       "<table border=\"1\" class=\"dataframe\">\n",
       "  <thead>\n",
       "    <tr style=\"text-align: right;\">\n",
       "      <th></th>\n",
       "      <th>user_id</th>\n",
       "    </tr>\n",
       "    <tr>\n",
       "      <th>last_name</th>\n",
       "      <th></th>\n",
       "    </tr>\n",
       "  </thead>\n",
       "  <tbody>\n",
       "    <tr>\n",
       "      <td>Acevedo</td>\n",
       "      <td>1083.0</td>\n",
       "    </tr>\n",
       "    <tr>\n",
       "      <td>Adkins</td>\n",
       "      <td>1170.0</td>\n",
       "    </tr>\n",
       "    <tr>\n",
       "      <td>Aguilar</td>\n",
       "      <td>1260.0</td>\n",
       "    </tr>\n",
       "    <tr>\n",
       "      <td>Albert</td>\n",
       "      <td>1121.0</td>\n",
       "    </tr>\n",
       "    <tr>\n",
       "      <td>Allen</td>\n",
       "      <td>1067.0</td>\n",
       "    </tr>\n",
       "    <tr>\n",
       "      <td>...</td>\n",
       "      <td>...</td>\n",
       "    </tr>\n",
       "    <tr>\n",
       "      <td>Wynn</td>\n",
       "      <td>1493.0</td>\n",
       "    </tr>\n",
       "    <tr>\n",
       "      <td>Yang</td>\n",
       "      <td>1115.0</td>\n",
       "    </tr>\n",
       "    <tr>\n",
       "      <td>Yates</td>\n",
       "      <td>1116.0</td>\n",
       "    </tr>\n",
       "    <tr>\n",
       "      <td>York</td>\n",
       "      <td>1252.0</td>\n",
       "    </tr>\n",
       "    <tr>\n",
       "      <td>Zimmerman</td>\n",
       "      <td>1309.0</td>\n",
       "    </tr>\n",
       "  </tbody>\n",
       "</table>\n",
       "<p>399 rows × 1 columns</p>\n",
       "</div>"
      ],
      "text/plain": [
       "           user_id\n",
       "last_name         \n",
       "Acevedo     1083.0\n",
       "Adkins      1170.0\n",
       "Aguilar     1260.0\n",
       "Albert      1121.0\n",
       "Allen       1067.0\n",
       "...            ...\n",
       "Wynn        1493.0\n",
       "Yang        1115.0\n",
       "Yates       1116.0\n",
       "York        1252.0\n",
       "Zimmerman   1309.0\n",
       "\n",
       "[399 rows x 1 columns]"
      ]
     },
     "execution_count": 97,
     "metadata": {},
     "output_type": "execute_result"
    }
   ],
   "source": [
    "users_monthly_charge = pd.pivot_table(users_data,index=[\"last_name\"],values=['user_id'])\n",
    "users_monthly_charge"
   ]
  },
  {
   "cell_type": "code",
   "execution_count": null,
   "metadata": {},
   "outputs": [],
   "source": []
  },
  {
   "cell_type": "code",
   "execution_count": 98,
   "metadata": {},
   "outputs": [],
   "source": [
    "users_data_final = pd.merge(users_data, users_info_grouped, on='user_id')"
   ]
  },
  {
   "cell_type": "code",
   "execution_count": 99,
   "metadata": {},
   "outputs": [],
   "source": [
    "users_data_final['revenue'] = users_data_final['total_montly_charge'] - users_data_final['plan_charge']"
   ]
  },
  {
   "cell_type": "code",
   "execution_count": 100,
   "metadata": {},
   "outputs": [
    {
     "name": "stdout",
     "output_type": "stream",
     "text": [
      "   user_id first_name  last_name  age                                   city  \\\n",
      "0     1000   Anamaria      Bauer   45  Atlanta-Sandy Springs-Roswell, GA MSA   \n",
      "1     1001     Mickey  Wilkerson   28        Seattle-Tacoma-Bellevue, WA MSA   \n",
      "2     1002     Carlee    Hoffman   36   Las Vegas-Henderson-Paradise, NV MSA   \n",
      "3     1003   Reynaldo    Jenkins   52                          Tulsa, OK MSA   \n",
      "4     1004    Leonila   Thompson   40        Seattle-Tacoma-Bellevue, WA MSA   \n",
      "\n",
      "    reg_date  plan_x churn_date  reg_month  churn_month  ...  messages count  \\\n",
      "0 2018-12-24       1 2018-12-24         12           12  ...              11   \n",
      "1 2018-08-13       0 2018-08-13          8            8  ...             207   \n",
      "2 2018-10-21       0 2018-10-21         10           10  ...              88   \n",
      "3 2018-01-28       0 2018-01-28          1            1  ...              50   \n",
      "4 2018-05-23       0 2018-05-23          5            5  ...             177   \n",
      "\n",
      "   sms_per_month  call_per_month  Gb_per_month  plan_charge  sms_charge  \\\n",
      "0            0.0             0.0           0.0           70        0.00   \n",
      "1          157.0          1141.0          64.0           20        4.71   \n",
      "2           38.0           278.0          24.0           20        1.14   \n",
      "3            0.0           541.0          12.0           20        0.00   \n",
      "4          127.0          2119.0         138.0           20        3.81   \n",
      "\n",
      "   call_charge  internet_charge  total_montly_charge  revenue  \n",
      "0         0.00              0.0                70.00     0.00  \n",
      "1        34.23            640.0               698.94   678.94  \n",
      "2         8.34            240.0               269.48   249.48  \n",
      "3        16.23            120.0               156.23   136.23  \n",
      "4        63.57           1380.0              1467.38  1447.38  \n",
      "\n",
      "[5 rows x 29 columns]\n"
     ]
    }
   ],
   "source": [
    "print(users_data_final.head())"
   ]
  },
  {
   "cell_type": "code",
   "execution_count": 101,
   "metadata": {},
   "outputs": [
    {
     "name": "stdout",
     "output_type": "stream",
     "text": [
      "<class 'pandas.core.frame.DataFrame'>\n",
      "Int64Index: 481 entries, 0 to 480\n",
      "Data columns (total 29 columns):\n",
      "user_id                481 non-null int64\n",
      "first_name             481 non-null object\n",
      "last_name              481 non-null object\n",
      "age                    481 non-null int64\n",
      "city                   481 non-null object\n",
      "reg_date               481 non-null datetime64[ns]\n",
      "plan_x                 481 non-null int64\n",
      "churn_date             481 non-null datetime64[ns]\n",
      "reg_month              481 non-null int64\n",
      "churn_month            481 non-null int64\n",
      "total_month_x          481 non-null int64\n",
      "plan_y                 481 non-null int64\n",
      "total_month_y          481 non-null int64\n",
      "plan_messages          481 non-null int64\n",
      "call_plan              481 non-null int64\n",
      "internet_plan          481 non-null float64\n",
      "count                  481 non-null int64\n",
      "total call             481 non-null float64\n",
      "Gb consumed            481 non-null float64\n",
      "messages count         481 non-null int64\n",
      "sms_per_month          481 non-null float64\n",
      "call_per_month         481 non-null float64\n",
      "Gb_per_month           481 non-null float64\n",
      "plan_charge            481 non-null int64\n",
      "sms_charge             481 non-null float64\n",
      "call_charge            481 non-null float64\n",
      "internet_charge        481 non-null float64\n",
      "total_montly_charge    481 non-null float64\n",
      "revenue                481 non-null float64\n",
      "dtypes: datetime64[ns](2), float64(11), int64(13), object(3)\n",
      "memory usage: 112.7+ KB\n"
     ]
    }
   ],
   "source": [
    "users_data_final.info()"
   ]
  },
  {
   "cell_type": "markdown",
   "metadata": {},
   "source": [
    "The call charges, sms charges and internet charges including the total monthy charge and the revenue of user has been calculated and added in the table."
   ]
  },
  {
   "cell_type": "markdown",
   "metadata": {},
   "source": [
    "<p><a name=\"step2_conclusion\"></a></p>\n",
    "\n",
    "### Conclusion\n",
    "\n",
    "The Call, Messeges, Internet, plan and users datasets has been sliced, filtered, and merged in order for us to calculate and add the necessary column to determine the charges according to plan of the user."
   ]
  },
  {
   "cell_type": "markdown",
   "metadata": {},
   "source": [
    "<p><a name=\"Step 3\"></a></p>\n",
    "\n",
    "### Step 3. Analyze the data"
   ]
  },
  {
   "cell_type": "markdown",
   "metadata": {},
   "source": [
    "<p><a name=\"surfusers\"></a></p>"
   ]
  },
  {
   "cell_type": "code",
   "execution_count": 102,
   "metadata": {},
   "outputs": [],
   "source": [
    "# slice the users according to plan.\n",
    "surf = users_data_final['plan_x'] == 0 "
   ]
  },
  {
   "cell_type": "code",
   "execution_count": 103,
   "metadata": {},
   "outputs": [],
   "source": [
    "surf_plan = users_data_final[surf]"
   ]
  },
  {
   "cell_type": "code",
   "execution_count": 104,
   "metadata": {},
   "outputs": [
    {
     "name": "stdout",
     "output_type": "stream",
     "text": [
      "   user_id first_name  last_name  age                                  city  \\\n",
      "1     1001     Mickey  Wilkerson   28       Seattle-Tacoma-Bellevue, WA MSA   \n",
      "2     1002     Carlee    Hoffman   36  Las Vegas-Henderson-Paradise, NV MSA   \n",
      "3     1003   Reynaldo    Jenkins   52                         Tulsa, OK MSA   \n",
      "4     1004    Leonila   Thompson   40       Seattle-Tacoma-Bellevue, WA MSA   \n",
      "5     1005      Livia    Shields   31   Dallas-Fort Worth-Arlington, TX MSA   \n",
      "\n",
      "    reg_date  plan_x churn_date  reg_month  churn_month  ...  messages count  \\\n",
      "1 2018-08-13       0 2018-08-13          8            8  ...             207   \n",
      "2 2018-10-21       0 2018-10-21         10           10  ...              88   \n",
      "3 2018-01-28       0 2018-01-28          1            1  ...              50   \n",
      "4 2018-05-23       0 2018-05-23          5            5  ...             177   \n",
      "5 2018-11-29       0 2018-11-29         11           11  ...              11   \n",
      "\n",
      "   sms_per_month  call_per_month  Gb_per_month  plan_charge  sms_charge  \\\n",
      "1          157.0          1141.0          64.0           20        4.71   \n",
      "2           38.0           278.0          24.0           20        1.14   \n",
      "3            0.0           541.0          12.0           20        0.00   \n",
      "4          127.0          2119.0         138.0           20        3.81   \n",
      "5            0.0             0.0           2.0           20        0.00   \n",
      "\n",
      "   call_charge  internet_charge  total_montly_charge  revenue  \n",
      "1        34.23            640.0               698.94   678.94  \n",
      "2         8.34            240.0               269.48   249.48  \n",
      "3        16.23            120.0               156.23   136.23  \n",
      "4        63.57           1380.0              1467.38  1447.38  \n",
      "5         0.00             20.0                40.00    20.00  \n",
      "\n",
      "[5 rows x 29 columns]\n"
     ]
    }
   ],
   "source": [
    "print(surf_plan.head())"
   ]
  },
  {
   "cell_type": "markdown",
   "metadata": {},
   "source": [
    "the printed users above are the one registered in surf plan"
   ]
  },
  {
   "cell_type": "markdown",
   "metadata": {},
   "source": [
    "<p><a name=\"ultimateusers\"></a></p>"
   ]
  },
  {
   "cell_type": "code",
   "execution_count": 105,
   "metadata": {},
   "outputs": [],
   "source": [
    "# slice the users according to Ultimate plan.\n",
    "ultimate = users_data_final['plan_x'] == 1 "
   ]
  },
  {
   "cell_type": "code",
   "execution_count": 106,
   "metadata": {},
   "outputs": [],
   "source": [
    "ultimate_plan = users_data_final[ultimate]"
   ]
  },
  {
   "cell_type": "code",
   "execution_count": 107,
   "metadata": {},
   "outputs": [
    {
     "name": "stdout",
     "output_type": "stream",
     "text": [
      "    user_id first_name last_name  age                                    city  \\\n",
      "0      1000   Anamaria     Bauer   45   Atlanta-Sandy Springs-Roswell, GA MSA   \n",
      "6      1006     Jesusa  Bradford   73  San Francisco-Oakland-Berkeley, CA MSA   \n",
      "8      1008      Emely   Hoffman   53       Orlando-Kissimmee-Sanford, FL MSA   \n",
      "11     1011     Halina     Henry   73                Cleveland-Elyria, OH MSA   \n",
      "13     1013    Nicolas    Snider   50                       Knoxville, TN MSA   \n",
      "\n",
      "     reg_date  plan_x churn_date  reg_month  churn_month  ...  messages count  \\\n",
      "0  2018-12-24       1 2018-12-24         12           12  ...              11   \n",
      "6  2018-11-27       1 2018-12-18         11           12  ...             154   \n",
      "8  2018-08-03       1 2018-08-03          8            8  ...              84   \n",
      "11 2018-01-18       1 2018-01-18          1            1  ...             371   \n",
      "13 2018-12-01       1 2018-12-01         12           12  ...              16   \n",
      "\n",
      "    sms_per_month  call_per_month  Gb_per_month  plan_charge  sms_charge  \\\n",
      "0             0.0             0.0           0.0           70         0.0   \n",
      "6             0.0             0.0           0.0           70         0.0   \n",
      "8             0.0             0.0          24.0           70         0.0   \n",
      "11            0.0             0.0          98.0           70         0.0   \n",
      "13            0.0             0.0           0.0           70         0.0   \n",
      "\n",
      "    call_charge  internet_charge  total_montly_charge  revenue  \n",
      "0           0.0              0.0                 70.0      0.0  \n",
      "6           0.0              0.0                 70.0      0.0  \n",
      "8           0.0            168.0                238.0    168.0  \n",
      "11          0.0            686.0                756.0    686.0  \n",
      "13          0.0              0.0                 70.0      0.0  \n",
      "\n",
      "[5 rows x 29 columns]\n"
     ]
    }
   ],
   "source": [
    "print(ultimate_plan.head())"
   ]
  },
  {
   "cell_type": "markdown",
   "metadata": {},
   "source": [
    "the printed users above are the one registered in Ultimate plan"
   ]
  },
  {
   "cell_type": "markdown",
   "metadata": {},
   "source": [
    "<p><a name=\"sms\"></a></p>"
   ]
  },
  {
   "cell_type": "code",
   "execution_count": 108,
   "metadata": {},
   "outputs": [
    {
     "name": "stdout",
     "output_type": "stream",
     "text": [
      "The mean volume of text for surf users:104.16\n",
      "The mean volume of text for ultimate users:1.8581\n"
     ]
    }
   ],
   "source": [
    "# determining the mean value of text per user plan\n",
    "surf_mean= surf_plan['sms_per_month'].mean()\n",
    "print('The mean volume of text for surf users:' \"{:.5}\". format(surf_mean))\n",
    "ultimate_mean= ultimate_plan['sms_per_month'].mean()\n",
    "print('The mean volume of text for ultimate users:' \"{:.5}\". format(ultimate_mean))"
   ]
  },
  {
   "cell_type": "code",
   "execution_count": 109,
   "metadata": {},
   "outputs": [
    {
     "name": "stdout",
     "output_type": "stream",
     "text": [
      "The standard deviation value of text volume for surf users:173.58\n",
      "The standard deviation value of text volume for ultimate users:23.133\n"
     ]
    }
   ],
   "source": [
    "# determining the standard deviation value of text per user plan\n",
    "surf_std= surf_plan['sms_per_month'].std()\n",
    "print('The standard deviation value of text volume for surf users:' \"{:.5}\". format(surf_std))\n",
    "ultimate_std= ultimate_plan['sms_per_month'].std()\n",
    "print('The standard deviation value of text volume for ultimate users:' \"{:.5}\". format(ultimate_std))"
   ]
  },
  {
   "cell_type": "code",
   "execution_count": 110,
   "metadata": {},
   "outputs": [
    {
     "name": "stdout",
     "output_type": "stream",
     "text": [
      "The derspersion value of text volume for surf users:30037.26\n",
      "The despersion value of text volume for ultimate users:531.67\n"
     ]
    }
   ],
   "source": [
    "# determining the dispersion value of text per user plan using variance\n",
    "surf_var= np.var(surf_plan['sms_per_month'])\n",
    "print('The derspersion value of text volume for surf users:' \"{:.7}\". format(surf_var))\n",
    "ultimate_var= np.var(ultimate_plan['sms_per_month'])\n",
    "print('The despersion value of text volume for ultimate users:' \"{:.5}\". format(ultimate_var))"
   ]
  },
  {
   "cell_type": "code",
   "execution_count": 111,
   "metadata": {},
   "outputs": [
    {
     "name": "stdout",
     "output_type": "stream",
     "text": [
      "S_max:  1183.0\n",
      "S_min: 0.0\n",
      "U_max:  288.0\n",
      "U_min: 0.0\n"
     ]
    },
    {
     "data": {
      "image/png": "[encoded data removed]",
      "text/plain": [
       "<Figure size 432x288 with 1 Axes>"
      ]
     },
     "metadata": {
      "needs_background": "light"
     },
     "output_type": "display_data"
    }
   ],
   "source": [
    "surf_plan['sms_per_month'].plot.hist(bins=4, alpha=0.5);\n",
    "print(\"S_max: \", surf_plan['sms_per_month'].max())\n",
    "print(\"S_min:\", surf_plan['sms_per_month'].min())\n",
    "ultimate_plan['sms_per_month'].plot.hist(bins=4, alpha=0.7);\n",
    "print(\"U_max: \", ultimate_plan['sms_per_month'].max())\n",
    "print(\"U_min:\", ultimate_plan['sms_per_month'].min())\n",
    "plt.title('Text')\n",
    "plt.xlabel('Number of Text');"
   ]
  },
  {
   "cell_type": "markdown",
   "metadata": {},
   "source": [
    "in the text volume, we can see in the graph the texting behavior of the  users of surf plan and ultimate plan. the surf plan user text more often and since thex have limited text inclusion they tend to pay more ultimate plan."
   ]
  },
  {
   "cell_type": "code",
   "execution_count": 112,
   "metadata": {},
   "outputs": [
    {
     "name": "stdout",
     "output_type": "stream",
     "text": [
      "The lower limit: 0.0\n",
      "The upper limit: 337.5\n"
     ]
    },
    {
     "data": {
      "image/png": "[encoded data removed]",
      "text/plain": [
       "<Figure size 432x288 with 1 Axes>"
      ]
     },
     "metadata": {
      "needs_background": "light"
     },
     "output_type": "display_data"
    }
   ],
   "source": [
    "## surf_plan.boxplot('sms_per_month')\n",
    "surf_plan.boxplot('sms_per_month')\n",
    "plt.ylim(0, 1183)\n",
    "\n",
    "Q1 = surf_plan['sms_per_month'].quantile(0.25)\n",
    "Q3 = surf_plan['sms_per_month'].quantile(0.75)\n",
    "IQR = Q3 - Q1\n",
    "print('The lower limit:', Q1)\n",
    "print('The upper limit:', Q3+1.5*IQR)"
   ]
  },
  {
   "cell_type": "markdown",
   "metadata": {},
   "source": [
    "As we can see here at the box plot there are outliers on surf plan sms usage. in order to analyze better we will we will filter the column by removing the outliers.The lower whisker starts at 0, the minimum value, and the upper limit one ends at about 337.5, which is 1.5 IQR above the third quartile. That is the approximate border of the \"typical\" range. Everything beyond it can usually be considered an outlier."
   ]
  },
  {
   "cell_type": "code",
   "execution_count": 113,
   "metadata": {},
   "outputs": [],
   "source": [
    "#filter the surf plan data of the data by removing the outliers in the sms usage column.\n",
    "\n",
    "filtered_surf =  surf_plan[surf_plan ['sms_per_month'] < 337.5]"
   ]
  },
  {
   "cell_type": "code",
   "execution_count": 114,
   "metadata": {},
   "outputs": [
    {
     "data": {
      "image/png": "[encoded data removed]",
      "text/plain": [
       "<Figure size 432x288 with 1 Axes>"
      ]
     },
     "metadata": {
      "needs_background": "light"
     },
     "output_type": "display_data"
    }
   ],
   "source": [
    "# making histogram of the filtered 'sms_usage ' column\n",
    "\n",
    "filtered_surf['sms_per_month'].plot.hist(bins=4, alpha=0.5);\n",
    "ultimate_plan['sms_per_month'].plot.hist(bins=4, alpha=0.7);\n",
    "plt.title('Text')\n",
    "plt.xlabel('Number of Text');\n"
   ]
  },
  {
   "cell_type": "markdown",
   "metadata": {},
   "source": [
    "compared to the previous hist, we can now cleary see how the consuption of text messeges of users from both plan.The blue is the hist from the surf plan while the orange is for the ultimate."
   ]
  },
  {
   "cell_type": "markdown",
   "metadata": {},
   "source": [
    "<p><a name=\"call\"></a></p>"
   ]
  },
  {
   "cell_type": "code",
   "execution_count": 115,
   "metadata": {},
   "outputs": [
    {
     "name": "stdout",
     "output_type": "stream",
     "text": [
      "The mean volume of call for surf users:1403.3\n",
      "The mean volume of call for ultimate users:276.79\n"
     ]
    }
   ],
   "source": [
    "# determining the mean value of call per user plan\n",
    "surf_mean= surf_plan['call_per_month'].mean()\n",
    "print('The mean volume of call for surf users:'\"{:.5}\". format(surf_mean))\n",
    "ultimate_mean= ultimate_plan['call_per_month'].mean()\n",
    "print('The mean volume of call for ultimate users:'\"{:.5}\". format(ultimate_mean))"
   ]
  },
  {
   "cell_type": "markdown",
   "metadata": {},
   "source": []
  },
  {
   "cell_type": "code",
   "execution_count": 116,
   "metadata": {},
   "outputs": [
    {
     "name": "stdout",
     "output_type": "stream",
     "text": [
      "The standard deviation value of call volume for surf users:1588.1\n",
      "The standard deviation value of call volume for ultimate users:813.47\n"
     ]
    }
   ],
   "source": [
    "# determining the standard deviation value of call per user plan\n",
    "surf_std= surf_plan['call_per_month'].std()\n",
    "print('The standard deviation value of call volume for surf users:'\"{:.5}\". format(surf_std))\n",
    "ultimate_std= ultimate_plan['call_per_month'].std()\n",
    "print('The standard deviation value of call volume for ultimate users:'\"{:.5}\". format(ultimate_std))"
   ]
  },
  {
   "cell_type": "markdown",
   "metadata": {},
   "source": [
    "The standard deviation is the average amount of variability in our data set. It tells us, on average, how far each score lies from the mean.In normal distributions, a high standard deviation means that values are generally far from the mean, while a low standard deviation indicates that values are clustered close to the mean. in this case the surf plan users has a higher standard deviation meaning the data spread is wider compared to ulitimate users."
   ]
  },
  {
   "cell_type": "code",
   "execution_count": 117,
   "metadata": {},
   "outputs": [
    {
     "name": "stdout",
     "output_type": "stream",
     "text": [
      "The derspersion value of call volume for surf users:2514215.6\n",
      "The despersion value of call volume for ultimate users:657460.43\n"
     ]
    }
   ],
   "source": [
    "# determining the dispersion value of call per user plan using variance\n",
    "surf_var= np.var(surf_plan['call_per_month'])\n",
    "print('The derspersion value of call volume for surf users:'\"{:.8}\". format(surf_var))\n",
    "ultimate_var= np.var(ultimate_plan['call_per_month'])\n",
    "print('The despersion value of call volume for ultimate users:'\"{:.8}\". format(ultimate_var))"
   ]
  },
  {
   "cell_type": "markdown",
   "metadata": {},
   "source": [
    "A large variance indicates that numbers in the set are far from the mean and far from each other. A small variance, on the other hand, indicates the opposite.in this case of the variance despersion of call consumption from both plan users. we can see a very high number of despersion,  this means to better understand the data we have to evaluate and filter it for possible outliers."
   ]
  },
  {
   "cell_type": "code",
   "execution_count": 118,
   "metadata": {},
   "outputs": [
    {
     "name": "stdout",
     "output_type": "stream",
     "text": [
      "S_max:  8451.0\n",
      "S_min: 0.0\n",
      "U_max:  5025.0\n",
      "U_min: 0.0\n"
     ]
    },
    {
     "data": {
      "image/png": "[encoded data removed]",
      "text/plain": [
       "<Figure size 432x288 with 1 Axes>"
      ]
     },
     "metadata": {
      "needs_background": "light"
     },
     "output_type": "display_data"
    }
   ],
   "source": [
    "surf_plan['call_per_month'].plot.hist(bins=4, alpha=0.5);\n",
    "print(\"S_max: \", surf_plan['call_per_month'].max())\n",
    "print(\"S_min:\", surf_plan['call_per_month'].min())\n",
    "ultimate_plan['call_per_month'].plot.hist(bins=4, alpha=0.7);\n",
    "print(\"U_max: \", ultimate_plan['call_per_month'].max())\n",
    "print(\"U_min:\", ultimate_plan['call_per_month'].min())\n",
    "plt.title('call');\n",
    "plt.xlabel('minutes');"
   ]
  },
  {
   "cell_type": "markdown",
   "metadata": {},
   "source": [
    "In the call volume, it is also the same case with text, the users who pay lesser plan which is the surp plan tend to consume more call volume than the user of Ultimate plan which as a result the later pays more charge every month.The only problem is the that the spread of data is wide and so therefore we need to check the data for outliears."
   ]
  },
  {
   "cell_type": "code",
   "execution_count": 119,
   "metadata": {},
   "outputs": [
    {
     "name": "stdout",
     "output_type": "stream",
     "text": [
      "The lower limit: 84.5\n",
      "The upper limit: 5370.125\n"
     ]
    },
    {
     "data": {
      "image/png": "[encoded data removed]",
      "text/plain": [
       "<Figure size 432x288 with 1 Axes>"
      ]
     },
     "metadata": {
      "needs_background": "light"
     },
     "output_type": "display_data"
    }
   ],
   "source": [
    "surf_plan.boxplot('call_per_month')\n",
    "plt.ylim(0, 8451)\n",
    "\n",
    "Q1 = surf_plan['call_per_month'].quantile(0.25)\n",
    "Q3 = surf_plan['call_per_month'].quantile(0.75)\n",
    "IQR = Q3 - Q1\n",
    "print('The lower limit:', Q1)\n",
    "print('The upper limit:', Q3+1.5*IQR)"
   ]
  },
  {
   "cell_type": "markdown",
   "metadata": {},
   "source": [
    "Here at the box plot there are outliers on surf plan call usage. in order to analyze better we will we will filter the column by removing the outliers.The upper limit one ends at about 5370.125, which is 1.5 IQR above the third quartile. That is the approximate border of the \"typical\" range. Everything beyond it can usually be considered an outlier."
   ]
  },
  {
   "cell_type": "code",
   "execution_count": 120,
   "metadata": {},
   "outputs": [],
   "source": [
    "#filter the surf plan data of the data by removing the outliers in the call usage column.\n",
    "\n",
    "filtered_Call_surf =  surf_plan[surf_plan ['call_per_month'] < 5370.125]"
   ]
  },
  {
   "cell_type": "code",
   "execution_count": 121,
   "metadata": {},
   "outputs": [
    {
     "data": {
      "image/png": "[encoded data removed]",
      "text/plain": [
       "<Figure size 432x288 with 1 Axes>"
      ]
     },
     "metadata": {
      "needs_background": "light"
     },
     "output_type": "display_data"
    }
   ],
   "source": [
    "# making histogram of the filtered 'sms_usage ' column\n",
    "\n",
    "filtered_Call_surf ['call_per_month'].plot.hist(bins=4, alpha=0.5);\n",
    "ultimate_plan['call_per_month'].plot.hist(bins=4, alpha=0.7);\n",
    "plt.title('call')\n",
    "plt.xlabel('Call per month');"
   ]
  },
  {
   "cell_type": "markdown",
   "metadata": {},
   "source": [
    "after removing the outliers we can now have a better view of the graph and on how the 2 data plan users differs in terms of call consumption."
   ]
  },
  {
   "cell_type": "markdown",
   "metadata": {},
   "source": [
    "<p><a name=\"internet\"></a></p>"
   ]
  },
  {
   "cell_type": "code",
   "execution_count": 122,
   "metadata": {},
   "outputs": [
    {
     "name": "stdout",
     "output_type": "stream",
     "text": [
      "The mean volume of internet data for surf users:58.383\n",
      "The mean volume of internet data for ultimate users:47.703\n"
     ]
    }
   ],
   "source": [
    "# determining the mean value of interenet data per user plan\n",
    "\n",
    "surf_mean= surf_plan['Gb_per_month'].mean()\n",
    "print('The mean volume of internet data for surf users:'\"{:.5}\". format(surf_mean))\n",
    "ultimate_mean= ultimate_plan['Gb_per_month'].mean()\n",
    "print('The mean volume of internet data for ultimate users:'\"{:.5}\". format(ultimate_mean))"
   ]
  },
  {
   "cell_type": "code",
   "execution_count": 123,
   "metadata": {},
   "outputs": [
    {
     "name": "stdout",
     "output_type": "stream",
     "text": [
      "The standard deviation value of internet data volume for surf users:58.255\n",
      "The standard deviation value of internet data volume for ultimate users:61.719\n"
     ]
    }
   ],
   "source": [
    "# determining the standard deviation value of interenet data per user plan\n",
    "surf_std= surf_plan['Gb_per_month'].std()\n",
    "print('The standard deviation value of internet data volume for surf users:'\"{:.5}\". format(surf_std))\n",
    "ultimate_std= ultimate_plan['Gb_per_month'].std()\n",
    "print('The standard deviation value of internet data volume for ultimate users:'\"{:.5}\". format(ultimate_std))"
   ]
  },
  {
   "cell_type": "code",
   "execution_count": 124,
   "metadata": {},
   "outputs": [
    {
     "name": "stdout",
     "output_type": "stream",
     "text": [
      "The derspersion value of internet data volume for surf users:3383.3\n",
      "The despersion value of internet data volume for ultimate users:3784.7\n"
     ]
    }
   ],
   "source": [
    "# determining the dispersion value of interenet data per user plan using variance\n",
    "surf_var= np.var(surf_plan['Gb_per_month'])\n",
    "print('The derspersion value of internet data volume for surf users:'\"{:.5}\". format(surf_var))\n",
    "ultimate_var= np.var(ultimate_plan['Gb_per_month'])\n",
    "print('The despersion value of internet data volume for ultimate users:'\"{:.5}\". format(ultimate_var))"
   ]
  },
  {
   "cell_type": "code",
   "execution_count": 125,
   "metadata": {},
   "outputs": [
    {
     "name": "stdout",
     "output_type": "stream",
     "text": [
      "S_max:  290.0\n",
      "S_min: 0.0\n",
      "U_max:  351.0\n",
      "U_min: 0.0\n"
     ]
    },
    {
     "data": {
      "image/png": "[encoded data removed]",
      "text/plain": [
       "<Figure size 432x288 with 1 Axes>"
      ]
     },
     "metadata": {
      "needs_background": "light"
     },
     "output_type": "display_data"
    }
   ],
   "source": [
    "surf_plan['Gb_per_month'].plot.hist(bins=4, alpha=0.5);\n",
    "print(\"S_max: \", surf_plan['Gb_per_month'].max())\n",
    "print(\"S_min:\", surf_plan['Gb_per_month'].min())\n",
    "ultimate_plan['Gb_per_month'].plot.hist(bins=4, alpha=0.7);\n",
    "print(\"U_max: \", ultimate_plan['Gb_per_month'].max())\n",
    "print(\"U_min:\", ultimate_plan['Gb_per_month'].min())\n",
    "plt.title('Internet Data');\n",
    "plt.xlabel('Gigabytes consumed');"
   ]
  },
  {
   "cell_type": "code",
   "execution_count": 126,
   "metadata": {},
   "outputs": [
    {
     "name": "stdout",
     "output_type": "stream",
     "text": [
      "The lower limit: 7.25\n",
      "The upper limit: 226.625\n"
     ]
    },
    {
     "data": {
      "image/png": "[encoded data removed]",
      "text/plain": [
       "<Figure size 432x288 with 1 Axes>"
      ]
     },
     "metadata": {
      "needs_background": "light"
     },
     "output_type": "display_data"
    }
   ],
   "source": [
    "surf_plan.boxplot('Gb_per_month')\n",
    "plt.ylim(0, 290)\n",
    "\n",
    "Q1 = surf_plan['Gb_per_month'].quantile(0.25)\n",
    "Q3 = surf_plan['Gb_per_month'].quantile(0.75)\n",
    "IQR = Q3 - Q1\n",
    "print('The lower limit:', Q1)\n",
    "print('The upper limit:', Q3+1.5*IQR)"
   ]
  },
  {
   "cell_type": "markdown",
   "metadata": {},
   "source": [
    "in the column of surf_plan for internet usage we can outliers beyond 226.625 Gb consumption, this means we have to filter the data by removing the outliers."
   ]
  },
  {
   "cell_type": "code",
   "execution_count": 127,
   "metadata": {},
   "outputs": [],
   "source": [
    "#filter the surf plan data of the data by removing the outliers in the internet usage column.\n",
    "\n",
    "filtered_intenet_surf =  surf_plan[surf_plan ['Gb_per_month'] < 226.625]"
   ]
  },
  {
   "cell_type": "code",
   "execution_count": 128,
   "metadata": {},
   "outputs": [
    {
     "name": "stdout",
     "output_type": "stream",
     "text": [
      "The lower limit: 0.0\n",
      "The upper limit: 181.25\n"
     ]
    },
    {
     "data": {
      "image/png": "[encoded data removed]",
      "text/plain": [
       "<Figure size 432x288 with 1 Axes>"
      ]
     },
     "metadata": {
      "needs_background": "light"
     },
     "output_type": "display_data"
    }
   ],
   "source": [
    "# ultimate_plan.boxplot('Gb_per_month')\n",
    "ultimate_plan.boxplot('Gb_per_month')\n",
    "plt.ylim(0, 351)\n",
    "\n",
    "Q1 = ultimate_plan['Gb_per_month'].quantile(0.25)\n",
    "Q3 = ultimate_plan['Gb_per_month'].quantile(0.75)\n",
    "IQR = Q3 - Q1\n",
    "print('The lower limit:', Q1)\n",
    "print('The upper limit:', Q3+1.5*IQR)"
   ]
  },
  {
   "cell_type": "markdown",
   "metadata": {},
   "source": [
    "In the case of internet consumption for ultimate plan user the upper limit is 181.25 and therefore above that are considered outliers."
   ]
  },
  {
   "cell_type": "code",
   "execution_count": 129,
   "metadata": {},
   "outputs": [],
   "source": [
    "#filter the ultimate plan data of the data by removing the outliers in the internet usage column.\n",
    "\n",
    "filtered_intenet_ultimate =  ultimate_plan[ultimate_plan ['Gb_per_month'] < 181.25]"
   ]
  },
  {
   "cell_type": "code",
   "execution_count": 130,
   "metadata": {},
   "outputs": [
    {
     "data": {
      "image/png": "[encoded data removed]",
      "text/plain": [
       "<Figure size 432x288 with 1 Axes>"
      ]
     },
     "metadata": {
      "needs_background": "light"
     },
     "output_type": "display_data"
    }
   ],
   "source": [
    "# plotting new hist for both plan to see how thex differ.\n",
    "filtered_intenet_surf['Gb_per_month'].plot.hist(bins=4, alpha=0.5);\n",
    "filtered_intenet_ultimate['Gb_per_month'].plot.hist(bins=4, alpha=0.7);\n",
    "plt.title('Internet Data');\n",
    "plt.xlabel('Gigabytes consumed');"
   ]
  },
  {
   "cell_type": "markdown",
   "metadata": {},
   "source": [
    "Now that we have filtered the data from outliers we can have a better of of how the internet consumption of both plan differs. The surf user still has more internet consumtion than the ultimate users."
   ]
  },
  {
   "cell_type": "markdown",
   "metadata": {},
   "source": [
    "<p><a name=\"volumereq\"></a></p>"
   ]
  },
  {
   "cell_type": "code",
   "execution_count": 131,
   "metadata": {},
   "outputs": [
    {
     "name": "stdout",
     "output_type": "stream",
     "text": [
      "Every surf plan user require 57.959 sms volume  every month.\n",
      "Every ultimate plan user require 1.8581 sms volume every month.\n"
     ]
    }
   ],
   "source": [
    "#calculating the volume of sms data a surf plan and ultimate user need per month\n",
    "surf_sms_req = filtered_surf['sms_per_month'].mean()\n",
    "print('Every surf plan user require '\"{:.5}\". format(surf_sms_req), 'sms volume  every month.')\n",
    "ultimate_sms_req = ultimate_plan['sms_per_month'].mean()\n",
    "print('Every ultimate plan user require '\"{:.5}\". format(ultimate_sms_req), 'sms volume every month.')"
   ]
  },
  {
   "cell_type": "code",
   "execution_count": 132,
   "metadata": {},
   "outputs": [
    {
     "name": "stdout",
     "output_type": "stream",
     "text": [
      "Every surf plan user require 1272.5 minutes call volume  every month.\n",
      "Every ultimate plan user require 276.79 minutes call volume every month.\n"
     ]
    }
   ],
   "source": [
    "#calculating the volume of call data a surf plan and ultimate user need per month\n",
    "surf_call_req = filtered_Call_surf ['call_per_month'].mean()\n",
    "print('Every surf plan user require '\"{:.5}\". format(surf_call_req), 'minutes call volume  every month.')\n",
    "ultimate_call_req = ultimate_plan['call_per_month'].mean()\n",
    "print('Every ultimate plan user require '\"{:.5}\". format(ultimate_call_req), 'minutes call volume every month.')"
   ]
  },
  {
   "cell_type": "code",
   "execution_count": 133,
   "metadata": {},
   "outputs": [
    {
     "name": "stdout",
     "output_type": "stream",
     "text": [
      "Every surf plan user require 56.418 Gb of internet every month.\n",
      "Every ultimate plan user require 38.764 Gb of internet every month.\n"
     ]
    }
   ],
   "source": [
    "#calculating the volume of internet data a surf plan and ultimate user need per month\n",
    "surf_user_req = filtered_intenet_surf['Gb_per_month'].mean()\n",
    "print('Every surf plan user require '\"{:.5}\". format(surf_user_req), 'Gb of internet every month.')\n",
    "ultimate_user_req = filtered_intenet_ultimate['Gb_per_month'].mean()\n",
    "print('Every ultimate plan user require '\"{:.5}\". format(ultimate_user_req), 'Gb of internet every month.')"
   ]
  },
  {
   "cell_type": "markdown",
   "metadata": {},
   "source": [
    "After filtering the columns from outliers, we calculate again the mean so that we will be able to determine the average monthly requirement of internet usage of users in every plan."
   ]
  },
  {
   "cell_type": "markdown",
   "metadata": {},
   "source": [
    "<p><a name=\"Step3conclusion\"></a></p>\n",
    "\n",
    "### Conclusion\n",
    "\n",
    "For internet Data consumption, just like the text and call, the users who use surf plan consumes more data more often beyond the plan inclusion which makes them pay more than the users of ultimate plan. After analyzing the data we found out that the users of surf plan has higher sms, call and data volume monthly requirement compared to the ultimate users. "
   ]
  },
  {
   "cell_type": "markdown",
   "metadata": {},
   "source": [
    "<p><a name=\"Step 4\"></a></p>\n",
    "\n",
    "### Step 4. Test the hypotheses"
   ]
  },
  {
   "cell_type": "code",
   "execution_count": 134,
   "metadata": {},
   "outputs": [
    {
     "name": "stdout",
     "output_type": "stream",
     "text": [
      "13294.98\n"
     ]
    }
   ],
   "source": [
    "#in order to test gthe hypothesis i will slice the data set according to the plan of user.\n",
    "call_profit_surf = surf_plan['call_charge'].sum()\n",
    "call_profit_ultimate = ultimate_plan ['call_charge'].sum()\n",
    "call_profit_diff = call_profit_surf - call_profit_ultimate\n",
    "print(call_profit_diff)"
   ]
  },
  {
   "cell_type": "code",
   "execution_count": 135,
   "metadata": {},
   "outputs": [
    {
     "name": "stdout",
     "output_type": "stream",
     "text": [
      "0.939372742534466\n"
     ]
    }
   ],
   "source": [
    "call_profit_sum = call_profit_surf + call_profit_ultimate\n",
    "call_profit =  call_profit_diff / call_profit_sum \n",
    "print(call_profit)"
   ]
  },
  {
   "cell_type": "code",
   "execution_count": 136,
   "metadata": {},
   "outputs": [
    {
     "name": "stdout",
     "output_type": "stream",
     "text": [
      "The average profit from users of Ultimate and Surf calling plans differs: 93.93727%\n"
     ]
    }
   ],
   "source": [
    "print('The average profit from users of Ultimate and Surf calling plans differs:', \"{:.5%}\".format(call_profit))"
   ]
  },
  {
   "cell_type": "markdown",
   "metadata": {},
   "source": [
    "The average profit of call charges of surf plan differs very high since the users from surf plan has shorter minutes inclusion but they use more minutes and the charge of per minute in surf plan is .03 cents while in ultimate is only 0.01 cent per minute."
   ]
  },
  {
   "cell_type": "markdown",
   "metadata": {},
   "source": [
    "### Hypotheses \n"
   ]
  },
  {
   "cell_type": "markdown",
   "metadata": {},
   "source": [
    "### Hypotheses 1\n",
    "In this problem, the null hypothesis is the  average revenue from users of Ultimate and Surf calling plans does not differ, this means thats if the result of the calculation is less the 5% then we accept the null hypothesis.\n",
    "\n",
    "And the alternative hypothesis is the average revenue from users of Ultimate and Surf calling plans differs when the result is more that 5%."
   ]
  },
  {
   "cell_type": "code",
   "execution_count": 137,
   "metadata": {},
   "outputs": [],
   "source": [
    "# Testing the hyphothesis of users in surf and ultimate plan\n",
    "results = st.stats.ttest_ind(surf_plan['call_charge'], ultimate_plan ['call_charge'], equal_var= False)\n"
   ]
  },
  {
   "cell_type": "code",
   "execution_count": 138,
   "metadata": {},
   "outputs": [],
   "source": [
    "alpha = .05"
   ]
  },
  {
   "cell_type": "markdown",
   "metadata": {},
   "source": [
    "For a significance level of 0.05, expect to obtain sample means in the critical region 5% of the time when the null hypothesis is true. We set the alpha to 0.05 first because it a typical practice in behavioral research."
   ]
  },
  {
   "cell_type": "code",
   "execution_count": 139,
   "metadata": {},
   "outputs": [
    {
     "name": "stdout",
     "output_type": "stream",
     "text": [
      "p-value: 4.389108687471907e-38\n",
      "We reject the null hypothesis\n"
     ]
    }
   ],
   "source": [
    "print('p-value:', results.pvalue / 2)\n",
    "if (results.pvalue < alpha):\n",
    "    print(\"We reject the null hypothesis\")\n",
    "else:\n",
    "    print(\"We can't reject the null hypothesis\")"
   ]
  },
  {
   "cell_type": "code",
   "execution_count": 140,
   "metadata": {},
   "outputs": [],
   "source": [
    "# extracting the NY-NJ city from the column and making new list\n",
    "NYNJ_city = users_data_final[(users_data_final['city'] == 'New York-Newark-Jersey City, NY-NJ-PA MSA')] "
   ]
  },
  {
   "cell_type": "code",
   "execution_count": 141,
   "metadata": {},
   "outputs": [],
   "source": [
    "# subracting NY-NJ area from the column and grouping them together.\n",
    "\n",
    "other_city = users_data_final[~(users_data_final['city'] == 'New York-Newark-Jersey City, NY-NJ-PA MSA')]"
   ]
  },
  {
   "cell_type": "code",
   "execution_count": 142,
   "metadata": {},
   "outputs": [],
   "source": [
    "NYNJ_city_rev = NYNJ_city['revenue']\n",
    "other_city_rev = other_city ['revenue']"
   ]
  },
  {
   "cell_type": "markdown",
   "metadata": {},
   "source": [
    "### Hypotheses 2\n",
    "The null hypothesis H₀, is the average revenue from users in NY-NJ area is not different from that of the users from other regions.\n",
    "\n",
    "And The alternative hypothesis, H₁, is the The average revenue from users in NY-NJ area is different from that of the users from other regions."
   ]
  },
  {
   "cell_type": "code",
   "execution_count": 143,
   "metadata": {},
   "outputs": [
    {
     "name": "stdout",
     "output_type": "stream",
     "text": [
      "mean before: 571.2\n",
      "mean after: 527.81\n"
     ]
    }
   ],
   "source": [
    "print('mean before: '\"{:.5}\". format(NYNJ_city['revenue'].mean()))\n",
    "print('mean after: '\"{:.5}\". format(other_city['revenue'].mean()))"
   ]
  },
  {
   "cell_type": "code",
   "execution_count": 144,
   "metadata": {},
   "outputs": [],
   "source": [
    "# Testing the hyphothesis that NY-NJ area has 571.2 average revenue per month\n",
    "\n",
    "optimal_value = 571.2"
   ]
  },
  {
   "cell_type": "code",
   "execution_count": 145,
   "metadata": {},
   "outputs": [],
   "source": [
    "alpha = 0.05"
   ]
  },
  {
   "cell_type": "code",
   "execution_count": 146,
   "metadata": {},
   "outputs": [],
   "source": [
    "results = st.ttest_1samp(NYNJ_city_rev, optimal_value)"
   ]
  },
  {
   "cell_type": "code",
   "execution_count": 147,
   "metadata": {},
   "outputs": [
    {
     "name": "stdout",
     "output_type": "stream",
     "text": [
      "p-value: 0.9999790453723953\n",
      "We can't reject the null hypothesis\n"
     ]
    }
   ],
   "source": [
    "print('p-value:', results.pvalue )\n",
    "if (results.pvalue < alpha):\n",
    "    print(\"We reject the null hypothesis\")\n",
    "else:\n",
    "    print(\"We can't reject the null hypothesis\")"
   ]
  },
  {
   "cell_type": "markdown",
   "metadata": {},
   "source": [
    "the p-value is bigger than the alpha meaning the null hyphothesis is correct that the average revenue of NY-NJ users is 571.2."
   ]
  },
  {
   "cell_type": "code",
   "execution_count": 148,
   "metadata": {},
   "outputs": [],
   "source": [
    "#Testing the hyphothesis that other cities revenue differs from NY-NJ users.\n",
    "optimal_value =527.81\n",
    "alpha = 0.05"
   ]
  },
  {
   "cell_type": "code",
   "execution_count": 149,
   "metadata": {},
   "outputs": [],
   "source": [
    "results = st.ttest_1samp(other_city_rev, optimal_value)"
   ]
  },
  {
   "cell_type": "code",
   "execution_count": 150,
   "metadata": {},
   "outputs": [
    {
     "name": "stdout",
     "output_type": "stream",
     "text": [
      "p-value: 0.9998832664158952\n",
      "We can't reject the null hypothesis\n"
     ]
    }
   ],
   "source": [
    "print('p-value:', results.pvalue )\n",
    "if (results.pvalue < alpha):\n",
    "    print(\"We reject the null hypothesis\")\n",
    "else:\n",
    "    print(\"We can't reject the null hypothesis\")"
   ]
  },
  {
   "cell_type": "markdown",
   "metadata": {},
   "source": [
    "The p-value is higher than the alpha meaning our null hyphothesis is right that the average revenue from the other cities is 527.81."
   ]
  },
  {
   "cell_type": "markdown",
   "metadata": {},
   "source": [
    "### Conclusion\n",
    "\n",
    "Our hyphothesis suggest that behavior of users from surf and ultimate plan differ as our mathematical calculations  on the data would also back it up.The second hyphothesis also tells us that the average revenue of the user fron NY-NJ area differs and they are higher compared to the users from the other city."
   ]
  },
  {
   "cell_type": "markdown",
   "metadata": {},
   "source": [
    "<p><a name=\"Step 5\"></a></p>\n",
    "\n",
    "### Step 5. Write an overall conclusion"
   ]
  },
  {
   "cell_type": "markdown",
   "metadata": {},
   "source": [
    "I therefore conclude that the surf Plan generates more revenue to the company, the data shows the behavior of the users for different plan. In the case of surf plan users which is more affordable than the ultimate plan but the volume inclusion is low which do not equate to the high requirement of the users in effect the users tend to pay more than the plan amount. In the case of ultimate plan users, they tend to limit thier consumption only within the limit of thier plan.In terms of earnings the Data subbscription charges earns the most compared to sms and call charges for both plan. The bigger promotion given to the surp plan the bigger revenue it will bring to the company.\n"
   ]
  },
  {
   "cell_type": "code",
   "execution_count": null,
   "metadata": {},
   "outputs": [],
   "source": []
  }
 ],
 "metadata": {
  "kernelspec": {
   "display_name": "Python 3",
   "language": "python",
   "name": "python3"
  },
  "language_info": {
   "codemirror_mode": {
    "name": "ipython",
    "version": 3
   },
   "file_extension": ".py",
   "mimetype": "text/x-python",
   "name": "python",
   "nbconvert_exporter": "python",
   "pygments_lexer": "ipython3",
   "version": "3.8.5"
  },
  "toc": {
   "base_numbering": 1,
   "nav_menu": {},
   "number_sections": true,
   "sideBar": true,
   "skip_h1_title": false,
   "title_cell": "Table of Contents",
   "title_sidebar": "Contents",
   "toc_cell": false,
   "toc_position": {},
   "toc_section_display": true,
   "toc_window_display": false
  }
 },
 "nbformat": 4,
 "nbformat_minor": 4
}
