{
 "cells": [
  {
   "cell_type": "markdown",
   "metadata": {},
   "source": [
    "---"
   ]
  },
  {
   "cell_type": "markdown",
   "metadata": {},
   "source": [
    "### LA ROBOT-RUN CAFE ANALYSIS\n",
    "\n",
    "Because of the plan of opening a small robot-run cafe in Los Angeles.This research is made to help by studying the current market conditions of restaurants in Los Angeles."
   ]
  },
  {
   "cell_type": "markdown",
   "metadata": {},
   "source": [
    "### Table of Contents\n",
    "* <a href=\"#Step 1\">Opening the Data ></a><br>\n",
    "    * <a href=\"#restdata\">Data Head</a><br>\n",
    "    * <a href=\"#restdatainfo\">Data info</a><br>\n",
    "        * <a href=\"#step1Conclusion\">Conclusion</a><br>\n",
    "* <a href=\"#Step 2\">Data Analysis</a><br>\n",
    "    * <a href=\"#estpropt\">Proportion of Establishments</a><br>\n",
    "    * <a href=\"#chainnonchain\">Chain and Non Chain Proportion</a><br>\n",
    "    * <a href=\"#chainest\">Which type of establishment is typically a chain?</a><br>\n",
    "    * <a href=\"#chainchar\">What characterizes chains?</a><br>\n",
    "    * <a href=\"#avgseats\">The average seats for each type of restaurant</a><br>\n",
    "    * <a href=\"#stname\">Street name column</a><br>\n",
    "    * <a href=\"#top10\">The top 10 streets by number of restaurants</a><br>\n",
    "    * <a href=\"#1rest\">The streets with 1 restaurant</a><br>\n",
    "    * <a href=\"#Top10seat\">Top 10 street by restaurant seat distribution</a><br>\n",
    "       * <a href=\"#step2conclusion\">Conclusion</a><br>\n",
    "* <a href=\"#Step 3\">Recommendations</a><br>\n",
    "    \n",
    "           "
   ]
  },
  {
   "cell_type": "code",
   "execution_count": 1,
   "metadata": {},
   "outputs": [
    {
     "data": {
      "text/html": [
       "        <script type=\"text/javascript\">\n",
       "        window.PlotlyConfig = {MathJaxConfig: 'local'};\n",
       "        if (window.MathJax) {MathJax.Hub.Config({SVG: {font: \"STIX-Web\"}});}\n",
       "        if (typeof require !== 'undefined') {\n",
       "        require.undef(\"plotly\");\n",
       "        requirejs.config({\n",
       "            paths: {\n",
       "                'plotly': ['https://cdn.plot.ly/plotly-latest.min']\n",
       "            }\n",
       "        });\n",
       "        require(['plotly'], function(Plotly) {\n",
       "            window._Plotly = Plotly;\n",
       "        });\n",
       "        }\n",
       "        </script>\n",
       "        "
      ]
     },
     "metadata": {},
     "output_type": "display_data"
    }
   ],
   "source": [
    "import pandas as pd\n",
    "import numpy as np\n",
    "from numpy import median\n",
    "import re\n",
    "import seaborn as sns\n",
    "from scipy import stats as st\n",
    "import matplotlib.pyplot as plt\n",
    "from plotly import graph_objects as go\n",
    "import plotly.figure_factory as ff\n",
    "import plotly.express as px\n",
    "\n",
    "%matplotlib inline \n",
    "from plotly.offline import iplot, init_notebook_mode\n",
    "init_notebook_mode(connected=True)"
   ]
  },
  {
   "cell_type": "markdown",
   "metadata": {},
   "source": [
    "<p><a name=\"Step 1\"></a></p>\n",
    "\n",
    "### Step 1. Download the data and prepare it for analysis"
   ]
  },
  {
   "cell_type": "code",
   "execution_count": 2,
   "metadata": {},
   "outputs": [],
   "source": [
    "try:\n",
    "    rest_data = pd.read_csv(r'C:\\Users\\User\\Documents\\YandexDataA\\sprint 9/rest_data_us.csv')\n",
    "except:\n",
    "    rest_data = pd.read_csv('/datasets/rest_data_us.csv')"
   ]
  },
  {
   "cell_type": "markdown",
   "metadata": {},
   "source": [
    "<p><a name=\"restdata\"></a></p>"
   ]
  },
  {
   "cell_type": "code",
   "execution_count": 3,
   "metadata": {},
   "outputs": [
    {
     "data": {
      "text/html": [
       "<div>\n",
       "<style scoped>\n",
       "    .dataframe tbody tr th:only-of-type {\n",
       "        vertical-align: middle;\n",
       "    }\n",
       "\n",
       "    .dataframe tbody tr th {\n",
       "        vertical-align: top;\n",
       "    }\n",
       "\n",
       "    .dataframe thead th {\n",
       "        text-align: right;\n",
       "    }\n",
       "</style>\n",
       "<table border=\"1\" class=\"dataframe\">\n",
       "  <thead>\n",
       "    <tr style=\"text-align: right;\">\n",
       "      <th></th>\n",
       "      <th>id</th>\n",
       "      <th>object_name</th>\n",
       "      <th>address</th>\n",
       "      <th>chain</th>\n",
       "      <th>object_type</th>\n",
       "      <th>number</th>\n",
       "    </tr>\n",
       "  </thead>\n",
       "  <tbody>\n",
       "    <tr>\n",
       "      <th>0</th>\n",
       "      <td>11786</td>\n",
       "      <td>HABITAT COFFEE SHOP</td>\n",
       "      <td>3708 N EAGLE ROCK BLVD</td>\n",
       "      <td>False</td>\n",
       "      <td>Cafe</td>\n",
       "      <td>26</td>\n",
       "    </tr>\n",
       "    <tr>\n",
       "      <th>1</th>\n",
       "      <td>11787</td>\n",
       "      <td>REILLY'S</td>\n",
       "      <td>100 WORLD WAY # 120</td>\n",
       "      <td>False</td>\n",
       "      <td>Restaurant</td>\n",
       "      <td>9</td>\n",
       "    </tr>\n",
       "    <tr>\n",
       "      <th>2</th>\n",
       "      <td>11788</td>\n",
       "      <td>STREET CHURROS</td>\n",
       "      <td>6801 HOLLYWOOD BLVD # 253</td>\n",
       "      <td>False</td>\n",
       "      <td>Fast Food</td>\n",
       "      <td>20</td>\n",
       "    </tr>\n",
       "    <tr>\n",
       "      <th>3</th>\n",
       "      <td>11789</td>\n",
       "      <td>TRINITI ECHO PARK</td>\n",
       "      <td>1814 W SUNSET BLVD</td>\n",
       "      <td>False</td>\n",
       "      <td>Restaurant</td>\n",
       "      <td>22</td>\n",
       "    </tr>\n",
       "    <tr>\n",
       "      <th>4</th>\n",
       "      <td>11790</td>\n",
       "      <td>POLLEN</td>\n",
       "      <td>2100 ECHO PARK AVE</td>\n",
       "      <td>False</td>\n",
       "      <td>Restaurant</td>\n",
       "      <td>20</td>\n",
       "    </tr>\n",
       "  </tbody>\n",
       "</table>\n",
       "</div>"
      ],
      "text/plain": [
       "      id          object_name                    address  chain object_type  \\\n",
       "0  11786  HABITAT COFFEE SHOP     3708 N EAGLE ROCK BLVD  False        Cafe   \n",
       "1  11787             REILLY'S        100 WORLD WAY # 120  False  Restaurant   \n",
       "2  11788       STREET CHURROS  6801 HOLLYWOOD BLVD # 253  False   Fast Food   \n",
       "3  11789    TRINITI ECHO PARK         1814 W SUNSET BLVD  False  Restaurant   \n",
       "4  11790               POLLEN         2100 ECHO PARK AVE  False  Restaurant   \n",
       "\n",
       "   number  \n",
       "0      26  \n",
       "1       9  \n",
       "2      20  \n",
       "3      22  \n",
       "4      20  "
      ]
     },
     "execution_count": 3,
     "metadata": {},
     "output_type": "execute_result"
    }
   ],
   "source": [
    "#open the head of the dataframe\n",
    "rest_data.head()"
   ]
  },
  {
   "cell_type": "code",
   "execution_count": 4,
   "metadata": {},
   "outputs": [
    {
     "data": {
      "text/html": [
       "<div>\n",
       "<style scoped>\n",
       "    .dataframe tbody tr th:only-of-type {\n",
       "        vertical-align: middle;\n",
       "    }\n",
       "\n",
       "    .dataframe tbody tr th {\n",
       "        vertical-align: top;\n",
       "    }\n",
       "\n",
       "    .dataframe thead th {\n",
       "        text-align: right;\n",
       "    }\n",
       "</style>\n",
       "<table border=\"1\" class=\"dataframe\">\n",
       "  <thead>\n",
       "    <tr style=\"text-align: right;\">\n",
       "      <th></th>\n",
       "      <th>id</th>\n",
       "      <th>object_name</th>\n",
       "      <th>address</th>\n",
       "      <th>chain</th>\n",
       "      <th>object_type</th>\n",
       "      <th>number</th>\n",
       "    </tr>\n",
       "  </thead>\n",
       "  <tbody>\n",
       "    <tr>\n",
       "      <th>9646</th>\n",
       "      <td>21432</td>\n",
       "      <td>HALL OF JUSTICE</td>\n",
       "      <td>217 W TEMPLE AVE</td>\n",
       "      <td>False</td>\n",
       "      <td>Restaurant</td>\n",
       "      <td>122</td>\n",
       "    </tr>\n",
       "    <tr>\n",
       "      <th>9647</th>\n",
       "      <td>21433</td>\n",
       "      <td>FIN-MELROSE</td>\n",
       "      <td>5750 MELROSE AVE</td>\n",
       "      <td>False</td>\n",
       "      <td>Restaurant</td>\n",
       "      <td>93</td>\n",
       "    </tr>\n",
       "    <tr>\n",
       "      <th>9648</th>\n",
       "      <td>21434</td>\n",
       "      <td>JUICY WINGZ</td>\n",
       "      <td>6741 HOLLYWOOD BLVD</td>\n",
       "      <td>True</td>\n",
       "      <td>Fast Food</td>\n",
       "      <td>15</td>\n",
       "    </tr>\n",
       "    <tr>\n",
       "      <th>9649</th>\n",
       "      <td>21435</td>\n",
       "      <td>MEDIDATE COFFEE</td>\n",
       "      <td>548 S SPRING ST STE 100</td>\n",
       "      <td>False</td>\n",
       "      <td>Cafe</td>\n",
       "      <td>6</td>\n",
       "    </tr>\n",
       "    <tr>\n",
       "      <th>9650</th>\n",
       "      <td>21436</td>\n",
       "      <td>CAFE SPROUTS</td>\n",
       "      <td>1300 S SAN PEDRO ST STE 111</td>\n",
       "      <td>True</td>\n",
       "      <td>Restaurant</td>\n",
       "      <td>19</td>\n",
       "    </tr>\n",
       "  </tbody>\n",
       "</table>\n",
       "</div>"
      ],
      "text/plain": [
       "         id      object_name                      address  chain object_type  \\\n",
       "9646  21432  HALL OF JUSTICE             217 W TEMPLE AVE  False  Restaurant   \n",
       "9647  21433      FIN-MELROSE             5750 MELROSE AVE  False  Restaurant   \n",
       "9648  21434      JUICY WINGZ          6741 HOLLYWOOD BLVD   True   Fast Food   \n",
       "9649  21435  MEDIDATE COFFEE      548 S SPRING ST STE 100  False        Cafe   \n",
       "9650  21436     CAFE SPROUTS  1300 S SAN PEDRO ST STE 111   True  Restaurant   \n",
       "\n",
       "      number  \n",
       "9646     122  \n",
       "9647      93  \n",
       "9648      15  \n",
       "9649       6  \n",
       "9650      19  "
      ]
     },
     "execution_count": 4,
     "metadata": {},
     "output_type": "execute_result"
    }
   ],
   "source": [
    "#print the tail of the dataframe\n",
    "rest_data.tail()"
   ]
  },
  {
   "cell_type": "code",
   "execution_count": 5,
   "metadata": {},
   "outputs": [],
   "source": [
    "# change the column names to easily understand\n",
    "rest_data.columns = ['id', 'est_name', 'address', 'chain_type', 'est_type', 'seats']"
   ]
  },
  {
   "cell_type": "code",
   "execution_count": 6,
   "metadata": {},
   "outputs": [],
   "source": [
    "#convert the chain type from object to bool\n",
    "rest_data = rest_data.astype({\"chain_type\": bool})"
   ]
  },
  {
   "cell_type": "code",
   "execution_count": 7,
   "metadata": {},
   "outputs": [
    {
     "data": {
      "text/html": [
       "<div>\n",
       "<style scoped>\n",
       "    .dataframe tbody tr th:only-of-type {\n",
       "        vertical-align: middle;\n",
       "    }\n",
       "\n",
       "    .dataframe tbody tr th {\n",
       "        vertical-align: top;\n",
       "    }\n",
       "\n",
       "    .dataframe thead th {\n",
       "        text-align: right;\n",
       "    }\n",
       "</style>\n",
       "<table border=\"1\" class=\"dataframe\">\n",
       "  <thead>\n",
       "    <tr style=\"text-align: right;\">\n",
       "      <th></th>\n",
       "      <th>id</th>\n",
       "      <th>est_name</th>\n",
       "      <th>address</th>\n",
       "      <th>chain_type</th>\n",
       "      <th>est_type</th>\n",
       "      <th>seats</th>\n",
       "    </tr>\n",
       "  </thead>\n",
       "  <tbody>\n",
       "    <tr>\n",
       "      <th>0</th>\n",
       "      <td>11786</td>\n",
       "      <td>HABITAT COFFEE SHOP</td>\n",
       "      <td>3708 N EAGLE ROCK BLVD</td>\n",
       "      <td>non chain</td>\n",
       "      <td>Cafe</td>\n",
       "      <td>26</td>\n",
       "    </tr>\n",
       "    <tr>\n",
       "      <th>1</th>\n",
       "      <td>11787</td>\n",
       "      <td>REILLY'S</td>\n",
       "      <td>100 WORLD WAY # 120</td>\n",
       "      <td>non chain</td>\n",
       "      <td>Restaurant</td>\n",
       "      <td>9</td>\n",
       "    </tr>\n",
       "    <tr>\n",
       "      <th>2</th>\n",
       "      <td>11788</td>\n",
       "      <td>STREET CHURROS</td>\n",
       "      <td>6801 HOLLYWOOD BLVD # 253</td>\n",
       "      <td>non chain</td>\n",
       "      <td>Fast Food</td>\n",
       "      <td>20</td>\n",
       "    </tr>\n",
       "    <tr>\n",
       "      <th>3</th>\n",
       "      <td>11789</td>\n",
       "      <td>TRINITI ECHO PARK</td>\n",
       "      <td>1814 W SUNSET BLVD</td>\n",
       "      <td>non chain</td>\n",
       "      <td>Restaurant</td>\n",
       "      <td>22</td>\n",
       "    </tr>\n",
       "    <tr>\n",
       "      <th>4</th>\n",
       "      <td>11790</td>\n",
       "      <td>POLLEN</td>\n",
       "      <td>2100 ECHO PARK AVE</td>\n",
       "      <td>non chain</td>\n",
       "      <td>Restaurant</td>\n",
       "      <td>20</td>\n",
       "    </tr>\n",
       "  </tbody>\n",
       "</table>\n",
       "</div>"
      ],
      "text/plain": [
       "      id             est_name                    address chain_type  \\\n",
       "0  11786  HABITAT COFFEE SHOP     3708 N EAGLE ROCK BLVD  non chain   \n",
       "1  11787             REILLY'S        100 WORLD WAY # 120  non chain   \n",
       "2  11788       STREET CHURROS  6801 HOLLYWOOD BLVD # 253  non chain   \n",
       "3  11789    TRINITI ECHO PARK         1814 W SUNSET BLVD  non chain   \n",
       "4  11790               POLLEN         2100 ECHO PARK AVE  non chain   \n",
       "\n",
       "     est_type  seats  \n",
       "0        Cafe     26  \n",
       "1  Restaurant      9  \n",
       "2   Fast Food     20  \n",
       "3  Restaurant     22  \n",
       "4  Restaurant     20  "
      ]
     },
     "execution_count": 7,
     "metadata": {},
     "output_type": "execute_result"
    }
   ],
   "source": [
    "# replace the boolean value\n",
    "chain_name = rest_data['chain_type'].replace(to_replace = [False, True], value = ['non chain', 'chain'])\n",
    "rest_data['chain_type'] = chain_name\n",
    "rest_data.head()"
   ]
  },
  {
   "cell_type": "code",
   "execution_count": 8,
   "metadata": {},
   "outputs": [
    {
     "data": {
      "text/plain": [
       "(9651, 6)"
      ]
     },
     "execution_count": 8,
     "metadata": {},
     "output_type": "execute_result"
    }
   ],
   "source": [
    "# check for the shape\n",
    "rest_data.shape"
   ]
  },
  {
   "cell_type": "code",
   "execution_count": 9,
   "metadata": {},
   "outputs": [
    {
     "data": {
      "text/plain": [
       "id            0\n",
       "est_name      0\n",
       "address       0\n",
       "chain_type    0\n",
       "est_type      0\n",
       "seats         0\n",
       "dtype: int64"
      ]
     },
     "execution_count": 9,
     "metadata": {},
     "output_type": "execute_result"
    }
   ],
   "source": [
    "#check if there are Null values\n",
    "rest_data.isnull().sum()"
   ]
  },
  {
   "cell_type": "code",
   "execution_count": 10,
   "metadata": {},
   "outputs": [],
   "source": [
    "# drop all rows with any NaN and NaT values\n",
    "rest_null = rest_data.dropna()"
   ]
  },
  {
   "cell_type": "code",
   "execution_count": 11,
   "metadata": {},
   "outputs": [
    {
     "data": {
      "text/plain": [
       "0"
      ]
     },
     "execution_count": 11,
     "metadata": {},
     "output_type": "execute_result"
    }
   ],
   "source": [
    "# check for duplicate entry\n",
    "rest_data.duplicated().sum()"
   ]
  },
  {
   "cell_type": "markdown",
   "metadata": {},
   "source": [
    "<p><a name=\"restdatainfo\"></a></p>"
   ]
  },
  {
   "cell_type": "code",
   "execution_count": 13,
   "metadata": {},
   "outputs": [
    {
     "name": "stdout",
     "output_type": "stream",
     "text": [
      "<class 'pandas.core.frame.DataFrame'>\n",
      "RangeIndex: 9651 entries, 0 to 9650\n",
      "Data columns (total 6 columns):\n",
      " #   Column      Non-Null Count  Dtype \n",
      "---  ------      --------------  ----- \n",
      " 0   id          9651 non-null   int64 \n",
      " 1   est_name    9651 non-null   object\n",
      " 2   address     9651 non-null   object\n",
      " 3   chain_type  9651 non-null   object\n",
      " 4   est_type    9651 non-null   object\n",
      " 5   seats       9651 non-null   int64 \n",
      "dtypes: int64(2), object(4)\n",
      "memory usage: 452.5+ KB\n"
     ]
    }
   ],
   "source": [
    "# check the general information of the dataset\n",
    "rest_data.info()"
   ]
  },
  {
   "cell_type": "markdown",
   "metadata": {},
   "source": [
    "<p><a name=\"step1Conclusion\"></a></p>"
   ]
  },
  {
   "cell_type": "markdown",
   "metadata": {},
   "source": [
    "### Step 1 Conclusion\n",
    "\n",
    "Our Dataset has 9651 rows and  6 columns.all the columns names was change so its easier to understand. Tha chain_type columns value was converted from object to bool type and later  changed the values from from true and false to chain and non chain. We dont have duplicates but we have 3 Null values in the chain_type column and since its too small the dropping it wont affect the dataset. After the cleaning the data set is therefore ready for processing and manipulation.\n",
    "\n",
    "\n",
    "<p><a name=\"Step 2\"></a></p>\n",
    "\n",
    "### Step 2. Data analysis\n",
    "\n",
    "   * Graphical presentation of the proportions of the various types of establishments."
   ]
  },
  {
   "cell_type": "code",
   "execution_count": 14,
   "metadata": {},
   "outputs": [
    {
     "data": {
      "text/html": [
       "<div>\n",
       "<style scoped>\n",
       "    .dataframe tbody tr th:only-of-type {\n",
       "        vertical-align: middle;\n",
       "    }\n",
       "\n",
       "    .dataframe tbody tr th {\n",
       "        vertical-align: top;\n",
       "    }\n",
       "\n",
       "    .dataframe thead th {\n",
       "        text-align: right;\n",
       "    }\n",
       "</style>\n",
       "<table border=\"1\" class=\"dataframe\">\n",
       "  <thead>\n",
       "    <tr style=\"text-align: right;\">\n",
       "      <th></th>\n",
       "      <th>id</th>\n",
       "      <th>est_name</th>\n",
       "      <th>address</th>\n",
       "      <th>chain_type</th>\n",
       "      <th>seats</th>\n",
       "    </tr>\n",
       "    <tr>\n",
       "      <th>est_type</th>\n",
       "      <th></th>\n",
       "      <th></th>\n",
       "      <th></th>\n",
       "      <th></th>\n",
       "      <th></th>\n",
       "    </tr>\n",
       "  </thead>\n",
       "  <tbody>\n",
       "    <tr>\n",
       "      <th>Bakery</th>\n",
       "      <td>283</td>\n",
       "      <td>283</td>\n",
       "      <td>283</td>\n",
       "      <td>283</td>\n",
       "      <td>283</td>\n",
       "    </tr>\n",
       "    <tr>\n",
       "      <th>Bar</th>\n",
       "      <td>292</td>\n",
       "      <td>292</td>\n",
       "      <td>292</td>\n",
       "      <td>292</td>\n",
       "      <td>292</td>\n",
       "    </tr>\n",
       "    <tr>\n",
       "      <th>Cafe</th>\n",
       "      <td>435</td>\n",
       "      <td>435</td>\n",
       "      <td>435</td>\n",
       "      <td>435</td>\n",
       "      <td>435</td>\n",
       "    </tr>\n",
       "    <tr>\n",
       "      <th>Fast Food</th>\n",
       "      <td>1066</td>\n",
       "      <td>1066</td>\n",
       "      <td>1066</td>\n",
       "      <td>1066</td>\n",
       "      <td>1066</td>\n",
       "    </tr>\n",
       "    <tr>\n",
       "      <th>Pizza</th>\n",
       "      <td>320</td>\n",
       "      <td>320</td>\n",
       "      <td>320</td>\n",
       "      <td>320</td>\n",
       "      <td>320</td>\n",
       "    </tr>\n",
       "    <tr>\n",
       "      <th>Restaurant</th>\n",
       "      <td>7255</td>\n",
       "      <td>7255</td>\n",
       "      <td>7255</td>\n",
       "      <td>7255</td>\n",
       "      <td>7255</td>\n",
       "    </tr>\n",
       "  </tbody>\n",
       "</table>\n",
       "</div>"
      ],
      "text/plain": [
       "              id  est_name  address  chain_type  seats\n",
       "est_type                                              \n",
       "Bakery       283       283      283         283    283\n",
       "Bar          292       292      292         292    292\n",
       "Cafe         435       435      435         435    435\n",
       "Fast Food   1066      1066     1066        1066   1066\n",
       "Pizza        320       320      320         320    320\n",
       "Restaurant  7255      7255     7255        7255   7255"
      ]
     },
     "execution_count": 14,
     "metadata": {},
     "output_type": "execute_result"
    }
   ],
   "source": [
    "est_group = rest_data.groupby('est_type').count()\n",
    "est_group"
   ]
  },
  {
   "cell_type": "code",
   "execution_count": 15,
   "metadata": {},
   "outputs": [
    {
     "data": {
      "application/vnd.plotly.v1+json": {
       "config": {
        "plotlyServerURL": "https://plot.ly"
       },
       "data": [
        {
         "labels": [
          "Bakery",
          "Bar",
          "Cafe",
          "Fast Food",
          "Pizza",
          "Restaurant"
         ],
         "type": "pie",
         "values": [
          283,
          292,
          435,
          1066,
          320,
          7255
         ]
        }
       ],
       "layout": {
        "font": {
         "color": "#7f7f7f",
         "family": "Arial",
         "size": 12
        },
        "template": {
         "data": {
          "bar": [
           {
            "error_x": {
             "color": "#2a3f5f"
            },
            "error_y": {
             "color": "#2a3f5f"
            },
            "marker": {
             "line": {
              "color": "#E5ECF6",
              "width": 0.5
             }
            },
            "type": "bar"
           }
          ],
          "barpolar": [
           {
            "marker": {
             "line": {
              "color": "#E5ECF6",
              "width": 0.5
             }
            },
            "type": "barpolar"
           }
          ],
          "carpet": [
           {
            "aaxis": {
             "endlinecolor": "#2a3f5f",
             "gridcolor": "white",
             "linecolor": "white",
             "minorgridcolor": "white",
             "startlinecolor": "#2a3f5f"
            },
            "baxis": {
             "endlinecolor": "#2a3f5f",
             "gridcolor": "white",
             "linecolor": "white",
             "minorgridcolor": "white",
             "startlinecolor": "#2a3f5f"
            },
            "type": "carpet"
           }
          ],
          "choropleth": [
           {
            "colorbar": {
             "outlinewidth": 0,
             "ticks": ""
            },
            "type": "choropleth"
           }
          ],
          "contour": [
           {
            "colorbar": {
             "outlinewidth": 0,
             "ticks": ""
            },
            "colorscale": [
             [
              0,
              "#0d0887"
             ],
             [
              0.1111111111111111,
              "#46039f"
             ],
             [
              0.2222222222222222,
              "#7201a8"
             ],
             [
              0.3333333333333333,
              "#9c179e"
             ],
             [
              0.4444444444444444,
              "#bd3786"
             ],
             [
              0.5555555555555556,
              "#d8576b"
             ],
             [
              0.6666666666666666,
              "#ed7953"
             ],
             [
              0.7777777777777778,
              "#fb9f3a"
             ],
             [
              0.8888888888888888,
              "#fdca26"
             ],
             [
              1,
              "#f0f921"
             ]
            ],
            "type": "contour"
           }
          ],
          "contourcarpet": [
           {
            "colorbar": {
             "outlinewidth": 0,
             "ticks": ""
            },
            "type": "contourcarpet"
           }
          ],
          "heatmap": [
           {
            "colorbar": {
             "outlinewidth": 0,
             "ticks": ""
            },
            "colorscale": [
             [
              0,
              "#0d0887"
             ],
             [
              0.1111111111111111,
              "#46039f"
             ],
             [
              0.2222222222222222,
              "#7201a8"
             ],
             [
              0.3333333333333333,
              "#9c179e"
             ],
             [
              0.4444444444444444,
              "#bd3786"
             ],
             [
              0.5555555555555556,
              "#d8576b"
             ],
             [
              0.6666666666666666,
              "#ed7953"
             ],
             [
              0.7777777777777778,
              "#fb9f3a"
             ],
             [
              0.8888888888888888,
              "#fdca26"
             ],
             [
              1,
              "#f0f921"
             ]
            ],
            "type": "heatmap"
           }
          ],
          "heatmapgl": [
           {
            "colorbar": {
             "outlinewidth": 0,
             "ticks": ""
            },
            "colorscale": [
             [
              0,
              "#0d0887"
             ],
             [
              0.1111111111111111,
              "#46039f"
             ],
             [
              0.2222222222222222,
              "#7201a8"
             ],
             [
              0.3333333333333333,
              "#9c179e"
             ],
             [
              0.4444444444444444,
              "#bd3786"
             ],
             [
              0.5555555555555556,
              "#d8576b"
             ],
             [
              0.6666666666666666,
              "#ed7953"
             ],
             [
              0.7777777777777778,
              "#fb9f3a"
             ],
             [
              0.8888888888888888,
              "#fdca26"
             ],
             [
              1,
              "#f0f921"
             ]
            ],
            "type": "heatmapgl"
           }
          ],
          "histogram": [
           {
            "marker": {
             "colorbar": {
              "outlinewidth": 0,
              "ticks": ""
             }
            },
            "type": "histogram"
           }
          ],
          "histogram2d": [
           {
            "colorbar": {
             "outlinewidth": 0,
             "ticks": ""
            },
            "colorscale": [
             [
              0,
              "#0d0887"
             ],
             [
              0.1111111111111111,
              "#46039f"
             ],
             [
              0.2222222222222222,
              "#7201a8"
             ],
             [
              0.3333333333333333,
              "#9c179e"
             ],
             [
              0.4444444444444444,
              "#bd3786"
             ],
             [
              0.5555555555555556,
              "#d8576b"
             ],
             [
              0.6666666666666666,
              "#ed7953"
             ],
             [
              0.7777777777777778,
              "#fb9f3a"
             ],
             [
              0.8888888888888888,
              "#fdca26"
             ],
             [
              1,
              "#f0f921"
             ]
            ],
            "type": "histogram2d"
           }
          ],
          "histogram2dcontour": [
           {
            "colorbar": {
             "outlinewidth": 0,
             "ticks": ""
            },
            "colorscale": [
             [
              0,
              "#0d0887"
             ],
             [
              0.1111111111111111,
              "#46039f"
             ],
             [
              0.2222222222222222,
              "#7201a8"
             ],
             [
              0.3333333333333333,
              "#9c179e"
             ],
             [
              0.4444444444444444,
              "#bd3786"
             ],
             [
              0.5555555555555556,
              "#d8576b"
             ],
             [
              0.6666666666666666,
              "#ed7953"
             ],
             [
              0.7777777777777778,
              "#fb9f3a"
             ],
             [
              0.8888888888888888,
              "#fdca26"
             ],
             [
              1,
              "#f0f921"
             ]
            ],
            "type": "histogram2dcontour"
           }
          ],
          "mesh3d": [
           {
            "colorbar": {
             "outlinewidth": 0,
             "ticks": ""
            },
            "type": "mesh3d"
           }
          ],
          "parcoords": [
           {
            "line": {
             "colorbar": {
              "outlinewidth": 0,
              "ticks": ""
             }
            },
            "type": "parcoords"
           }
          ],
          "pie": [
           {
            "automargin": true,
            "type": "pie"
           }
          ],
          "scatter": [
           {
            "marker": {
             "colorbar": {
              "outlinewidth": 0,
              "ticks": ""
             }
            },
            "type": "scatter"
           }
          ],
          "scatter3d": [
           {
            "line": {
             "colorbar": {
              "outlinewidth": 0,
              "ticks": ""
             }
            },
            "marker": {
             "colorbar": {
              "outlinewidth": 0,
              "ticks": ""
             }
            },
            "type": "scatter3d"
           }
          ],
          "scattercarpet": [
           {
            "marker": {
             "colorbar": {
              "outlinewidth": 0,
              "ticks": ""
             }
            },
            "type": "scattercarpet"
           }
          ],
          "scattergeo": [
           {
            "marker": {
             "colorbar": {
              "outlinewidth": 0,
              "ticks": ""
             }
            },
            "type": "scattergeo"
           }
          ],
          "scattergl": [
           {
            "marker": {
             "colorbar": {
              "outlinewidth": 0,
              "ticks": ""
             }
            },
            "type": "scattergl"
           }
          ],
          "scattermapbox": [
           {
            "marker": {
             "colorbar": {
              "outlinewidth": 0,
              "ticks": ""
             }
            },
            "type": "scattermapbox"
           }
          ],
          "scatterpolar": [
           {
            "marker": {
             "colorbar": {
              "outlinewidth": 0,
              "ticks": ""
             }
            },
            "type": "scatterpolar"
           }
          ],
          "scatterpolargl": [
           {
            "marker": {
             "colorbar": {
              "outlinewidth": 0,
              "ticks": ""
             }
            },
            "type": "scatterpolargl"
           }
          ],
          "scatterternary": [
           {
            "marker": {
             "colorbar": {
              "outlinewidth": 0,
              "ticks": ""
             }
            },
            "type": "scatterternary"
           }
          ],
          "surface": [
           {
            "colorbar": {
             "outlinewidth": 0,
             "ticks": ""
            },
            "colorscale": [
             [
              0,
              "#0d0887"
             ],
             [
              0.1111111111111111,
              "#46039f"
             ],
             [
              0.2222222222222222,
              "#7201a8"
             ],
             [
              0.3333333333333333,
              "#9c179e"
             ],
             [
              0.4444444444444444,
              "#bd3786"
             ],
             [
              0.5555555555555556,
              "#d8576b"
             ],
             [
              0.6666666666666666,
              "#ed7953"
             ],
             [
              0.7777777777777778,
              "#fb9f3a"
             ],
             [
              0.8888888888888888,
              "#fdca26"
             ],
             [
              1,
              "#f0f921"
             ]
            ],
            "type": "surface"
           }
          ],
          "table": [
           {
            "cells": {
             "fill": {
              "color": "#EBF0F8"
             },
             "line": {
              "color": "white"
             }
            },
            "header": {
             "fill": {
              "color": "#C8D4E3"
             },
             "line": {
              "color": "white"
             }
            },
            "type": "table"
           }
          ]
         },
         "layout": {
          "annotationdefaults": {
           "arrowcolor": "#2a3f5f",
           "arrowhead": 0,
           "arrowwidth": 1
          },
          "autotypenumbers": "strict",
          "coloraxis": {
           "colorbar": {
            "outlinewidth": 0,
            "ticks": ""
           }
          },
          "colorscale": {
           "diverging": [
            [
             0,
             "#8e0152"
            ],
            [
             0.1,
             "#c51b7d"
            ],
            [
             0.2,
             "#de77ae"
            ],
            [
             0.3,
             "#f1b6da"
            ],
            [
             0.4,
             "#fde0ef"
            ],
            [
             0.5,
             "#f7f7f7"
            ],
            [
             0.6,
             "#e6f5d0"
            ],
            [
             0.7,
             "#b8e186"
            ],
            [
             0.8,
             "#7fbc41"
            ],
            [
             0.9,
             "#4d9221"
            ],
            [
             1,
             "#276419"
            ]
           ],
           "sequential": [
            [
             0,
             "#0d0887"
            ],
            [
             0.1111111111111111,
             "#46039f"
            ],
            [
             0.2222222222222222,
             "#7201a8"
            ],
            [
             0.3333333333333333,
             "#9c179e"
            ],
            [
             0.4444444444444444,
             "#bd3786"
            ],
            [
             0.5555555555555556,
             "#d8576b"
            ],
            [
             0.6666666666666666,
             "#ed7953"
            ],
            [
             0.7777777777777778,
             "#fb9f3a"
            ],
            [
             0.8888888888888888,
             "#fdca26"
            ],
            [
             1,
             "#f0f921"
            ]
           ],
           "sequentialminus": [
            [
             0,
             "#0d0887"
            ],
            [
             0.1111111111111111,
             "#46039f"
            ],
            [
             0.2222222222222222,
             "#7201a8"
            ],
            [
             0.3333333333333333,
             "#9c179e"
            ],
            [
             0.4444444444444444,
             "#bd3786"
            ],
            [
             0.5555555555555556,
             "#d8576b"
            ],
            [
             0.6666666666666666,
             "#ed7953"
            ],
            [
             0.7777777777777778,
             "#fb9f3a"
            ],
            [
             0.8888888888888888,
             "#fdca26"
            ],
            [
             1,
             "#f0f921"
            ]
           ]
          },
          "colorway": [
           "#636efa",
           "#EF553B",
           "#00cc96",
           "#ab63fa",
           "#FFA15A",
           "#19d3f3",
           "#FF6692",
           "#B6E880",
           "#FF97FF",
           "#FECB52"
          ],
          "font": {
           "color": "#2a3f5f"
          },
          "geo": {
           "bgcolor": "white",
           "lakecolor": "white",
           "landcolor": "#E5ECF6",
           "showlakes": true,
           "showland": true,
           "subunitcolor": "white"
          },
          "hoverlabel": {
           "align": "left"
          },
          "hovermode": "closest",
          "mapbox": {
           "style": "light"
          },
          "paper_bgcolor": "white",
          "plot_bgcolor": "#E5ECF6",
          "polar": {
           "angularaxis": {
            "gridcolor": "white",
            "linecolor": "white",
            "ticks": ""
           },
           "bgcolor": "#E5ECF6",
           "radialaxis": {
            "gridcolor": "white",
            "linecolor": "white",
            "ticks": ""
           }
          },
          "scene": {
           "xaxis": {
            "backgroundcolor": "#E5ECF6",
            "gridcolor": "white",
            "gridwidth": 2,
            "linecolor": "white",
            "showbackground": true,
            "ticks": "",
            "zerolinecolor": "white"
           },
           "yaxis": {
            "backgroundcolor": "#E5ECF6",
            "gridcolor": "white",
            "gridwidth": 2,
            "linecolor": "white",
            "showbackground": true,
            "ticks": "",
            "zerolinecolor": "white"
           },
           "zaxis": {
            "backgroundcolor": "#E5ECF6",
            "gridcolor": "white",
            "gridwidth": 2,
            "linecolor": "white",
            "showbackground": true,
            "ticks": "",
            "zerolinecolor": "white"
           }
          },
          "shapedefaults": {
           "line": {
            "color": "#2a3f5f"
           }
          },
          "ternary": {
           "aaxis": {
            "gridcolor": "white",
            "linecolor": "white",
            "ticks": ""
           },
           "baxis": {
            "gridcolor": "white",
            "linecolor": "white",
            "ticks": ""
           },
           "bgcolor": "#E5ECF6",
           "caxis": {
            "gridcolor": "white",
            "linecolor": "white",
            "ticks": ""
           }
          },
          "title": {
           "x": 0.05
          },
          "xaxis": {
           "automargin": true,
           "gridcolor": "white",
           "linecolor": "white",
           "ticks": "",
           "title": {
            "standoff": 15
           },
           "zerolinecolor": "white",
           "zerolinewidth": 2
          },
          "yaxis": {
           "automargin": true,
           "gridcolor": "white",
           "linecolor": "white",
           "ticks": "",
           "title": {
            "standoff": 15
           },
           "zerolinecolor": "white",
           "zerolinewidth": 2
          }
         }
        },
        "title": {
         "text": "The proportions of establishments in LA"
        }
       }
      },
      "text/html": [
       "<div>                            <div id=\"26cff941-3d6d-4ab7-99ce-5f5e74f41fd4\" class=\"plotly-graph-div\" style=\"height:525px; width:100%;\"></div>            <script type=\"text/javascript\">                require([\"plotly\"], function(Plotly) {                    window.PLOTLYENV=window.PLOTLYENV || {};                                    if (document.getElementById(\"26cff941-3d6d-4ab7-99ce-5f5e74f41fd4\")) {                    Plotly.newPlot(                        \"26cff941-3d6d-4ab7-99ce-5f5e74f41fd4\",                        [{\"labels\": [\"Bakery\", \"Bar\", \"Cafe\", \"Fast Food\", \"Pizza\", \"Restaurant\"], \"type\": \"pie\", \"values\": [283, 292, 435, 1066, 320, 7255]}],                        {\"font\": {\"color\": \"#7f7f7f\", \"family\": \"Arial\", \"size\": 12}, \"template\": {\"data\": {\"bar\": [{\"error_x\": {\"color\": \"#2a3f5f\"}, \"error_y\": {\"color\": \"#2a3f5f\"}, \"marker\": {\"line\": {\"color\": \"#E5ECF6\", \"width\": 0.5}}, \"type\": \"bar\"}], \"barpolar\": [{\"marker\": {\"line\": {\"color\": \"#E5ECF6\", \"width\": 0.5}}, \"type\": \"barpolar\"}], \"carpet\": [{\"aaxis\": {\"endlinecolor\": \"#2a3f5f\", \"gridcolor\": \"white\", \"linecolor\": \"white\", \"minorgridcolor\": \"white\", \"startlinecolor\": \"#2a3f5f\"}, \"baxis\": {\"endlinecolor\": \"#2a3f5f\", \"gridcolor\": \"white\", \"linecolor\": \"white\", \"minorgridcolor\": \"white\", \"startlinecolor\": \"#2a3f5f\"}, \"type\": \"carpet\"}], \"choropleth\": [{\"colorbar\": {\"outlinewidth\": 0, \"ticks\": \"\"}, \"type\": \"choropleth\"}], \"contour\": [{\"colorbar\": {\"outlinewidth\": 0, \"ticks\": \"\"}, \"colorscale\": [[0.0, \"#0d0887\"], [0.1111111111111111, \"#46039f\"], [0.2222222222222222, \"#7201a8\"], [0.3333333333333333, \"#9c179e\"], [0.4444444444444444, \"#bd3786\"], [0.5555555555555556, \"#d8576b\"], [0.6666666666666666, \"#ed7953\"], [0.7777777777777778, \"#fb9f3a\"], [0.8888888888888888, \"#fdca26\"], [1.0, \"#f0f921\"]], \"type\": \"contour\"}], \"contourcarpet\": [{\"colorbar\": {\"outlinewidth\": 0, \"ticks\": \"\"}, \"type\": \"contourcarpet\"}], \"heatmap\": [{\"colorbar\": {\"outlinewidth\": 0, \"ticks\": \"\"}, \"colorscale\": [[0.0, \"#0d0887\"], [0.1111111111111111, \"#46039f\"], [0.2222222222222222, \"#7201a8\"], [0.3333333333333333, \"#9c179e\"], [0.4444444444444444, \"#bd3786\"], [0.5555555555555556, \"#d8576b\"], [0.6666666666666666, \"#ed7953\"], [0.7777777777777778, \"#fb9f3a\"], [0.8888888888888888, \"#fdca26\"], [1.0, \"#f0f921\"]], \"type\": \"heatmap\"}], \"heatmapgl\": [{\"colorbar\": {\"outlinewidth\": 0, \"ticks\": \"\"}, \"colorscale\": [[0.0, \"#0d0887\"], [0.1111111111111111, \"#46039f\"], [0.2222222222222222, \"#7201a8\"], [0.3333333333333333, \"#9c179e\"], [0.4444444444444444, \"#bd3786\"], [0.5555555555555556, \"#d8576b\"], [0.6666666666666666, \"#ed7953\"], [0.7777777777777778, \"#fb9f3a\"], [0.8888888888888888, \"#fdca26\"], [1.0, \"#f0f921\"]], \"type\": \"heatmapgl\"}], \"histogram\": [{\"marker\": {\"colorbar\": {\"outlinewidth\": 0, \"ticks\": \"\"}}, \"type\": \"histogram\"}], \"histogram2d\": [{\"colorbar\": {\"outlinewidth\": 0, \"ticks\": \"\"}, \"colorscale\": [[0.0, \"#0d0887\"], [0.1111111111111111, \"#46039f\"], [0.2222222222222222, \"#7201a8\"], [0.3333333333333333, \"#9c179e\"], [0.4444444444444444, \"#bd3786\"], [0.5555555555555556, \"#d8576b\"], [0.6666666666666666, \"#ed7953\"], [0.7777777777777778, \"#fb9f3a\"], [0.8888888888888888, \"#fdca26\"], [1.0, \"#f0f921\"]], \"type\": \"histogram2d\"}], \"histogram2dcontour\": [{\"colorbar\": {\"outlinewidth\": 0, \"ticks\": \"\"}, \"colorscale\": [[0.0, \"#0d0887\"], [0.1111111111111111, \"#46039f\"], [0.2222222222222222, \"#7201a8\"], [0.3333333333333333, \"#9c179e\"], [0.4444444444444444, \"#bd3786\"], [0.5555555555555556, \"#d8576b\"], [0.6666666666666666, \"#ed7953\"], [0.7777777777777778, \"#fb9f3a\"], [0.8888888888888888, \"#fdca26\"], [1.0, \"#f0f921\"]], \"type\": \"histogram2dcontour\"}], \"mesh3d\": [{\"colorbar\": {\"outlinewidth\": 0, \"ticks\": \"\"}, \"type\": \"mesh3d\"}], \"parcoords\": [{\"line\": {\"colorbar\": {\"outlinewidth\": 0, \"ticks\": \"\"}}, \"type\": \"parcoords\"}], \"pie\": [{\"automargin\": true, \"type\": \"pie\"}], \"scatter\": [{\"marker\": {\"colorbar\": {\"outlinewidth\": 0, \"ticks\": \"\"}}, \"type\": \"scatter\"}], \"scatter3d\": [{\"line\": {\"colorbar\": {\"outlinewidth\": 0, \"ticks\": \"\"}}, \"marker\": {\"colorbar\": {\"outlinewidth\": 0, \"ticks\": \"\"}}, \"type\": \"scatter3d\"}], \"scattercarpet\": [{\"marker\": {\"colorbar\": {\"outlinewidth\": 0, \"ticks\": \"\"}}, \"type\": \"scattercarpet\"}], \"scattergeo\": [{\"marker\": {\"colorbar\": {\"outlinewidth\": 0, \"ticks\": \"\"}}, \"type\": \"scattergeo\"}], \"scattergl\": [{\"marker\": {\"colorbar\": {\"outlinewidth\": 0, \"ticks\": \"\"}}, \"type\": \"scattergl\"}], \"scattermapbox\": [{\"marker\": {\"colorbar\": {\"outlinewidth\": 0, \"ticks\": \"\"}}, \"type\": \"scattermapbox\"}], \"scatterpolar\": [{\"marker\": {\"colorbar\": {\"outlinewidth\": 0, \"ticks\": \"\"}}, \"type\": \"scatterpolar\"}], \"scatterpolargl\": [{\"marker\": {\"colorbar\": {\"outlinewidth\": 0, \"ticks\": \"\"}}, \"type\": \"scatterpolargl\"}], \"scatterternary\": [{\"marker\": {\"colorbar\": {\"outlinewidth\": 0, \"ticks\": \"\"}}, \"type\": \"scatterternary\"}], \"surface\": [{\"colorbar\": {\"outlinewidth\": 0, \"ticks\": \"\"}, \"colorscale\": [[0.0, \"#0d0887\"], [0.1111111111111111, \"#46039f\"], [0.2222222222222222, \"#7201a8\"], [0.3333333333333333, \"#9c179e\"], [0.4444444444444444, \"#bd3786\"], [0.5555555555555556, \"#d8576b\"], [0.6666666666666666, \"#ed7953\"], [0.7777777777777778, \"#fb9f3a\"], [0.8888888888888888, \"#fdca26\"], [1.0, \"#f0f921\"]], \"type\": \"surface\"}], \"table\": [{\"cells\": {\"fill\": {\"color\": \"#EBF0F8\"}, \"line\": {\"color\": \"white\"}}, \"header\": {\"fill\": {\"color\": \"#C8D4E3\"}, \"line\": {\"color\": \"white\"}}, \"type\": \"table\"}]}, \"layout\": {\"annotationdefaults\": {\"arrowcolor\": \"#2a3f5f\", \"arrowhead\": 0, \"arrowwidth\": 1}, \"autotypenumbers\": \"strict\", \"coloraxis\": {\"colorbar\": {\"outlinewidth\": 0, \"ticks\": \"\"}}, \"colorscale\": {\"diverging\": [[0, \"#8e0152\"], [0.1, \"#c51b7d\"], [0.2, \"#de77ae\"], [0.3, \"#f1b6da\"], [0.4, \"#fde0ef\"], [0.5, \"#f7f7f7\"], [0.6, \"#e6f5d0\"], [0.7, \"#b8e186\"], [0.8, \"#7fbc41\"], [0.9, \"#4d9221\"], [1, \"#276419\"]], \"sequential\": [[0.0, \"#0d0887\"], [0.1111111111111111, \"#46039f\"], [0.2222222222222222, \"#7201a8\"], [0.3333333333333333, \"#9c179e\"], [0.4444444444444444, \"#bd3786\"], [0.5555555555555556, \"#d8576b\"], [0.6666666666666666, \"#ed7953\"], [0.7777777777777778, \"#fb9f3a\"], [0.8888888888888888, \"#fdca26\"], [1.0, \"#f0f921\"]], \"sequentialminus\": [[0.0, \"#0d0887\"], [0.1111111111111111, \"#46039f\"], [0.2222222222222222, \"#7201a8\"], [0.3333333333333333, \"#9c179e\"], [0.4444444444444444, \"#bd3786\"], [0.5555555555555556, \"#d8576b\"], [0.6666666666666666, \"#ed7953\"], [0.7777777777777778, \"#fb9f3a\"], [0.8888888888888888, \"#fdca26\"], [1.0, \"#f0f921\"]]}, \"colorway\": [\"#636efa\", \"#EF553B\", \"#00cc96\", \"#ab63fa\", \"#FFA15A\", \"#19d3f3\", \"#FF6692\", \"#B6E880\", \"#FF97FF\", \"#FECB52\"], \"font\": {\"color\": \"#2a3f5f\"}, \"geo\": {\"bgcolor\": \"white\", \"lakecolor\": \"white\", \"landcolor\": \"#E5ECF6\", \"showlakes\": true, \"showland\": true, \"subunitcolor\": \"white\"}, \"hoverlabel\": {\"align\": \"left\"}, \"hovermode\": \"closest\", \"mapbox\": {\"style\": \"light\"}, \"paper_bgcolor\": \"white\", \"plot_bgcolor\": \"#E5ECF6\", \"polar\": {\"angularaxis\": {\"gridcolor\": \"white\", \"linecolor\": \"white\", \"ticks\": \"\"}, \"bgcolor\": \"#E5ECF6\", \"radialaxis\": {\"gridcolor\": \"white\", \"linecolor\": \"white\", \"ticks\": \"\"}}, \"scene\": {\"xaxis\": {\"backgroundcolor\": \"#E5ECF6\", \"gridcolor\": \"white\", \"gridwidth\": 2, \"linecolor\": \"white\", \"showbackground\": true, \"ticks\": \"\", \"zerolinecolor\": \"white\"}, \"yaxis\": {\"backgroundcolor\": \"#E5ECF6\", \"gridcolor\": \"white\", \"gridwidth\": 2, \"linecolor\": \"white\", \"showbackground\": true, \"ticks\": \"\", \"zerolinecolor\": \"white\"}, \"zaxis\": {\"backgroundcolor\": \"#E5ECF6\", \"gridcolor\": \"white\", \"gridwidth\": 2, \"linecolor\": \"white\", \"showbackground\": true, \"ticks\": \"\", \"zerolinecolor\": \"white\"}}, \"shapedefaults\": {\"line\": {\"color\": \"#2a3f5f\"}}, \"ternary\": {\"aaxis\": {\"gridcolor\": \"white\", \"linecolor\": \"white\", \"ticks\": \"\"}, \"baxis\": {\"gridcolor\": \"white\", \"linecolor\": \"white\", \"ticks\": \"\"}, \"bgcolor\": \"#E5ECF6\", \"caxis\": {\"gridcolor\": \"white\", \"linecolor\": \"white\", \"ticks\": \"\"}}, \"title\": {\"x\": 0.05}, \"xaxis\": {\"automargin\": true, \"gridcolor\": \"white\", \"linecolor\": \"white\", \"ticks\": \"\", \"title\": {\"standoff\": 15}, \"zerolinecolor\": \"white\", \"zerolinewidth\": 2}, \"yaxis\": {\"automargin\": true, \"gridcolor\": \"white\", \"linecolor\": \"white\", \"ticks\": \"\", \"title\": {\"standoff\": 15}, \"zerolinecolor\": \"white\", \"zerolinewidth\": 2}}}, \"title\": {\"text\": \"The proportions of establishments in LA\"}},                        {\"responsive\": true}                    ).then(function(){\n",
       "                            \n",
       "var gd = document.getElementById('26cff941-3d6d-4ab7-99ce-5f5e74f41fd4');\n",
       "var x = new MutationObserver(function (mutations, observer) {{\n",
       "        var display = window.getComputedStyle(gd).display;\n",
       "        if (!display || display === 'none') {{\n",
       "            console.log([gd, 'removed!']);\n",
       "            Plotly.purge(gd);\n",
       "            observer.disconnect();\n",
       "        }}\n",
       "}});\n",
       "\n",
       "// Listen for the removal of the full notebook cells\n",
       "var notebookContainer = gd.closest('#notebook-container');\n",
       "if (notebookContainer) {{\n",
       "    x.observe(notebookContainer, {childList: true});\n",
       "}}\n",
       "\n",
       "// Listen for the clearing of the current output cell\n",
       "var outputEl = gd.closest('.output');\n",
       "if (outputEl) {{\n",
       "    x.observe(outputEl, {childList: true});\n",
       "}}\n",
       "\n",
       "                        })                };                });            </script>        </div>"
      ]
     },
     "metadata": {},
     "output_type": "display_data"
    }
   ],
   "source": [
    "# make a go pie for the presentation of proportion\n",
    "est_fig = go.Figure(data=[go.Pie(labels=est_group.index.values, values=est_group['chain_type'])])\n",
    "est_fig.update_layout(\n",
    "    title=\"The proportions of establishments in LA\",\n",
    "    font=dict(family=\"Arial\", size=12, color=\"#7f7f7f\"))\n",
    "\n",
    "est_fig.show()"
   ]
  },
  {
   "cell_type": "markdown",
   "metadata": {},
   "source": [
    "<p><a name=\"estprop\"></a></p>\n"
   ]
  },
  {
   "cell_type": "markdown",
   "metadata": {},
   "source": [
    "As we can see in the bar chart above, 75.2%  or 3/ 4 of the establishment in LA is Restaurant type, while the smallest is the bakery type. The high proportion means its more popular , theres a big market but it also means higher competition.\n",
    "\n",
    "<p><a name=\"chainnonchain\"></a></p>\n",
    "\n",
    "* **The proportions of chain and nonchain establishments.**"
   ]
  },
  {
   "cell_type": "code",
   "execution_count": 16,
   "metadata": {},
   "outputs": [],
   "source": [
    "# Create a Group by object using visit date\n",
    "chain_group =rest_data.groupby('chain_type').count()"
   ]
  },
  {
   "cell_type": "code",
   "execution_count": 17,
   "metadata": {},
   "outputs": [
    {
     "data": {
      "application/vnd.plotly.v1+json": {
       "config": {
        "plotlyServerURL": "https://plot.ly"
       },
       "data": [
        {
         "type": "bar",
         "x": [
          "chain",
          "non chain"
         ],
         "y": [
          3679,
          5972
         ]
        }
       ],
       "layout": {
        "font": {
         "color": "RebeccaPurple",
         "family": "Arial",
         "size": 16
        },
        "template": {
         "data": {
          "bar": [
           {
            "error_x": {
             "color": "#2a3f5f"
            },
            "error_y": {
             "color": "#2a3f5f"
            },
            "marker": {
             "line": {
              "color": "#E5ECF6",
              "width": 0.5
             }
            },
            "type": "bar"
           }
          ],
          "barpolar": [
           {
            "marker": {
             "line": {
              "color": "#E5ECF6",
              "width": 0.5
             }
            },
            "type": "barpolar"
           }
          ],
          "carpet": [
           {
            "aaxis": {
             "endlinecolor": "#2a3f5f",
             "gridcolor": "white",
             "linecolor": "white",
             "minorgridcolor": "white",
             "startlinecolor": "#2a3f5f"
            },
            "baxis": {
             "endlinecolor": "#2a3f5f",
             "gridcolor": "white",
             "linecolor": "white",
             "minorgridcolor": "white",
             "startlinecolor": "#2a3f5f"
            },
            "type": "carpet"
           }
          ],
          "choropleth": [
           {
            "colorbar": {
             "outlinewidth": 0,
             "ticks": ""
            },
            "type": "choropleth"
           }
          ],
          "contour": [
           {
            "colorbar": {
             "outlinewidth": 0,
             "ticks": ""
            },
            "colorscale": [
             [
              0,
              "#0d0887"
             ],
             [
              0.1111111111111111,
              "#46039f"
             ],
             [
              0.2222222222222222,
              "#7201a8"
             ],
             [
              0.3333333333333333,
              "#9c179e"
             ],
             [
              0.4444444444444444,
              "#bd3786"
             ],
             [
              0.5555555555555556,
              "#d8576b"
             ],
             [
              0.6666666666666666,
              "#ed7953"
             ],
             [
              0.7777777777777778,
              "#fb9f3a"
             ],
             [
              0.8888888888888888,
              "#fdca26"
             ],
             [
              1,
              "#f0f921"
             ]
            ],
            "type": "contour"
           }
          ],
          "contourcarpet": [
           {
            "colorbar": {
             "outlinewidth": 0,
             "ticks": ""
            },
            "type": "contourcarpet"
           }
          ],
          "heatmap": [
           {
            "colorbar": {
             "outlinewidth": 0,
             "ticks": ""
            },
            "colorscale": [
             [
              0,
              "#0d0887"
             ],
             [
              0.1111111111111111,
              "#46039f"
             ],
             [
              0.2222222222222222,
              "#7201a8"
             ],
             [
              0.3333333333333333,
              "#9c179e"
             ],
             [
              0.4444444444444444,
              "#bd3786"
             ],
             [
              0.5555555555555556,
              "#d8576b"
             ],
             [
              0.6666666666666666,
              "#ed7953"
             ],
             [
              0.7777777777777778,
              "#fb9f3a"
             ],
             [
              0.8888888888888888,
              "#fdca26"
             ],
             [
              1,
              "#f0f921"
             ]
            ],
            "type": "heatmap"
           }
          ],
          "heatmapgl": [
           {
            "colorbar": {
             "outlinewidth": 0,
             "ticks": ""
            },
            "colorscale": [
             [
              0,
              "#0d0887"
             ],
             [
              0.1111111111111111,
              "#46039f"
             ],
             [
              0.2222222222222222,
              "#7201a8"
             ],
             [
              0.3333333333333333,
              "#9c179e"
             ],
             [
              0.4444444444444444,
              "#bd3786"
             ],
             [
              0.5555555555555556,
              "#d8576b"
             ],
             [
              0.6666666666666666,
              "#ed7953"
             ],
             [
              0.7777777777777778,
              "#fb9f3a"
             ],
             [
              0.8888888888888888,
              "#fdca26"
             ],
             [
              1,
              "#f0f921"
             ]
            ],
            "type": "heatmapgl"
           }
          ],
          "histogram": [
           {
            "marker": {
             "colorbar": {
              "outlinewidth": 0,
              "ticks": ""
             }
            },
            "type": "histogram"
           }
          ],
          "histogram2d": [
           {
            "colorbar": {
             "outlinewidth": 0,
             "ticks": ""
            },
            "colorscale": [
             [
              0,
              "#0d0887"
             ],
             [
              0.1111111111111111,
              "#46039f"
             ],
             [
              0.2222222222222222,
              "#7201a8"
             ],
             [
              0.3333333333333333,
              "#9c179e"
             ],
             [
              0.4444444444444444,
              "#bd3786"
             ],
             [
              0.5555555555555556,
              "#d8576b"
             ],
             [
              0.6666666666666666,
              "#ed7953"
             ],
             [
              0.7777777777777778,
              "#fb9f3a"
             ],
             [
              0.8888888888888888,
              "#fdca26"
             ],
             [
              1,
              "#f0f921"
             ]
            ],
            "type": "histogram2d"
           }
          ],
          "histogram2dcontour": [
           {
            "colorbar": {
             "outlinewidth": 0,
             "ticks": ""
            },
            "colorscale": [
             [
              0,
              "#0d0887"
             ],
             [
              0.1111111111111111,
              "#46039f"
             ],
             [
              0.2222222222222222,
              "#7201a8"
             ],
             [
              0.3333333333333333,
              "#9c179e"
             ],
             [
              0.4444444444444444,
              "#bd3786"
             ],
             [
              0.5555555555555556,
              "#d8576b"
             ],
             [
              0.6666666666666666,
              "#ed7953"
             ],
             [
              0.7777777777777778,
              "#fb9f3a"
             ],
             [
              0.8888888888888888,
              "#fdca26"
             ],
             [
              1,
              "#f0f921"
             ]
            ],
            "type": "histogram2dcontour"
           }
          ],
          "mesh3d": [
           {
            "colorbar": {
             "outlinewidth": 0,
             "ticks": ""
            },
            "type": "mesh3d"
           }
          ],
          "parcoords": [
           {
            "line": {
             "colorbar": {
              "outlinewidth": 0,
              "ticks": ""
             }
            },
            "type": "parcoords"
           }
          ],
          "pie": [
           {
            "automargin": true,
            "type": "pie"
           }
          ],
          "scatter": [
           {
            "marker": {
             "colorbar": {
              "outlinewidth": 0,
              "ticks": ""
             }
            },
            "type": "scatter"
           }
          ],
          "scatter3d": [
           {
            "line": {
             "colorbar": {
              "outlinewidth": 0,
              "ticks": ""
             }
            },
            "marker": {
             "colorbar": {
              "outlinewidth": 0,
              "ticks": ""
             }
            },
            "type": "scatter3d"
           }
          ],
          "scattercarpet": [
           {
            "marker": {
             "colorbar": {
              "outlinewidth": 0,
              "ticks": ""
             }
            },
            "type": "scattercarpet"
           }
          ],
          "scattergeo": [
           {
            "marker": {
             "colorbar": {
              "outlinewidth": 0,
              "ticks": ""
             }
            },
            "type": "scattergeo"
           }
          ],
          "scattergl": [
           {
            "marker": {
             "colorbar": {
              "outlinewidth": 0,
              "ticks": ""
             }
            },
            "type": "scattergl"
           }
          ],
          "scattermapbox": [
           {
            "marker": {
             "colorbar": {
              "outlinewidth": 0,
              "ticks": ""
             }
            },
            "type": "scattermapbox"
           }
          ],
          "scatterpolar": [
           {
            "marker": {
             "colorbar": {
              "outlinewidth": 0,
              "ticks": ""
             }
            },
            "type": "scatterpolar"
           }
          ],
          "scatterpolargl": [
           {
            "marker": {
             "colorbar": {
              "outlinewidth": 0,
              "ticks": ""
             }
            },
            "type": "scatterpolargl"
           }
          ],
          "scatterternary": [
           {
            "marker": {
             "colorbar": {
              "outlinewidth": 0,
              "ticks": ""
             }
            },
            "type": "scatterternary"
           }
          ],
          "surface": [
           {
            "colorbar": {
             "outlinewidth": 0,
             "ticks": ""
            },
            "colorscale": [
             [
              0,
              "#0d0887"
             ],
             [
              0.1111111111111111,
              "#46039f"
             ],
             [
              0.2222222222222222,
              "#7201a8"
             ],
             [
              0.3333333333333333,
              "#9c179e"
             ],
             [
              0.4444444444444444,
              "#bd3786"
             ],
             [
              0.5555555555555556,
              "#d8576b"
             ],
             [
              0.6666666666666666,
              "#ed7953"
             ],
             [
              0.7777777777777778,
              "#fb9f3a"
             ],
             [
              0.8888888888888888,
              "#fdca26"
             ],
             [
              1,
              "#f0f921"
             ]
            ],
            "type": "surface"
           }
          ],
          "table": [
           {
            "cells": {
             "fill": {
              "color": "#EBF0F8"
             },
             "line": {
              "color": "white"
             }
            },
            "header": {
             "fill": {
              "color": "#C8D4E3"
             },
             "line": {
              "color": "white"
             }
            },
            "type": "table"
           }
          ]
         },
         "layout": {
          "annotationdefaults": {
           "arrowcolor": "#2a3f5f",
           "arrowhead": 0,
           "arrowwidth": 1
          },
          "autotypenumbers": "strict",
          "coloraxis": {
           "colorbar": {
            "outlinewidth": 0,
            "ticks": ""
           }
          },
          "colorscale": {
           "diverging": [
            [
             0,
             "#8e0152"
            ],
            [
             0.1,
             "#c51b7d"
            ],
            [
             0.2,
             "#de77ae"
            ],
            [
             0.3,
             "#f1b6da"
            ],
            [
             0.4,
             "#fde0ef"
            ],
            [
             0.5,
             "#f7f7f7"
            ],
            [
             0.6,
             "#e6f5d0"
            ],
            [
             0.7,
             "#b8e186"
            ],
            [
             0.8,
             "#7fbc41"
            ],
            [
             0.9,
             "#4d9221"
            ],
            [
             1,
             "#276419"
            ]
           ],
           "sequential": [
            [
             0,
             "#0d0887"
            ],
            [
             0.1111111111111111,
             "#46039f"
            ],
            [
             0.2222222222222222,
             "#7201a8"
            ],
            [
             0.3333333333333333,
             "#9c179e"
            ],
            [
             0.4444444444444444,
             "#bd3786"
            ],
            [
             0.5555555555555556,
             "#d8576b"
            ],
            [
             0.6666666666666666,
             "#ed7953"
            ],
            [
             0.7777777777777778,
             "#fb9f3a"
            ],
            [
             0.8888888888888888,
             "#fdca26"
            ],
            [
             1,
             "#f0f921"
            ]
           ],
           "sequentialminus": [
            [
             0,
             "#0d0887"
            ],
            [
             0.1111111111111111,
             "#46039f"
            ],
            [
             0.2222222222222222,
             "#7201a8"
            ],
            [
             0.3333333333333333,
             "#9c179e"
            ],
            [
             0.4444444444444444,
             "#bd3786"
            ],
            [
             0.5555555555555556,
             "#d8576b"
            ],
            [
             0.6666666666666666,
             "#ed7953"
            ],
            [
             0.7777777777777778,
             "#fb9f3a"
            ],
            [
             0.8888888888888888,
             "#fdca26"
            ],
            [
             1,
             "#f0f921"
            ]
           ]
          },
          "colorway": [
           "#636efa",
           "#EF553B",
           "#00cc96",
           "#ab63fa",
           "#FFA15A",
           "#19d3f3",
           "#FF6692",
           "#B6E880",
           "#FF97FF",
           "#FECB52"
          ],
          "font": {
           "color": "#2a3f5f"
          },
          "geo": {
           "bgcolor": "white",
           "lakecolor": "white",
           "landcolor": "#E5ECF6",
           "showlakes": true,
           "showland": true,
           "subunitcolor": "white"
          },
          "hoverlabel": {
           "align": "left"
          },
          "hovermode": "closest",
          "mapbox": {
           "style": "light"
          },
          "paper_bgcolor": "white",
          "plot_bgcolor": "#E5ECF6",
          "polar": {
           "angularaxis": {
            "gridcolor": "white",
            "linecolor": "white",
            "ticks": ""
           },
           "bgcolor": "#E5ECF6",
           "radialaxis": {
            "gridcolor": "white",
            "linecolor": "white",
            "ticks": ""
           }
          },
          "scene": {
           "xaxis": {
            "backgroundcolor": "#E5ECF6",
            "gridcolor": "white",
            "gridwidth": 2,
            "linecolor": "white",
            "showbackground": true,
            "ticks": "",
            "zerolinecolor": "white"
           },
           "yaxis": {
            "backgroundcolor": "#E5ECF6",
            "gridcolor": "white",
            "gridwidth": 2,
            "linecolor": "white",
            "showbackground": true,
            "ticks": "",
            "zerolinecolor": "white"
           },
           "zaxis": {
            "backgroundcolor": "#E5ECF6",
            "gridcolor": "white",
            "gridwidth": 2,
            "linecolor": "white",
            "showbackground": true,
            "ticks": "",
            "zerolinecolor": "white"
           }
          },
          "shapedefaults": {
           "line": {
            "color": "#2a3f5f"
           }
          },
          "ternary": {
           "aaxis": {
            "gridcolor": "white",
            "linecolor": "white",
            "ticks": ""
           },
           "baxis": {
            "gridcolor": "white",
            "linecolor": "white",
            "ticks": ""
           },
           "bgcolor": "#E5ECF6",
           "caxis": {
            "gridcolor": "white",
            "linecolor": "white",
            "ticks": ""
           }
          },
          "title": {
           "x": 0.05
          },
          "xaxis": {
           "automargin": true,
           "gridcolor": "white",
           "linecolor": "white",
           "ticks": "",
           "title": {
            "standoff": 15
           },
           "zerolinecolor": "white",
           "zerolinewidth": 2
          },
          "yaxis": {
           "automargin": true,
           "gridcolor": "white",
           "linecolor": "white",
           "ticks": "",
           "title": {
            "standoff": 15
           },
           "zerolinecolor": "white",
           "zerolinewidth": 2
          }
         }
        },
        "title": {
         "text": "Proportions of chain and nonchain establishments"
        },
        "xaxis": {
         "title": {
          "text": "Type of establishments"
         }
        },
        "yaxis": {
         "title": {
          "text": "Number of establishment"
         }
        }
       }
      },
      "text/html": [
       "<div>                            <div id=\"c39fabc6-7ab2-4b30-885e-82e2172cec48\" class=\"plotly-graph-div\" style=\"height:525px; width:100%;\"></div>            <script type=\"text/javascript\">                require([\"plotly\"], function(Plotly) {                    window.PLOTLYENV=window.PLOTLYENV || {};                                    if (document.getElementById(\"c39fabc6-7ab2-4b30-885e-82e2172cec48\")) {                    Plotly.newPlot(                        \"c39fabc6-7ab2-4b30-885e-82e2172cec48\",                        [{\"type\": \"bar\", \"x\": [\"chain\", \"non chain\"], \"y\": [3679, 5972]}],                        {\"font\": {\"color\": \"RebeccaPurple\", \"family\": \"Arial\", \"size\": 16}, \"template\": {\"data\": {\"bar\": [{\"error_x\": {\"color\": \"#2a3f5f\"}, \"error_y\": {\"color\": \"#2a3f5f\"}, \"marker\": {\"line\": {\"color\": \"#E5ECF6\", \"width\": 0.5}}, \"type\": \"bar\"}], \"barpolar\": [{\"marker\": {\"line\": {\"color\": \"#E5ECF6\", \"width\": 0.5}}, \"type\": \"barpolar\"}], \"carpet\": [{\"aaxis\": {\"endlinecolor\": \"#2a3f5f\", \"gridcolor\": \"white\", \"linecolor\": \"white\", \"minorgridcolor\": \"white\", \"startlinecolor\": \"#2a3f5f\"}, \"baxis\": {\"endlinecolor\": \"#2a3f5f\", \"gridcolor\": \"white\", \"linecolor\": \"white\", \"minorgridcolor\": \"white\", \"startlinecolor\": \"#2a3f5f\"}, \"type\": \"carpet\"}], \"choropleth\": [{\"colorbar\": {\"outlinewidth\": 0, \"ticks\": \"\"}, \"type\": \"choropleth\"}], \"contour\": [{\"colorbar\": {\"outlinewidth\": 0, \"ticks\": \"\"}, \"colorscale\": [[0.0, \"#0d0887\"], [0.1111111111111111, \"#46039f\"], [0.2222222222222222, \"#7201a8\"], [0.3333333333333333, \"#9c179e\"], [0.4444444444444444, \"#bd3786\"], [0.5555555555555556, \"#d8576b\"], [0.6666666666666666, \"#ed7953\"], [0.7777777777777778, \"#fb9f3a\"], [0.8888888888888888, \"#fdca26\"], [1.0, \"#f0f921\"]], \"type\": \"contour\"}], \"contourcarpet\": [{\"colorbar\": {\"outlinewidth\": 0, \"ticks\": \"\"}, \"type\": \"contourcarpet\"}], \"heatmap\": [{\"colorbar\": {\"outlinewidth\": 0, \"ticks\": \"\"}, \"colorscale\": [[0.0, \"#0d0887\"], [0.1111111111111111, \"#46039f\"], [0.2222222222222222, \"#7201a8\"], [0.3333333333333333, \"#9c179e\"], [0.4444444444444444, \"#bd3786\"], [0.5555555555555556, \"#d8576b\"], [0.6666666666666666, \"#ed7953\"], [0.7777777777777778, \"#fb9f3a\"], [0.8888888888888888, \"#fdca26\"], [1.0, \"#f0f921\"]], \"type\": \"heatmap\"}], \"heatmapgl\": [{\"colorbar\": {\"outlinewidth\": 0, \"ticks\": \"\"}, \"colorscale\": [[0.0, \"#0d0887\"], [0.1111111111111111, \"#46039f\"], [0.2222222222222222, \"#7201a8\"], [0.3333333333333333, \"#9c179e\"], [0.4444444444444444, \"#bd3786\"], [0.5555555555555556, \"#d8576b\"], [0.6666666666666666, \"#ed7953\"], [0.7777777777777778, \"#fb9f3a\"], [0.8888888888888888, \"#fdca26\"], [1.0, \"#f0f921\"]], \"type\": \"heatmapgl\"}], \"histogram\": [{\"marker\": {\"colorbar\": {\"outlinewidth\": 0, \"ticks\": \"\"}}, \"type\": \"histogram\"}], \"histogram2d\": [{\"colorbar\": {\"outlinewidth\": 0, \"ticks\": \"\"}, \"colorscale\": [[0.0, \"#0d0887\"], [0.1111111111111111, \"#46039f\"], [0.2222222222222222, \"#7201a8\"], [0.3333333333333333, \"#9c179e\"], [0.4444444444444444, \"#bd3786\"], [0.5555555555555556, \"#d8576b\"], [0.6666666666666666, \"#ed7953\"], [0.7777777777777778, \"#fb9f3a\"], [0.8888888888888888, \"#fdca26\"], [1.0, \"#f0f921\"]], \"type\": \"histogram2d\"}], \"histogram2dcontour\": [{\"colorbar\": {\"outlinewidth\": 0, \"ticks\": \"\"}, \"colorscale\": [[0.0, \"#0d0887\"], [0.1111111111111111, \"#46039f\"], [0.2222222222222222, \"#7201a8\"], [0.3333333333333333, \"#9c179e\"], [0.4444444444444444, \"#bd3786\"], [0.5555555555555556, \"#d8576b\"], [0.6666666666666666, \"#ed7953\"], [0.7777777777777778, \"#fb9f3a\"], [0.8888888888888888, \"#fdca26\"], [1.0, \"#f0f921\"]], \"type\": \"histogram2dcontour\"}], \"mesh3d\": [{\"colorbar\": {\"outlinewidth\": 0, \"ticks\": \"\"}, \"type\": \"mesh3d\"}], \"parcoords\": [{\"line\": {\"colorbar\": {\"outlinewidth\": 0, \"ticks\": \"\"}}, \"type\": \"parcoords\"}], \"pie\": [{\"automargin\": true, \"type\": \"pie\"}], \"scatter\": [{\"marker\": {\"colorbar\": {\"outlinewidth\": 0, \"ticks\": \"\"}}, \"type\": \"scatter\"}], \"scatter3d\": [{\"line\": {\"colorbar\": {\"outlinewidth\": 0, \"ticks\": \"\"}}, \"marker\": {\"colorbar\": {\"outlinewidth\": 0, \"ticks\": \"\"}}, \"type\": \"scatter3d\"}], \"scattercarpet\": [{\"marker\": {\"colorbar\": {\"outlinewidth\": 0, \"ticks\": \"\"}}, \"type\": \"scattercarpet\"}], \"scattergeo\": [{\"marker\": {\"colorbar\": {\"outlinewidth\": 0, \"ticks\": \"\"}}, \"type\": \"scattergeo\"}], \"scattergl\": [{\"marker\": {\"colorbar\": {\"outlinewidth\": 0, \"ticks\": \"\"}}, \"type\": \"scattergl\"}], \"scattermapbox\": [{\"marker\": {\"colorbar\": {\"outlinewidth\": 0, \"ticks\": \"\"}}, \"type\": \"scattermapbox\"}], \"scatterpolar\": [{\"marker\": {\"colorbar\": {\"outlinewidth\": 0, \"ticks\": \"\"}}, \"type\": \"scatterpolar\"}], \"scatterpolargl\": [{\"marker\": {\"colorbar\": {\"outlinewidth\": 0, \"ticks\": \"\"}}, \"type\": \"scatterpolargl\"}], \"scatterternary\": [{\"marker\": {\"colorbar\": {\"outlinewidth\": 0, \"ticks\": \"\"}}, \"type\": \"scatterternary\"}], \"surface\": [{\"colorbar\": {\"outlinewidth\": 0, \"ticks\": \"\"}, \"colorscale\": [[0.0, \"#0d0887\"], [0.1111111111111111, \"#46039f\"], [0.2222222222222222, \"#7201a8\"], [0.3333333333333333, \"#9c179e\"], [0.4444444444444444, \"#bd3786\"], [0.5555555555555556, \"#d8576b\"], [0.6666666666666666, \"#ed7953\"], [0.7777777777777778, \"#fb9f3a\"], [0.8888888888888888, \"#fdca26\"], [1.0, \"#f0f921\"]], \"type\": \"surface\"}], \"table\": [{\"cells\": {\"fill\": {\"color\": \"#EBF0F8\"}, \"line\": {\"color\": \"white\"}}, \"header\": {\"fill\": {\"color\": \"#C8D4E3\"}, \"line\": {\"color\": \"white\"}}, \"type\": \"table\"}]}, \"layout\": {\"annotationdefaults\": {\"arrowcolor\": \"#2a3f5f\", \"arrowhead\": 0, \"arrowwidth\": 1}, \"autotypenumbers\": \"strict\", \"coloraxis\": {\"colorbar\": {\"outlinewidth\": 0, \"ticks\": \"\"}}, \"colorscale\": {\"diverging\": [[0, \"#8e0152\"], [0.1, \"#c51b7d\"], [0.2, \"#de77ae\"], [0.3, \"#f1b6da\"], [0.4, \"#fde0ef\"], [0.5, \"#f7f7f7\"], [0.6, \"#e6f5d0\"], [0.7, \"#b8e186\"], [0.8, \"#7fbc41\"], [0.9, \"#4d9221\"], [1, \"#276419\"]], \"sequential\": [[0.0, \"#0d0887\"], [0.1111111111111111, \"#46039f\"], [0.2222222222222222, \"#7201a8\"], [0.3333333333333333, \"#9c179e\"], [0.4444444444444444, \"#bd3786\"], [0.5555555555555556, \"#d8576b\"], [0.6666666666666666, \"#ed7953\"], [0.7777777777777778, \"#fb9f3a\"], [0.8888888888888888, \"#fdca26\"], [1.0, \"#f0f921\"]], \"sequentialminus\": [[0.0, \"#0d0887\"], [0.1111111111111111, \"#46039f\"], [0.2222222222222222, \"#7201a8\"], [0.3333333333333333, \"#9c179e\"], [0.4444444444444444, \"#bd3786\"], [0.5555555555555556, \"#d8576b\"], [0.6666666666666666, \"#ed7953\"], [0.7777777777777778, \"#fb9f3a\"], [0.8888888888888888, \"#fdca26\"], [1.0, \"#f0f921\"]]}, \"colorway\": [\"#636efa\", \"#EF553B\", \"#00cc96\", \"#ab63fa\", \"#FFA15A\", \"#19d3f3\", \"#FF6692\", \"#B6E880\", \"#FF97FF\", \"#FECB52\"], \"font\": {\"color\": \"#2a3f5f\"}, \"geo\": {\"bgcolor\": \"white\", \"lakecolor\": \"white\", \"landcolor\": \"#E5ECF6\", \"showlakes\": true, \"showland\": true, \"subunitcolor\": \"white\"}, \"hoverlabel\": {\"align\": \"left\"}, \"hovermode\": \"closest\", \"mapbox\": {\"style\": \"light\"}, \"paper_bgcolor\": \"white\", \"plot_bgcolor\": \"#E5ECF6\", \"polar\": {\"angularaxis\": {\"gridcolor\": \"white\", \"linecolor\": \"white\", \"ticks\": \"\"}, \"bgcolor\": \"#E5ECF6\", \"radialaxis\": {\"gridcolor\": \"white\", \"linecolor\": \"white\", \"ticks\": \"\"}}, \"scene\": {\"xaxis\": {\"backgroundcolor\": \"#E5ECF6\", \"gridcolor\": \"white\", \"gridwidth\": 2, \"linecolor\": \"white\", \"showbackground\": true, \"ticks\": \"\", \"zerolinecolor\": \"white\"}, \"yaxis\": {\"backgroundcolor\": \"#E5ECF6\", \"gridcolor\": \"white\", \"gridwidth\": 2, \"linecolor\": \"white\", \"showbackground\": true, \"ticks\": \"\", \"zerolinecolor\": \"white\"}, \"zaxis\": {\"backgroundcolor\": \"#E5ECF6\", \"gridcolor\": \"white\", \"gridwidth\": 2, \"linecolor\": \"white\", \"showbackground\": true, \"ticks\": \"\", \"zerolinecolor\": \"white\"}}, \"shapedefaults\": {\"line\": {\"color\": \"#2a3f5f\"}}, \"ternary\": {\"aaxis\": {\"gridcolor\": \"white\", \"linecolor\": \"white\", \"ticks\": \"\"}, \"baxis\": {\"gridcolor\": \"white\", \"linecolor\": \"white\", \"ticks\": \"\"}, \"bgcolor\": \"#E5ECF6\", \"caxis\": {\"gridcolor\": \"white\", \"linecolor\": \"white\", \"ticks\": \"\"}}, \"title\": {\"x\": 0.05}, \"xaxis\": {\"automargin\": true, \"gridcolor\": \"white\", \"linecolor\": \"white\", \"ticks\": \"\", \"title\": {\"standoff\": 15}, \"zerolinecolor\": \"white\", \"zerolinewidth\": 2}, \"yaxis\": {\"automargin\": true, \"gridcolor\": \"white\", \"linecolor\": \"white\", \"ticks\": \"\", \"title\": {\"standoff\": 15}, \"zerolinecolor\": \"white\", \"zerolinewidth\": 2}}}, \"title\": {\"text\": \"Proportions of chain and nonchain establishments\"}, \"xaxis\": {\"title\": {\"text\": \"Type of establishments\"}}, \"yaxis\": {\"title\": {\"text\": \"Number of establishment\"}}},                        {\"responsive\": true}                    ).then(function(){\n",
       "                            \n",
       "var gd = document.getElementById('c39fabc6-7ab2-4b30-885e-82e2172cec48');\n",
       "var x = new MutationObserver(function (mutations, observer) {{\n",
       "        var display = window.getComputedStyle(gd).display;\n",
       "        if (!display || display === 'none') {{\n",
       "            console.log([gd, 'removed!']);\n",
       "            Plotly.purge(gd);\n",
       "            observer.disconnect();\n",
       "        }}\n",
       "}});\n",
       "\n",
       "// Listen for the removal of the full notebook cells\n",
       "var notebookContainer = gd.closest('#notebook-container');\n",
       "if (notebookContainer) {{\n",
       "    x.observe(notebookContainer, {childList: true});\n",
       "}}\n",
       "\n",
       "// Listen for the clearing of the current output cell\n",
       "var outputEl = gd.closest('.output');\n",
       "if (outputEl) {{\n",
       "    x.observe(outputEl, {childList: true});\n",
       "}}\n",
       "\n",
       "                        })                };                });            </script>        </div>"
      ]
     },
     "metadata": {},
     "output_type": "display_data"
    }
   ],
   "source": [
    "# plot a pie for propostion distribution of chaoin and non chain establishments\n",
    "chain_fig = go.Figure([go.Bar(x=chain_group.index.values,y=chain_group['est_type'])])\n",
    "\n",
    "#update the layout\n",
    "chain_fig.update_layout(\n",
    "    title=\"Proportions of chain and nonchain establishments\",\n",
    "    xaxis_title=\"Type of establishments\",\n",
    "    yaxis_title=\"Number of establishment\",\n",
    "    font=dict(family=\"Arial\", size=16, color=\"RebeccaPurple\"))\n",
    "\n",
    "chain_fig.show()"
   ]
  },
  {
   "cell_type": "markdown",
   "metadata": {},
   "source": [
    "The Proportion of the pie graph shows that  5.972 non chain establishment or 61.9% of the total establöishment in LA which is coparably bigger to the 3,679 chain establishments or 38.1%.\n",
    "\n",
    "<p><a name=\"chainest\"></a></p>\n",
    "\n",
    "* **Which type of establishment is typically a chain?**"
   ]
  },
  {
   "cell_type": "code",
   "execution_count": 18,
   "metadata": {},
   "outputs": [
    {
     "data": {
      "text/html": [
       "<div>\n",
       "<style scoped>\n",
       "    .dataframe tbody tr th:only-of-type {\n",
       "        vertical-align: middle;\n",
       "    }\n",
       "\n",
       "    .dataframe tbody tr th {\n",
       "        vertical-align: top;\n",
       "    }\n",
       "\n",
       "    .dataframe thead th {\n",
       "        text-align: right;\n",
       "    }\n",
       "</style>\n",
       "<table border=\"1\" class=\"dataframe\">\n",
       "  <thead>\n",
       "    <tr style=\"text-align: right;\">\n",
       "      <th></th>\n",
       "      <th>id</th>\n",
       "      <th>est_name</th>\n",
       "      <th>address</th>\n",
       "      <th>chain_type</th>\n",
       "      <th>est_type</th>\n",
       "      <th>seats</th>\n",
       "    </tr>\n",
       "  </thead>\n",
       "  <tbody>\n",
       "    <tr>\n",
       "      <th>0</th>\n",
       "      <td>11786</td>\n",
       "      <td>HABITAT COFFEE SHOP</td>\n",
       "      <td>3708 N EAGLE ROCK BLVD</td>\n",
       "      <td>non chain</td>\n",
       "      <td>Cafe</td>\n",
       "      <td>26</td>\n",
       "    </tr>\n",
       "    <tr>\n",
       "      <th>1</th>\n",
       "      <td>11787</td>\n",
       "      <td>REILLY'S</td>\n",
       "      <td>100 WORLD WAY # 120</td>\n",
       "      <td>non chain</td>\n",
       "      <td>Restaurant</td>\n",
       "      <td>9</td>\n",
       "    </tr>\n",
       "    <tr>\n",
       "      <th>2</th>\n",
       "      <td>11788</td>\n",
       "      <td>STREET CHURROS</td>\n",
       "      <td>6801 HOLLYWOOD BLVD # 253</td>\n",
       "      <td>non chain</td>\n",
       "      <td>Fast Food</td>\n",
       "      <td>20</td>\n",
       "    </tr>\n",
       "    <tr>\n",
       "      <th>3</th>\n",
       "      <td>11789</td>\n",
       "      <td>TRINITI ECHO PARK</td>\n",
       "      <td>1814 W SUNSET BLVD</td>\n",
       "      <td>non chain</td>\n",
       "      <td>Restaurant</td>\n",
       "      <td>22</td>\n",
       "    </tr>\n",
       "    <tr>\n",
       "      <th>4</th>\n",
       "      <td>11790</td>\n",
       "      <td>POLLEN</td>\n",
       "      <td>2100 ECHO PARK AVE</td>\n",
       "      <td>non chain</td>\n",
       "      <td>Restaurant</td>\n",
       "      <td>20</td>\n",
       "    </tr>\n",
       "  </tbody>\n",
       "</table>\n",
       "</div>"
      ],
      "text/plain": [
       "      id             est_name                    address chain_type  \\\n",
       "0  11786  HABITAT COFFEE SHOP     3708 N EAGLE ROCK BLVD  non chain   \n",
       "1  11787             REILLY'S        100 WORLD WAY # 120  non chain   \n",
       "2  11788       STREET CHURROS  6801 HOLLYWOOD BLVD # 253  non chain   \n",
       "3  11789    TRINITI ECHO PARK         1814 W SUNSET BLVD  non chain   \n",
       "4  11790               POLLEN         2100 ECHO PARK AVE  non chain   \n",
       "\n",
       "     est_type  seats  \n",
       "0        Cafe     26  \n",
       "1  Restaurant      9  \n",
       "2   Fast Food     20  \n",
       "3  Restaurant     22  \n",
       "4  Restaurant     20  "
      ]
     },
     "execution_count": 18,
     "metadata": {},
     "output_type": "execute_result"
    }
   ],
   "source": [
    "#we will create an dataframe of all non chain establishment\n",
    "nonchain_est = rest_data['chain_type'] == 'non chain' \n",
    "nonchain_est_list = rest_data[nonchain_est]\n",
    "nonchain_est_list.head()"
   ]
  },
  {
   "cell_type": "code",
   "execution_count": 19,
   "metadata": {},
   "outputs": [],
   "source": [
    "# we will make a saparate data frame of the chain establishments\n",
    "chain_est = rest_data['chain_type'] == 'chain' "
   ]
  },
  {
   "cell_type": "code",
   "execution_count": 20,
   "metadata": {},
   "outputs": [
    {
     "data": {
      "text/html": [
       "<div>\n",
       "<style scoped>\n",
       "    .dataframe tbody tr th:only-of-type {\n",
       "        vertical-align: middle;\n",
       "    }\n",
       "\n",
       "    .dataframe tbody tr th {\n",
       "        vertical-align: top;\n",
       "    }\n",
       "\n",
       "    .dataframe thead th {\n",
       "        text-align: right;\n",
       "    }\n",
       "</style>\n",
       "<table border=\"1\" class=\"dataframe\">\n",
       "  <thead>\n",
       "    <tr style=\"text-align: right;\">\n",
       "      <th></th>\n",
       "      <th>id</th>\n",
       "      <th>est_name</th>\n",
       "      <th>address</th>\n",
       "      <th>chain_type</th>\n",
       "      <th>est_type</th>\n",
       "      <th>seats</th>\n",
       "    </tr>\n",
       "  </thead>\n",
       "  <tbody>\n",
       "    <tr>\n",
       "      <th>8</th>\n",
       "      <td>11794</td>\n",
       "      <td>ABC DONUTS</td>\n",
       "      <td>3027 N SAN FERNANDO RD UNIT 103</td>\n",
       "      <td>chain</td>\n",
       "      <td>Fast Food</td>\n",
       "      <td>1</td>\n",
       "    </tr>\n",
       "    <tr>\n",
       "      <th>10</th>\n",
       "      <td>11796</td>\n",
       "      <td>EL POLLO LOCO</td>\n",
       "      <td>5319 W SUNSET BLVD</td>\n",
       "      <td>chain</td>\n",
       "      <td>Restaurant</td>\n",
       "      <td>38</td>\n",
       "    </tr>\n",
       "    <tr>\n",
       "      <th>11</th>\n",
       "      <td>11797</td>\n",
       "      <td>POONG NYUN BAKERY</td>\n",
       "      <td>928 S WESTERN AVE STE 109</td>\n",
       "      <td>chain</td>\n",
       "      <td>Bakery</td>\n",
       "      <td>17</td>\n",
       "    </tr>\n",
       "    <tr>\n",
       "      <th>12</th>\n",
       "      <td>11798</td>\n",
       "      <td>EMC RESTAURANT GROUP LLC</td>\n",
       "      <td>3500 W 6TH ST STE 101</td>\n",
       "      <td>chain</td>\n",
       "      <td>Restaurant</td>\n",
       "      <td>133</td>\n",
       "    </tr>\n",
       "    <tr>\n",
       "      <th>14</th>\n",
       "      <td>11800</td>\n",
       "      <td>CUSCATLECA BAKERY</td>\n",
       "      <td>2501 W SUNSET BLVD #A</td>\n",
       "      <td>chain</td>\n",
       "      <td>Bakery</td>\n",
       "      <td>26</td>\n",
       "    </tr>\n",
       "  </tbody>\n",
       "</table>\n",
       "</div>"
      ],
      "text/plain": [
       "       id                  est_name                          address  \\\n",
       "8   11794                ABC DONUTS  3027 N SAN FERNANDO RD UNIT 103   \n",
       "10  11796             EL POLLO LOCO               5319 W SUNSET BLVD   \n",
       "11  11797         POONG NYUN BAKERY        928 S WESTERN AVE STE 109   \n",
       "12  11798  EMC RESTAURANT GROUP LLC            3500 W 6TH ST STE 101   \n",
       "14  11800         CUSCATLECA BAKERY            2501 W SUNSET BLVD #A   \n",
       "\n",
       "   chain_type    est_type  seats  \n",
       "8       chain   Fast Food      1  \n",
       "10      chain  Restaurant     38  \n",
       "11      chain      Bakery     17  \n",
       "12      chain  Restaurant    133  \n",
       "14      chain      Bakery     26  "
      ]
     },
     "execution_count": 20,
     "metadata": {},
     "output_type": "execute_result"
    }
   ],
   "source": [
    "chain_est_list = rest_data[chain_est]\n",
    "chain_est_list.head()"
   ]
  },
  {
   "cell_type": "code",
   "execution_count": 21,
   "metadata": {},
   "outputs": [],
   "source": [
    "#group the non chain establishments \n",
    "nonchain_list_group =nonchain_est_list.groupby('est_type').count()"
   ]
  },
  {
   "cell_type": "code",
   "execution_count": 22,
   "metadata": {},
   "outputs": [],
   "source": [
    "# Create a Group by establishment type\n",
    "chain_list_group =chain_est_list.groupby('est_type').count()"
   ]
  },
  {
   "cell_type": "code",
   "execution_count": 23,
   "metadata": {},
   "outputs": [
    {
     "data": {
      "application/vnd.plotly.v1+json": {
       "config": {
        "plotlyServerURL": "https://plot.ly"
       },
       "data": [
        {
         "marker": {
          "color": "indianred"
         },
         "name": "non chain establishment",
         "type": "bar",
         "x": [
          "Bar",
          "Cafe",
          "Fast Food",
          "Pizza",
          "Restaurant"
         ],
         "y": [
          215,
          169,
          461,
          166,
          4961
         ]
        },
        {
         "marker": {
          "color": "lightsalmon"
         },
         "name": "chain establishment",
         "type": "bar",
         "x": [
          "Bakery",
          "Bar",
          "Cafe",
          "Fast Food",
          "Pizza",
          "Restaurant"
         ],
         "y": [
          283,
          77,
          266,
          605,
          154,
          2294
         ]
        }
       ],
       "layout": {
        "barmode": "group",
        "font": {
         "color": "RebeccaPurple",
         "family": "Courier New, monospace",
         "size": 12
        },
        "template": {
         "data": {
          "bar": [
           {
            "error_x": {
             "color": "#2a3f5f"
            },
            "error_y": {
             "color": "#2a3f5f"
            },
            "marker": {
             "line": {
              "color": "#E5ECF6",
              "width": 0.5
             }
            },
            "type": "bar"
           }
          ],
          "barpolar": [
           {
            "marker": {
             "line": {
              "color": "#E5ECF6",
              "width": 0.5
             }
            },
            "type": "barpolar"
           }
          ],
          "carpet": [
           {
            "aaxis": {
             "endlinecolor": "#2a3f5f",
             "gridcolor": "white",
             "linecolor": "white",
             "minorgridcolor": "white",
             "startlinecolor": "#2a3f5f"
            },
            "baxis": {
             "endlinecolor": "#2a3f5f",
             "gridcolor": "white",
             "linecolor": "white",
             "minorgridcolor": "white",
             "startlinecolor": "#2a3f5f"
            },
            "type": "carpet"
           }
          ],
          "choropleth": [
           {
            "colorbar": {
             "outlinewidth": 0,
             "ticks": ""
            },
            "type": "choropleth"
           }
          ],
          "contour": [
           {
            "colorbar": {
             "outlinewidth": 0,
             "ticks": ""
            },
            "colorscale": [
             [
              0,
              "#0d0887"
             ],
             [
              0.1111111111111111,
              "#46039f"
             ],
             [
              0.2222222222222222,
              "#7201a8"
             ],
             [
              0.3333333333333333,
              "#9c179e"
             ],
             [
              0.4444444444444444,
              "#bd3786"
             ],
             [
              0.5555555555555556,
              "#d8576b"
             ],
             [
              0.6666666666666666,
              "#ed7953"
             ],
             [
              0.7777777777777778,
              "#fb9f3a"
             ],
             [
              0.8888888888888888,
              "#fdca26"
             ],
             [
              1,
              "#f0f921"
             ]
            ],
            "type": "contour"
           }
          ],
          "contourcarpet": [
           {
            "colorbar": {
             "outlinewidth": 0,
             "ticks": ""
            },
            "type": "contourcarpet"
           }
          ],
          "heatmap": [
           {
            "colorbar": {
             "outlinewidth": 0,
             "ticks": ""
            },
            "colorscale": [
             [
              0,
              "#0d0887"
             ],
             [
              0.1111111111111111,
              "#46039f"
             ],
             [
              0.2222222222222222,
              "#7201a8"
             ],
             [
              0.3333333333333333,
              "#9c179e"
             ],
             [
              0.4444444444444444,
              "#bd3786"
             ],
             [
              0.5555555555555556,
              "#d8576b"
             ],
             [
              0.6666666666666666,
              "#ed7953"
             ],
             [
              0.7777777777777778,
              "#fb9f3a"
             ],
             [
              0.8888888888888888,
              "#fdca26"
             ],
             [
              1,
              "#f0f921"
             ]
            ],
            "type": "heatmap"
           }
          ],
          "heatmapgl": [
           {
            "colorbar": {
             "outlinewidth": 0,
             "ticks": ""
            },
            "colorscale": [
             [
              0,
              "#0d0887"
             ],
             [
              0.1111111111111111,
              "#46039f"
             ],
             [
              0.2222222222222222,
              "#7201a8"
             ],
             [
              0.3333333333333333,
              "#9c179e"
             ],
             [
              0.4444444444444444,
              "#bd3786"
             ],
             [
              0.5555555555555556,
              "#d8576b"
             ],
             [
              0.6666666666666666,
              "#ed7953"
             ],
             [
              0.7777777777777778,
              "#fb9f3a"
             ],
             [
              0.8888888888888888,
              "#fdca26"
             ],
             [
              1,
              "#f0f921"
             ]
            ],
            "type": "heatmapgl"
           }
          ],
          "histogram": [
           {
            "marker": {
             "colorbar": {
              "outlinewidth": 0,
              "ticks": ""
             }
            },
            "type": "histogram"
           }
          ],
          "histogram2d": [
           {
            "colorbar": {
             "outlinewidth": 0,
             "ticks": ""
            },
            "colorscale": [
             [
              0,
              "#0d0887"
             ],
             [
              0.1111111111111111,
              "#46039f"
             ],
             [
              0.2222222222222222,
              "#7201a8"
             ],
             [
              0.3333333333333333,
              "#9c179e"
             ],
             [
              0.4444444444444444,
              "#bd3786"
             ],
             [
              0.5555555555555556,
              "#d8576b"
             ],
             [
              0.6666666666666666,
              "#ed7953"
             ],
             [
              0.7777777777777778,
              "#fb9f3a"
             ],
             [
              0.8888888888888888,
              "#fdca26"
             ],
             [
              1,
              "#f0f921"
             ]
            ],
            "type": "histogram2d"
           }
          ],
          "histogram2dcontour": [
           {
            "colorbar": {
             "outlinewidth": 0,
             "ticks": ""
            },
            "colorscale": [
             [
              0,
              "#0d0887"
             ],
             [
              0.1111111111111111,
              "#46039f"
             ],
             [
              0.2222222222222222,
              "#7201a8"
             ],
             [
              0.3333333333333333,
              "#9c179e"
             ],
             [
              0.4444444444444444,
              "#bd3786"
             ],
             [
              0.5555555555555556,
              "#d8576b"
             ],
             [
              0.6666666666666666,
              "#ed7953"
             ],
             [
              0.7777777777777778,
              "#fb9f3a"
             ],
             [
              0.8888888888888888,
              "#fdca26"
             ],
             [
              1,
              "#f0f921"
             ]
            ],
            "type": "histogram2dcontour"
           }
          ],
          "mesh3d": [
           {
            "colorbar": {
             "outlinewidth": 0,
             "ticks": ""
            },
            "type": "mesh3d"
           }
          ],
          "parcoords": [
           {
            "line": {
             "colorbar": {
              "outlinewidth": 0,
              "ticks": ""
             }
            },
            "type": "parcoords"
           }
          ],
          "pie": [
           {
            "automargin": true,
            "type": "pie"
           }
          ],
          "scatter": [
           {
            "marker": {
             "colorbar": {
              "outlinewidth": 0,
              "ticks": ""
             }
            },
            "type": "scatter"
           }
          ],
          "scatter3d": [
           {
            "line": {
             "colorbar": {
              "outlinewidth": 0,
              "ticks": ""
             }
            },
            "marker": {
             "colorbar": {
              "outlinewidth": 0,
              "ticks": ""
             }
            },
            "type": "scatter3d"
           }
          ],
          "scattercarpet": [
           {
            "marker": {
             "colorbar": {
              "outlinewidth": 0,
              "ticks": ""
             }
            },
            "type": "scattercarpet"
           }
          ],
          "scattergeo": [
           {
            "marker": {
             "colorbar": {
              "outlinewidth": 0,
              "ticks": ""
             }
            },
            "type": "scattergeo"
           }
          ],
          "scattergl": [
           {
            "marker": {
             "colorbar": {
              "outlinewidth": 0,
              "ticks": ""
             }
            },
            "type": "scattergl"
           }
          ],
          "scattermapbox": [
           {
            "marker": {
             "colorbar": {
              "outlinewidth": 0,
              "ticks": ""
             }
            },
            "type": "scattermapbox"
           }
          ],
          "scatterpolar": [
           {
            "marker": {
             "colorbar": {
              "outlinewidth": 0,
              "ticks": ""
             }
            },
            "type": "scatterpolar"
           }
          ],
          "scatterpolargl": [
           {
            "marker": {
             "colorbar": {
              "outlinewidth": 0,
              "ticks": ""
             }
            },
            "type": "scatterpolargl"
           }
          ],
          "scatterternary": [
           {
            "marker": {
             "colorbar": {
              "outlinewidth": 0,
              "ticks": ""
             }
            },
            "type": "scatterternary"
           }
          ],
          "surface": [
           {
            "colorbar": {
             "outlinewidth": 0,
             "ticks": ""
            },
            "colorscale": [
             [
              0,
              "#0d0887"
             ],
             [
              0.1111111111111111,
              "#46039f"
             ],
             [
              0.2222222222222222,
              "#7201a8"
             ],
             [
              0.3333333333333333,
              "#9c179e"
             ],
             [
              0.4444444444444444,
              "#bd3786"
             ],
             [
              0.5555555555555556,
              "#d8576b"
             ],
             [
              0.6666666666666666,
              "#ed7953"
             ],
             [
              0.7777777777777778,
              "#fb9f3a"
             ],
             [
              0.8888888888888888,
              "#fdca26"
             ],
             [
              1,
              "#f0f921"
             ]
            ],
            "type": "surface"
           }
          ],
          "table": [
           {
            "cells": {
             "fill": {
              "color": "#EBF0F8"
             },
             "line": {
              "color": "white"
             }
            },
            "header": {
             "fill": {
              "color": "#C8D4E3"
             },
             "line": {
              "color": "white"
             }
            },
            "type": "table"
           }
          ]
         },
         "layout": {
          "annotationdefaults": {
           "arrowcolor": "#2a3f5f",
           "arrowhead": 0,
           "arrowwidth": 1
          },
          "autotypenumbers": "strict",
          "coloraxis": {
           "colorbar": {
            "outlinewidth": 0,
            "ticks": ""
           }
          },
          "colorscale": {
           "diverging": [
            [
             0,
             "#8e0152"
            ],
            [
             0.1,
             "#c51b7d"
            ],
            [
             0.2,
             "#de77ae"
            ],
            [
             0.3,
             "#f1b6da"
            ],
            [
             0.4,
             "#fde0ef"
            ],
            [
             0.5,
             "#f7f7f7"
            ],
            [
             0.6,
             "#e6f5d0"
            ],
            [
             0.7,
             "#b8e186"
            ],
            [
             0.8,
             "#7fbc41"
            ],
            [
             0.9,
             "#4d9221"
            ],
            [
             1,
             "#276419"
            ]
           ],
           "sequential": [
            [
             0,
             "#0d0887"
            ],
            [
             0.1111111111111111,
             "#46039f"
            ],
            [
             0.2222222222222222,
             "#7201a8"
            ],
            [
             0.3333333333333333,
             "#9c179e"
            ],
            [
             0.4444444444444444,
             "#bd3786"
            ],
            [
             0.5555555555555556,
             "#d8576b"
            ],
            [
             0.6666666666666666,
             "#ed7953"
            ],
            [
             0.7777777777777778,
             "#fb9f3a"
            ],
            [
             0.8888888888888888,
             "#fdca26"
            ],
            [
             1,
             "#f0f921"
            ]
           ],
           "sequentialminus": [
            [
             0,
             "#0d0887"
            ],
            [
             0.1111111111111111,
             "#46039f"
            ],
            [
             0.2222222222222222,
             "#7201a8"
            ],
            [
             0.3333333333333333,
             "#9c179e"
            ],
            [
             0.4444444444444444,
             "#bd3786"
            ],
            [
             0.5555555555555556,
             "#d8576b"
            ],
            [
             0.6666666666666666,
             "#ed7953"
            ],
            [
             0.7777777777777778,
             "#fb9f3a"
            ],
            [
             0.8888888888888888,
             "#fdca26"
            ],
            [
             1,
             "#f0f921"
            ]
           ]
          },
          "colorway": [
           "#636efa",
           "#EF553B",
           "#00cc96",
           "#ab63fa",
           "#FFA15A",
           "#19d3f3",
           "#FF6692",
           "#B6E880",
           "#FF97FF",
           "#FECB52"
          ],
          "font": {
           "color": "#2a3f5f"
          },
          "geo": {
           "bgcolor": "white",
           "lakecolor": "white",
           "landcolor": "#E5ECF6",
           "showlakes": true,
           "showland": true,
           "subunitcolor": "white"
          },
          "hoverlabel": {
           "align": "left"
          },
          "hovermode": "closest",
          "mapbox": {
           "style": "light"
          },
          "paper_bgcolor": "white",
          "plot_bgcolor": "#E5ECF6",
          "polar": {
           "angularaxis": {
            "gridcolor": "white",
            "linecolor": "white",
            "ticks": ""
           },
           "bgcolor": "#E5ECF6",
           "radialaxis": {
            "gridcolor": "white",
            "linecolor": "white",
            "ticks": ""
           }
          },
          "scene": {
           "xaxis": {
            "backgroundcolor": "#E5ECF6",
            "gridcolor": "white",
            "gridwidth": 2,
            "linecolor": "white",
            "showbackground": true,
            "ticks": "",
            "zerolinecolor": "white"
           },
           "yaxis": {
            "backgroundcolor": "#E5ECF6",
            "gridcolor": "white",
            "gridwidth": 2,
            "linecolor": "white",
            "showbackground": true,
            "ticks": "",
            "zerolinecolor": "white"
           },
           "zaxis": {
            "backgroundcolor": "#E5ECF6",
            "gridcolor": "white",
            "gridwidth": 2,
            "linecolor": "white",
            "showbackground": true,
            "ticks": "",
            "zerolinecolor": "white"
           }
          },
          "shapedefaults": {
           "line": {
            "color": "#2a3f5f"
           }
          },
          "ternary": {
           "aaxis": {
            "gridcolor": "white",
            "linecolor": "white",
            "ticks": ""
           },
           "baxis": {
            "gridcolor": "white",
            "linecolor": "white",
            "ticks": ""
           },
           "bgcolor": "#E5ECF6",
           "caxis": {
            "gridcolor": "white",
            "linecolor": "white",
            "ticks": ""
           }
          },
          "title": {
           "x": 0.05
          },
          "xaxis": {
           "automargin": true,
           "gridcolor": "white",
           "linecolor": "white",
           "ticks": "",
           "title": {
            "standoff": 15
           },
           "zerolinecolor": "white",
           "zerolinewidth": 2
          },
          "yaxis": {
           "automargin": true,
           "gridcolor": "white",
           "linecolor": "white",
           "ticks": "",
           "title": {
            "standoff": 15
           },
           "zerolinecolor": "white",
           "zerolinewidth": 2
          }
         }
        },
        "title": {
         "text": "The Typical Chain Establishment"
        },
        "xaxis": {
         "tickangle": -45,
         "title": {
          "text": "Type of establishments"
         }
        },
        "yaxis": {
         "title": {
          "text": "establishment count"
         }
        }
       }
      },
      "text/html": [
       "<div>                            <div id=\"4b006ff3-9557-4319-b931-fffa719031a8\" class=\"plotly-graph-div\" style=\"height:525px; width:100%;\"></div>            <script type=\"text/javascript\">                require([\"plotly\"], function(Plotly) {                    window.PLOTLYENV=window.PLOTLYENV || {};                                    if (document.getElementById(\"4b006ff3-9557-4319-b931-fffa719031a8\")) {                    Plotly.newPlot(                        \"4b006ff3-9557-4319-b931-fffa719031a8\",                        [{\"marker\": {\"color\": \"indianred\"}, \"name\": \"non chain establishment\", \"type\": \"bar\", \"x\": [\"Bar\", \"Cafe\", \"Fast Food\", \"Pizza\", \"Restaurant\"], \"y\": [215, 169, 461, 166, 4961]}, {\"marker\": {\"color\": \"lightsalmon\"}, \"name\": \"chain establishment\", \"type\": \"bar\", \"x\": [\"Bakery\", \"Bar\", \"Cafe\", \"Fast Food\", \"Pizza\", \"Restaurant\"], \"y\": [283, 77, 266, 605, 154, 2294]}],                        {\"barmode\": \"group\", \"font\": {\"color\": \"RebeccaPurple\", \"family\": \"Courier New, monospace\", \"size\": 12}, \"template\": {\"data\": {\"bar\": [{\"error_x\": {\"color\": \"#2a3f5f\"}, \"error_y\": {\"color\": \"#2a3f5f\"}, \"marker\": {\"line\": {\"color\": \"#E5ECF6\", \"width\": 0.5}}, \"type\": \"bar\"}], \"barpolar\": [{\"marker\": {\"line\": {\"color\": \"#E5ECF6\", \"width\": 0.5}}, \"type\": \"barpolar\"}], \"carpet\": [{\"aaxis\": {\"endlinecolor\": \"#2a3f5f\", \"gridcolor\": \"white\", \"linecolor\": \"white\", \"minorgridcolor\": \"white\", \"startlinecolor\": \"#2a3f5f\"}, \"baxis\": {\"endlinecolor\": \"#2a3f5f\", \"gridcolor\": \"white\", \"linecolor\": \"white\", \"minorgridcolor\": \"white\", \"startlinecolor\": \"#2a3f5f\"}, \"type\": \"carpet\"}], \"choropleth\": [{\"colorbar\": {\"outlinewidth\": 0, \"ticks\": \"\"}, \"type\": \"choropleth\"}], \"contour\": [{\"colorbar\": {\"outlinewidth\": 0, \"ticks\": \"\"}, \"colorscale\": [[0.0, \"#0d0887\"], [0.1111111111111111, \"#46039f\"], [0.2222222222222222, \"#7201a8\"], [0.3333333333333333, \"#9c179e\"], [0.4444444444444444, \"#bd3786\"], [0.5555555555555556, \"#d8576b\"], [0.6666666666666666, \"#ed7953\"], [0.7777777777777778, \"#fb9f3a\"], [0.8888888888888888, \"#fdca26\"], [1.0, \"#f0f921\"]], \"type\": \"contour\"}], \"contourcarpet\": [{\"colorbar\": {\"outlinewidth\": 0, \"ticks\": \"\"}, \"type\": \"contourcarpet\"}], \"heatmap\": [{\"colorbar\": {\"outlinewidth\": 0, \"ticks\": \"\"}, \"colorscale\": [[0.0, \"#0d0887\"], [0.1111111111111111, \"#46039f\"], [0.2222222222222222, \"#7201a8\"], [0.3333333333333333, \"#9c179e\"], [0.4444444444444444, \"#bd3786\"], [0.5555555555555556, \"#d8576b\"], [0.6666666666666666, \"#ed7953\"], [0.7777777777777778, \"#fb9f3a\"], [0.8888888888888888, \"#fdca26\"], [1.0, \"#f0f921\"]], \"type\": \"heatmap\"}], \"heatmapgl\": [{\"colorbar\": {\"outlinewidth\": 0, \"ticks\": \"\"}, \"colorscale\": [[0.0, \"#0d0887\"], [0.1111111111111111, \"#46039f\"], [0.2222222222222222, \"#7201a8\"], [0.3333333333333333, \"#9c179e\"], [0.4444444444444444, \"#bd3786\"], [0.5555555555555556, \"#d8576b\"], [0.6666666666666666, \"#ed7953\"], [0.7777777777777778, \"#fb9f3a\"], [0.8888888888888888, \"#fdca26\"], [1.0, \"#f0f921\"]], \"type\": \"heatmapgl\"}], \"histogram\": [{\"marker\": {\"colorbar\": {\"outlinewidth\": 0, \"ticks\": \"\"}}, \"type\": \"histogram\"}], \"histogram2d\": [{\"colorbar\": {\"outlinewidth\": 0, \"ticks\": \"\"}, \"colorscale\": [[0.0, \"#0d0887\"], [0.1111111111111111, \"#46039f\"], [0.2222222222222222, \"#7201a8\"], [0.3333333333333333, \"#9c179e\"], [0.4444444444444444, \"#bd3786\"], [0.5555555555555556, \"#d8576b\"], [0.6666666666666666, \"#ed7953\"], [0.7777777777777778, \"#fb9f3a\"], [0.8888888888888888, \"#fdca26\"], [1.0, \"#f0f921\"]], \"type\": \"histogram2d\"}], \"histogram2dcontour\": [{\"colorbar\": {\"outlinewidth\": 0, \"ticks\": \"\"}, \"colorscale\": [[0.0, \"#0d0887\"], [0.1111111111111111, \"#46039f\"], [0.2222222222222222, \"#7201a8\"], [0.3333333333333333, \"#9c179e\"], [0.4444444444444444, \"#bd3786\"], [0.5555555555555556, \"#d8576b\"], [0.6666666666666666, \"#ed7953\"], [0.7777777777777778, \"#fb9f3a\"], [0.8888888888888888, \"#fdca26\"], [1.0, \"#f0f921\"]], \"type\": \"histogram2dcontour\"}], \"mesh3d\": [{\"colorbar\": {\"outlinewidth\": 0, \"ticks\": \"\"}, \"type\": \"mesh3d\"}], \"parcoords\": [{\"line\": {\"colorbar\": {\"outlinewidth\": 0, \"ticks\": \"\"}}, \"type\": \"parcoords\"}], \"pie\": [{\"automargin\": true, \"type\": \"pie\"}], \"scatter\": [{\"marker\": {\"colorbar\": {\"outlinewidth\": 0, \"ticks\": \"\"}}, \"type\": \"scatter\"}], \"scatter3d\": [{\"line\": {\"colorbar\": {\"outlinewidth\": 0, \"ticks\": \"\"}}, \"marker\": {\"colorbar\": {\"outlinewidth\": 0, \"ticks\": \"\"}}, \"type\": \"scatter3d\"}], \"scattercarpet\": [{\"marker\": {\"colorbar\": {\"outlinewidth\": 0, \"ticks\": \"\"}}, \"type\": \"scattercarpet\"}], \"scattergeo\": [{\"marker\": {\"colorbar\": {\"outlinewidth\": 0, \"ticks\": \"\"}}, \"type\": \"scattergeo\"}], \"scattergl\": [{\"marker\": {\"colorbar\": {\"outlinewidth\": 0, \"ticks\": \"\"}}, \"type\": \"scattergl\"}], \"scattermapbox\": [{\"marker\": {\"colorbar\": {\"outlinewidth\": 0, \"ticks\": \"\"}}, \"type\": \"scattermapbox\"}], \"scatterpolar\": [{\"marker\": {\"colorbar\": {\"outlinewidth\": 0, \"ticks\": \"\"}}, \"type\": \"scatterpolar\"}], \"scatterpolargl\": [{\"marker\": {\"colorbar\": {\"outlinewidth\": 0, \"ticks\": \"\"}}, \"type\": \"scatterpolargl\"}], \"scatterternary\": [{\"marker\": {\"colorbar\": {\"outlinewidth\": 0, \"ticks\": \"\"}}, \"type\": \"scatterternary\"}], \"surface\": [{\"colorbar\": {\"outlinewidth\": 0, \"ticks\": \"\"}, \"colorscale\": [[0.0, \"#0d0887\"], [0.1111111111111111, \"#46039f\"], [0.2222222222222222, \"#7201a8\"], [0.3333333333333333, \"#9c179e\"], [0.4444444444444444, \"#bd3786\"], [0.5555555555555556, \"#d8576b\"], [0.6666666666666666, \"#ed7953\"], [0.7777777777777778, \"#fb9f3a\"], [0.8888888888888888, \"#fdca26\"], [1.0, \"#f0f921\"]], \"type\": \"surface\"}], \"table\": [{\"cells\": {\"fill\": {\"color\": \"#EBF0F8\"}, \"line\": {\"color\": \"white\"}}, \"header\": {\"fill\": {\"color\": \"#C8D4E3\"}, \"line\": {\"color\": \"white\"}}, \"type\": \"table\"}]}, \"layout\": {\"annotationdefaults\": {\"arrowcolor\": \"#2a3f5f\", \"arrowhead\": 0, \"arrowwidth\": 1}, \"autotypenumbers\": \"strict\", \"coloraxis\": {\"colorbar\": {\"outlinewidth\": 0, \"ticks\": \"\"}}, \"colorscale\": {\"diverging\": [[0, \"#8e0152\"], [0.1, \"#c51b7d\"], [0.2, \"#de77ae\"], [0.3, \"#f1b6da\"], [0.4, \"#fde0ef\"], [0.5, \"#f7f7f7\"], [0.6, \"#e6f5d0\"], [0.7, \"#b8e186\"], [0.8, \"#7fbc41\"], [0.9, \"#4d9221\"], [1, \"#276419\"]], \"sequential\": [[0.0, \"#0d0887\"], [0.1111111111111111, \"#46039f\"], [0.2222222222222222, \"#7201a8\"], [0.3333333333333333, \"#9c179e\"], [0.4444444444444444, \"#bd3786\"], [0.5555555555555556, \"#d8576b\"], [0.6666666666666666, \"#ed7953\"], [0.7777777777777778, \"#fb9f3a\"], [0.8888888888888888, \"#fdca26\"], [1.0, \"#f0f921\"]], \"sequentialminus\": [[0.0, \"#0d0887\"], [0.1111111111111111, \"#46039f\"], [0.2222222222222222, \"#7201a8\"], [0.3333333333333333, \"#9c179e\"], [0.4444444444444444, \"#bd3786\"], [0.5555555555555556, \"#d8576b\"], [0.6666666666666666, \"#ed7953\"], [0.7777777777777778, \"#fb9f3a\"], [0.8888888888888888, \"#fdca26\"], [1.0, \"#f0f921\"]]}, \"colorway\": [\"#636efa\", \"#EF553B\", \"#00cc96\", \"#ab63fa\", \"#FFA15A\", \"#19d3f3\", \"#FF6692\", \"#B6E880\", \"#FF97FF\", \"#FECB52\"], \"font\": {\"color\": \"#2a3f5f\"}, \"geo\": {\"bgcolor\": \"white\", \"lakecolor\": \"white\", \"landcolor\": \"#E5ECF6\", \"showlakes\": true, \"showland\": true, \"subunitcolor\": \"white\"}, \"hoverlabel\": {\"align\": \"left\"}, \"hovermode\": \"closest\", \"mapbox\": {\"style\": \"light\"}, \"paper_bgcolor\": \"white\", \"plot_bgcolor\": \"#E5ECF6\", \"polar\": {\"angularaxis\": {\"gridcolor\": \"white\", \"linecolor\": \"white\", \"ticks\": \"\"}, \"bgcolor\": \"#E5ECF6\", \"radialaxis\": {\"gridcolor\": \"white\", \"linecolor\": \"white\", \"ticks\": \"\"}}, \"scene\": {\"xaxis\": {\"backgroundcolor\": \"#E5ECF6\", \"gridcolor\": \"white\", \"gridwidth\": 2, \"linecolor\": \"white\", \"showbackground\": true, \"ticks\": \"\", \"zerolinecolor\": \"white\"}, \"yaxis\": {\"backgroundcolor\": \"#E5ECF6\", \"gridcolor\": \"white\", \"gridwidth\": 2, \"linecolor\": \"white\", \"showbackground\": true, \"ticks\": \"\", \"zerolinecolor\": \"white\"}, \"zaxis\": {\"backgroundcolor\": \"#E5ECF6\", \"gridcolor\": \"white\", \"gridwidth\": 2, \"linecolor\": \"white\", \"showbackground\": true, \"ticks\": \"\", \"zerolinecolor\": \"white\"}}, \"shapedefaults\": {\"line\": {\"color\": \"#2a3f5f\"}}, \"ternary\": {\"aaxis\": {\"gridcolor\": \"white\", \"linecolor\": \"white\", \"ticks\": \"\"}, \"baxis\": {\"gridcolor\": \"white\", \"linecolor\": \"white\", \"ticks\": \"\"}, \"bgcolor\": \"#E5ECF6\", \"caxis\": {\"gridcolor\": \"white\", \"linecolor\": \"white\", \"ticks\": \"\"}}, \"title\": {\"x\": 0.05}, \"xaxis\": {\"automargin\": true, \"gridcolor\": \"white\", \"linecolor\": \"white\", \"ticks\": \"\", \"title\": {\"standoff\": 15}, \"zerolinecolor\": \"white\", \"zerolinewidth\": 2}, \"yaxis\": {\"automargin\": true, \"gridcolor\": \"white\", \"linecolor\": \"white\", \"ticks\": \"\", \"title\": {\"standoff\": 15}, \"zerolinecolor\": \"white\", \"zerolinewidth\": 2}}}, \"title\": {\"text\": \"The Typical Chain Establishment\"}, \"xaxis\": {\"tickangle\": -45, \"title\": {\"text\": \"Type of establishments\"}}, \"yaxis\": {\"title\": {\"text\": \"establishment count\"}}},                        {\"responsive\": true}                    ).then(function(){\n",
       "                            \n",
       "var gd = document.getElementById('4b006ff3-9557-4319-b931-fffa719031a8');\n",
       "var x = new MutationObserver(function (mutations, observer) {{\n",
       "        var display = window.getComputedStyle(gd).display;\n",
       "        if (!display || display === 'none') {{\n",
       "            console.log([gd, 'removed!']);\n",
       "            Plotly.purge(gd);\n",
       "            observer.disconnect();\n",
       "        }}\n",
       "}});\n",
       "\n",
       "// Listen for the removal of the full notebook cells\n",
       "var notebookContainer = gd.closest('#notebook-container');\n",
       "if (notebookContainer) {{\n",
       "    x.observe(notebookContainer, {childList: true});\n",
       "}}\n",
       "\n",
       "// Listen for the clearing of the current output cell\n",
       "var outputEl = gd.closest('.output');\n",
       "if (outputEl) {{\n",
       "    x.observe(outputEl, {childList: true});\n",
       "}}\n",
       "\n",
       "                        })                };                });            </script>        </div>"
      ]
     },
     "metadata": {},
     "output_type": "display_data"
    }
   ],
   "source": [
    "# put the 2 new dataframe of chain and and non chain establishment in graph\n",
    "fig = go.Figure()\n",
    "fig.add_trace(go.Bar(x=nonchain_list_group.index.values,y=nonchain_list_group['chain_type'],\n",
    "                     name='non chain establishment', marker_color='indianred'))\n",
    "fig.add_trace(go.Bar( x=chain_list_group.index.values,y=chain_list_group['chain_type'],name='chain establishment',\n",
    "                     marker_color='lightsalmon'))\n",
    "\n",
    "# Here we modify the tickangle of the xaxis, resulting in rotated labels.\n",
    "fig.update_layout(barmode='group', xaxis_tickangle=-45, title=\"The Typical Chain Establishment\",\n",
    "                  xaxis_title=\"Type of establishments\", yaxis_title=\"establishment count\",\n",
    "                  font=dict(family=\"Courier New, monospace\", size=12, color=\"RebeccaPurple\"))\n",
    "                  \n",
    "fig.show();"
   ]
  },
  {
   "cell_type": "markdown",
   "metadata": {},
   "source": [
    "All Bakery in LA is part of a chain establishment, while Cafe and fastfood has a higher chance of being a chain: In addition, around 1/3 (31.6%) of restaurants belong to chains; this is likely the reason why non-chains were well represented in the pie chart earlier.This data could suggest that it will be wiser to open a restaurant than a cafe.\n",
    "\n"
   ]
  },
  {
   "cell_type": "markdown",
   "metadata": {},
   "source": [
    "<p><a name=\"chainchar\"></a></p>\n",
    "\n",
    "* **What characterizes chains: many establishments with a small number of seats or a few establishments with a lot of seats?**"
   ]
  },
  {
   "cell_type": "code",
   "execution_count": 24,
   "metadata": {},
   "outputs": [
    {
     "data": {
      "application/vnd.plotly.v1+json": {
       "config": {
        "plotlyServerURL": "https://plot.ly"
       },
       "data": [
        {
         "alignmentgroup": "True",
         "bingroup": "x",
         "hovertemplate": "seats=%{x}<br>count=%{y}<extra></extra>",
         "legendgroup": "",
         "marker": {
          "color": "#636efa"
         },
         "name": "",
         "offsetgroup": "",
         "orientation": "v",
         "showlegend": false,
         "type": "histogram",
         "x": [
          1,
          38,
          17,
          133,
          26,
          21,
          43,
          80,
          15,
          118,
          35,
          15,
          1,
          19,
          49,
          37,
          158,
          22,
          35,
          20,
          28,
          27,
          2,
          21,
          24,
          16,
          24,
          66,
          112,
          21,
          27,
          3,
          45,
          63,
          121,
          20,
          15,
          16,
          6,
          4,
          3,
          40,
          88,
          40,
          42,
          19,
          5,
          9,
          4,
          128,
          224,
          36,
          6,
          11,
          23,
          107,
          134,
          25,
          37,
          1,
          16,
          20,
          21,
          45,
          40,
          20,
          4,
          26,
          17,
          24,
          21,
          35,
          5,
          2,
          21,
          17,
          133,
          44,
          7,
          23,
          23,
          3,
          43,
          15,
          15,
          34,
          123,
          10,
          27,
          44,
          27,
          46,
          77,
          6,
          21,
          15,
          19,
          14,
          45,
          14,
          49,
          11,
          18,
          18,
          79,
          22,
          37,
          12,
          109,
          13,
          182,
          44,
          18,
          10,
          23,
          24,
          81,
          69,
          39,
          25,
          12,
          5,
          117,
          13,
          48,
          15,
          41,
          167,
          31,
          16,
          44,
          29,
          5,
          27,
          35,
          19,
          9,
          46,
          111,
          28,
          11,
          43,
          164,
          35,
          11,
          19,
          129,
          1,
          27,
          85,
          29,
          33,
          5,
          196,
          1,
          46,
          84,
          91,
          21,
          25,
          9,
          47,
          88,
          12,
          23,
          3,
          5,
          11,
          41,
          20,
          20,
          20,
          33,
          139,
          25,
          29,
          28,
          7,
          98,
          227,
          158,
          43,
          12,
          43,
          229,
          39,
          8,
          43,
          28,
          37,
          34,
          24,
          16,
          12,
          49,
          13,
          11,
          38,
          13,
          13,
          112,
          10,
          9,
          3,
          155,
          25,
          49,
          6,
          2,
          32,
          11,
          13,
          40,
          7,
          11,
          33,
          9,
          5,
          102,
          44,
          10,
          14,
          2,
          15,
          229,
          47,
          33,
          65,
          20,
          41,
          24,
          9,
          42,
          6,
          34,
          12,
          74,
          32,
          49,
          39,
          26,
          46,
          40,
          138,
          25,
          26,
          22,
          31,
          4,
          109,
          24,
          7,
          13,
          119,
          71,
          40,
          21,
          21,
          118,
          6,
          11,
          9,
          10,
          14,
          19,
          17,
          69,
          104,
          12,
          9,
          28,
          62,
          90,
          11,
          20,
          2,
          15,
          12,
          29,
          20,
          23,
          45,
          84,
          12,
          36,
          151,
          186,
          6,
          17,
          12,
          44,
          48,
          23,
          13,
          43,
          5,
          16,
          23,
          4,
          136,
          119,
          106,
          40,
          26,
          14,
          16,
          12,
          11,
          7,
          29,
          41,
          45,
          22,
          22,
          7,
          17,
          90,
          21,
          1,
          43,
          107,
          36,
          10,
          110,
          10,
          45,
          86,
          37,
          24,
          38,
          11,
          44,
          17,
          67,
          20,
          194,
          29,
          29,
          25,
          16,
          28,
          13,
          7,
          9,
          29,
          1,
          8,
          45,
          6,
          19,
          3,
          13,
          16,
          37,
          3,
          18,
          20,
          2,
          25,
          126,
          6,
          3,
          127,
          3,
          91,
          32,
          29,
          15,
          43,
          42,
          3,
          47,
          91,
          12,
          23,
          21,
          9,
          6,
          47,
          14,
          1,
          7,
          19,
          81,
          104,
          4,
          6,
          26,
          16,
          37,
          25,
          17,
          7,
          20,
          43,
          142,
          10,
          20,
          47,
          5,
          12,
          103,
          22,
          69,
          212,
          161,
          22,
          13,
          38,
          226,
          27,
          42,
          82,
          28,
          41,
          19,
          5,
          13,
          15,
          1,
          140,
          18,
          13,
          42,
          26,
          18,
          14,
          11,
          92,
          17,
          7,
          3,
          83,
          19,
          118,
          24,
          110,
          19,
          19,
          18,
          27,
          124,
          19,
          22,
          43,
          10,
          42,
          84,
          12,
          74,
          8,
          33,
          22,
          80,
          12,
          83,
          19,
          19,
          8,
          13,
          115,
          25,
          7,
          86,
          181,
          32,
          24,
          10,
          26,
          42,
          111,
          108,
          5,
          15,
          64,
          9,
          131,
          36,
          26,
          39,
          12,
          25,
          49,
          15,
          159,
          4,
          13,
          41,
          42,
          107,
          74,
          64,
          32,
          20,
          36,
          182,
          2,
          29,
          20,
          185,
          2,
          65,
          32,
          45,
          29,
          23,
          66,
          175,
          11,
          18,
          172,
          45,
          9,
          84,
          2,
          116,
          28,
          113,
          38,
          10,
          142,
          141,
          45,
          11,
          37,
          29,
          32,
          40,
          80,
          19,
          6,
          5,
          20,
          24,
          17,
          14,
          110,
          189,
          178,
          37,
          180,
          10,
          9,
          123,
          48,
          29,
          45,
          1,
          75,
          21,
          112,
          131,
          40,
          26,
          107,
          195,
          216,
          21,
          7,
          44,
          37,
          3,
          1,
          220,
          88,
          35,
          32,
          21,
          6,
          3,
          7,
          107,
          11,
          63,
          6,
          12,
          20,
          85,
          21,
          69,
          13,
          63,
          2,
          25,
          19,
          47,
          1,
          77,
          44,
          3,
          107,
          102,
          41,
          83,
          181,
          93,
          21,
          11,
          119,
          25,
          31,
          8,
          26,
          28,
          20,
          225,
          10,
          21,
          41,
          114,
          21,
          49,
          3,
          137,
          9,
          66,
          74,
          41,
          18,
          18,
          19,
          44,
          38,
          49,
          48,
          47,
          44,
          41,
          43,
          49,
          1,
          45,
          68,
          7,
          13,
          6,
          43,
          48,
          17,
          63,
          44,
          48,
          37,
          160,
          37,
          17,
          194,
          1,
          13,
          22,
          101,
          12,
          17,
          18,
          46,
          20,
          25,
          23,
          138,
          28,
          107,
          42,
          117,
          23,
          1,
          4,
          35,
          41,
          35,
          43,
          15,
          19,
          221,
          210,
          139,
          35,
          19,
          45,
          48,
          45,
          49,
          31,
          45,
          41,
          1,
          104,
          47,
          29,
          24,
          85,
          27,
          18,
          39,
          24,
          120,
          20,
          103,
          77,
          1,
          145,
          23,
          28,
          227,
          148,
          13,
          115,
          21,
          6,
          17,
          4,
          12,
          225,
          17,
          43,
          194,
          28,
          22,
          1,
          28,
          33,
          1,
          14,
          109,
          13,
          23,
          8,
          13,
          6,
          26,
          16,
          1,
          41,
          178,
          11,
          83,
          137,
          5,
          17,
          40,
          4,
          25,
          31,
          175,
          3,
          37,
          22,
          23,
          31,
          31,
          27,
          24,
          218,
          44,
          49,
          5,
          13,
          6,
          39,
          158,
          10,
          15,
          18,
          44,
          2,
          35,
          114,
          13,
          33,
          102,
          36,
          136,
          24,
          28,
          11,
          128,
          23,
          27,
          23,
          211,
          8,
          85,
          38,
          69,
          20,
          48,
          127,
          13,
          125,
          15,
          102,
          75,
          126,
          11,
          23,
          12,
          47,
          4,
          10,
          36,
          127,
          164,
          16,
          3,
          10,
          48,
          20,
          33,
          37,
          177,
          39,
          13,
          8,
          4,
          31,
          35,
          20,
          48,
          3,
          181,
          28,
          24,
          24,
          6,
          24,
          16,
          9,
          110,
          74,
          66,
          27,
          21,
          5,
          29,
          4,
          42,
          36,
          1,
          28,
          23,
          12,
          25,
          32,
          87,
          15,
          41,
          29,
          140,
          28,
          5,
          33,
          21,
          3,
          16,
          16,
          119,
          1,
          102,
          216,
          43,
          45,
          36,
          29,
          20,
          47,
          48,
          49,
          143,
          14,
          29,
          148,
          7,
          27,
          35,
          5,
          5,
          32,
          10,
          42,
          9,
          42,
          18,
          22,
          44,
          6,
          31,
          27,
          2,
          3,
          12,
          28,
          91,
          67,
          66,
          161,
          34,
          117,
          27,
          36,
          43,
          40,
          25,
          129,
          9,
          2,
          39,
          21,
          80,
          65,
          69,
          161,
          22,
          213,
          144,
          7,
          13,
          35,
          20,
          1,
          3,
          28,
          10,
          67,
          190,
          24,
          115,
          10,
          21,
          112,
          2,
          68,
          6,
          13,
          109,
          159,
          203,
          107,
          41,
          49,
          39,
          198,
          38,
          37,
          12,
          11,
          74,
          47,
          45,
          33,
          48,
          170,
          11,
          28,
          7,
          4,
          34,
          6,
          40,
          175,
          42,
          9,
          45,
          32,
          144,
          14,
          16,
          43,
          11,
          38,
          46,
          17,
          5,
          142,
          192,
          23,
          25,
          14,
          18,
          2,
          19,
          25,
          49,
          96,
          38,
          32,
          25,
          38,
          46,
          25,
          116,
          8,
          31,
          23,
          4,
          18,
          20,
          44,
          18,
          46,
          47,
          8,
          46,
          7,
          12,
          41,
          26,
          62,
          47,
          63,
          24,
          105,
          25,
          39,
          9,
          39,
          33,
          18,
          8,
          28,
          38,
          33,
          219,
          37,
          33,
          32,
          2,
          27,
          9,
          4,
          15,
          31,
          34,
          26,
          7,
          28,
          69,
          38,
          41,
          39,
          3,
          12,
          26,
          22,
          33,
          137,
          32,
          217,
          22,
          12,
          10,
          10,
          2,
          2,
          43,
          2,
          145,
          20,
          122,
          45,
          118,
          36,
          47,
          7,
          15,
          15,
          4,
          24,
          19,
          16,
          21,
          8,
          49,
          5,
          24,
          7,
          27,
          2,
          38,
          49,
          47,
          32,
          38,
          45,
          3,
          25,
          37,
          140,
          49,
          8,
          1,
          7,
          133,
          16,
          73,
          20,
          18,
          15,
          37,
          25,
          44,
          4,
          117,
          24,
          95,
          24,
          26,
          72,
          168,
          45,
          26,
          45,
          33,
          20,
          3,
          31,
          33,
          25,
          21,
          18,
          2,
          48,
          21,
          11,
          35,
          12,
          25,
          137,
          46,
          15,
          13,
          31,
          9,
          17,
          91,
          7,
          18,
          35,
          29,
          16,
          6,
          78,
          129,
          45,
          135,
          13,
          99,
          49,
          177,
          37,
          36,
          99,
          17,
          8,
          39,
          158,
          18,
          15,
          13,
          4,
          6,
          36,
          48,
          27,
          145,
          7,
          44,
          2,
          168,
          8,
          22,
          29,
          126,
          25,
          9,
          42,
          3,
          5,
          39,
          4,
          11,
          20,
          10,
          40,
          3,
          142,
          3,
          4,
          40,
          15,
          23,
          25,
          3,
          21,
          45,
          67,
          83,
          35,
          62,
          23,
          37,
          32,
          2,
          39,
          18,
          28,
          10,
          22,
          24,
          12,
          5,
          27,
          103,
          111,
          78,
          13,
          31,
          49,
          27,
          12,
          41,
          40,
          22,
          22,
          29,
          25,
          4,
          9,
          34,
          6,
          33,
          18,
          1,
          18,
          6,
          34,
          20,
          31,
          3,
          32,
          9,
          17,
          70,
          33,
          22,
          40,
          15,
          47,
          4,
          48,
          27,
          11,
          8,
          40,
          8,
          2,
          6,
          40,
          14,
          14,
          1,
          21,
          10,
          38,
          45,
          12,
          28,
          42,
          28,
          8,
          35,
          24,
          29,
          199,
          19,
          46,
          20,
          31,
          122,
          13,
          3,
          49,
          25,
          136,
          44,
          49,
          45,
          190,
          109,
          11,
          37,
          26,
          22,
          23,
          62,
          44,
          18,
          19,
          19,
          42,
          22,
          39,
          21,
          17,
          44,
          18,
          3,
          39,
          44,
          3,
          2,
          43,
          119,
          130,
          75,
          25,
          13,
          25,
          22,
          16,
          22,
          155,
          22,
          1,
          140,
          32,
          94,
          35,
          66,
          39,
          4,
          28,
          4,
          48,
          47,
          125,
          38,
          17,
          45,
          7,
          23,
          6,
          121,
          41,
          47,
          39,
          15,
          3,
          104,
          26,
          87,
          37,
          25,
          113,
          158,
          95,
          35,
          47,
          28,
          31,
          139,
          5,
          25,
          138,
          6,
          93,
          89,
          1,
          29,
          4,
          4,
          25,
          5,
          95,
          22,
          112,
          18,
          11,
          22,
          14,
          24,
          23,
          48,
          1,
          3,
          43,
          4,
          14,
          6,
          6,
          6,
          14,
          6,
          49,
          34,
          48,
          18,
          2,
          7,
          48,
          23,
          10,
          12,
          96,
          7,
          46,
          43,
          142,
          6,
          1,
          32,
          40,
          31,
          124,
          8,
          80,
          42,
          28,
          5,
          39,
          216,
          39,
          18,
          14,
          145,
          26,
          16,
          22,
          31,
          9,
          133,
          44,
          38,
          19,
          66,
          20,
          10,
          5,
          14,
          9,
          3,
          19,
          33,
          111,
          35,
          34,
          8,
          24,
          22,
          1,
          37,
          29,
          17,
          24,
          24,
          1,
          7,
          4,
          32,
          46,
          49,
          115,
          39,
          103,
          2,
          5,
          98,
          182,
          42,
          40,
          35,
          146,
          84,
          47,
          5,
          34,
          35,
          19,
          12,
          209,
          203,
          34,
          43,
          28,
          77,
          35,
          11,
          42,
          218,
          28,
          28,
          16,
          15,
          7,
          1,
          134,
          45,
          49,
          76,
          42,
          28,
          42,
          12,
          36,
          16,
          13,
          135,
          20,
          8,
          133,
          28,
          138,
          14,
          1,
          47,
          141,
          40,
          209,
          38,
          28,
          95,
          13,
          42,
          139,
          23,
          11,
          145,
          29,
          33,
          26,
          42,
          133,
          24,
          14,
          140,
          20,
          11,
          35,
          28,
          5,
          107,
          100,
          40,
          38,
          3,
          4,
          19,
          48,
          23,
          5,
          102,
          29,
          209,
          135,
          3,
          28,
          15,
          32,
          4,
          21,
          23,
          2,
          47,
          9,
          26,
          42,
          18,
          37,
          13,
          143,
          8,
          125,
          100,
          14,
          111,
          16,
          24,
          26,
          49,
          205,
          26,
          19,
          15,
          45,
          35,
          41,
          46,
          36,
          14,
          27,
          41,
          25,
          12,
          21,
          5,
          108,
          21,
          42,
          10,
          16,
          4,
          23,
          142,
          18,
          17,
          19,
          19,
          38,
          80,
          37,
          112,
          13,
          5,
          1,
          41,
          45,
          4,
          43,
          34,
          49,
          1,
          21,
          107,
          5,
          9,
          126,
          1,
          43,
          16,
          1,
          168,
          16,
          18,
          5,
          28,
          67,
          16,
          64,
          18,
          78,
          27,
          14,
          40,
          66,
          24,
          12,
          23,
          88,
          2,
          15,
          44,
          14,
          10,
          28,
          18,
          21,
          5,
          37,
          161,
          95,
          114,
          29,
          22,
          34,
          12,
          7,
          31,
          26,
          14,
          48,
          15,
          18,
          16,
          14,
          2,
          9,
          7,
          11,
          44,
          15,
          3,
          48,
          42,
          32,
          27,
          31,
          20,
          6,
          21,
          12,
          17,
          3,
          4,
          18,
          129,
          25,
          22,
          21,
          9,
          37,
          86,
          7,
          40,
          77,
          154,
          16,
          21,
          36,
          64,
          2,
          42,
          64,
          86,
          17,
          40,
          3,
          44,
          87,
          96,
          25,
          11,
          34,
          67,
          70,
          32,
          16,
          28,
          41,
          15,
          135,
          45,
          195,
          29,
          7,
          4,
          94,
          16,
          8,
          93,
          41,
          4,
          105,
          4,
          25,
          10,
          16,
          125,
          21,
          95,
          9,
          26,
          24,
          27,
          177,
          41,
          5,
          191,
          49,
          14,
          7,
          25,
          142,
          39,
          17,
          126,
          20,
          17,
          21,
          222,
          19,
          3,
          14,
          6,
          16,
          2,
          42,
          111,
          26,
          42,
          33,
          29,
          140,
          38,
          31,
          18,
          24,
          36,
          12,
          139,
          29,
          22,
          12,
          1,
          28,
          12,
          12,
          39,
          118,
          5,
          94,
          36,
          23,
          49,
          69,
          91,
          11,
          24,
          12,
          44,
          63,
          37,
          84,
          6,
          29,
          2,
          125,
          11,
          12,
          9,
          16,
          26,
          23,
          107,
          4,
          167,
          8,
          36,
          117,
          33,
          21,
          18,
          17,
          27,
          105,
          43,
          46,
          22,
          27,
          14,
          29,
          2,
          17,
          45,
          132,
          13,
          21,
          27,
          28,
          39,
          21,
          20,
          5,
          19,
          22,
          36,
          61,
          22,
          29,
          17,
          13,
          130,
          48,
          27,
          5,
          17,
          114,
          4,
          20,
          9,
          171,
          24,
          17,
          24,
          14,
          22,
          18,
          9,
          33,
          104,
          4,
          10,
          17,
          161,
          77,
          29,
          2,
          37,
          22,
          7,
          7,
          19,
          11,
          21,
          27,
          146,
          3,
          47,
          19,
          106,
          11,
          49,
          123,
          19,
          110,
          78,
          89,
          43,
          5,
          25,
          41,
          22,
          138,
          79,
          6,
          25,
          39,
          10,
          27,
          23,
          15,
          27,
          7,
          15,
          1,
          44,
          10,
          27,
          16,
          26,
          14,
          8,
          42,
          10,
          15,
          3,
          34,
          44,
          32,
          16,
          27,
          26,
          28,
          4,
          38,
          2,
          14,
          11,
          17,
          13,
          48,
          26,
          40,
          39,
          13,
          42,
          39,
          1,
          96,
          92,
          29,
          38,
          8,
          67,
          143,
          36,
          91,
          11,
          118,
          36,
          13,
          14,
          28,
          32,
          114,
          36,
          29,
          5,
          39,
          6,
          17,
          17,
          24,
          34,
          42,
          17,
          15,
          20,
          46,
          45,
          27,
          42,
          45,
          1,
          21,
          23,
          31,
          102,
          145,
          22,
          128,
          33,
          17,
          21,
          23,
          16,
          21,
          32,
          18,
          16,
          43,
          8,
          3,
          16,
          17,
          62,
          28,
          9,
          127,
          12,
          22,
          27,
          3,
          19,
          8,
          132,
          42,
          118,
          5,
          19,
          48,
          19,
          4,
          47,
          208,
          12,
          49,
          1,
          77,
          11,
          8,
          48,
          21,
          42,
          33,
          44,
          44,
          15,
          5,
          43,
          70,
          6,
          62,
          1,
          10,
          4,
          21,
          25,
          14,
          19,
          27,
          23,
          23,
          39,
          47,
          12,
          8,
          40,
          24,
          20,
          33,
          14,
          14,
          5,
          27,
          15,
          10,
          1,
          28,
          13,
          17,
          13,
          23,
          38,
          228,
          15,
          33,
          141,
          12,
          48,
          36,
          23,
          44,
          13,
          17,
          9,
          118,
          13,
          44,
          123,
          22,
          13,
          12,
          14,
          2,
          16,
          26,
          26,
          24,
          11,
          12,
          36,
          32,
          92,
          129,
          22,
          15,
          18,
          1,
          1,
          12,
          126,
          1,
          10,
          12,
          4,
          9,
          124,
          16,
          122,
          12,
          3,
          106,
          194,
          92,
          45,
          15,
          199,
          42,
          29,
          45,
          35,
          24,
          45,
          87,
          100,
          27,
          13,
          21,
          103,
          29,
          41,
          42,
          32,
          8,
          3,
          33,
          23,
          35,
          31,
          22,
          88,
          38,
          140,
          17,
          43,
          9,
          49,
          19,
          20,
          12,
          6,
          46,
          15,
          187,
          3,
          144,
          39,
          24,
          10,
          24,
          27,
          2,
          103,
          38,
          13,
          37,
          91,
          41,
          123,
          128,
          18,
          12,
          31,
          21,
          14,
          33,
          28,
          27,
          10,
          46,
          23,
          19,
          64,
          19,
          39,
          21,
          13,
          23,
          8,
          101,
          219,
          31,
          68,
          47,
          36,
          26,
          17,
          4,
          25,
          6,
          11,
          216,
          189,
          17,
          11,
          38,
          25,
          24,
          29,
          3,
          21,
          15,
          2,
          34,
          3,
          13,
          78,
          218,
          40,
          9,
          18,
          34,
          11,
          48,
          44,
          80,
          18,
          10,
          9,
          7,
          15,
          80,
          22,
          26,
          142,
          48,
          39,
          7,
          35,
          29,
          7,
          19,
          32,
          49,
          11,
          22,
          48,
          26,
          205,
          15,
          18,
          143,
          28,
          176,
          4,
          34,
          35,
          24,
          26,
          20,
          15,
          5,
          43,
          87,
          26,
          29,
          40,
          3,
          16,
          1,
          29,
          3,
          24,
          43,
          46,
          13,
          14,
          41,
          22,
          42,
          44,
          8,
          206,
          44,
          12,
          19,
          20,
          17,
          148,
          32,
          21,
          22,
          7,
          6,
          43,
          25,
          16,
          169,
          114,
          162,
          17,
          14,
          3,
          18,
          25,
          14,
          7,
          209,
          19,
          29,
          42,
          36,
          12,
          89,
          112,
          10,
          12,
          140,
          31,
          29,
          10,
          12,
          3,
          62,
          14,
          17,
          117,
          9,
          27,
          18,
          27,
          99,
          21,
          3,
          9,
          23,
          45,
          25,
          43,
          11,
          27,
          6,
          19,
          46,
          2,
          31,
          16,
          25,
          28,
          36,
          7,
          76,
          211,
          145,
          17,
          23,
          49,
          204,
          68,
          22,
          32,
          24,
          97,
          95,
          82,
          26,
          27,
          12,
          181,
          38,
          14,
          21,
          29,
          16,
          99,
          18,
          19,
          9,
          113,
          9,
          138,
          4,
          21,
          17,
          79,
          29,
          36,
          36,
          47,
          33,
          8,
          119,
          1,
          17,
          22,
          48,
          37,
          27,
          103,
          47,
          108,
          23,
          28,
          82,
          10,
          19,
          40,
          48,
          177,
          1,
          32,
          24,
          4,
          25,
          29,
          21,
          7,
          10,
          105,
          5,
          21,
          44,
          98,
          1,
          3,
          21,
          17,
          26,
          3,
          28,
          19,
          13,
          44,
          99,
          6,
          6,
          21,
          16,
          49,
          72,
          4,
          87,
          195,
          28,
          191,
          2,
          27,
          48,
          17,
          13,
          25,
          28,
          1,
          27,
          14,
          34,
          123,
          45,
          37,
          107,
          24,
          16,
          9,
          67,
          33,
          4,
          18,
          46,
          15,
          2,
          25,
          35,
          2,
          43,
          44,
          11,
          38,
          5,
          3,
          36,
          32,
          2,
          7,
          138,
          124,
          12,
          31,
          131,
          8,
          21,
          28,
          14,
          42,
          36,
          46,
          9,
          4,
          47,
          32,
          33,
          41,
          12,
          15,
          107,
          2,
          34,
          40,
          12,
          110,
          47,
          6,
          136,
          20,
          38,
          8,
          37,
          43,
          11,
          109,
          13,
          3,
          12,
          16,
          25,
          42,
          34,
          5,
          42,
          162,
          43,
          32,
          22,
          32,
          26,
          27,
          109,
          45,
          4,
          18,
          41,
          22,
          9,
          21,
          19,
          11,
          25,
          5,
          108,
          24,
          22,
          77,
          9,
          7,
          20,
          44,
          67,
          14,
          41,
          19,
          42,
          10,
          19,
          12,
          22,
          27,
          43,
          22,
          152,
          43,
          1,
          42,
          32,
          49,
          110,
          14,
          32,
          49,
          3,
          19,
          5,
          36,
          28,
          47,
          43,
          21,
          61,
          2,
          7,
          14,
          28,
          26,
          16,
          6,
          6,
          49,
          32,
          3,
          3,
          16,
          90,
          142,
          37,
          29,
          75,
          20,
          20,
          36,
          14,
          23,
          46,
          11,
          34,
          46,
          20,
          24,
          18,
          1,
          43,
          46,
          10,
          3,
          143,
          117,
          44,
          29,
          49,
          2,
          26,
          2,
          25,
          48,
          86,
          2,
          160,
          36,
          49,
          113,
          11,
          80,
          2,
          18,
          9,
          28,
          14,
          36,
          11,
          23,
          3,
          22,
          37,
          1,
          1,
          13,
          21,
          41,
          33,
          46,
          18,
          65,
          34,
          19,
          24,
          33,
          37,
          45,
          7,
          46,
          20,
          42,
          42,
          106,
          106,
          13,
          44,
          146,
          136,
          39,
          122,
          36,
          25,
          47,
          12,
          23,
          3,
          15,
          12,
          193,
          13,
          22,
          4,
          6,
          9,
          14,
          43,
          125,
          26,
          12,
          8,
          3,
          23,
          10,
          29,
          32,
          46,
          29,
          89,
          9,
          48,
          36,
          22,
          12,
          62,
          6,
          48,
          35,
          2,
          5,
          142,
          40,
          27,
          23,
          42,
          5,
          29,
          5,
          13,
          44,
          32,
          141,
          31,
          93,
          47,
          2,
          21,
          26,
          28,
          41,
          18,
          18,
          71,
          18,
          3,
          47,
          34,
          4,
          45,
          24,
          7,
          24,
          13,
          45,
          98,
          37,
          3,
          12,
          18,
          12,
          28,
          11,
          1,
          13,
          21,
          39,
          22,
          24,
          18,
          38,
          8,
          4,
          4,
          18,
          40,
          11,
          8,
          9,
          41,
          36,
          7,
          23,
          13,
          35,
          1,
          35,
          2,
          8,
          28,
          29,
          13,
          27,
          38,
          191,
          45,
          29,
          34,
          46,
          221,
          10,
          26,
          76,
          23,
          27,
          200,
          195,
          29,
          35,
          15,
          12,
          7,
          19,
          3,
          229,
          44,
          170,
          16,
          26,
          28,
          43,
          16,
          94,
          17,
          22,
          14,
          6,
          34,
          23,
          2,
          42,
          9,
          8,
          40,
          22,
          18,
          144,
          130,
          40,
          127,
          8,
          20,
          13,
          45,
          9,
          15,
          45,
          25,
          25,
          1,
          18,
          21,
          11,
          12,
          84,
          27,
          27,
          10,
          168,
          10,
          5,
          23,
          47,
          35,
          31,
          1,
          25,
          153,
          17,
          12,
          25,
          193,
          42,
          95,
          16,
          97,
          38,
          48,
          38,
          7,
          205,
          28,
          99,
          16,
          16,
          23,
          8,
          40,
          9,
          9,
          29,
          49,
          25,
          35,
          23,
          192,
          23,
          19,
          25,
          4,
          24,
          33,
          12,
          157,
          19,
          14,
          45,
          9,
          1,
          41,
          10,
          29,
          7,
          1,
          16,
          25,
          72,
          45,
          32,
          5,
          77,
          41,
          9,
          1,
          5,
          7,
          8,
          11,
          70,
          111,
          18,
          9,
          10,
          6,
          147,
          45,
          144,
          90,
          48,
          34,
          29,
          15,
          16,
          20,
          11,
          199,
          24,
          22,
          47,
          4,
          147,
          15,
          13,
          4,
          9,
          177,
          31,
          15,
          37,
          13,
          24,
          92,
          109,
          11,
          29,
          8,
          14,
          11,
          18,
          9,
          7,
          18,
          9,
          12,
          19,
          23,
          22,
          17,
          12,
          177,
          24,
          40,
          25,
          45,
          18,
          39,
          24,
          15,
          2,
          29,
          46,
          27,
          26,
          1,
          12,
          47,
          33,
          17,
          4,
          33,
          19,
          48,
          3,
          130,
          9,
          3,
          44,
          7,
          33,
          12,
          6,
          28,
          21,
          84,
          4,
          10,
          13,
          36,
          12,
          37,
          22,
          49,
          9,
          43,
          21,
          32,
          43,
          8,
          32,
          46,
          7,
          85,
          47,
          18,
          25,
          25,
          45,
          9,
          1,
          27,
          6,
          9,
          3,
          34,
          45,
          28,
          29,
          18,
          15,
          5,
          8,
          10,
          149,
          29,
          48,
          29,
          24,
          44,
          49,
          23,
          26,
          8,
          17,
          16,
          41,
          49,
          19,
          118,
          25,
          17,
          26,
          20,
          15,
          44,
          29,
          13,
          11,
          28,
          35,
          36,
          43,
          38,
          43,
          140,
          42,
          20,
          35,
          19,
          37,
          20,
          11,
          48,
          27,
          18,
          39,
          8,
          13,
          74,
          17,
          44,
          26,
          79,
          147,
          12,
          45,
          19,
          41,
          3,
          21,
          47,
          25,
          19,
          157,
          17,
          37,
          19,
          1,
          35,
          46,
          14,
          128,
          1,
          46,
          12,
          10,
          29,
          165,
          27,
          18,
          92,
          43,
          98,
          48,
          11,
          29,
          5,
          32,
          1,
          24,
          29,
          9,
          34,
          38,
          14,
          22,
          118,
          17,
          90,
          62,
          70,
          33,
          23,
          9,
          122,
          28,
          24,
          22,
          45,
          15,
          4,
          83,
          45,
          44,
          31,
          25,
          45,
          26,
          26,
          8,
          22,
          38,
          28,
          2,
          28,
          119,
          12,
          123,
          13,
          1,
          91,
          26,
          42,
          15,
          21,
          7,
          40,
          45,
          25,
          105,
          26,
          13,
          29,
          108,
          33,
          6,
          8,
          25,
          20,
          20,
          46,
          3,
          88,
          49,
          11,
          5,
          29,
          91,
          145,
          7,
          100,
          14,
          20,
          22,
          36,
          11,
          12,
          3,
          49,
          4,
          112,
          12,
          46,
          46,
          16,
          17,
          16,
          5,
          29,
          38,
          10,
          1,
          27,
          18,
          6,
          22,
          144,
          24,
          27,
          12,
          15,
          138,
          22,
          14,
          1,
          3,
          4,
          1,
          20,
          20,
          109,
          32,
          13,
          27,
          31,
          7,
          72,
          39,
          40,
          22,
          26,
          9,
          18,
          24,
          4,
          47,
          17,
          11,
          12,
          17,
          170,
          67,
          2,
          111,
          14,
          18,
          102,
          18,
          76,
          2,
          8,
          15,
          64,
          23,
          35,
          15,
          27,
          38,
          2,
          8,
          20,
          3,
          25,
          143,
          3,
          10,
          31,
          27,
          2,
          13,
          46,
          28,
          13,
          16,
          21,
          81,
          6,
          15,
          11,
          26,
          3,
          15,
          3,
          2,
          17,
          12,
          18,
          18,
          49,
          4,
          26,
          70,
          29,
          16,
          35,
          9,
          21,
          21,
          18,
          12,
          48,
          13,
          21,
          117,
          2,
          17,
          18,
          4,
          20,
          27,
          23,
          22,
          89,
          8,
          25,
          17,
          38,
          102,
          15,
          18,
          28,
          34,
          113,
          202,
          19,
          37,
          18,
          29,
          36,
          23,
          18,
          11,
          20,
          22,
          9,
          32,
          48,
          100,
          19,
          97,
          6,
          21,
          24,
          11,
          16,
          14,
          20,
          12,
          41,
          44,
          20,
          47,
          9,
          7,
          26,
          23,
          9,
          17,
          4,
          105,
          97,
          4,
          2,
          15,
          29,
          8,
          12,
          21,
          31,
          21,
          20,
          27,
          14,
          5,
          23,
          20,
          12,
          39,
          23,
          2,
          10,
          207,
          78,
          3,
          2,
          36,
          28,
          6,
          2,
          2,
          44,
          46,
          25,
          7,
          12,
          13,
          12,
          7,
          24,
          28,
          16,
          134,
          24,
          1,
          17,
          29,
          7,
          21,
          67,
          41,
          15,
          44,
          15,
          209,
          49,
          35,
          41,
          4,
          22,
          19,
          14,
          23,
          25,
          46,
          26,
          2,
          31,
          49,
          45,
          46,
          27,
          3,
          26,
          43,
          39,
          1,
          144,
          25,
          32,
          37,
          12,
          23,
          11,
          13,
          174,
          24,
          42,
          34,
          12,
          24,
          5,
          12,
          31,
          49,
          76,
          10,
          120,
          6,
          36,
          31,
          16,
          9,
          7,
          17,
          19,
          43,
          28,
          40,
          1,
          7,
          21,
          10,
          10,
          14,
          13,
          12,
          4,
          35,
          31,
          5,
          18,
          39,
          11,
          11,
          12,
          15,
          24,
          5,
          14,
          29,
          29,
          48,
          8,
          24,
          22,
          42,
          4,
          25,
          17,
          18,
          33,
          49,
          29,
          13,
          19,
          139,
          18,
          11,
          15,
          25,
          24,
          39,
          16,
          7,
          49,
          12,
          13,
          27,
          23,
          24,
          98,
          67,
          115,
          7,
          46,
          122,
          16,
          9,
          4,
          25,
          28,
          27,
          25,
          31,
          3,
          19,
          102,
          27,
          10,
          21,
          5,
          11,
          42,
          6,
          16,
          6,
          26,
          29,
          10,
          29,
          28,
          100,
          20,
          67,
          77,
          61,
          2,
          5,
          18,
          21,
          115,
          8,
          18,
          2,
          16,
          31,
          24,
          27,
          43,
          8,
          27,
          49,
          37,
          45,
          47,
          65,
          14,
          40,
          1,
          17,
          46,
          222,
          26,
          28,
          39,
          38,
          16,
          34,
          41,
          46,
          146,
          1,
          2,
          19,
          9,
          8,
          14,
          27,
          69,
          26,
          38,
          3,
          42,
          18,
          48,
          23,
          31,
          18,
          2,
          27,
          17,
          7,
          13,
          48,
          23,
          35,
          24,
          10,
          18,
          15,
          5,
          14,
          15,
          44,
          25,
          24,
          22,
          5,
          19,
          41,
          5,
          10,
          47,
          135,
          15,
          19
         ],
         "xaxis": "x",
         "yaxis": "y"
        }
       ],
       "layout": {
        "barmode": "relative",
        "legend": {
         "tracegroupgap": 0
        },
        "template": {
         "data": {
          "bar": [
           {
            "error_x": {
             "color": "#2a3f5f"
            },
            "error_y": {
             "color": "#2a3f5f"
            },
            "marker": {
             "line": {
              "color": "#E5ECF6",
              "width": 0.5
             }
            },
            "type": "bar"
           }
          ],
          "barpolar": [
           {
            "marker": {
             "line": {
              "color": "#E5ECF6",
              "width": 0.5
             }
            },
            "type": "barpolar"
           }
          ],
          "carpet": [
           {
            "aaxis": {
             "endlinecolor": "#2a3f5f",
             "gridcolor": "white",
             "linecolor": "white",
             "minorgridcolor": "white",
             "startlinecolor": "#2a3f5f"
            },
            "baxis": {
             "endlinecolor": "#2a3f5f",
             "gridcolor": "white",
             "linecolor": "white",
             "minorgridcolor": "white",
             "startlinecolor": "#2a3f5f"
            },
            "type": "carpet"
           }
          ],
          "choropleth": [
           {
            "colorbar": {
             "outlinewidth": 0,
             "ticks": ""
            },
            "type": "choropleth"
           }
          ],
          "contour": [
           {
            "colorbar": {
             "outlinewidth": 0,
             "ticks": ""
            },
            "colorscale": [
             [
              0,
              "#0d0887"
             ],
             [
              0.1111111111111111,
              "#46039f"
             ],
             [
              0.2222222222222222,
              "#7201a8"
             ],
             [
              0.3333333333333333,
              "#9c179e"
             ],
             [
              0.4444444444444444,
              "#bd3786"
             ],
             [
              0.5555555555555556,
              "#d8576b"
             ],
             [
              0.6666666666666666,
              "#ed7953"
             ],
             [
              0.7777777777777778,
              "#fb9f3a"
             ],
             [
              0.8888888888888888,
              "#fdca26"
             ],
             [
              1,
              "#f0f921"
             ]
            ],
            "type": "contour"
           }
          ],
          "contourcarpet": [
           {
            "colorbar": {
             "outlinewidth": 0,
             "ticks": ""
            },
            "type": "contourcarpet"
           }
          ],
          "heatmap": [
           {
            "colorbar": {
             "outlinewidth": 0,
             "ticks": ""
            },
            "colorscale": [
             [
              0,
              "#0d0887"
             ],
             [
              0.1111111111111111,
              "#46039f"
             ],
             [
              0.2222222222222222,
              "#7201a8"
             ],
             [
              0.3333333333333333,
              "#9c179e"
             ],
             [
              0.4444444444444444,
              "#bd3786"
             ],
             [
              0.5555555555555556,
              "#d8576b"
             ],
             [
              0.6666666666666666,
              "#ed7953"
             ],
             [
              0.7777777777777778,
              "#fb9f3a"
             ],
             [
              0.8888888888888888,
              "#fdca26"
             ],
             [
              1,
              "#f0f921"
             ]
            ],
            "type": "heatmap"
           }
          ],
          "heatmapgl": [
           {
            "colorbar": {
             "outlinewidth": 0,
             "ticks": ""
            },
            "colorscale": [
             [
              0,
              "#0d0887"
             ],
             [
              0.1111111111111111,
              "#46039f"
             ],
             [
              0.2222222222222222,
              "#7201a8"
             ],
             [
              0.3333333333333333,
              "#9c179e"
             ],
             [
              0.4444444444444444,
              "#bd3786"
             ],
             [
              0.5555555555555556,
              "#d8576b"
             ],
             [
              0.6666666666666666,
              "#ed7953"
             ],
             [
              0.7777777777777778,
              "#fb9f3a"
             ],
             [
              0.8888888888888888,
              "#fdca26"
             ],
             [
              1,
              "#f0f921"
             ]
            ],
            "type": "heatmapgl"
           }
          ],
          "histogram": [
           {
            "marker": {
             "colorbar": {
              "outlinewidth": 0,
              "ticks": ""
             }
            },
            "type": "histogram"
           }
          ],
          "histogram2d": [
           {
            "colorbar": {
             "outlinewidth": 0,
             "ticks": ""
            },
            "colorscale": [
             [
              0,
              "#0d0887"
             ],
             [
              0.1111111111111111,
              "#46039f"
             ],
             [
              0.2222222222222222,
              "#7201a8"
             ],
             [
              0.3333333333333333,
              "#9c179e"
             ],
             [
              0.4444444444444444,
              "#bd3786"
             ],
             [
              0.5555555555555556,
              "#d8576b"
             ],
             [
              0.6666666666666666,
              "#ed7953"
             ],
             [
              0.7777777777777778,
              "#fb9f3a"
             ],
             [
              0.8888888888888888,
              "#fdca26"
             ],
             [
              1,
              "#f0f921"
             ]
            ],
            "type": "histogram2d"
           }
          ],
          "histogram2dcontour": [
           {
            "colorbar": {
             "outlinewidth": 0,
             "ticks": ""
            },
            "colorscale": [
             [
              0,
              "#0d0887"
             ],
             [
              0.1111111111111111,
              "#46039f"
             ],
             [
              0.2222222222222222,
              "#7201a8"
             ],
             [
              0.3333333333333333,
              "#9c179e"
             ],
             [
              0.4444444444444444,
              "#bd3786"
             ],
             [
              0.5555555555555556,
              "#d8576b"
             ],
             [
              0.6666666666666666,
              "#ed7953"
             ],
             [
              0.7777777777777778,
              "#fb9f3a"
             ],
             [
              0.8888888888888888,
              "#fdca26"
             ],
             [
              1,
              "#f0f921"
             ]
            ],
            "type": "histogram2dcontour"
           }
          ],
          "mesh3d": [
           {
            "colorbar": {
             "outlinewidth": 0,
             "ticks": ""
            },
            "type": "mesh3d"
           }
          ],
          "parcoords": [
           {
            "line": {
             "colorbar": {
              "outlinewidth": 0,
              "ticks": ""
             }
            },
            "type": "parcoords"
           }
          ],
          "pie": [
           {
            "automargin": true,
            "type": "pie"
           }
          ],
          "scatter": [
           {
            "marker": {
             "colorbar": {
              "outlinewidth": 0,
              "ticks": ""
             }
            },
            "type": "scatter"
           }
          ],
          "scatter3d": [
           {
            "line": {
             "colorbar": {
              "outlinewidth": 0,
              "ticks": ""
             }
            },
            "marker": {
             "colorbar": {
              "outlinewidth": 0,
              "ticks": ""
             }
            },
            "type": "scatter3d"
           }
          ],
          "scattercarpet": [
           {
            "marker": {
             "colorbar": {
              "outlinewidth": 0,
              "ticks": ""
             }
            },
            "type": "scattercarpet"
           }
          ],
          "scattergeo": [
           {
            "marker": {
             "colorbar": {
              "outlinewidth": 0,
              "ticks": ""
             }
            },
            "type": "scattergeo"
           }
          ],
          "scattergl": [
           {
            "marker": {
             "colorbar": {
              "outlinewidth": 0,
              "ticks": ""
             }
            },
            "type": "scattergl"
           }
          ],
          "scattermapbox": [
           {
            "marker": {
             "colorbar": {
              "outlinewidth": 0,
              "ticks": ""
             }
            },
            "type": "scattermapbox"
           }
          ],
          "scatterpolar": [
           {
            "marker": {
             "colorbar": {
              "outlinewidth": 0,
              "ticks": ""
             }
            },
            "type": "scatterpolar"
           }
          ],
          "scatterpolargl": [
           {
            "marker": {
             "colorbar": {
              "outlinewidth": 0,
              "ticks": ""
             }
            },
            "type": "scatterpolargl"
           }
          ],
          "scatterternary": [
           {
            "marker": {
             "colorbar": {
              "outlinewidth": 0,
              "ticks": ""
             }
            },
            "type": "scatterternary"
           }
          ],
          "surface": [
           {
            "colorbar": {
             "outlinewidth": 0,
             "ticks": ""
            },
            "colorscale": [
             [
              0,
              "#0d0887"
             ],
             [
              0.1111111111111111,
              "#46039f"
             ],
             [
              0.2222222222222222,
              "#7201a8"
             ],
             [
              0.3333333333333333,
              "#9c179e"
             ],
             [
              0.4444444444444444,
              "#bd3786"
             ],
             [
              0.5555555555555556,
              "#d8576b"
             ],
             [
              0.6666666666666666,
              "#ed7953"
             ],
             [
              0.7777777777777778,
              "#fb9f3a"
             ],
             [
              0.8888888888888888,
              "#fdca26"
             ],
             [
              1,
              "#f0f921"
             ]
            ],
            "type": "surface"
           }
          ],
          "table": [
           {
            "cells": {
             "fill": {
              "color": "#EBF0F8"
             },
             "line": {
              "color": "white"
             }
            },
            "header": {
             "fill": {
              "color": "#C8D4E3"
             },
             "line": {
              "color": "white"
             }
            },
            "type": "table"
           }
          ]
         },
         "layout": {
          "annotationdefaults": {
           "arrowcolor": "#2a3f5f",
           "arrowhead": 0,
           "arrowwidth": 1
          },
          "autotypenumbers": "strict",
          "coloraxis": {
           "colorbar": {
            "outlinewidth": 0,
            "ticks": ""
           }
          },
          "colorscale": {
           "diverging": [
            [
             0,
             "#8e0152"
            ],
            [
             0.1,
             "#c51b7d"
            ],
            [
             0.2,
             "#de77ae"
            ],
            [
             0.3,
             "#f1b6da"
            ],
            [
             0.4,
             "#fde0ef"
            ],
            [
             0.5,
             "#f7f7f7"
            ],
            [
             0.6,
             "#e6f5d0"
            ],
            [
             0.7,
             "#b8e186"
            ],
            [
             0.8,
             "#7fbc41"
            ],
            [
             0.9,
             "#4d9221"
            ],
            [
             1,
             "#276419"
            ]
           ],
           "sequential": [
            [
             0,
             "#0d0887"
            ],
            [
             0.1111111111111111,
             "#46039f"
            ],
            [
             0.2222222222222222,
             "#7201a8"
            ],
            [
             0.3333333333333333,
             "#9c179e"
            ],
            [
             0.4444444444444444,
             "#bd3786"
            ],
            [
             0.5555555555555556,
             "#d8576b"
            ],
            [
             0.6666666666666666,
             "#ed7953"
            ],
            [
             0.7777777777777778,
             "#fb9f3a"
            ],
            [
             0.8888888888888888,
             "#fdca26"
            ],
            [
             1,
             "#f0f921"
            ]
           ],
           "sequentialminus": [
            [
             0,
             "#0d0887"
            ],
            [
             0.1111111111111111,
             "#46039f"
            ],
            [
             0.2222222222222222,
             "#7201a8"
            ],
            [
             0.3333333333333333,
             "#9c179e"
            ],
            [
             0.4444444444444444,
             "#bd3786"
            ],
            [
             0.5555555555555556,
             "#d8576b"
            ],
            [
             0.6666666666666666,
             "#ed7953"
            ],
            [
             0.7777777777777778,
             "#fb9f3a"
            ],
            [
             0.8888888888888888,
             "#fdca26"
            ],
            [
             1,
             "#f0f921"
            ]
           ]
          },
          "colorway": [
           "#636efa",
           "#EF553B",
           "#00cc96",
           "#ab63fa",
           "#FFA15A",
           "#19d3f3",
           "#FF6692",
           "#B6E880",
           "#FF97FF",
           "#FECB52"
          ],
          "font": {
           "color": "#2a3f5f"
          },
          "geo": {
           "bgcolor": "white",
           "lakecolor": "white",
           "landcolor": "#E5ECF6",
           "showlakes": true,
           "showland": true,
           "subunitcolor": "white"
          },
          "hoverlabel": {
           "align": "left"
          },
          "hovermode": "closest",
          "mapbox": {
           "style": "light"
          },
          "paper_bgcolor": "white",
          "plot_bgcolor": "#E5ECF6",
          "polar": {
           "angularaxis": {
            "gridcolor": "white",
            "linecolor": "white",
            "ticks": ""
           },
           "bgcolor": "#E5ECF6",
           "radialaxis": {
            "gridcolor": "white",
            "linecolor": "white",
            "ticks": ""
           }
          },
          "scene": {
           "xaxis": {
            "backgroundcolor": "#E5ECF6",
            "gridcolor": "white",
            "gridwidth": 2,
            "linecolor": "white",
            "showbackground": true,
            "ticks": "",
            "zerolinecolor": "white"
           },
           "yaxis": {
            "backgroundcolor": "#E5ECF6",
            "gridcolor": "white",
            "gridwidth": 2,
            "linecolor": "white",
            "showbackground": true,
            "ticks": "",
            "zerolinecolor": "white"
           },
           "zaxis": {
            "backgroundcolor": "#E5ECF6",
            "gridcolor": "white",
            "gridwidth": 2,
            "linecolor": "white",
            "showbackground": true,
            "ticks": "",
            "zerolinecolor": "white"
           }
          },
          "shapedefaults": {
           "line": {
            "color": "#2a3f5f"
           }
          },
          "ternary": {
           "aaxis": {
            "gridcolor": "white",
            "linecolor": "white",
            "ticks": ""
           },
           "baxis": {
            "gridcolor": "white",
            "linecolor": "white",
            "ticks": ""
           },
           "bgcolor": "#E5ECF6",
           "caxis": {
            "gridcolor": "white",
            "linecolor": "white",
            "ticks": ""
           }
          },
          "title": {
           "x": 0.05
          },
          "xaxis": {
           "automargin": true,
           "gridcolor": "white",
           "linecolor": "white",
           "ticks": "",
           "title": {
            "standoff": 15
           },
           "zerolinecolor": "white",
           "zerolinewidth": 2
          },
          "yaxis": {
           "automargin": true,
           "gridcolor": "white",
           "linecolor": "white",
           "ticks": "",
           "title": {
            "standoff": 15
           },
           "zerolinecolor": "white",
           "zerolinewidth": 2
          }
         }
        },
        "title": {
         "text": "Chain seat character"
        },
        "xaxis": {
         "anchor": "y",
         "domain": [
          0,
          1
         ],
         "title": {
          "text": "Number of establishments"
         },
         "type": "category"
        },
        "yaxis": {
         "anchor": "x",
         "domain": [
          0,
          1
         ],
         "title": {
          "text": "Number of seats"
         }
        }
       }
      },
      "text/html": [
       "<div>                            <div id=\"64ec7c37-d5b2-4dbb-b2e9-5c939f9deee2\" class=\"plotly-graph-div\" style=\"height:525px; width:100%;\"></div>            <script type=\"text/javascript\">                require([\"plotly\"], function(Plotly) {                    window.PLOTLYENV=window.PLOTLYENV || {};                                    if (document.getElementById(\"64ec7c37-d5b2-4dbb-b2e9-5c939f9deee2\")) {                    Plotly.newPlot(                        \"64ec7c37-d5b2-4dbb-b2e9-5c939f9deee2\",                        [{\"alignmentgroup\": \"True\", \"bingroup\": \"x\", \"hovertemplate\": \"seats=%{x}<br>count=%{y}<extra></extra>\", \"legendgroup\": \"\", \"marker\": {\"color\": \"#636efa\"}, \"name\": \"\", \"offsetgroup\": \"\", \"orientation\": \"v\", \"showlegend\": false, \"type\": \"histogram\", \"x\": [1, 38, 17, 133, 26, 21, 43, 80, 15, 118, 35, 15, 1, 19, 49, 37, 158, 22, 35, 20, 28, 27, 2, 21, 24, 16, 24, 66, 112, 21, 27, 3, 45, 63, 121, 20, 15, 16, 6, 4, 3, 40, 88, 40, 42, 19, 5, 9, 4, 128, 224, 36, 6, 11, 23, 107, 134, 25, 37, 1, 16, 20, 21, 45, 40, 20, 4, 26, 17, 24, 21, 35, 5, 2, 21, 17, 133, 44, 7, 23, 23, 3, 43, 15, 15, 34, 123, 10, 27, 44, 27, 46, 77, 6, 21, 15, 19, 14, 45, 14, 49, 11, 18, 18, 79, 22, 37, 12, 109, 13, 182, 44, 18, 10, 23, 24, 81, 69, 39, 25, 12, 5, 117, 13, 48, 15, 41, 167, 31, 16, 44, 29, 5, 27, 35, 19, 9, 46, 111, 28, 11, 43, 164, 35, 11, 19, 129, 1, 27, 85, 29, 33, 5, 196, 1, 46, 84, 91, 21, 25, 9, 47, 88, 12, 23, 3, 5, 11, 41, 20, 20, 20, 33, 139, 25, 29, 28, 7, 98, 227, 158, 43, 12, 43, 229, 39, 8, 43, 28, 37, 34, 24, 16, 12, 49, 13, 11, 38, 13, 13, 112, 10, 9, 3, 155, 25, 49, 6, 2, 32, 11, 13, 40, 7, 11, 33, 9, 5, 102, 44, 10, 14, 2, 15, 229, 47, 33, 65, 20, 41, 24, 9, 42, 6, 34, 12, 74, 32, 49, 39, 26, 46, 40, 138, 25, 26, 22, 31, 4, 109, 24, 7, 13, 119, 71, 40, 21, 21, 118, 6, 11, 9, 10, 14, 19, 17, 69, 104, 12, 9, 28, 62, 90, 11, 20, 2, 15, 12, 29, 20, 23, 45, 84, 12, 36, 151, 186, 6, 17, 12, 44, 48, 23, 13, 43, 5, 16, 23, 4, 136, 119, 106, 40, 26, 14, 16, 12, 11, 7, 29, 41, 45, 22, 22, 7, 17, 90, 21, 1, 43, 107, 36, 10, 110, 10, 45, 86, 37, 24, 38, 11, 44, 17, 67, 20, 194, 29, 29, 25, 16, 28, 13, 7, 9, 29, 1, 8, 45, 6, 19, 3, 13, 16, 37, 3, 18, 20, 2, 25, 126, 6, 3, 127, 3, 91, 32, 29, 15, 43, 42, 3, 47, 91, 12, 23, 21, 9, 6, 47, 14, 1, 7, 19, 81, 104, 4, 6, 26, 16, 37, 25, 17, 7, 20, 43, 142, 10, 20, 47, 5, 12, 103, 22, 69, 212, 161, 22, 13, 38, 226, 27, 42, 82, 28, 41, 19, 5, 13, 15, 1, 140, 18, 13, 42, 26, 18, 14, 11, 92, 17, 7, 3, 83, 19, 118, 24, 110, 19, 19, 18, 27, 124, 19, 22, 43, 10, 42, 84, 12, 74, 8, 33, 22, 80, 12, 83, 19, 19, 8, 13, 115, 25, 7, 86, 181, 32, 24, 10, 26, 42, 111, 108, 5, 15, 64, 9, 131, 36, 26, 39, 12, 25, 49, 15, 159, 4, 13, 41, 42, 107, 74, 64, 32, 20, 36, 182, 2, 29, 20, 185, 2, 65, 32, 45, 29, 23, 66, 175, 11, 18, 172, 45, 9, 84, 2, 116, 28, 113, 38, 10, 142, 141, 45, 11, 37, 29, 32, 40, 80, 19, 6, 5, 20, 24, 17, 14, 110, 189, 178, 37, 180, 10, 9, 123, 48, 29, 45, 1, 75, 21, 112, 131, 40, 26, 107, 195, 216, 21, 7, 44, 37, 3, 1, 220, 88, 35, 32, 21, 6, 3, 7, 107, 11, 63, 6, 12, 20, 85, 21, 69, 13, 63, 2, 25, 19, 47, 1, 77, 44, 3, 107, 102, 41, 83, 181, 93, 21, 11, 119, 25, 31, 8, 26, 28, 20, 225, 10, 21, 41, 114, 21, 49, 3, 137, 9, 66, 74, 41, 18, 18, 19, 44, 38, 49, 48, 47, 44, 41, 43, 49, 1, 45, 68, 7, 13, 6, 43, 48, 17, 63, 44, 48, 37, 160, 37, 17, 194, 1, 13, 22, 101, 12, 17, 18, 46, 20, 25, 23, 138, 28, 107, 42, 117, 23, 1, 4, 35, 41, 35, 43, 15, 19, 221, 210, 139, 35, 19, 45, 48, 45, 49, 31, 45, 41, 1, 104, 47, 29, 24, 85, 27, 18, 39, 24, 120, 20, 103, 77, 1, 145, 23, 28, 227, 148, 13, 115, 21, 6, 17, 4, 12, 225, 17, 43, 194, 28, 22, 1, 28, 33, 1, 14, 109, 13, 23, 8, 13, 6, 26, 16, 1, 41, 178, 11, 83, 137, 5, 17, 40, 4, 25, 31, 175, 3, 37, 22, 23, 31, 31, 27, 24, 218, 44, 49, 5, 13, 6, 39, 158, 10, 15, 18, 44, 2, 35, 114, 13, 33, 102, 36, 136, 24, 28, 11, 128, 23, 27, 23, 211, 8, 85, 38, 69, 20, 48, 127, 13, 125, 15, 102, 75, 126, 11, 23, 12, 47, 4, 10, 36, 127, 164, 16, 3, 10, 48, 20, 33, 37, 177, 39, 13, 8, 4, 31, 35, 20, 48, 3, 181, 28, 24, 24, 6, 24, 16, 9, 110, 74, 66, 27, 21, 5, 29, 4, 42, 36, 1, 28, 23, 12, 25, 32, 87, 15, 41, 29, 140, 28, 5, 33, 21, 3, 16, 16, 119, 1, 102, 216, 43, 45, 36, 29, 20, 47, 48, 49, 143, 14, 29, 148, 7, 27, 35, 5, 5, 32, 10, 42, 9, 42, 18, 22, 44, 6, 31, 27, 2, 3, 12, 28, 91, 67, 66, 161, 34, 117, 27, 36, 43, 40, 25, 129, 9, 2, 39, 21, 80, 65, 69, 161, 22, 213, 144, 7, 13, 35, 20, 1, 3, 28, 10, 67, 190, 24, 115, 10, 21, 112, 2, 68, 6, 13, 109, 159, 203, 107, 41, 49, 39, 198, 38, 37, 12, 11, 74, 47, 45, 33, 48, 170, 11, 28, 7, 4, 34, 6, 40, 175, 42, 9, 45, 32, 144, 14, 16, 43, 11, 38, 46, 17, 5, 142, 192, 23, 25, 14, 18, 2, 19, 25, 49, 96, 38, 32, 25, 38, 46, 25, 116, 8, 31, 23, 4, 18, 20, 44, 18, 46, 47, 8, 46, 7, 12, 41, 26, 62, 47, 63, 24, 105, 25, 39, 9, 39, 33, 18, 8, 28, 38, 33, 219, 37, 33, 32, 2, 27, 9, 4, 15, 31, 34, 26, 7, 28, 69, 38, 41, 39, 3, 12, 26, 22, 33, 137, 32, 217, 22, 12, 10, 10, 2, 2, 43, 2, 145, 20, 122, 45, 118, 36, 47, 7, 15, 15, 4, 24, 19, 16, 21, 8, 49, 5, 24, 7, 27, 2, 38, 49, 47, 32, 38, 45, 3, 25, 37, 140, 49, 8, 1, 7, 133, 16, 73, 20, 18, 15, 37, 25, 44, 4, 117, 24, 95, 24, 26, 72, 168, 45, 26, 45, 33, 20, 3, 31, 33, 25, 21, 18, 2, 48, 21, 11, 35, 12, 25, 137, 46, 15, 13, 31, 9, 17, 91, 7, 18, 35, 29, 16, 6, 78, 129, 45, 135, 13, 99, 49, 177, 37, 36, 99, 17, 8, 39, 158, 18, 15, 13, 4, 6, 36, 48, 27, 145, 7, 44, 2, 168, 8, 22, 29, 126, 25, 9, 42, 3, 5, 39, 4, 11, 20, 10, 40, 3, 142, 3, 4, 40, 15, 23, 25, 3, 21, 45, 67, 83, 35, 62, 23, 37, 32, 2, 39, 18, 28, 10, 22, 24, 12, 5, 27, 103, 111, 78, 13, 31, 49, 27, 12, 41, 40, 22, 22, 29, 25, 4, 9, 34, 6, 33, 18, 1, 18, 6, 34, 20, 31, 3, 32, 9, 17, 70, 33, 22, 40, 15, 47, 4, 48, 27, 11, 8, 40, 8, 2, 6, 40, 14, 14, 1, 21, 10, 38, 45, 12, 28, 42, 28, 8, 35, 24, 29, 199, 19, 46, 20, 31, 122, 13, 3, 49, 25, 136, 44, 49, 45, 190, 109, 11, 37, 26, 22, 23, 62, 44, 18, 19, 19, 42, 22, 39, 21, 17, 44, 18, 3, 39, 44, 3, 2, 43, 119, 130, 75, 25, 13, 25, 22, 16, 22, 155, 22, 1, 140, 32, 94, 35, 66, 39, 4, 28, 4, 48, 47, 125, 38, 17, 45, 7, 23, 6, 121, 41, 47, 39, 15, 3, 104, 26, 87, 37, 25, 113, 158, 95, 35, 47, 28, 31, 139, 5, 25, 138, 6, 93, 89, 1, 29, 4, 4, 25, 5, 95, 22, 112, 18, 11, 22, 14, 24, 23, 48, 1, 3, 43, 4, 14, 6, 6, 6, 14, 6, 49, 34, 48, 18, 2, 7, 48, 23, 10, 12, 96, 7, 46, 43, 142, 6, 1, 32, 40, 31, 124, 8, 80, 42, 28, 5, 39, 216, 39, 18, 14, 145, 26, 16, 22, 31, 9, 133, 44, 38, 19, 66, 20, 10, 5, 14, 9, 3, 19, 33, 111, 35, 34, 8, 24, 22, 1, 37, 29, 17, 24, 24, 1, 7, 4, 32, 46, 49, 115, 39, 103, 2, 5, 98, 182, 42, 40, 35, 146, 84, 47, 5, 34, 35, 19, 12, 209, 203, 34, 43, 28, 77, 35, 11, 42, 218, 28, 28, 16, 15, 7, 1, 134, 45, 49, 76, 42, 28, 42, 12, 36, 16, 13, 135, 20, 8, 133, 28, 138, 14, 1, 47, 141, 40, 209, 38, 28, 95, 13, 42, 139, 23, 11, 145, 29, 33, 26, 42, 133, 24, 14, 140, 20, 11, 35, 28, 5, 107, 100, 40, 38, 3, 4, 19, 48, 23, 5, 102, 29, 209, 135, 3, 28, 15, 32, 4, 21, 23, 2, 47, 9, 26, 42, 18, 37, 13, 143, 8, 125, 100, 14, 111, 16, 24, 26, 49, 205, 26, 19, 15, 45, 35, 41, 46, 36, 14, 27, 41, 25, 12, 21, 5, 108, 21, 42, 10, 16, 4, 23, 142, 18, 17, 19, 19, 38, 80, 37, 112, 13, 5, 1, 41, 45, 4, 43, 34, 49, 1, 21, 107, 5, 9, 126, 1, 43, 16, 1, 168, 16, 18, 5, 28, 67, 16, 64, 18, 78, 27, 14, 40, 66, 24, 12, 23, 88, 2, 15, 44, 14, 10, 28, 18, 21, 5, 37, 161, 95, 114, 29, 22, 34, 12, 7, 31, 26, 14, 48, 15, 18, 16, 14, 2, 9, 7, 11, 44, 15, 3, 48, 42, 32, 27, 31, 20, 6, 21, 12, 17, 3, 4, 18, 129, 25, 22, 21, 9, 37, 86, 7, 40, 77, 154, 16, 21, 36, 64, 2, 42, 64, 86, 17, 40, 3, 44, 87, 96, 25, 11, 34, 67, 70, 32, 16, 28, 41, 15, 135, 45, 195, 29, 7, 4, 94, 16, 8, 93, 41, 4, 105, 4, 25, 10, 16, 125, 21, 95, 9, 26, 24, 27, 177, 41, 5, 191, 49, 14, 7, 25, 142, 39, 17, 126, 20, 17, 21, 222, 19, 3, 14, 6, 16, 2, 42, 111, 26, 42, 33, 29, 140, 38, 31, 18, 24, 36, 12, 139, 29, 22, 12, 1, 28, 12, 12, 39, 118, 5, 94, 36, 23, 49, 69, 91, 11, 24, 12, 44, 63, 37, 84, 6, 29, 2, 125, 11, 12, 9, 16, 26, 23, 107, 4, 167, 8, 36, 117, 33, 21, 18, 17, 27, 105, 43, 46, 22, 27, 14, 29, 2, 17, 45, 132, 13, 21, 27, 28, 39, 21, 20, 5, 19, 22, 36, 61, 22, 29, 17, 13, 130, 48, 27, 5, 17, 114, 4, 20, 9, 171, 24, 17, 24, 14, 22, 18, 9, 33, 104, 4, 10, 17, 161, 77, 29, 2, 37, 22, 7, 7, 19, 11, 21, 27, 146, 3, 47, 19, 106, 11, 49, 123, 19, 110, 78, 89, 43, 5, 25, 41, 22, 138, 79, 6, 25, 39, 10, 27, 23, 15, 27, 7, 15, 1, 44, 10, 27, 16, 26, 14, 8, 42, 10, 15, 3, 34, 44, 32, 16, 27, 26, 28, 4, 38, 2, 14, 11, 17, 13, 48, 26, 40, 39, 13, 42, 39, 1, 96, 92, 29, 38, 8, 67, 143, 36, 91, 11, 118, 36, 13, 14, 28, 32, 114, 36, 29, 5, 39, 6, 17, 17, 24, 34, 42, 17, 15, 20, 46, 45, 27, 42, 45, 1, 21, 23, 31, 102, 145, 22, 128, 33, 17, 21, 23, 16, 21, 32, 18, 16, 43, 8, 3, 16, 17, 62, 28, 9, 127, 12, 22, 27, 3, 19, 8, 132, 42, 118, 5, 19, 48, 19, 4, 47, 208, 12, 49, 1, 77, 11, 8, 48, 21, 42, 33, 44, 44, 15, 5, 43, 70, 6, 62, 1, 10, 4, 21, 25, 14, 19, 27, 23, 23, 39, 47, 12, 8, 40, 24, 20, 33, 14, 14, 5, 27, 15, 10, 1, 28, 13, 17, 13, 23, 38, 228, 15, 33, 141, 12, 48, 36, 23, 44, 13, 17, 9, 118, 13, 44, 123, 22, 13, 12, 14, 2, 16, 26, 26, 24, 11, 12, 36, 32, 92, 129, 22, 15, 18, 1, 1, 12, 126, 1, 10, 12, 4, 9, 124, 16, 122, 12, 3, 106, 194, 92, 45, 15, 199, 42, 29, 45, 35, 24, 45, 87, 100, 27, 13, 21, 103, 29, 41, 42, 32, 8, 3, 33, 23, 35, 31, 22, 88, 38, 140, 17, 43, 9, 49, 19, 20, 12, 6, 46, 15, 187, 3, 144, 39, 24, 10, 24, 27, 2, 103, 38, 13, 37, 91, 41, 123, 128, 18, 12, 31, 21, 14, 33, 28, 27, 10, 46, 23, 19, 64, 19, 39, 21, 13, 23, 8, 101, 219, 31, 68, 47, 36, 26, 17, 4, 25, 6, 11, 216, 189, 17, 11, 38, 25, 24, 29, 3, 21, 15, 2, 34, 3, 13, 78, 218, 40, 9, 18, 34, 11, 48, 44, 80, 18, 10, 9, 7, 15, 80, 22, 26, 142, 48, 39, 7, 35, 29, 7, 19, 32, 49, 11, 22, 48, 26, 205, 15, 18, 143, 28, 176, 4, 34, 35, 24, 26, 20, 15, 5, 43, 87, 26, 29, 40, 3, 16, 1, 29, 3, 24, 43, 46, 13, 14, 41, 22, 42, 44, 8, 206, 44, 12, 19, 20, 17, 148, 32, 21, 22, 7, 6, 43, 25, 16, 169, 114, 162, 17, 14, 3, 18, 25, 14, 7, 209, 19, 29, 42, 36, 12, 89, 112, 10, 12, 140, 31, 29, 10, 12, 3, 62, 14, 17, 117, 9, 27, 18, 27, 99, 21, 3, 9, 23, 45, 25, 43, 11, 27, 6, 19, 46, 2, 31, 16, 25, 28, 36, 7, 76, 211, 145, 17, 23, 49, 204, 68, 22, 32, 24, 97, 95, 82, 26, 27, 12, 181, 38, 14, 21, 29, 16, 99, 18, 19, 9, 113, 9, 138, 4, 21, 17, 79, 29, 36, 36, 47, 33, 8, 119, 1, 17, 22, 48, 37, 27, 103, 47, 108, 23, 28, 82, 10, 19, 40, 48, 177, 1, 32, 24, 4, 25, 29, 21, 7, 10, 105, 5, 21, 44, 98, 1, 3, 21, 17, 26, 3, 28, 19, 13, 44, 99, 6, 6, 21, 16, 49, 72, 4, 87, 195, 28, 191, 2, 27, 48, 17, 13, 25, 28, 1, 27, 14, 34, 123, 45, 37, 107, 24, 16, 9, 67, 33, 4, 18, 46, 15, 2, 25, 35, 2, 43, 44, 11, 38, 5, 3, 36, 32, 2, 7, 138, 124, 12, 31, 131, 8, 21, 28, 14, 42, 36, 46, 9, 4, 47, 32, 33, 41, 12, 15, 107, 2, 34, 40, 12, 110, 47, 6, 136, 20, 38, 8, 37, 43, 11, 109, 13, 3, 12, 16, 25, 42, 34, 5, 42, 162, 43, 32, 22, 32, 26, 27, 109, 45, 4, 18, 41, 22, 9, 21, 19, 11, 25, 5, 108, 24, 22, 77, 9, 7, 20, 44, 67, 14, 41, 19, 42, 10, 19, 12, 22, 27, 43, 22, 152, 43, 1, 42, 32, 49, 110, 14, 32, 49, 3, 19, 5, 36, 28, 47, 43, 21, 61, 2, 7, 14, 28, 26, 16, 6, 6, 49, 32, 3, 3, 16, 90, 142, 37, 29, 75, 20, 20, 36, 14, 23, 46, 11, 34, 46, 20, 24, 18, 1, 43, 46, 10, 3, 143, 117, 44, 29, 49, 2, 26, 2, 25, 48, 86, 2, 160, 36, 49, 113, 11, 80, 2, 18, 9, 28, 14, 36, 11, 23, 3, 22, 37, 1, 1, 13, 21, 41, 33, 46, 18, 65, 34, 19, 24, 33, 37, 45, 7, 46, 20, 42, 42, 106, 106, 13, 44, 146, 136, 39, 122, 36, 25, 47, 12, 23, 3, 15, 12, 193, 13, 22, 4, 6, 9, 14, 43, 125, 26, 12, 8, 3, 23, 10, 29, 32, 46, 29, 89, 9, 48, 36, 22, 12, 62, 6, 48, 35, 2, 5, 142, 40, 27, 23, 42, 5, 29, 5, 13, 44, 32, 141, 31, 93, 47, 2, 21, 26, 28, 41, 18, 18, 71, 18, 3, 47, 34, 4, 45, 24, 7, 24, 13, 45, 98, 37, 3, 12, 18, 12, 28, 11, 1, 13, 21, 39, 22, 24, 18, 38, 8, 4, 4, 18, 40, 11, 8, 9, 41, 36, 7, 23, 13, 35, 1, 35, 2, 8, 28, 29, 13, 27, 38, 191, 45, 29, 34, 46, 221, 10, 26, 76, 23, 27, 200, 195, 29, 35, 15, 12, 7, 19, 3, 229, 44, 170, 16, 26, 28, 43, 16, 94, 17, 22, 14, 6, 34, 23, 2, 42, 9, 8, 40, 22, 18, 144, 130, 40, 127, 8, 20, 13, 45, 9, 15, 45, 25, 25, 1, 18, 21, 11, 12, 84, 27, 27, 10, 168, 10, 5, 23, 47, 35, 31, 1, 25, 153, 17, 12, 25, 193, 42, 95, 16, 97, 38, 48, 38, 7, 205, 28, 99, 16, 16, 23, 8, 40, 9, 9, 29, 49, 25, 35, 23, 192, 23, 19, 25, 4, 24, 33, 12, 157, 19, 14, 45, 9, 1, 41, 10, 29, 7, 1, 16, 25, 72, 45, 32, 5, 77, 41, 9, 1, 5, 7, 8, 11, 70, 111, 18, 9, 10, 6, 147, 45, 144, 90, 48, 34, 29, 15, 16, 20, 11, 199, 24, 22, 47, 4, 147, 15, 13, 4, 9, 177, 31, 15, 37, 13, 24, 92, 109, 11, 29, 8, 14, 11, 18, 9, 7, 18, 9, 12, 19, 23, 22, 17, 12, 177, 24, 40, 25, 45, 18, 39, 24, 15, 2, 29, 46, 27, 26, 1, 12, 47, 33, 17, 4, 33, 19, 48, 3, 130, 9, 3, 44, 7, 33, 12, 6, 28, 21, 84, 4, 10, 13, 36, 12, 37, 22, 49, 9, 43, 21, 32, 43, 8, 32, 46, 7, 85, 47, 18, 25, 25, 45, 9, 1, 27, 6, 9, 3, 34, 45, 28, 29, 18, 15, 5, 8, 10, 149, 29, 48, 29, 24, 44, 49, 23, 26, 8, 17, 16, 41, 49, 19, 118, 25, 17, 26, 20, 15, 44, 29, 13, 11, 28, 35, 36, 43, 38, 43, 140, 42, 20, 35, 19, 37, 20, 11, 48, 27, 18, 39, 8, 13, 74, 17, 44, 26, 79, 147, 12, 45, 19, 41, 3, 21, 47, 25, 19, 157, 17, 37, 19, 1, 35, 46, 14, 128, 1, 46, 12, 10, 29, 165, 27, 18, 92, 43, 98, 48, 11, 29, 5, 32, 1, 24, 29, 9, 34, 38, 14, 22, 118, 17, 90, 62, 70, 33, 23, 9, 122, 28, 24, 22, 45, 15, 4, 83, 45, 44, 31, 25, 45, 26, 26, 8, 22, 38, 28, 2, 28, 119, 12, 123, 13, 1, 91, 26, 42, 15, 21, 7, 40, 45, 25, 105, 26, 13, 29, 108, 33, 6, 8, 25, 20, 20, 46, 3, 88, 49, 11, 5, 29, 91, 145, 7, 100, 14, 20, 22, 36, 11, 12, 3, 49, 4, 112, 12, 46, 46, 16, 17, 16, 5, 29, 38, 10, 1, 27, 18, 6, 22, 144, 24, 27, 12, 15, 138, 22, 14, 1, 3, 4, 1, 20, 20, 109, 32, 13, 27, 31, 7, 72, 39, 40, 22, 26, 9, 18, 24, 4, 47, 17, 11, 12, 17, 170, 67, 2, 111, 14, 18, 102, 18, 76, 2, 8, 15, 64, 23, 35, 15, 27, 38, 2, 8, 20, 3, 25, 143, 3, 10, 31, 27, 2, 13, 46, 28, 13, 16, 21, 81, 6, 15, 11, 26, 3, 15, 3, 2, 17, 12, 18, 18, 49, 4, 26, 70, 29, 16, 35, 9, 21, 21, 18, 12, 48, 13, 21, 117, 2, 17, 18, 4, 20, 27, 23, 22, 89, 8, 25, 17, 38, 102, 15, 18, 28, 34, 113, 202, 19, 37, 18, 29, 36, 23, 18, 11, 20, 22, 9, 32, 48, 100, 19, 97, 6, 21, 24, 11, 16, 14, 20, 12, 41, 44, 20, 47, 9, 7, 26, 23, 9, 17, 4, 105, 97, 4, 2, 15, 29, 8, 12, 21, 31, 21, 20, 27, 14, 5, 23, 20, 12, 39, 23, 2, 10, 207, 78, 3, 2, 36, 28, 6, 2, 2, 44, 46, 25, 7, 12, 13, 12, 7, 24, 28, 16, 134, 24, 1, 17, 29, 7, 21, 67, 41, 15, 44, 15, 209, 49, 35, 41, 4, 22, 19, 14, 23, 25, 46, 26, 2, 31, 49, 45, 46, 27, 3, 26, 43, 39, 1, 144, 25, 32, 37, 12, 23, 11, 13, 174, 24, 42, 34, 12, 24, 5, 12, 31, 49, 76, 10, 120, 6, 36, 31, 16, 9, 7, 17, 19, 43, 28, 40, 1, 7, 21, 10, 10, 14, 13, 12, 4, 35, 31, 5, 18, 39, 11, 11, 12, 15, 24, 5, 14, 29, 29, 48, 8, 24, 22, 42, 4, 25, 17, 18, 33, 49, 29, 13, 19, 139, 18, 11, 15, 25, 24, 39, 16, 7, 49, 12, 13, 27, 23, 24, 98, 67, 115, 7, 46, 122, 16, 9, 4, 25, 28, 27, 25, 31, 3, 19, 102, 27, 10, 21, 5, 11, 42, 6, 16, 6, 26, 29, 10, 29, 28, 100, 20, 67, 77, 61, 2, 5, 18, 21, 115, 8, 18, 2, 16, 31, 24, 27, 43, 8, 27, 49, 37, 45, 47, 65, 14, 40, 1, 17, 46, 222, 26, 28, 39, 38, 16, 34, 41, 46, 146, 1, 2, 19, 9, 8, 14, 27, 69, 26, 38, 3, 42, 18, 48, 23, 31, 18, 2, 27, 17, 7, 13, 48, 23, 35, 24, 10, 18, 15, 5, 14, 15, 44, 25, 24, 22, 5, 19, 41, 5, 10, 47, 135, 15, 19], \"xaxis\": \"x\", \"yaxis\": \"y\"}],                        {\"barmode\": \"relative\", \"legend\": {\"tracegroupgap\": 0}, \"template\": {\"data\": {\"bar\": [{\"error_x\": {\"color\": \"#2a3f5f\"}, \"error_y\": {\"color\": \"#2a3f5f\"}, \"marker\": {\"line\": {\"color\": \"#E5ECF6\", \"width\": 0.5}}, \"type\": \"bar\"}], \"barpolar\": [{\"marker\": {\"line\": {\"color\": \"#E5ECF6\", \"width\": 0.5}}, \"type\": \"barpolar\"}], \"carpet\": [{\"aaxis\": {\"endlinecolor\": \"#2a3f5f\", \"gridcolor\": \"white\", \"linecolor\": \"white\", \"minorgridcolor\": \"white\", \"startlinecolor\": \"#2a3f5f\"}, \"baxis\": {\"endlinecolor\": \"#2a3f5f\", \"gridcolor\": \"white\", \"linecolor\": \"white\", \"minorgridcolor\": \"white\", \"startlinecolor\": \"#2a3f5f\"}, \"type\": \"carpet\"}], \"choropleth\": [{\"colorbar\": {\"outlinewidth\": 0, \"ticks\": \"\"}, \"type\": \"choropleth\"}], \"contour\": [{\"colorbar\": {\"outlinewidth\": 0, \"ticks\": \"\"}, \"colorscale\": [[0.0, \"#0d0887\"], [0.1111111111111111, \"#46039f\"], [0.2222222222222222, \"#7201a8\"], [0.3333333333333333, \"#9c179e\"], [0.4444444444444444, \"#bd3786\"], [0.5555555555555556, \"#d8576b\"], [0.6666666666666666, \"#ed7953\"], [0.7777777777777778, \"#fb9f3a\"], [0.8888888888888888, \"#fdca26\"], [1.0, \"#f0f921\"]], \"type\": \"contour\"}], \"contourcarpet\": [{\"colorbar\": {\"outlinewidth\": 0, \"ticks\": \"\"}, \"type\": \"contourcarpet\"}], \"heatmap\": [{\"colorbar\": {\"outlinewidth\": 0, \"ticks\": \"\"}, \"colorscale\": [[0.0, \"#0d0887\"], [0.1111111111111111, \"#46039f\"], [0.2222222222222222, \"#7201a8\"], [0.3333333333333333, \"#9c179e\"], [0.4444444444444444, \"#bd3786\"], [0.5555555555555556, \"#d8576b\"], [0.6666666666666666, \"#ed7953\"], [0.7777777777777778, \"#fb9f3a\"], [0.8888888888888888, \"#fdca26\"], [1.0, \"#f0f921\"]], \"type\": \"heatmap\"}], \"heatmapgl\": [{\"colorbar\": {\"outlinewidth\": 0, \"ticks\": \"\"}, \"colorscale\": [[0.0, \"#0d0887\"], [0.1111111111111111, \"#46039f\"], [0.2222222222222222, \"#7201a8\"], [0.3333333333333333, \"#9c179e\"], [0.4444444444444444, \"#bd3786\"], [0.5555555555555556, \"#d8576b\"], [0.6666666666666666, \"#ed7953\"], [0.7777777777777778, \"#fb9f3a\"], [0.8888888888888888, \"#fdca26\"], [1.0, \"#f0f921\"]], \"type\": \"heatmapgl\"}], \"histogram\": [{\"marker\": {\"colorbar\": {\"outlinewidth\": 0, \"ticks\": \"\"}}, \"type\": \"histogram\"}], \"histogram2d\": [{\"colorbar\": {\"outlinewidth\": 0, \"ticks\": \"\"}, \"colorscale\": [[0.0, \"#0d0887\"], [0.1111111111111111, \"#46039f\"], [0.2222222222222222, \"#7201a8\"], [0.3333333333333333, \"#9c179e\"], [0.4444444444444444, \"#bd3786\"], [0.5555555555555556, \"#d8576b\"], [0.6666666666666666, \"#ed7953\"], [0.7777777777777778, \"#fb9f3a\"], [0.8888888888888888, \"#fdca26\"], [1.0, \"#f0f921\"]], \"type\": \"histogram2d\"}], \"histogram2dcontour\": [{\"colorbar\": {\"outlinewidth\": 0, \"ticks\": \"\"}, \"colorscale\": [[0.0, \"#0d0887\"], [0.1111111111111111, \"#46039f\"], [0.2222222222222222, \"#7201a8\"], [0.3333333333333333, \"#9c179e\"], [0.4444444444444444, \"#bd3786\"], [0.5555555555555556, \"#d8576b\"], [0.6666666666666666, \"#ed7953\"], [0.7777777777777778, \"#fb9f3a\"], [0.8888888888888888, \"#fdca26\"], [1.0, \"#f0f921\"]], \"type\": \"histogram2dcontour\"}], \"mesh3d\": [{\"colorbar\": {\"outlinewidth\": 0, \"ticks\": \"\"}, \"type\": \"mesh3d\"}], \"parcoords\": [{\"line\": {\"colorbar\": {\"outlinewidth\": 0, \"ticks\": \"\"}}, \"type\": \"parcoords\"}], \"pie\": [{\"automargin\": true, \"type\": \"pie\"}], \"scatter\": [{\"marker\": {\"colorbar\": {\"outlinewidth\": 0, \"ticks\": \"\"}}, \"type\": \"scatter\"}], \"scatter3d\": [{\"line\": {\"colorbar\": {\"outlinewidth\": 0, \"ticks\": \"\"}}, \"marker\": {\"colorbar\": {\"outlinewidth\": 0, \"ticks\": \"\"}}, \"type\": \"scatter3d\"}], \"scattercarpet\": [{\"marker\": {\"colorbar\": {\"outlinewidth\": 0, \"ticks\": \"\"}}, \"type\": \"scattercarpet\"}], \"scattergeo\": [{\"marker\": {\"colorbar\": {\"outlinewidth\": 0, \"ticks\": \"\"}}, \"type\": \"scattergeo\"}], \"scattergl\": [{\"marker\": {\"colorbar\": {\"outlinewidth\": 0, \"ticks\": \"\"}}, \"type\": \"scattergl\"}], \"scattermapbox\": [{\"marker\": {\"colorbar\": {\"outlinewidth\": 0, \"ticks\": \"\"}}, \"type\": \"scattermapbox\"}], \"scatterpolar\": [{\"marker\": {\"colorbar\": {\"outlinewidth\": 0, \"ticks\": \"\"}}, \"type\": \"scatterpolar\"}], \"scatterpolargl\": [{\"marker\": {\"colorbar\": {\"outlinewidth\": 0, \"ticks\": \"\"}}, \"type\": \"scatterpolargl\"}], \"scatterternary\": [{\"marker\": {\"colorbar\": {\"outlinewidth\": 0, \"ticks\": \"\"}}, \"type\": \"scatterternary\"}], \"surface\": [{\"colorbar\": {\"outlinewidth\": 0, \"ticks\": \"\"}, \"colorscale\": [[0.0, \"#0d0887\"], [0.1111111111111111, \"#46039f\"], [0.2222222222222222, \"#7201a8\"], [0.3333333333333333, \"#9c179e\"], [0.4444444444444444, \"#bd3786\"], [0.5555555555555556, \"#d8576b\"], [0.6666666666666666, \"#ed7953\"], [0.7777777777777778, \"#fb9f3a\"], [0.8888888888888888, \"#fdca26\"], [1.0, \"#f0f921\"]], \"type\": \"surface\"}], \"table\": [{\"cells\": {\"fill\": {\"color\": \"#EBF0F8\"}, \"line\": {\"color\": \"white\"}}, \"header\": {\"fill\": {\"color\": \"#C8D4E3\"}, \"line\": {\"color\": \"white\"}}, \"type\": \"table\"}]}, \"layout\": {\"annotationdefaults\": {\"arrowcolor\": \"#2a3f5f\", \"arrowhead\": 0, \"arrowwidth\": 1}, \"autotypenumbers\": \"strict\", \"coloraxis\": {\"colorbar\": {\"outlinewidth\": 0, \"ticks\": \"\"}}, \"colorscale\": {\"diverging\": [[0, \"#8e0152\"], [0.1, \"#c51b7d\"], [0.2, \"#de77ae\"], [0.3, \"#f1b6da\"], [0.4, \"#fde0ef\"], [0.5, \"#f7f7f7\"], [0.6, \"#e6f5d0\"], [0.7, \"#b8e186\"], [0.8, \"#7fbc41\"], [0.9, \"#4d9221\"], [1, \"#276419\"]], \"sequential\": [[0.0, \"#0d0887\"], [0.1111111111111111, \"#46039f\"], [0.2222222222222222, \"#7201a8\"], [0.3333333333333333, \"#9c179e\"], [0.4444444444444444, \"#bd3786\"], [0.5555555555555556, \"#d8576b\"], [0.6666666666666666, \"#ed7953\"], [0.7777777777777778, \"#fb9f3a\"], [0.8888888888888888, \"#fdca26\"], [1.0, \"#f0f921\"]], \"sequentialminus\": [[0.0, \"#0d0887\"], [0.1111111111111111, \"#46039f\"], [0.2222222222222222, \"#7201a8\"], [0.3333333333333333, \"#9c179e\"], [0.4444444444444444, \"#bd3786\"], [0.5555555555555556, \"#d8576b\"], [0.6666666666666666, \"#ed7953\"], [0.7777777777777778, \"#fb9f3a\"], [0.8888888888888888, \"#fdca26\"], [1.0, \"#f0f921\"]]}, \"colorway\": [\"#636efa\", \"#EF553B\", \"#00cc96\", \"#ab63fa\", \"#FFA15A\", \"#19d3f3\", \"#FF6692\", \"#B6E880\", \"#FF97FF\", \"#FECB52\"], \"font\": {\"color\": \"#2a3f5f\"}, \"geo\": {\"bgcolor\": \"white\", \"lakecolor\": \"white\", \"landcolor\": \"#E5ECF6\", \"showlakes\": true, \"showland\": true, \"subunitcolor\": \"white\"}, \"hoverlabel\": {\"align\": \"left\"}, \"hovermode\": \"closest\", \"mapbox\": {\"style\": \"light\"}, \"paper_bgcolor\": \"white\", \"plot_bgcolor\": \"#E5ECF6\", \"polar\": {\"angularaxis\": {\"gridcolor\": \"white\", \"linecolor\": \"white\", \"ticks\": \"\"}, \"bgcolor\": \"#E5ECF6\", \"radialaxis\": {\"gridcolor\": \"white\", \"linecolor\": \"white\", \"ticks\": \"\"}}, \"scene\": {\"xaxis\": {\"backgroundcolor\": \"#E5ECF6\", \"gridcolor\": \"white\", \"gridwidth\": 2, \"linecolor\": \"white\", \"showbackground\": true, \"ticks\": \"\", \"zerolinecolor\": \"white\"}, \"yaxis\": {\"backgroundcolor\": \"#E5ECF6\", \"gridcolor\": \"white\", \"gridwidth\": 2, \"linecolor\": \"white\", \"showbackground\": true, \"ticks\": \"\", \"zerolinecolor\": \"white\"}, \"zaxis\": {\"backgroundcolor\": \"#E5ECF6\", \"gridcolor\": \"white\", \"gridwidth\": 2, \"linecolor\": \"white\", \"showbackground\": true, \"ticks\": \"\", \"zerolinecolor\": \"white\"}}, \"shapedefaults\": {\"line\": {\"color\": \"#2a3f5f\"}}, \"ternary\": {\"aaxis\": {\"gridcolor\": \"white\", \"linecolor\": \"white\", \"ticks\": \"\"}, \"baxis\": {\"gridcolor\": \"white\", \"linecolor\": \"white\", \"ticks\": \"\"}, \"bgcolor\": \"#E5ECF6\", \"caxis\": {\"gridcolor\": \"white\", \"linecolor\": \"white\", \"ticks\": \"\"}}, \"title\": {\"x\": 0.05}, \"xaxis\": {\"automargin\": true, \"gridcolor\": \"white\", \"linecolor\": \"white\", \"ticks\": \"\", \"title\": {\"standoff\": 15}, \"zerolinecolor\": \"white\", \"zerolinewidth\": 2}, \"yaxis\": {\"automargin\": true, \"gridcolor\": \"white\", \"linecolor\": \"white\", \"ticks\": \"\", \"title\": {\"standoff\": 15}, \"zerolinecolor\": \"white\", \"zerolinewidth\": 2}}}, \"title\": {\"text\": \"Chain seat character\"}, \"xaxis\": {\"anchor\": \"y\", \"domain\": [0.0, 1.0], \"title\": {\"text\": \"Number of establishments\"}, \"type\": \"category\"}, \"yaxis\": {\"anchor\": \"x\", \"domain\": [0.0, 1.0], \"title\": {\"text\": \"Number of seats\"}}},                        {\"responsive\": true}                    ).then(function(){\n",
       "                            \n",
       "var gd = document.getElementById('64ec7c37-d5b2-4dbb-b2e9-5c939f9deee2');\n",
       "var x = new MutationObserver(function (mutations, observer) {{\n",
       "        var display = window.getComputedStyle(gd).display;\n",
       "        if (!display || display === 'none') {{\n",
       "            console.log([gd, 'removed!']);\n",
       "            Plotly.purge(gd);\n",
       "            observer.disconnect();\n",
       "        }}\n",
       "}});\n",
       "\n",
       "// Listen for the removal of the full notebook cells\n",
       "var notebookContainer = gd.closest('#notebook-container');\n",
       "if (notebookContainer) {{\n",
       "    x.observe(notebookContainer, {childList: true});\n",
       "}}\n",
       "\n",
       "// Listen for the clearing of the current output cell\n",
       "var outputEl = gd.closest('.output');\n",
       "if (outputEl) {{\n",
       "    x.observe(outputEl, {childList: true});\n",
       "}}\n",
       "\n",
       "                        })                };                });            </script>        </div>"
      ]
     },
     "metadata": {},
     "output_type": "display_data"
    }
   ],
   "source": [
    "chain= px.histogram(chain_est_list, x=\"seats\", title=f\"Chain seat character\")\n",
    "chain.update_layout(yaxis_title=\"Number of seats\", xaxis_title=\"Number of establishments\" )\n",
    "chain.update_xaxes(type='category')\n",
    "chain.show()"
   ]
  },
  {
   "cell_type": "markdown",
   "metadata": {},
   "source": [
    "Base on our visualization, chain establishment tends to have more establishments with fewer seating capacity compared to establishment with more seats.Restaurants makes up for highest number of seats among the group.\n",
    "\n",
    "<p><a name=\"avgseat\"></a></p>\n",
    "\n",
    "* **Determine the average number of seats for each type of restaurant. On average, which type of restaurant has the greatest number of seats?**"
   ]
  },
  {
   "cell_type": "code",
   "execution_count": 25,
   "metadata": {},
   "outputs": [
    {
     "data": {
      "text/html": [
       "<div>\n",
       "<style scoped>\n",
       "    .dataframe tbody tr th:only-of-type {\n",
       "        vertical-align: middle;\n",
       "    }\n",
       "\n",
       "    .dataframe tbody tr th {\n",
       "        vertical-align: top;\n",
       "    }\n",
       "\n",
       "    .dataframe thead th {\n",
       "        text-align: right;\n",
       "    }\n",
       "</style>\n",
       "<table border=\"1\" class=\"dataframe\">\n",
       "  <thead>\n",
       "    <tr style=\"text-align: right;\">\n",
       "      <th></th>\n",
       "      <th>Total</th>\n",
       "      <th>average</th>\n",
       "    </tr>\n",
       "    <tr>\n",
       "      <th>est_type</th>\n",
       "      <th></th>\n",
       "      <th></th>\n",
       "    </tr>\n",
       "  </thead>\n",
       "  <tbody>\n",
       "    <tr>\n",
       "      <th>Bakery</th>\n",
       "      <td>283</td>\n",
       "      <td>18.0</td>\n",
       "    </tr>\n",
       "    <tr>\n",
       "      <th>Bar</th>\n",
       "      <td>292</td>\n",
       "      <td>28.5</td>\n",
       "    </tr>\n",
       "    <tr>\n",
       "      <th>Cafe</th>\n",
       "      <td>435</td>\n",
       "      <td>21.0</td>\n",
       "    </tr>\n",
       "    <tr>\n",
       "      <th>Fast Food</th>\n",
       "      <td>1066</td>\n",
       "      <td>21.0</td>\n",
       "    </tr>\n",
       "    <tr>\n",
       "      <th>Pizza</th>\n",
       "      <td>320</td>\n",
       "      <td>18.5</td>\n",
       "    </tr>\n",
       "    <tr>\n",
       "      <th>Restaurant</th>\n",
       "      <td>7255</td>\n",
       "      <td>29.0</td>\n",
       "    </tr>\n",
       "  </tbody>\n",
       "</table>\n",
       "</div>"
      ],
      "text/plain": [
       "            Total  average\n",
       "est_type                  \n",
       "Bakery        283     18.0\n",
       "Bar           292     28.5\n",
       "Cafe          435     21.0\n",
       "Fast Food    1066     21.0\n",
       "Pizza         320     18.5\n",
       "Restaurant   7255     29.0"
      ]
     },
     "execution_count": 25,
     "metadata": {},
     "output_type": "execute_result"
    }
   ],
   "source": [
    "# group the data by establishment and an aggregationg the count and median of seats\n",
    "rest_seat_grouped = rest_data.groupby('est_type').agg({'seats': ['count', 'median']})\n",
    "rest_seat_grouped.columns = ['Total', 'average'] \n",
    "rest_seat_grouped"
   ]
  },
  {
   "cell_type": "code",
   "execution_count": 26,
   "metadata": {},
   "outputs": [
    {
     "data": {
      "application/vnd.plotly.v1+json": {
       "config": {
        "plotlyServerURL": "https://plot.ly"
       },
       "data": [
        {
         "type": "bar",
         "x": [
          "Bakery",
          "Bar",
          "Cafe",
          "Fast Food",
          "Pizza",
          "Restaurant"
         ],
         "y": [
          18,
          28.5,
          21,
          21,
          18.5,
          29
         ]
        }
       ],
       "layout": {
        "barmode": "group",
        "template": {
         "data": {
          "bar": [
           {
            "error_x": {
             "color": "#2a3f5f"
            },
            "error_y": {
             "color": "#2a3f5f"
            },
            "marker": {
             "line": {
              "color": "#E5ECF6",
              "width": 0.5
             }
            },
            "type": "bar"
           }
          ],
          "barpolar": [
           {
            "marker": {
             "line": {
              "color": "#E5ECF6",
              "width": 0.5
             }
            },
            "type": "barpolar"
           }
          ],
          "carpet": [
           {
            "aaxis": {
             "endlinecolor": "#2a3f5f",
             "gridcolor": "white",
             "linecolor": "white",
             "minorgridcolor": "white",
             "startlinecolor": "#2a3f5f"
            },
            "baxis": {
             "endlinecolor": "#2a3f5f",
             "gridcolor": "white",
             "linecolor": "white",
             "minorgridcolor": "white",
             "startlinecolor": "#2a3f5f"
            },
            "type": "carpet"
           }
          ],
          "choropleth": [
           {
            "colorbar": {
             "outlinewidth": 0,
             "ticks": ""
            },
            "type": "choropleth"
           }
          ],
          "contour": [
           {
            "colorbar": {
             "outlinewidth": 0,
             "ticks": ""
            },
            "colorscale": [
             [
              0,
              "#0d0887"
             ],
             [
              0.1111111111111111,
              "#46039f"
             ],
             [
              0.2222222222222222,
              "#7201a8"
             ],
             [
              0.3333333333333333,
              "#9c179e"
             ],
             [
              0.4444444444444444,
              "#bd3786"
             ],
             [
              0.5555555555555556,
              "#d8576b"
             ],
             [
              0.6666666666666666,
              "#ed7953"
             ],
             [
              0.7777777777777778,
              "#fb9f3a"
             ],
             [
              0.8888888888888888,
              "#fdca26"
             ],
             [
              1,
              "#f0f921"
             ]
            ],
            "type": "contour"
           }
          ],
          "contourcarpet": [
           {
            "colorbar": {
             "outlinewidth": 0,
             "ticks": ""
            },
            "type": "contourcarpet"
           }
          ],
          "heatmap": [
           {
            "colorbar": {
             "outlinewidth": 0,
             "ticks": ""
            },
            "colorscale": [
             [
              0,
              "#0d0887"
             ],
             [
              0.1111111111111111,
              "#46039f"
             ],
             [
              0.2222222222222222,
              "#7201a8"
             ],
             [
              0.3333333333333333,
              "#9c179e"
             ],
             [
              0.4444444444444444,
              "#bd3786"
             ],
             [
              0.5555555555555556,
              "#d8576b"
             ],
             [
              0.6666666666666666,
              "#ed7953"
             ],
             [
              0.7777777777777778,
              "#fb9f3a"
             ],
             [
              0.8888888888888888,
              "#fdca26"
             ],
             [
              1,
              "#f0f921"
             ]
            ],
            "type": "heatmap"
           }
          ],
          "heatmapgl": [
           {
            "colorbar": {
             "outlinewidth": 0,
             "ticks": ""
            },
            "colorscale": [
             [
              0,
              "#0d0887"
             ],
             [
              0.1111111111111111,
              "#46039f"
             ],
             [
              0.2222222222222222,
              "#7201a8"
             ],
             [
              0.3333333333333333,
              "#9c179e"
             ],
             [
              0.4444444444444444,
              "#bd3786"
             ],
             [
              0.5555555555555556,
              "#d8576b"
             ],
             [
              0.6666666666666666,
              "#ed7953"
             ],
             [
              0.7777777777777778,
              "#fb9f3a"
             ],
             [
              0.8888888888888888,
              "#fdca26"
             ],
             [
              1,
              "#f0f921"
             ]
            ],
            "type": "heatmapgl"
           }
          ],
          "histogram": [
           {
            "marker": {
             "colorbar": {
              "outlinewidth": 0,
              "ticks": ""
             }
            },
            "type": "histogram"
           }
          ],
          "histogram2d": [
           {
            "colorbar": {
             "outlinewidth": 0,
             "ticks": ""
            },
            "colorscale": [
             [
              0,
              "#0d0887"
             ],
             [
              0.1111111111111111,
              "#46039f"
             ],
             [
              0.2222222222222222,
              "#7201a8"
             ],
             [
              0.3333333333333333,
              "#9c179e"
             ],
             [
              0.4444444444444444,
              "#bd3786"
             ],
             [
              0.5555555555555556,
              "#d8576b"
             ],
             [
              0.6666666666666666,
              "#ed7953"
             ],
             [
              0.7777777777777778,
              "#fb9f3a"
             ],
             [
              0.8888888888888888,
              "#fdca26"
             ],
             [
              1,
              "#f0f921"
             ]
            ],
            "type": "histogram2d"
           }
          ],
          "histogram2dcontour": [
           {
            "colorbar": {
             "outlinewidth": 0,
             "ticks": ""
            },
            "colorscale": [
             [
              0,
              "#0d0887"
             ],
             [
              0.1111111111111111,
              "#46039f"
             ],
             [
              0.2222222222222222,
              "#7201a8"
             ],
             [
              0.3333333333333333,
              "#9c179e"
             ],
             [
              0.4444444444444444,
              "#bd3786"
             ],
             [
              0.5555555555555556,
              "#d8576b"
             ],
             [
              0.6666666666666666,
              "#ed7953"
             ],
             [
              0.7777777777777778,
              "#fb9f3a"
             ],
             [
              0.8888888888888888,
              "#fdca26"
             ],
             [
              1,
              "#f0f921"
             ]
            ],
            "type": "histogram2dcontour"
           }
          ],
          "mesh3d": [
           {
            "colorbar": {
             "outlinewidth": 0,
             "ticks": ""
            },
            "type": "mesh3d"
           }
          ],
          "parcoords": [
           {
            "line": {
             "colorbar": {
              "outlinewidth": 0,
              "ticks": ""
             }
            },
            "type": "parcoords"
           }
          ],
          "pie": [
           {
            "automargin": true,
            "type": "pie"
           }
          ],
          "scatter": [
           {
            "marker": {
             "colorbar": {
              "outlinewidth": 0,
              "ticks": ""
             }
            },
            "type": "scatter"
           }
          ],
          "scatter3d": [
           {
            "line": {
             "colorbar": {
              "outlinewidth": 0,
              "ticks": ""
             }
            },
            "marker": {
             "colorbar": {
              "outlinewidth": 0,
              "ticks": ""
             }
            },
            "type": "scatter3d"
           }
          ],
          "scattercarpet": [
           {
            "marker": {
             "colorbar": {
              "outlinewidth": 0,
              "ticks": ""
             }
            },
            "type": "scattercarpet"
           }
          ],
          "scattergeo": [
           {
            "marker": {
             "colorbar": {
              "outlinewidth": 0,
              "ticks": ""
             }
            },
            "type": "scattergeo"
           }
          ],
          "scattergl": [
           {
            "marker": {
             "colorbar": {
              "outlinewidth": 0,
              "ticks": ""
             }
            },
            "type": "scattergl"
           }
          ],
          "scattermapbox": [
           {
            "marker": {
             "colorbar": {
              "outlinewidth": 0,
              "ticks": ""
             }
            },
            "type": "scattermapbox"
           }
          ],
          "scatterpolar": [
           {
            "marker": {
             "colorbar": {
              "outlinewidth": 0,
              "ticks": ""
             }
            },
            "type": "scatterpolar"
           }
          ],
          "scatterpolargl": [
           {
            "marker": {
             "colorbar": {
              "outlinewidth": 0,
              "ticks": ""
             }
            },
            "type": "scatterpolargl"
           }
          ],
          "scatterternary": [
           {
            "marker": {
             "colorbar": {
              "outlinewidth": 0,
              "ticks": ""
             }
            },
            "type": "scatterternary"
           }
          ],
          "surface": [
           {
            "colorbar": {
             "outlinewidth": 0,
             "ticks": ""
            },
            "colorscale": [
             [
              0,
              "#0d0887"
             ],
             [
              0.1111111111111111,
              "#46039f"
             ],
             [
              0.2222222222222222,
              "#7201a8"
             ],
             [
              0.3333333333333333,
              "#9c179e"
             ],
             [
              0.4444444444444444,
              "#bd3786"
             ],
             [
              0.5555555555555556,
              "#d8576b"
             ],
             [
              0.6666666666666666,
              "#ed7953"
             ],
             [
              0.7777777777777778,
              "#fb9f3a"
             ],
             [
              0.8888888888888888,
              "#fdca26"
             ],
             [
              1,
              "#f0f921"
             ]
            ],
            "type": "surface"
           }
          ],
          "table": [
           {
            "cells": {
             "fill": {
              "color": "#EBF0F8"
             },
             "line": {
              "color": "white"
             }
            },
            "header": {
             "fill": {
              "color": "#C8D4E3"
             },
             "line": {
              "color": "white"
             }
            },
            "type": "table"
           }
          ]
         },
         "layout": {
          "annotationdefaults": {
           "arrowcolor": "#2a3f5f",
           "arrowhead": 0,
           "arrowwidth": 1
          },
          "autotypenumbers": "strict",
          "coloraxis": {
           "colorbar": {
            "outlinewidth": 0,
            "ticks": ""
           }
          },
          "colorscale": {
           "diverging": [
            [
             0,
             "#8e0152"
            ],
            [
             0.1,
             "#c51b7d"
            ],
            [
             0.2,
             "#de77ae"
            ],
            [
             0.3,
             "#f1b6da"
            ],
            [
             0.4,
             "#fde0ef"
            ],
            [
             0.5,
             "#f7f7f7"
            ],
            [
             0.6,
             "#e6f5d0"
            ],
            [
             0.7,
             "#b8e186"
            ],
            [
             0.8,
             "#7fbc41"
            ],
            [
             0.9,
             "#4d9221"
            ],
            [
             1,
             "#276419"
            ]
           ],
           "sequential": [
            [
             0,
             "#0d0887"
            ],
            [
             0.1111111111111111,
             "#46039f"
            ],
            [
             0.2222222222222222,
             "#7201a8"
            ],
            [
             0.3333333333333333,
             "#9c179e"
            ],
            [
             0.4444444444444444,
             "#bd3786"
            ],
            [
             0.5555555555555556,
             "#d8576b"
            ],
            [
             0.6666666666666666,
             "#ed7953"
            ],
            [
             0.7777777777777778,
             "#fb9f3a"
            ],
            [
             0.8888888888888888,
             "#fdca26"
            ],
            [
             1,
             "#f0f921"
            ]
           ],
           "sequentialminus": [
            [
             0,
             "#0d0887"
            ],
            [
             0.1111111111111111,
             "#46039f"
            ],
            [
             0.2222222222222222,
             "#7201a8"
            ],
            [
             0.3333333333333333,
             "#9c179e"
            ],
            [
             0.4444444444444444,
             "#bd3786"
            ],
            [
             0.5555555555555556,
             "#d8576b"
            ],
            [
             0.6666666666666666,
             "#ed7953"
            ],
            [
             0.7777777777777778,
             "#fb9f3a"
            ],
            [
             0.8888888888888888,
             "#fdca26"
            ],
            [
             1,
             "#f0f921"
            ]
           ]
          },
          "colorway": [
           "#636efa",
           "#EF553B",
           "#00cc96",
           "#ab63fa",
           "#FFA15A",
           "#19d3f3",
           "#FF6692",
           "#B6E880",
           "#FF97FF",
           "#FECB52"
          ],
          "font": {
           "color": "#2a3f5f"
          },
          "geo": {
           "bgcolor": "white",
           "lakecolor": "white",
           "landcolor": "#E5ECF6",
           "showlakes": true,
           "showland": true,
           "subunitcolor": "white"
          },
          "hoverlabel": {
           "align": "left"
          },
          "hovermode": "closest",
          "mapbox": {
           "style": "light"
          },
          "paper_bgcolor": "white",
          "plot_bgcolor": "#E5ECF6",
          "polar": {
           "angularaxis": {
            "gridcolor": "white",
            "linecolor": "white",
            "ticks": ""
           },
           "bgcolor": "#E5ECF6",
           "radialaxis": {
            "gridcolor": "white",
            "linecolor": "white",
            "ticks": ""
           }
          },
          "scene": {
           "xaxis": {
            "backgroundcolor": "#E5ECF6",
            "gridcolor": "white",
            "gridwidth": 2,
            "linecolor": "white",
            "showbackground": true,
            "ticks": "",
            "zerolinecolor": "white"
           },
           "yaxis": {
            "backgroundcolor": "#E5ECF6",
            "gridcolor": "white",
            "gridwidth": 2,
            "linecolor": "white",
            "showbackground": true,
            "ticks": "",
            "zerolinecolor": "white"
           },
           "zaxis": {
            "backgroundcolor": "#E5ECF6",
            "gridcolor": "white",
            "gridwidth": 2,
            "linecolor": "white",
            "showbackground": true,
            "ticks": "",
            "zerolinecolor": "white"
           }
          },
          "shapedefaults": {
           "line": {
            "color": "#2a3f5f"
           }
          },
          "ternary": {
           "aaxis": {
            "gridcolor": "white",
            "linecolor": "white",
            "ticks": ""
           },
           "baxis": {
            "gridcolor": "white",
            "linecolor": "white",
            "ticks": ""
           },
           "bgcolor": "#E5ECF6",
           "caxis": {
            "gridcolor": "white",
            "linecolor": "white",
            "ticks": ""
           }
          },
          "title": {
           "x": 0.05
          },
          "xaxis": {
           "automargin": true,
           "gridcolor": "white",
           "linecolor": "white",
           "ticks": "",
           "title": {
            "standoff": 15
           },
           "zerolinecolor": "white",
           "zerolinewidth": 2
          },
          "yaxis": {
           "automargin": true,
           "gridcolor": "white",
           "linecolor": "white",
           "ticks": "",
           "title": {
            "standoff": 15
           },
           "zerolinecolor": "white",
           "zerolinewidth": 2
          }
         }
        },
        "title": {
         "text": "The average number of seats for each type of restaurant"
        },
        "xaxis": {
         "tickangle": -45,
         "title": {
          "text": "Type of establishments"
         }
        },
        "yaxis": {
         "title": {
          "text": "Average seats"
         }
        }
       }
      },
      "text/html": [
       "<div>                            <div id=\"330bc74b-6245-496c-ae6a-9b25a39afec5\" class=\"plotly-graph-div\" style=\"height:525px; width:100%;\"></div>            <script type=\"text/javascript\">                require([\"plotly\"], function(Plotly) {                    window.PLOTLYENV=window.PLOTLYENV || {};                                    if (document.getElementById(\"330bc74b-6245-496c-ae6a-9b25a39afec5\")) {                    Plotly.newPlot(                        \"330bc74b-6245-496c-ae6a-9b25a39afec5\",                        [{\"type\": \"bar\", \"x\": [\"Bakery\", \"Bar\", \"Cafe\", \"Fast Food\", \"Pizza\", \"Restaurant\"], \"y\": [18.0, 28.5, 21.0, 21.0, 18.5, 29.0]}],                        {\"barmode\": \"group\", \"template\": {\"data\": {\"bar\": [{\"error_x\": {\"color\": \"#2a3f5f\"}, \"error_y\": {\"color\": \"#2a3f5f\"}, \"marker\": {\"line\": {\"color\": \"#E5ECF6\", \"width\": 0.5}}, \"type\": \"bar\"}], \"barpolar\": [{\"marker\": {\"line\": {\"color\": \"#E5ECF6\", \"width\": 0.5}}, \"type\": \"barpolar\"}], \"carpet\": [{\"aaxis\": {\"endlinecolor\": \"#2a3f5f\", \"gridcolor\": \"white\", \"linecolor\": \"white\", \"minorgridcolor\": \"white\", \"startlinecolor\": \"#2a3f5f\"}, \"baxis\": {\"endlinecolor\": \"#2a3f5f\", \"gridcolor\": \"white\", \"linecolor\": \"white\", \"minorgridcolor\": \"white\", \"startlinecolor\": \"#2a3f5f\"}, \"type\": \"carpet\"}], \"choropleth\": [{\"colorbar\": {\"outlinewidth\": 0, \"ticks\": \"\"}, \"type\": \"choropleth\"}], \"contour\": [{\"colorbar\": {\"outlinewidth\": 0, \"ticks\": \"\"}, \"colorscale\": [[0.0, \"#0d0887\"], [0.1111111111111111, \"#46039f\"], [0.2222222222222222, \"#7201a8\"], [0.3333333333333333, \"#9c179e\"], [0.4444444444444444, \"#bd3786\"], [0.5555555555555556, \"#d8576b\"], [0.6666666666666666, \"#ed7953\"], [0.7777777777777778, \"#fb9f3a\"], [0.8888888888888888, \"#fdca26\"], [1.0, \"#f0f921\"]], \"type\": \"contour\"}], \"contourcarpet\": [{\"colorbar\": {\"outlinewidth\": 0, \"ticks\": \"\"}, \"type\": \"contourcarpet\"}], \"heatmap\": [{\"colorbar\": {\"outlinewidth\": 0, \"ticks\": \"\"}, \"colorscale\": [[0.0, \"#0d0887\"], [0.1111111111111111, \"#46039f\"], [0.2222222222222222, \"#7201a8\"], [0.3333333333333333, \"#9c179e\"], [0.4444444444444444, \"#bd3786\"], [0.5555555555555556, \"#d8576b\"], [0.6666666666666666, \"#ed7953\"], [0.7777777777777778, \"#fb9f3a\"], [0.8888888888888888, \"#fdca26\"], [1.0, \"#f0f921\"]], \"type\": \"heatmap\"}], \"heatmapgl\": [{\"colorbar\": {\"outlinewidth\": 0, \"ticks\": \"\"}, \"colorscale\": [[0.0, \"#0d0887\"], [0.1111111111111111, \"#46039f\"], [0.2222222222222222, \"#7201a8\"], [0.3333333333333333, \"#9c179e\"], [0.4444444444444444, \"#bd3786\"], [0.5555555555555556, \"#d8576b\"], [0.6666666666666666, \"#ed7953\"], [0.7777777777777778, \"#fb9f3a\"], [0.8888888888888888, \"#fdca26\"], [1.0, \"#f0f921\"]], \"type\": \"heatmapgl\"}], \"histogram\": [{\"marker\": {\"colorbar\": {\"outlinewidth\": 0, \"ticks\": \"\"}}, \"type\": \"histogram\"}], \"histogram2d\": [{\"colorbar\": {\"outlinewidth\": 0, \"ticks\": \"\"}, \"colorscale\": [[0.0, \"#0d0887\"], [0.1111111111111111, \"#46039f\"], [0.2222222222222222, \"#7201a8\"], [0.3333333333333333, \"#9c179e\"], [0.4444444444444444, \"#bd3786\"], [0.5555555555555556, \"#d8576b\"], [0.6666666666666666, \"#ed7953\"], [0.7777777777777778, \"#fb9f3a\"], [0.8888888888888888, \"#fdca26\"], [1.0, \"#f0f921\"]], \"type\": \"histogram2d\"}], \"histogram2dcontour\": [{\"colorbar\": {\"outlinewidth\": 0, \"ticks\": \"\"}, \"colorscale\": [[0.0, \"#0d0887\"], [0.1111111111111111, \"#46039f\"], [0.2222222222222222, \"#7201a8\"], [0.3333333333333333, \"#9c179e\"], [0.4444444444444444, \"#bd3786\"], [0.5555555555555556, \"#d8576b\"], [0.6666666666666666, \"#ed7953\"], [0.7777777777777778, \"#fb9f3a\"], [0.8888888888888888, \"#fdca26\"], [1.0, \"#f0f921\"]], \"type\": \"histogram2dcontour\"}], \"mesh3d\": [{\"colorbar\": {\"outlinewidth\": 0, \"ticks\": \"\"}, \"type\": \"mesh3d\"}], \"parcoords\": [{\"line\": {\"colorbar\": {\"outlinewidth\": 0, \"ticks\": \"\"}}, \"type\": \"parcoords\"}], \"pie\": [{\"automargin\": true, \"type\": \"pie\"}], \"scatter\": [{\"marker\": {\"colorbar\": {\"outlinewidth\": 0, \"ticks\": \"\"}}, \"type\": \"scatter\"}], \"scatter3d\": [{\"line\": {\"colorbar\": {\"outlinewidth\": 0, \"ticks\": \"\"}}, \"marker\": {\"colorbar\": {\"outlinewidth\": 0, \"ticks\": \"\"}}, \"type\": \"scatter3d\"}], \"scattercarpet\": [{\"marker\": {\"colorbar\": {\"outlinewidth\": 0, \"ticks\": \"\"}}, \"type\": \"scattercarpet\"}], \"scattergeo\": [{\"marker\": {\"colorbar\": {\"outlinewidth\": 0, \"ticks\": \"\"}}, \"type\": \"scattergeo\"}], \"scattergl\": [{\"marker\": {\"colorbar\": {\"outlinewidth\": 0, \"ticks\": \"\"}}, \"type\": \"scattergl\"}], \"scattermapbox\": [{\"marker\": {\"colorbar\": {\"outlinewidth\": 0, \"ticks\": \"\"}}, \"type\": \"scattermapbox\"}], \"scatterpolar\": [{\"marker\": {\"colorbar\": {\"outlinewidth\": 0, \"ticks\": \"\"}}, \"type\": \"scatterpolar\"}], \"scatterpolargl\": [{\"marker\": {\"colorbar\": {\"outlinewidth\": 0, \"ticks\": \"\"}}, \"type\": \"scatterpolargl\"}], \"scatterternary\": [{\"marker\": {\"colorbar\": {\"outlinewidth\": 0, \"ticks\": \"\"}}, \"type\": \"scatterternary\"}], \"surface\": [{\"colorbar\": {\"outlinewidth\": 0, \"ticks\": \"\"}, \"colorscale\": [[0.0, \"#0d0887\"], [0.1111111111111111, \"#46039f\"], [0.2222222222222222, \"#7201a8\"], [0.3333333333333333, \"#9c179e\"], [0.4444444444444444, \"#bd3786\"], [0.5555555555555556, \"#d8576b\"], [0.6666666666666666, \"#ed7953\"], [0.7777777777777778, \"#fb9f3a\"], [0.8888888888888888, \"#fdca26\"], [1.0, \"#f0f921\"]], \"type\": \"surface\"}], \"table\": [{\"cells\": {\"fill\": {\"color\": \"#EBF0F8\"}, \"line\": {\"color\": \"white\"}}, \"header\": {\"fill\": {\"color\": \"#C8D4E3\"}, \"line\": {\"color\": \"white\"}}, \"type\": \"table\"}]}, \"layout\": {\"annotationdefaults\": {\"arrowcolor\": \"#2a3f5f\", \"arrowhead\": 0, \"arrowwidth\": 1}, \"autotypenumbers\": \"strict\", \"coloraxis\": {\"colorbar\": {\"outlinewidth\": 0, \"ticks\": \"\"}}, \"colorscale\": {\"diverging\": [[0, \"#8e0152\"], [0.1, \"#c51b7d\"], [0.2, \"#de77ae\"], [0.3, \"#f1b6da\"], [0.4, \"#fde0ef\"], [0.5, \"#f7f7f7\"], [0.6, \"#e6f5d0\"], [0.7, \"#b8e186\"], [0.8, \"#7fbc41\"], [0.9, \"#4d9221\"], [1, \"#276419\"]], \"sequential\": [[0.0, \"#0d0887\"], [0.1111111111111111, \"#46039f\"], [0.2222222222222222, \"#7201a8\"], [0.3333333333333333, \"#9c179e\"], [0.4444444444444444, \"#bd3786\"], [0.5555555555555556, \"#d8576b\"], [0.6666666666666666, \"#ed7953\"], [0.7777777777777778, \"#fb9f3a\"], [0.8888888888888888, \"#fdca26\"], [1.0, \"#f0f921\"]], \"sequentialminus\": [[0.0, \"#0d0887\"], [0.1111111111111111, \"#46039f\"], [0.2222222222222222, \"#7201a8\"], [0.3333333333333333, \"#9c179e\"], [0.4444444444444444, \"#bd3786\"], [0.5555555555555556, \"#d8576b\"], [0.6666666666666666, \"#ed7953\"], [0.7777777777777778, \"#fb9f3a\"], [0.8888888888888888, \"#fdca26\"], [1.0, \"#f0f921\"]]}, \"colorway\": [\"#636efa\", \"#EF553B\", \"#00cc96\", \"#ab63fa\", \"#FFA15A\", \"#19d3f3\", \"#FF6692\", \"#B6E880\", \"#FF97FF\", \"#FECB52\"], \"font\": {\"color\": \"#2a3f5f\"}, \"geo\": {\"bgcolor\": \"white\", \"lakecolor\": \"white\", \"landcolor\": \"#E5ECF6\", \"showlakes\": true, \"showland\": true, \"subunitcolor\": \"white\"}, \"hoverlabel\": {\"align\": \"left\"}, \"hovermode\": \"closest\", \"mapbox\": {\"style\": \"light\"}, \"paper_bgcolor\": \"white\", \"plot_bgcolor\": \"#E5ECF6\", \"polar\": {\"angularaxis\": {\"gridcolor\": \"white\", \"linecolor\": \"white\", \"ticks\": \"\"}, \"bgcolor\": \"#E5ECF6\", \"radialaxis\": {\"gridcolor\": \"white\", \"linecolor\": \"white\", \"ticks\": \"\"}}, \"scene\": {\"xaxis\": {\"backgroundcolor\": \"#E5ECF6\", \"gridcolor\": \"white\", \"gridwidth\": 2, \"linecolor\": \"white\", \"showbackground\": true, \"ticks\": \"\", \"zerolinecolor\": \"white\"}, \"yaxis\": {\"backgroundcolor\": \"#E5ECF6\", \"gridcolor\": \"white\", \"gridwidth\": 2, \"linecolor\": \"white\", \"showbackground\": true, \"ticks\": \"\", \"zerolinecolor\": \"white\"}, \"zaxis\": {\"backgroundcolor\": \"#E5ECF6\", \"gridcolor\": \"white\", \"gridwidth\": 2, \"linecolor\": \"white\", \"showbackground\": true, \"ticks\": \"\", \"zerolinecolor\": \"white\"}}, \"shapedefaults\": {\"line\": {\"color\": \"#2a3f5f\"}}, \"ternary\": {\"aaxis\": {\"gridcolor\": \"white\", \"linecolor\": \"white\", \"ticks\": \"\"}, \"baxis\": {\"gridcolor\": \"white\", \"linecolor\": \"white\", \"ticks\": \"\"}, \"bgcolor\": \"#E5ECF6\", \"caxis\": {\"gridcolor\": \"white\", \"linecolor\": \"white\", \"ticks\": \"\"}}, \"title\": {\"x\": 0.05}, \"xaxis\": {\"automargin\": true, \"gridcolor\": \"white\", \"linecolor\": \"white\", \"ticks\": \"\", \"title\": {\"standoff\": 15}, \"zerolinecolor\": \"white\", \"zerolinewidth\": 2}, \"yaxis\": {\"automargin\": true, \"gridcolor\": \"white\", \"linecolor\": \"white\", \"ticks\": \"\", \"title\": {\"standoff\": 15}, \"zerolinecolor\": \"white\", \"zerolinewidth\": 2}}}, \"title\": {\"text\": \"The average number of seats for each type of restaurant\"}, \"xaxis\": {\"tickangle\": -45, \"title\": {\"text\": \"Type of establishments\"}}, \"yaxis\": {\"title\": {\"text\": \"Average seats\"}}},                        {\"responsive\": true}                    ).then(function(){\n",
       "                            \n",
       "var gd = document.getElementById('330bc74b-6245-496c-ae6a-9b25a39afec5');\n",
       "var x = new MutationObserver(function (mutations, observer) {{\n",
       "        var display = window.getComputedStyle(gd).display;\n",
       "        if (!display || display === 'none') {{\n",
       "            console.log([gd, 'removed!']);\n",
       "            Plotly.purge(gd);\n",
       "            observer.disconnect();\n",
       "        }}\n",
       "}});\n",
       "\n",
       "// Listen for the removal of the full notebook cells\n",
       "var notebookContainer = gd.closest('#notebook-container');\n",
       "if (notebookContainer) {{\n",
       "    x.observe(notebookContainer, {childList: true});\n",
       "}}\n",
       "\n",
       "// Listen for the clearing of the current output cell\n",
       "var outputEl = gd.closest('.output');\n",
       "if (outputEl) {{\n",
       "    x.observe(outputEl, {childList: true});\n",
       "}}\n",
       "\n",
       "                        })                };                });            </script>        </div>"
      ]
     },
     "metadata": {},
     "output_type": "display_data"
    }
   ],
   "source": [
    "# make a go bar for the presentation of proportion\n",
    "fig = go.Figure(\n",
    "    data=[go.Bar(x=rest_seat_grouped.index.values,y=rest_seat_grouped['average'])],\n",
    "    layout_title_text=\"The average number of seats for each type of restaurant\"\n",
    ")\n",
    "fig.update_layout(barmode='group', xaxis_tickangle=-45,\n",
    "                  xaxis_title=\"Type of establishments\", yaxis_title=\"Average seats\")\n",
    "                  \n",
    "fig.show()"
   ]
  },
  {
   "cell_type": "markdown",
   "metadata": {},
   "source": [
    "In general restaurant type had the highest number of average seats among the establishments, it has 29 average seats per establishment which is 21.3% from its total number. while bar closely follows which has 28.5 average numbe of seat per establishment or 21%.\n",
    "\n",
    "<p><a name=\"stname\"></a></p>\n",
    "\n",
    "* **Put the data on street names from the address column in a separate column.**"
   ]
  },
  {
   "cell_type": "code",
   "execution_count": 27,
   "metadata": {},
   "outputs": [],
   "source": [
    "# extracting the street name from the address column\n",
    "\n",
    "def find_street(name):\n",
    "    # finding a list of words, that don't contain only numbers\n",
    "    word_list = re.findall(\"[0-9]*[A-Z']+[0-9]*\\.?\",name)\n",
    "    adress = ''\n",
    "    for word in word_list:\n",
    "        adress += word + ' '\n",
    "    return adress"
   ]
  },
  {
   "cell_type": "code",
   "execution_count": 28,
   "metadata": {},
   "outputs": [
    {
     "data": {
      "text/html": [
       "<div>\n",
       "<style scoped>\n",
       "    .dataframe tbody tr th:only-of-type {\n",
       "        vertical-align: middle;\n",
       "    }\n",
       "\n",
       "    .dataframe tbody tr th {\n",
       "        vertical-align: top;\n",
       "    }\n",
       "\n",
       "    .dataframe thead th {\n",
       "        text-align: right;\n",
       "    }\n",
       "</style>\n",
       "<table border=\"1\" class=\"dataframe\">\n",
       "  <thead>\n",
       "    <tr style=\"text-align: right;\">\n",
       "      <th></th>\n",
       "      <th>id</th>\n",
       "      <th>est_name</th>\n",
       "      <th>address</th>\n",
       "      <th>chain_type</th>\n",
       "      <th>est_type</th>\n",
       "      <th>seats</th>\n",
       "      <th>street</th>\n",
       "    </tr>\n",
       "  </thead>\n",
       "  <tbody>\n",
       "    <tr>\n",
       "      <th>0</th>\n",
       "      <td>11786</td>\n",
       "      <td>HABITAT COFFEE SHOP</td>\n",
       "      <td>3708 N EAGLE ROCK BLVD</td>\n",
       "      <td>non chain</td>\n",
       "      <td>Cafe</td>\n",
       "      <td>26</td>\n",
       "      <td>N EAGLE ROCK BLVD</td>\n",
       "    </tr>\n",
       "    <tr>\n",
       "      <th>1</th>\n",
       "      <td>11787</td>\n",
       "      <td>REILLY'S</td>\n",
       "      <td>100 WORLD WAY # 120</td>\n",
       "      <td>non chain</td>\n",
       "      <td>Restaurant</td>\n",
       "      <td>9</td>\n",
       "      <td>WORLD WAY</td>\n",
       "    </tr>\n",
       "    <tr>\n",
       "      <th>2</th>\n",
       "      <td>11788</td>\n",
       "      <td>STREET CHURROS</td>\n",
       "      <td>6801 HOLLYWOOD BLVD # 253</td>\n",
       "      <td>non chain</td>\n",
       "      <td>Fast Food</td>\n",
       "      <td>20</td>\n",
       "      <td>HOLLYWOOD BLVD</td>\n",
       "    </tr>\n",
       "    <tr>\n",
       "      <th>3</th>\n",
       "      <td>11789</td>\n",
       "      <td>TRINITI ECHO PARK</td>\n",
       "      <td>1814 W SUNSET BLVD</td>\n",
       "      <td>non chain</td>\n",
       "      <td>Restaurant</td>\n",
       "      <td>22</td>\n",
       "      <td>W SUNSET BLVD</td>\n",
       "    </tr>\n",
       "    <tr>\n",
       "      <th>4</th>\n",
       "      <td>11790</td>\n",
       "      <td>POLLEN</td>\n",
       "      <td>2100 ECHO PARK AVE</td>\n",
       "      <td>non chain</td>\n",
       "      <td>Restaurant</td>\n",
       "      <td>20</td>\n",
       "      <td>ECHO PARK AVE</td>\n",
       "    </tr>\n",
       "  </tbody>\n",
       "</table>\n",
       "</div>"
      ],
      "text/plain": [
       "      id             est_name                    address chain_type  \\\n",
       "0  11786  HABITAT COFFEE SHOP     3708 N EAGLE ROCK BLVD  non chain   \n",
       "1  11787             REILLY'S        100 WORLD WAY # 120  non chain   \n",
       "2  11788       STREET CHURROS  6801 HOLLYWOOD BLVD # 253  non chain   \n",
       "3  11789    TRINITI ECHO PARK         1814 W SUNSET BLVD  non chain   \n",
       "4  11790               POLLEN         2100 ECHO PARK AVE  non chain   \n",
       "\n",
       "     est_type  seats              street  \n",
       "0        Cafe     26  N EAGLE ROCK BLVD   \n",
       "1  Restaurant      9          WORLD WAY   \n",
       "2   Fast Food     20     HOLLYWOOD BLVD   \n",
       "3  Restaurant     22      W SUNSET BLVD   \n",
       "4  Restaurant     20      ECHO PARK AVE   "
      ]
     },
     "execution_count": 28,
     "metadata": {},
     "output_type": "execute_result"
    }
   ],
   "source": [
    "rest_data['street'] = rest_data.address.apply(find_street)\n",
    "rest_data.head()"
   ]
  },
  {
   "cell_type": "markdown",
   "metadata": {},
   "source": [
    "<p><a name=\"top10\"></a></p>\n",
    "\n",
    "* **Plot a graph of the top ten streets by number of restaurants.**"
   ]
  },
  {
   "cell_type": "code",
   "execution_count": 29,
   "metadata": {},
   "outputs": [],
   "source": [
    "# Create a Group by establishment type\n",
    "\n",
    "street_list_group =rest_data.groupby('street')"
   ]
  },
  {
   "cell_type": "code",
   "execution_count": 30,
   "metadata": {},
   "outputs": [],
   "source": [
    "#counting the street and getting the top 10 by calling the n_largest function\n",
    "\n",
    "street_list = pd.DataFrame(street_list_group.size(), columns=['st_count'])\n",
    "street_top10 = street_list.nlargest(10, 'st_count')\n",
    "street_top10.sort_values('st_count',inplace=True)"
   ]
  },
  {
   "cell_type": "code",
   "execution_count": 31,
   "metadata": {},
   "outputs": [
    {
     "data": {
      "image/png": "[encoded data removed]",
      "text/plain": [
       "<Figure size 720x504 with 1 Axes>"
      ]
     },
     "metadata": {
      "needs_background": "light"
     },
     "output_type": "display_data"
    }
   ],
   "source": [
    "#Graphical presentation of Top 10 streets by number restaurants\n",
    "\n",
    "street_top10.plot(kind='barh', figsize=(10,7), color=\"orange\", fontsize=13);\n",
    "plt.title('Top 10 street by number Restaurant')\n",
    "plt.xlabel('Number of Restaurants', size=15)\n",
    "plt.ylabel('street', size=15);"
   ]
  },
  {
   "cell_type": "markdown",
   "metadata": {},
   "source": [
    "This streets above contains 159 - 314 establishments.\n",
    "\n",
    "<p><a name=\"1rest\"></a></p>\n",
    "\n",
    "* **Find the number of streets that only have one restaurant.**"
   ]
  },
  {
   "cell_type": "code",
   "execution_count": 32,
   "metadata": {},
   "outputs": [
    {
     "data": {
      "text/plain": [
       "st_count    1134\n",
       "dtype: int64"
      ]
     },
     "execution_count": 32,
     "metadata": {},
     "output_type": "execute_result"
    }
   ],
   "source": [
    "st_1 = street_list[street_list['st_count']==1].sum()\n",
    "st_1"
   ]
  },
  {
   "cell_type": "markdown",
   "metadata": {},
   "source": [
    "There are 1134 streets that only has 1 restaurant this is around 65% of the total number of streets.\n",
    "\n",
    "<p><a name=\"Top10seat\"></a></p>\n",
    "\n",
    "* **For streets with a lot of restaurants, look at the distribution of the number of seats. What trends can you see?**"
   ]
  },
  {
   "cell_type": "code",
   "execution_count": 33,
   "metadata": {},
   "outputs": [],
   "source": [
    "# grouping the street by seats\n",
    "st_many_seat = rest_data.groupby('street')[['seats']].sum()"
   ]
  },
  {
   "cell_type": "code",
   "execution_count": 34,
   "metadata": {},
   "outputs": [
    {
     "data": {
      "text/html": [
       "<div>\n",
       "<style scoped>\n",
       "    .dataframe tbody tr th:only-of-type {\n",
       "        vertical-align: middle;\n",
       "    }\n",
       "\n",
       "    .dataframe tbody tr th {\n",
       "        vertical-align: top;\n",
       "    }\n",
       "\n",
       "    .dataframe thead th {\n",
       "        text-align: right;\n",
       "    }\n",
       "</style>\n",
       "<table border=\"1\" class=\"dataframe\">\n",
       "  <thead>\n",
       "    <tr style=\"text-align: right;\">\n",
       "      <th></th>\n",
       "      <th>seats</th>\n",
       "      <th>st_count</th>\n",
       "    </tr>\n",
       "    <tr>\n",
       "      <th>street</th>\n",
       "      <th></th>\n",
       "      <th></th>\n",
       "    </tr>\n",
       "  </thead>\n",
       "  <tbody>\n",
       "    <tr>\n",
       "      <th>W SUNSET BLVD</th>\n",
       "      <td>15906</td>\n",
       "      <td>314</td>\n",
       "    </tr>\n",
       "    <tr>\n",
       "      <th>W PICO BLVD</th>\n",
       "      <td>12429</td>\n",
       "      <td>307</td>\n",
       "    </tr>\n",
       "    <tr>\n",
       "      <th>WILSHIRE BLVD</th>\n",
       "      <td>12584</td>\n",
       "      <td>226</td>\n",
       "    </tr>\n",
       "    <tr>\n",
       "      <th>HOLLYWOOD BLVD</th>\n",
       "      <td>10933</td>\n",
       "      <td>197</td>\n",
       "    </tr>\n",
       "    <tr>\n",
       "      <th>S WESTERN AVE</th>\n",
       "      <td>8055</td>\n",
       "      <td>193</td>\n",
       "    </tr>\n",
       "  </tbody>\n",
       "</table>\n",
       "</div>"
      ],
      "text/plain": [
       "                 seats  st_count\n",
       "street                          \n",
       "W SUNSET BLVD    15906       314\n",
       "W PICO BLVD      12429       307\n",
       "WILSHIRE BLVD    12584       226\n",
       "HOLLYWOOD BLVD   10933       197\n",
       "S WESTERN AVE     8055       193"
      ]
     },
     "execution_count": 34,
     "metadata": {},
     "output_type": "execute_result"
    }
   ],
   "source": [
    "# joining 2 dataframe to have sum of seat and sum of restaurants\n",
    "\n",
    "st_rest_seats = st_many_seat.join(street_list ,on='street')\n",
    "st_rest_seats.sort_values(by = 'st_count', ascending = False).head()"
   ]
  },
  {
   "cell_type": "code",
   "execution_count": 35,
   "metadata": {},
   "outputs": [],
   "source": [
    "# adding average seat column of top 10 streets\n",
    "st_rest_seats['avg_seat'] = st_rest_seats['seats'] / st_rest_seats['st_count']"
   ]
  },
  {
   "cell_type": "code",
   "execution_count": 36,
   "metadata": {},
   "outputs": [
    {
     "data": {
      "text/html": [
       "<div>\n",
       "<style scoped>\n",
       "    .dataframe tbody tr th:only-of-type {\n",
       "        vertical-align: middle;\n",
       "    }\n",
       "\n",
       "    .dataframe tbody tr th {\n",
       "        vertical-align: top;\n",
       "    }\n",
       "\n",
       "    .dataframe thead th {\n",
       "        text-align: right;\n",
       "    }\n",
       "</style>\n",
       "<table border=\"1\" class=\"dataframe\">\n",
       "  <thead>\n",
       "    <tr style=\"text-align: right;\">\n",
       "      <th></th>\n",
       "      <th>seats</th>\n",
       "      <th>st_count</th>\n",
       "      <th>avg_seat</th>\n",
       "    </tr>\n",
       "    <tr>\n",
       "      <th>street</th>\n",
       "      <th></th>\n",
       "      <th></th>\n",
       "      <th></th>\n",
       "    </tr>\n",
       "  </thead>\n",
       "  <tbody>\n",
       "    <tr>\n",
       "      <th>W SUNSET BLVD</th>\n",
       "      <td>15906</td>\n",
       "      <td>314</td>\n",
       "      <td>50.656051</td>\n",
       "    </tr>\n",
       "    <tr>\n",
       "      <th>W PICO BLVD</th>\n",
       "      <td>12429</td>\n",
       "      <td>307</td>\n",
       "      <td>40.485342</td>\n",
       "    </tr>\n",
       "    <tr>\n",
       "      <th>WILSHIRE BLVD</th>\n",
       "      <td>12584</td>\n",
       "      <td>226</td>\n",
       "      <td>55.681416</td>\n",
       "    </tr>\n",
       "    <tr>\n",
       "      <th>HOLLYWOOD BLVD</th>\n",
       "      <td>10933</td>\n",
       "      <td>197</td>\n",
       "      <td>55.497462</td>\n",
       "    </tr>\n",
       "    <tr>\n",
       "      <th>S WESTERN AVE</th>\n",
       "      <td>8055</td>\n",
       "      <td>193</td>\n",
       "      <td>41.735751</td>\n",
       "    </tr>\n",
       "  </tbody>\n",
       "</table>\n",
       "</div>"
      ],
      "text/plain": [
       "                 seats  st_count   avg_seat\n",
       "street                                     \n",
       "W SUNSET BLVD    15906       314  50.656051\n",
       "W PICO BLVD      12429       307  40.485342\n",
       "WILSHIRE BLVD    12584       226  55.681416\n",
       "HOLLYWOOD BLVD   10933       197  55.497462\n",
       "S WESTERN AVE     8055       193  41.735751"
      ]
     },
     "execution_count": 36,
     "metadata": {},
     "output_type": "execute_result"
    }
   ],
   "source": [
    "# getting the list of average seat of the top 10 streets by restaurant number\n",
    "st_seat_top10 = st_rest_seats.nlargest(10, 'st_count')\n",
    "st_seat_top10.head()"
   ]
  },
  {
   "cell_type": "code",
   "execution_count": 37,
   "metadata": {},
   "outputs": [
    {
     "data": {
      "text/plain": [
       "47.0"
      ]
     },
     "execution_count": 37,
     "metadata": {},
     "output_type": "execute_result"
    }
   ],
   "source": [
    "# Calculating the trend of seats in the top 10 streets\n",
    "\n",
    "Top10_avg = st_seat_top10['seats'].sum() / st_seat_top10['st_count'].sum()\n",
    "Top10_avg.round()"
   ]
  },
  {
   "cell_type": "markdown",
   "metadata": {},
   "source": [
    "Looking at the trend of the streets with many restaurants it has an avarage of 47 seats per restaurant."
   ]
  },
  {
   "cell_type": "markdown",
   "metadata": {},
   "source": [
    "<p><a name=\"Step2conclusion\"></a></p>\n",
    "\n",
    "**Step 2 Conclusion**\n",
    "\n",
    "After studiying the restaurant market in LA, we found out that 3/4 of the establishments are restaurants and the rest of the 1/4 are shared by bar, cafe, bakery, fast and pizza.Wen we look the type of establishment we founf out that the 61.9% of the estbalishments are non chain or independent stand alone establishments while 38.1% belongs to the chain establishment. Restaurant makes up for the most non chain establishment while cafe and fastfood has a higher tendency of being part of a chain.The establishments thats part of the chain leans to have more establishment but fewer seats.We also noticed that there are few streets which are very populated with establishment but there are 65% streets  that only has 1 restaurant. As for the seat number trend we also found out that 47 seat is the average number of seats in the streets with many establishments."
   ]
  },
  {
   "cell_type": "markdown",
   "metadata": {},
   "source": [
    "<p><a name=\"Step 3\"></a></p>\n",
    "\n",
    "### Recommendations\n",
    "\n",
    "When thinking about establishing a small robot-run cafe in Los Angeles, we have studied the market and found out that\n",
    "the company should consider opening a restaurant rather than a cafe, Restaurant market has more place for independent owners than of the chain ones and small cafes are being out-competed by cafe chains.\n",
    "\n",
    "The company should consider starting off as an independent standalone establishment with 47 seats as it is the average seat number of restaurants in top 10 streets with the highest number of restaurants and, depending on its market strategy, we have to select a street with either in the ones with many restaurants as it is more popular to customers for restaunrats or a street with only one restaurant since the competition is likely low. If everything works out fine then we can think of expanding by establishing a chain based on the novelty of its robot-waiter approach."
   ]
  },
  {
   "cell_type": "markdown",
   "metadata": {},
   "source": [
    "Presentation: <link https://drive.google.com/file/d/1q_GlFKGhUvR3h-YIZq-ueTLv1O80L-Me/view?usp=sharing>"
   ]
  },
  {
   "cell_type": "code",
   "execution_count": null,
   "metadata": {},
   "outputs": [],
   "source": []
  }
 ],
 "metadata": {
  "kernelspec": {
   "display_name": "Python 3",
   "language": "python",
   "name": "python3"
  },
  "language_info": {
   "codemirror_mode": {
    "name": "ipython",
    "version": 3
   },
   "file_extension": ".py",
   "mimetype": "text/x-python",
   "name": "python",
   "nbconvert_exporter": "python",
   "pygments_lexer": "ipython3",
   "version": "3.8.5"
  },
  "toc": {
   "base_numbering": 1,
   "nav_menu": {},
   "number_sections": true,
   "sideBar": true,
   "skip_h1_title": true,
   "title_cell": "Table of Contents",
   "title_sidebar": "Contents",
   "toc_cell": false,
   "toc_position": {},
   "toc_section_display": true,
   "toc_window_display": false
  }
 },
 "nbformat": 4,
 "nbformat_minor": 4
}
