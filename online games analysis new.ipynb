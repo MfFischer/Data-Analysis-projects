{
 "cells": [
  {
   "cell_type": "markdown",
   "metadata": {},
   "source": [
    "# Research for Online Store Ice\n",
    "\n",
    "This study aims to spot potential big winners in terms of sales of online game platform and to be able to plan better advertising campaigns in the following year."
   ]
  },
  {
   "cell_type": "markdown",
   "metadata": {},
   "source": [
    "### Table of Contents\n",
    "* <a href=\"#Step 1\">Opening the Data ></a><br>\n",
    "    * <a href=\"#df_head\">Dataframe head</a><br>\n",
    "    * <a href=\"#df_columns\">Dataframe columns</a><br>\n",
    "    * <a href=\"#df_describe\">Dataframe description</a><br>\n",
    "    * <a href=\"#df_info\">Dataframe information</a><br>\n",
    "        * <a href=\"#step1_conclusion\">Conclusion</a><br>\n",
    "* <a href=\"#Step 2\">Prepare the Data</a><br>\n",
    "    * <a href=\"#lowercase\">Column names to Lower case</a><br>\n",
    "    * <a href=\"#datatypes\">Converting data types</a><br>\n",
    "    * <a href=\"#missing\">Dealing with missing values</a><br>\n",
    "        * <a href=\"#step2_conclusion\">Conclusion</a><br>\n",
    "* <a href=\"#Step 3\">Analyze The Data</a><br>\n",
    "    * <a href=\"#realsedgames\">Released games per year</a><br>\n",
    "    * <a href=\"#variedsales\">Variety of sales</a><br>\n",
    "    * <a href=\"#greatestsales\">Platforms with greatest sales</a><br>\n",
    "    * <a href=\"#pop2zero\">Popular to Zero platforms</a><br>\n",
    "    * <a href=\"#relevantperiod\">Relevant data and period</a><br>\n",
    "    * <a href=\"#growsink\">Growing and Sinking platforms</a><br>\n",
    "    * <a href=\"#profitable\">Most profitable genres</a><br>\n",
    "    * <a href=\"#gendist\">General distribution by genre</a><br>\n",
    "    * <a href=\"#corelation\">Corelation plots</a><br>\n",
    "        * <a href=\"#Step3conclusion\">Conclusion</a><br>\n",
    "* <a href=\"#Step 4\">User profile for each region</a><br>\n",
    "    * <a href=\"#hyphotesis1\">Testing users plan hyphotesis</a><br>\n",
    "    * <a href=\"#hyphotesis2\">Testing users plan hyphotesis</a><br>\n",
    "        * <a href=\"#step4conclusion\">Conclusion</a><br>\n",
    "* <a href=\"#Step 5\">Testing the Hypothesis</a><br>\n",
    "     * <a href=\"#hyphotesis1\">Testing Xbox One and PC platforms hyphotesis</a><br>\n",
    "     * <a href=\"#hyphotesis2\">Testing Action and Sports genres hyphotesis</a><br>\n",
    "        * <a href=\"#step5conclusion\">Conclusion</a><br>\n",
    "* <a href=\"#Step 6\">General Conclusion</a><br>    "
   ]
  },
  {
   "cell_type": "code",
   "execution_count": 1,
   "metadata": {},
   "outputs": [],
   "source": [
    "import numpy as np\n",
    "import pandas as pd\n",
    "import seaborn as sns\n",
    "import os\n",
    "from scipy import stats\n",
    "import scipy.stats as stats\n",
    "import matplotlib.pyplot as plt\n",
    "import seaborn as sns\n",
    "from scipy import stats as st\n",
    "\n",
    "\n",
    "%matplotlib inline "
   ]
  },
  {
   "cell_type": "code",
   "execution_count": 2,
   "metadata": {},
   "outputs": [],
   "source": [
    "import sys\n",
    "import warnings\n",
    "if not sys.warnoptions:\n",
    "       warnings.simplefilter(\"ignore\")"
   ]
  },
  {
   "cell_type": "markdown",
   "metadata": {},
   "source": [
    "<p><a name=\"Step 1\"></a></p>\n",
    "\n",
    "### Step 1. Open the data file and study the general information\n"
   ]
  },
  {
   "cell_type": "code",
   "execution_count": 3,
   "metadata": {},
   "outputs": [],
   "source": [
    "df = pd.read_csv(r'C:\\Users\\User\\Documents\\YandexDataA\\sprint 5 integrated project/games.csv')"
   ]
  },
  {
   "cell_type": "markdown",
   "metadata": {},
   "source": [
    "<p><a name=\"df_head\"></a></p>"
   ]
  },
  {
   "cell_type": "code",
   "execution_count": 4,
   "metadata": {},
   "outputs": [
    {
     "name": "stdout",
     "output_type": "stream",
     "text": [
      "                       Name Platform  Year_of_Release         Genre  NA_sales  \\\n",
      "0                Wii Sports      Wii           2006.0        Sports     41.36   \n",
      "1         Super Mario Bros.      NES           1985.0      Platform     29.08   \n",
      "2            Mario Kart Wii      Wii           2008.0        Racing     15.68   \n",
      "3         Wii Sports Resort      Wii           2009.0        Sports     15.61   \n",
      "4  Pokemon Red/Pokemon Blue       GB           1996.0  Role-Playing     11.27   \n",
      "\n",
      "   EU_sales  JP_sales  Other_sales  Critic_Score User_Score Rating  \n",
      "0     28.96      3.77         8.45          76.0          8      E  \n",
      "1      3.58      6.81         0.77           NaN        NaN    NaN  \n",
      "2     12.76      3.79         3.29          82.0        8.3      E  \n",
      "3     10.93      3.28         2.95          80.0          8      E  \n",
      "4      8.89     10.22         1.00           NaN        NaN    NaN  \n"
     ]
    }
   ],
   "source": [
    "# opening the data and printing the first 5 rows.\n",
    "print(df.head())"
   ]
  },
  {
   "cell_type": "code",
   "execution_count": 5,
   "metadata": {},
   "outputs": [
    {
     "name": "stdout",
     "output_type": "stream",
     "text": [
      "                                Name Platform  Year_of_Release       Genre  \\\n",
      "16710  Samurai Warriors: Sanada Maru      PS3           2016.0      Action   \n",
      "16711               LMA Manager 2007     X360           2006.0      Sports   \n",
      "16712        Haitaka no Psychedelica      PSV           2016.0   Adventure   \n",
      "16713               Spirits & Spells      GBA           2003.0    Platform   \n",
      "16714            Winning Post 8 2016      PSV           2016.0  Simulation   \n",
      "\n",
      "       NA_sales  EU_sales  JP_sales  Other_sales  Critic_Score User_Score  \\\n",
      "16710      0.00      0.00      0.01          0.0           NaN        NaN   \n",
      "16711      0.00      0.01      0.00          0.0           NaN        NaN   \n",
      "16712      0.00      0.00      0.01          0.0           NaN        NaN   \n",
      "16713      0.01      0.00      0.00          0.0           NaN        NaN   \n",
      "16714      0.00      0.00      0.01          0.0           NaN        NaN   \n",
      "\n",
      "      Rating  \n",
      "16710    NaN  \n",
      "16711    NaN  \n",
      "16712    NaN  \n",
      "16713    NaN  \n",
      "16714    NaN  \n"
     ]
    }
   ],
   "source": [
    "#Printing the last 5 rows.\n",
    "print(df.tail())"
   ]
  },
  {
   "cell_type": "code",
   "execution_count": 6,
   "metadata": {},
   "outputs": [
    {
     "data": {
      "text/plain": [
       "(16715, 11)"
      ]
     },
     "execution_count": 6,
     "metadata": {},
     "output_type": "execute_result"
    }
   ],
   "source": [
    "# Checking how many rows and columns our dataset has.\n",
    "df.shape"
   ]
  },
  {
   "cell_type": "markdown",
   "metadata": {},
   "source": [
    "<p><a name=\"df_columns\"></a></p>"
   ]
  },
  {
   "cell_type": "code",
   "execution_count": 7,
   "metadata": {},
   "outputs": [
    {
     "data": {
      "text/plain": [
       "Index(['Name', 'Platform', 'Year_of_Release', 'Genre', 'NA_sales', 'EU_sales',\n",
       "       'JP_sales', 'Other_sales', 'Critic_Score', 'User_Score', 'Rating'],\n",
       "      dtype='object')"
      ]
     },
     "execution_count": 7,
     "metadata": {},
     "output_type": "execute_result"
    }
   ],
   "source": [
    "#checking the column names\n",
    "df.columns"
   ]
  },
  {
   "cell_type": "markdown",
   "metadata": {},
   "source": [
    "<p><a name=\"df_describe\"></a></p>"
   ]
  },
  {
   "cell_type": "code",
   "execution_count": 8,
   "metadata": {},
   "outputs": [
    {
     "data": {
      "text/html": [
       "<div>\n",
       "<style scoped>\n",
       "    .dataframe tbody tr th:only-of-type {\n",
       "        vertical-align: middle;\n",
       "    }\n",
       "\n",
       "    .dataframe tbody tr th {\n",
       "        vertical-align: top;\n",
       "    }\n",
       "\n",
       "    .dataframe thead th {\n",
       "        text-align: right;\n",
       "    }\n",
       "</style>\n",
       "<table border=\"1\" class=\"dataframe\">\n",
       "  <thead>\n",
       "    <tr style=\"text-align: right;\">\n",
       "      <th></th>\n",
       "      <th>Year_of_Release</th>\n",
       "      <th>NA_sales</th>\n",
       "      <th>EU_sales</th>\n",
       "      <th>JP_sales</th>\n",
       "      <th>Other_sales</th>\n",
       "      <th>Critic_Score</th>\n",
       "    </tr>\n",
       "  </thead>\n",
       "  <tbody>\n",
       "    <tr>\n",
       "      <td>count</td>\n",
       "      <td>16446.000000</td>\n",
       "      <td>16715.000000</td>\n",
       "      <td>16715.000000</td>\n",
       "      <td>16715.000000</td>\n",
       "      <td>16715.000000</td>\n",
       "      <td>8137.000000</td>\n",
       "    </tr>\n",
       "    <tr>\n",
       "      <td>mean</td>\n",
       "      <td>2006.484616</td>\n",
       "      <td>0.263377</td>\n",
       "      <td>0.145060</td>\n",
       "      <td>0.077617</td>\n",
       "      <td>0.047342</td>\n",
       "      <td>68.967679</td>\n",
       "    </tr>\n",
       "    <tr>\n",
       "      <td>std</td>\n",
       "      <td>5.877050</td>\n",
       "      <td>0.813604</td>\n",
       "      <td>0.503339</td>\n",
       "      <td>0.308853</td>\n",
       "      <td>0.186731</td>\n",
       "      <td>13.938165</td>\n",
       "    </tr>\n",
       "    <tr>\n",
       "      <td>min</td>\n",
       "      <td>1980.000000</td>\n",
       "      <td>0.000000</td>\n",
       "      <td>0.000000</td>\n",
       "      <td>0.000000</td>\n",
       "      <td>0.000000</td>\n",
       "      <td>13.000000</td>\n",
       "    </tr>\n",
       "    <tr>\n",
       "      <td>25%</td>\n",
       "      <td>2003.000000</td>\n",
       "      <td>0.000000</td>\n",
       "      <td>0.000000</td>\n",
       "      <td>0.000000</td>\n",
       "      <td>0.000000</td>\n",
       "      <td>60.000000</td>\n",
       "    </tr>\n",
       "    <tr>\n",
       "      <td>50%</td>\n",
       "      <td>2007.000000</td>\n",
       "      <td>0.080000</td>\n",
       "      <td>0.020000</td>\n",
       "      <td>0.000000</td>\n",
       "      <td>0.010000</td>\n",
       "      <td>71.000000</td>\n",
       "    </tr>\n",
       "    <tr>\n",
       "      <td>75%</td>\n",
       "      <td>2010.000000</td>\n",
       "      <td>0.240000</td>\n",
       "      <td>0.110000</td>\n",
       "      <td>0.040000</td>\n",
       "      <td>0.030000</td>\n",
       "      <td>79.000000</td>\n",
       "    </tr>\n",
       "    <tr>\n",
       "      <td>max</td>\n",
       "      <td>2016.000000</td>\n",
       "      <td>41.360000</td>\n",
       "      <td>28.960000</td>\n",
       "      <td>10.220000</td>\n",
       "      <td>10.570000</td>\n",
       "      <td>98.000000</td>\n",
       "    </tr>\n",
       "  </tbody>\n",
       "</table>\n",
       "</div>"
      ],
      "text/plain": [
       "       Year_of_Release      NA_sales      EU_sales      JP_sales  \\\n",
       "count     16446.000000  16715.000000  16715.000000  16715.000000   \n",
       "mean       2006.484616      0.263377      0.145060      0.077617   \n",
       "std           5.877050      0.813604      0.503339      0.308853   \n",
       "min        1980.000000      0.000000      0.000000      0.000000   \n",
       "25%        2003.000000      0.000000      0.000000      0.000000   \n",
       "50%        2007.000000      0.080000      0.020000      0.000000   \n",
       "75%        2010.000000      0.240000      0.110000      0.040000   \n",
       "max        2016.000000     41.360000     28.960000     10.220000   \n",
       "\n",
       "        Other_sales  Critic_Score  \n",
       "count  16715.000000   8137.000000  \n",
       "mean       0.047342     68.967679  \n",
       "std        0.186731     13.938165  \n",
       "min        0.000000     13.000000  \n",
       "25%        0.000000     60.000000  \n",
       "50%        0.010000     71.000000  \n",
       "75%        0.030000     79.000000  \n",
       "max       10.570000     98.000000  "
      ]
     },
     "execution_count": 8,
     "metadata": {},
     "output_type": "execute_result"
    }
   ],
   "source": [
    "#checking for data distribution\n",
    "df.describe()"
   ]
  },
  {
   "cell_type": "markdown",
   "metadata": {},
   "source": [
    "<p><a name=\"df_info\"></a></p>"
   ]
  },
  {
   "cell_type": "code",
   "execution_count": 9,
   "metadata": {},
   "outputs": [
    {
     "name": "stdout",
     "output_type": "stream",
     "text": [
      "<class 'pandas.core.frame.DataFrame'>\n",
      "RangeIndex: 16715 entries, 0 to 16714\n",
      "Data columns (total 11 columns):\n",
      "Name               16713 non-null object\n",
      "Platform           16715 non-null object\n",
      "Year_of_Release    16446 non-null float64\n",
      "Genre              16713 non-null object\n",
      "NA_sales           16715 non-null float64\n",
      "EU_sales           16715 non-null float64\n",
      "JP_sales           16715 non-null float64\n",
      "Other_sales        16715 non-null float64\n",
      "Critic_Score       8137 non-null float64\n",
      "User_Score         10014 non-null object\n",
      "Rating             9949 non-null object\n",
      "dtypes: float64(6), object(5)\n",
      "memory usage: 1.4+ MB\n"
     ]
    }
   ],
   "source": [
    "#checking the general information of the dataset.\n",
    "df.info()"
   ]
  },
  {
   "cell_type": "markdown",
   "metadata": {},
   "source": [
    "<p><a name=\"step1_conclusion\"></a></p>\n",
    "\n",
    "### Conclusion\n",
    "\n",
    "The dataset has 16715 rows and 11 columns.There are Nan values inplaced in columns 'name' ,'Critic_Score', 'Year_of_Release', 'Genre', 'User_Score' and 'Rating'.We also have wrong datatype formats, therefore, data cleaning and data manipulation needs to be done."
   ]
  },
  {
   "cell_type": "markdown",
   "metadata": {},
   "source": [
    "<p><a name=\"Step 2\"></a></p>\n",
    "\n",
    "### Step 2. Prepare the data"
   ]
  },
  {
   "cell_type": "markdown",
   "metadata": {},
   "source": [
    "<p><a name=\"lowercase\"></a></p>\n",
    "\n",
    "#### Replace the column names (make them lowercase)."
   ]
  },
  {
   "cell_type": "code",
   "execution_count": 10,
   "metadata": {},
   "outputs": [],
   "source": [
    "# rename Pandas columns to lower case\n",
    "df.columns= df.columns.str.lower()"
   ]
  },
  {
   "cell_type": "code",
   "execution_count": 11,
   "metadata": {},
   "outputs": [
    {
     "data": {
      "text/plain": [
       "Index(['name', 'platform', 'year_of_release', 'genre', 'na_sales', 'eu_sales',\n",
       "       'jp_sales', 'other_sales', 'critic_score', 'user_score', 'rating'],\n",
       "      dtype='object')"
      ]
     },
     "execution_count": 11,
     "metadata": {},
     "output_type": "execute_result"
    }
   ],
   "source": [
    "df.columns"
   ]
  },
  {
   "cell_type": "markdown",
   "metadata": {},
   "source": [
    "<p><a name=\"missing\"></a></p>\n",
    "\n",
    "##### Dealing  with missing values"
   ]
  },
  {
   "cell_type": "code",
   "execution_count": 12,
   "metadata": {},
   "outputs": [
    {
     "name": "stdout",
     "output_type": "stream",
     "text": [
      "name                  2\n",
      "platform              0\n",
      "year_of_release     269\n",
      "genre                 2\n",
      "na_sales              0\n",
      "eu_sales              0\n",
      "jp_sales              0\n",
      "other_sales           0\n",
      "critic_score       8578\n",
      "user_score         6701\n",
      "rating             6766\n",
      "dtype: int64\n"
     ]
    }
   ],
   "source": [
    "#Checking for Nan values in the dataset\n",
    "print(df.isnull().sum())"
   ]
  },
  {
   "cell_type": "code",
   "execution_count": 13,
   "metadata": {},
   "outputs": [
    {
     "name": "stdout",
     "output_type": "stream",
     "text": [
      "name                0.011965\n",
      "platform            0.000000\n",
      "year_of_release     1.609333\n",
      "genre               0.011965\n",
      "na_sales            0.000000\n",
      "eu_sales            0.000000\n",
      "jp_sales            0.000000\n",
      "other_sales         0.000000\n",
      "critic_score       51.319174\n",
      "user_score         40.089740\n",
      "rating             40.478612\n",
      "dtype: float64\n"
     ]
    }
   ],
   "source": [
    "#Determining the % of missing values in the data\n",
    "print(df.isnull().sum()*100/len(df))"
   ]
  },
  {
   "cell_type": "code",
   "execution_count": 14,
   "metadata": {},
   "outputs": [],
   "source": [
    "# im replacing the missing value with blank\n",
    "df['name'].fillna(\" \", inplace = True)"
   ]
  },
  {
   "cell_type": "code",
   "execution_count": 15,
   "metadata": {},
   "outputs": [],
   "source": [
    "# checking for the Nan values in model year column.\n",
    "missing_year = df[\"year_of_release\"].isna().sum()\n",
    "total = df.index\n",
    "number_of_rows = len(total)"
   ]
  },
  {
   "cell_type": "code",
   "execution_count": 16,
   "metadata": {},
   "outputs": [],
   "source": [
    "# finding out the percentage of Nan values before dropping and replacing them.\n",
    "missing_year = missing_year /  number_of_rows"
   ]
  },
  {
   "cell_type": "code",
   "execution_count": 17,
   "metadata": {},
   "outputs": [
    {
     "name": "stdout",
     "output_type": "stream",
     "text": [
      "the percentage of released year in the data: 1.61%\n"
     ]
    }
   ],
   "source": [
    "print('the percentage of released year in the data:', \"{:.2%}\". format(missing_year))"
   ]
  },
  {
   "cell_type": "code",
   "execution_count": 18,
   "metadata": {},
   "outputs": [],
   "source": [
    "# im replacing the missing value with 0\n",
    "df[\"year_of_release\"].fillna(0, inplace = True)"
   ]
  },
  {
   "cell_type": "markdown",
   "metadata": {},
   "source": [
    "im replacing the year of release with zero as indicator that it was a Nan value for better calculation. replac"
   ]
  },
  {
   "cell_type": "code",
   "execution_count": 19,
   "metadata": {},
   "outputs": [
    {
     "name": "stdout",
     "output_type": "stream",
     "text": [
      "Action          3369\n",
      "Sports          2348\n",
      "Misc            1750\n",
      "Role-Playing    1498\n",
      "Shooter         1323\n",
      "Adventure       1303\n",
      "Racing          1249\n",
      "Platform         888\n",
      "Simulation       873\n",
      "Fighting         849\n",
      "Strategy         683\n",
      "Puzzle           580\n",
      "Name: genre, dtype: int64\n"
     ]
    }
   ],
   "source": [
    "print(df['genre'].value_counts())"
   ]
  },
  {
   "cell_type": "code",
   "execution_count": 20,
   "metadata": {},
   "outputs": [],
   "source": [
    "# im replacing the missing value with the most frequent genre\n",
    "df['genre'].fillna(\" \", inplace = True)"
   ]
  },
  {
   "cell_type": "markdown",
   "metadata": {},
   "source": [
    "Im replacing genre with 'blank' since it would its better to leave it blank as indicator than NaN for easier caclulation later."
   ]
  },
  {
   "cell_type": "code",
   "execution_count": 21,
   "metadata": {},
   "outputs": [
    {
     "name": "stdout",
     "output_type": "stream",
     "text": [
      "70.0    256\n",
      "71.0    254\n",
      "75.0    245\n",
      "78.0    240\n",
      "73.0    238\n",
      "       ... \n",
      "20.0      3\n",
      "17.0      1\n",
      "22.0      1\n",
      "13.0      1\n",
      "21.0      1\n",
      "Name: critic_score, Length: 82, dtype: int64\n"
     ]
    }
   ],
   "source": [
    "print(df['critic_score'].value_counts())"
   ]
  },
  {
   "cell_type": "code",
   "execution_count": 22,
   "metadata": {},
   "outputs": [],
   "source": [
    "# checking for the Nan values in critic score column.\n",
    "missing_cscore = df[\"critic_score\"].isna().sum()\n",
    "total = df.index\n",
    "number_of_rows = len(total)"
   ]
  },
  {
   "cell_type": "markdown",
   "metadata": {},
   "source": []
  },
  {
   "cell_type": "code",
   "execution_count": 23,
   "metadata": {},
   "outputs": [],
   "source": [
    "# finding out the percentage of Nan values before dropping and replacing them.\n",
    "missing_critic_score = missing_year /  number_of_rows"
   ]
  },
  {
   "cell_type": "code",
   "execution_count": 24,
   "metadata": {},
   "outputs": [
    {
     "name": "stdout",
     "output_type": "stream",
     "text": [
      "the percentage of critic_score in the data: 0.00%\n"
     ]
    }
   ],
   "source": [
    "print('the percentage of critic_score in the data:', \"{:.2%}\". format(missing_critic_score))"
   ]
  },
  {
   "cell_type": "markdown",
   "metadata": {},
   "source": [
    "In this case where 51.32% of the values in the critic_score column is missing, posible reason could be that critic did not provide score or no users provided score yet therefore we will impute the NaN values with 0."
   ]
  },
  {
   "cell_type": "code",
   "execution_count": 25,
   "metadata": {},
   "outputs": [],
   "source": [
    "# im replacing the missing value with 0\n",
    "df[\"critic_score\"].fillna(0, inplace = True)"
   ]
  },
  {
   "cell_type": "code",
   "execution_count": 26,
   "metadata": {},
   "outputs": [
    {
     "name": "stdout",
     "output_type": "stream",
     "text": [
      "tbd    2424\n",
      "7.8     324\n",
      "8       290\n",
      "8.2     282\n",
      "8.3     254\n",
      "       ... \n",
      "0.2       2\n",
      "1.9       2\n",
      "2.3       2\n",
      "0         1\n",
      "9.7       1\n",
      "Name: user_score, Length: 96, dtype: int64\n"
     ]
    }
   ],
   "source": [
    "print(df['user_score'].value_counts())"
   ]
  },
  {
   "cell_type": "code",
   "execution_count": 27,
   "metadata": {},
   "outputs": [],
   "source": [
    "# checking for the Nan values and TBD in user score column.\n",
    "missing_uscore = df[\"user_score\"].isna().sum()\n",
    "total = df.index\n",
    "number_of_rows = len(total)"
   ]
  },
  {
   "cell_type": "code",
   "execution_count": 28,
   "metadata": {},
   "outputs": [],
   "source": [
    "# finding out the percentage of Nan values before dropping and replacing them.\n",
    "missing_user_score = missing_uscore /  number_of_rows"
   ]
  },
  {
   "cell_type": "code",
   "execution_count": 29,
   "metadata": {},
   "outputs": [
    {
     "name": "stdout",
     "output_type": "stream",
     "text": [
      "the percentage of user_score in the data: 40.09%\n"
     ]
    }
   ],
   "source": [
    "print('the percentage of user_score in the data:', \"{:.2%}\". format(missing_user_score))"
   ]
  },
  {
   "cell_type": "markdown",
   "metadata": {},
   "source": [
    "the percentage or missing user score is 40.09%, very high for the theoritically accepted missing values with is 25-30% of the data, but the missing value here indicates that the user did not give a score or it is not available because nobody purchased it yet. Imputing it with median will affect the analysis so im imputing NaN values with 0 for better numerical calculation."
   ]
  },
  {
   "cell_type": "code",
   "execution_count": 30,
   "metadata": {},
   "outputs": [],
   "source": [
    "# im replacing the missing value with 0\n",
    "df[\"user_score\"].fillna(0, inplace = True)"
   ]
  },
  {
   "cell_type": "code",
   "execution_count": 31,
   "metadata": {},
   "outputs": [],
   "source": [
    "#Replacing 'users_score' tbd inputs to numeric value 0 \n",
    "TBD = df['user_score'].replace(to_replace = ['tbd'], value = ['0'])"
   ]
  },
  {
   "cell_type": "code",
   "execution_count": 32,
   "metadata": {},
   "outputs": [],
   "source": [
    "df['user_score'] = TBD"
   ]
  },
  {
   "cell_type": "markdown",
   "metadata": {},
   "source": [
    "TBD or 'to be determined means the minimum review of a certain product was not yet reached which could determine the average score from the user, the score will be posted when the minimun number is reached and so therefore i will impute it with 0."
   ]
  },
  {
   "cell_type": "code",
   "execution_count": 33,
   "metadata": {},
   "outputs": [
    {
     "name": "stdout",
     "output_type": "stream",
     "text": [
      "E       3990\n",
      "T       2961\n",
      "M       1563\n",
      "E10+    1420\n",
      "EC         8\n",
      "RP         3\n",
      "K-A        3\n",
      "AO         1\n",
      "Name: rating, dtype: int64\n"
     ]
    }
   ],
   "source": [
    "print(df['rating'].value_counts())"
   ]
  },
  {
   "cell_type": "code",
   "execution_count": 34,
   "metadata": {},
   "outputs": [],
   "source": [
    "# checking for the Nan values in rating column.\n",
    "missing_rating = df[\"rating\"].isna().sum()\n",
    "total = df.index\n",
    "number_of_rows = len(total)"
   ]
  },
  {
   "cell_type": "code",
   "execution_count": 35,
   "metadata": {},
   "outputs": [],
   "source": [
    "# finding out the percentage of Nan values before dropping and replacing them.\n",
    "missing_rating_percentage = missing_rating /  number_of_rows"
   ]
  },
  {
   "cell_type": "code",
   "execution_count": 36,
   "metadata": {},
   "outputs": [
    {
     "name": "stdout",
     "output_type": "stream",
     "text": [
      "the percentage of rating in the data: 40.48%\n"
     ]
    }
   ],
   "source": [
    "print('the percentage of rating in the data:', \"{:.2%}\". format(missing_rating_percentage))"
   ]
  },
  {
   "cell_type": "code",
   "execution_count": 37,
   "metadata": {},
   "outputs": [],
   "source": [
    "# im replacing the missing value with blank\n",
    "df['rating'].fillna(\"undefined\", inplace = True)"
   ]
  },
  {
   "cell_type": "markdown",
   "metadata": {},
   "source": [
    "in rating column where 40.48% is missing im replacing it undefined since imputing another rating by frequency is not applicable since ersb are the only one who determines the rating."
   ]
  },
  {
   "cell_type": "code",
   "execution_count": 38,
   "metadata": {},
   "outputs": [],
   "source": [
    "#changing the 'Year_of_Release',  and user_score datatype from real numberto int\n",
    "df = df.astype({\"year_of_release\": int})"
   ]
  },
  {
   "cell_type": "markdown",
   "metadata": {},
   "source": [
    "<p><a name=\"datatypes\"></a></p>\n",
    "\n",
    "####  Convert the data to the required types."
   ]
  },
  {
   "cell_type": "code",
   "execution_count": 39,
   "metadata": {},
   "outputs": [],
   "source": [
    "#changing the user_score column to numeric float from object.\n",
    "df[[\"user_score\"]] = df[[\"user_score\"]].apply(pd.to_numeric)"
   ]
  },
  {
   "cell_type": "code",
   "execution_count": 40,
   "metadata": {},
   "outputs": [
    {
     "name": "stdout",
     "output_type": "stream",
     "text": [
      "<class 'pandas.core.frame.DataFrame'>\n",
      "RangeIndex: 16715 entries, 0 to 16714\n",
      "Data columns (total 11 columns):\n",
      "name               16715 non-null object\n",
      "platform           16715 non-null object\n",
      "year_of_release    16715 non-null int64\n",
      "genre              16715 non-null object\n",
      "na_sales           16715 non-null float64\n",
      "eu_sales           16715 non-null float64\n",
      "jp_sales           16715 non-null float64\n",
      "other_sales        16715 non-null float64\n",
      "critic_score       16715 non-null float64\n",
      "user_score         16715 non-null float64\n",
      "rating             16715 non-null object\n",
      "dtypes: float64(6), int64(1), object(4)\n",
      "memory usage: 1.4+ MB\n"
     ]
    }
   ],
   "source": [
    "#calling the in to check for NaN and the data types.\n",
    "df.info()"
   ]
  },
  {
   "cell_type": "markdown",
   "metadata": {},
   "source": [
    "in user_score column i have to change the data type from object because of the value '8.5' which is giving error when we do the mathematical computation, to convert the object to float we will call the pd.to numeric function."
   ]
  },
  {
   "cell_type": "code",
   "execution_count": 41,
   "metadata": {},
   "outputs": [],
   "source": [
    "#Calculating the total sales (the sum of sales in all regions) for each game and put these values in a separate column.\n",
    "df['total_sales'] =  df['na_sales'] + df['eu_sales'] + df['jp_sales'] + df['other_sales'] "
   ]
  },
  {
   "cell_type": "code",
   "execution_count": 42,
   "metadata": {},
   "outputs": [
    {
     "name": "stdout",
     "output_type": "stream",
     "text": [
      "                       name platform  year_of_release         genre  na_sales  \\\n",
      "0                Wii Sports      Wii             2006        Sports     41.36   \n",
      "1         Super Mario Bros.      NES             1985      Platform     29.08   \n",
      "2            Mario Kart Wii      Wii             2008        Racing     15.68   \n",
      "3         Wii Sports Resort      Wii             2009        Sports     15.61   \n",
      "4  Pokemon Red/Pokemon Blue       GB             1996  Role-Playing     11.27   \n",
      "\n",
      "   eu_sales  jp_sales  other_sales  critic_score  user_score     rating  \\\n",
      "0     28.96      3.77         8.45          76.0         8.0          E   \n",
      "1      3.58      6.81         0.77           0.0         0.0  undefined   \n",
      "2     12.76      3.79         3.29          82.0         8.3          E   \n",
      "3     10.93      3.28         2.95          80.0         8.0          E   \n",
      "4      8.89     10.22         1.00           0.0         0.0  undefined   \n",
      "\n",
      "   total_sales  \n",
      "0        82.54  \n",
      "1        40.24  \n",
      "2        35.52  \n",
      "3        32.77  \n",
      "4        31.38  \n"
     ]
    }
   ],
   "source": [
    "print(df.head())"
   ]
  },
  {
   "cell_type": "markdown",
   "metadata": {},
   "source": [
    "<p><a name=\"step2_conclusion\"></a></p>\n",
    "\n",
    "### Conclusion\n",
    "\n",
    "The dataframe has huge number of missing value specially in columns of critic_score, user_score, and rating this maybe due to the fact that the critic and the user did not give a score yet, in the case of rating column where 40.48% is missing im replacing the NaN with blank since rating should be done by esrb and therefore cannot be imputed by frequency, the values could be missing because the rating for the said game was not yet done by Entertainment software rating board. For cases in users_score with TBA (to be determined), it happens when there is not enough user score yet but once the minimun number of user score is achieved the score  will be shown."
   ]
  },
  {
   "cell_type": "markdown",
   "metadata": {},
   "source": [
    "<p><a name=\"Step 3\"></a></p>\n",
    "\n",
    "### Step 3. Analyze the data"
   ]
  },
  {
   "cell_type": "markdown",
   "metadata": {},
   "source": [
    "<p><a name=\"realsedgames\"></a></p>\n",
    "\n",
    "#### Games released in different years"
   ]
  },
  {
   "cell_type": "code",
   "execution_count": 43,
   "metadata": {},
   "outputs": [],
   "source": [
    "games_grouped = df.groupby('year_of_release').agg({'platform': ['count']})"
   ]
  },
  {
   "cell_type": "code",
   "execution_count": 44,
   "metadata": {},
   "outputs": [
    {
     "name": "stdout",
     "output_type": "stream",
     "text": [
      "                platform\n",
      "                   count\n",
      "year_of_release         \n",
      "0                    269\n",
      "1980                   9\n",
      "1981                  46\n",
      "1982                  36\n",
      "1983                  17\n",
      "1984                  14\n",
      "1985                  14\n",
      "1986                  21\n",
      "1987                  16\n",
      "1988                  15\n",
      "1989                  17\n",
      "1990                  16\n",
      "1991                  41\n",
      "1992                  43\n",
      "1993                  62\n",
      "1994                 121\n",
      "1995                 219\n",
      "1996                 263\n",
      "1997                 289\n",
      "1998                 379\n",
      "1999                 338\n",
      "2000                 350\n",
      "2001                 482\n",
      "2002                 829\n",
      "2003                 775\n",
      "2004                 762\n",
      "2005                 939\n",
      "2006                1006\n",
      "2007                1197\n",
      "2008                1427\n",
      "2009                1426\n",
      "2010                1255\n",
      "2011                1136\n",
      "2012                 653\n",
      "2013                 544\n",
      "2014                 581\n",
      "2015                 606\n",
      "2016                 502\n"
     ]
    }
   ],
   "source": [
    "print(games_grouped)"
   ]
  },
  {
   "cell_type": "markdown",
   "metadata": {},
   "source": [
    "Below is the graph for us to have a better presentation."
   ]
  },
  {
   "cell_type": "code",
   "execution_count": 45,
   "metadata": {},
   "outputs": [
    {
     "data": {
      "image/png": "[encoded data removed]",
      "text/plain": [
       "<Figure size 1080x576 with 1 Axes>"
      ]
     },
     "metadata": {
      "needs_background": "light"
     },
     "output_type": "display_data"
    }
   ],
   "source": [
    "games_grouped.plot.bar(figsize = (15, 8))\n",
    "plt.title('Games released in different years')\n",
    "plt.legend()\n",
    "plt.xlabel('Year', size=15)\n",
    "plt.ylabel('Number of games', size=15);"
   ]
  },
  {
   "cell_type": "markdown",
   "metadata": {},
   "source": [
    "As we can see in the above graph, the start of online gaming era is in 1980, there is not so many games release until 1990 but the rise of games and gaming patforms started in the late 90's . The graph shows the climb from the 1995 to the 21'st century.the highest numbers of released was recorded in 2007 to 2009. The data for every period mentioned in the graph would not be significant in predicting a marketing campaign for 2017 and so therefore i will slice it after determining which year would be significant. We can see here is positively skewed and it is cosidered to be a good behavior.\n",
    "\n",
    "\n",
    "<p><a name=\"variedsales\"></a></p>\n",
    "\n",
    "#### Looking at  how sales varied from platform to platform."
   ]
  },
  {
   "cell_type": "code",
   "execution_count": 46,
   "metadata": {},
   "outputs": [],
   "source": [
    "platform_grouped = df.groupby('platform')['total_sales'].sum().sort_values(ascending=False)"
   ]
  },
  {
   "cell_type": "code",
   "execution_count": 47,
   "metadata": {},
   "outputs": [
    {
     "name": "stdout",
     "output_type": "stream",
     "text": [
      "platform\n",
      "PS2     1255.77\n",
      "X360     971.42\n",
      "PS3      939.65\n",
      "Wii      907.51\n",
      "DS       806.12\n",
      "PS       730.86\n",
      "GBA      317.85\n",
      "PS4      314.14\n",
      "PSP      294.05\n",
      "PC       259.52\n",
      "3DS      259.00\n",
      "XB       257.74\n",
      "GB       255.46\n",
      "NES      251.05\n",
      "N64      218.68\n",
      "SNES     200.04\n",
      "GC       198.93\n",
      "XOne     159.32\n",
      "2600      96.98\n",
      "WiiU      82.19\n",
      "PSV       54.07\n",
      "SAT       33.59\n",
      "GEN       30.77\n",
      "DC        15.95\n",
      "SCD        1.86\n",
      "NG         1.44\n",
      "WS         1.42\n",
      "TG16       0.16\n",
      "3DO        0.10\n",
      "GG         0.04\n",
      "PCFX       0.03\n",
      "Name: total_sales, dtype: float64\n"
     ]
    }
   ],
   "source": [
    "print(platform_grouped)"
   ]
  },
  {
   "cell_type": "markdown",
   "metadata": {},
   "source": [
    "Here we can see how sales varied from platform to platform. The platform with the highest number of sales in PS2 and the platform with lowest sale is PCFX. We will slice the platform with greatest number of sales and we will assume 100 is the beachmark as greatest sales, that means we will remove all flatform below 100.\n",
    "\n",
    "<p><a name=\"greatestsales\"></a></p>\n",
    "\n",
    "#### Platforms with the greatest total sales."
   ]
  },
  {
   "cell_type": "code",
   "execution_count": 48,
   "metadata": {},
   "outputs": [
    {
     "data": {
      "text/plain": [
       "platform\n",
       "PS2     1255.77\n",
       "X360     971.42\n",
       "PS3      939.65\n",
       "Wii      907.51\n",
       "DS       806.12\n",
       "PS       730.86\n",
       "GBA      317.85\n",
       "PS4      314.14\n",
       "PSP      294.05\n",
       "PC       259.52\n",
       "3DS      259.00\n",
       "XB       257.74\n",
       "GB       255.46\n",
       "NES      251.05\n",
       "N64      218.68\n",
       "SNES     200.04\n",
       "GC       198.93\n",
       "XOne     159.32\n",
       "Name: total_sales, dtype: float64"
      ]
     },
     "execution_count": 48,
     "metadata": {},
     "output_type": "execute_result"
    }
   ],
   "source": [
    "df_test = df.groupby('platform')['total_sales'].sum().sort_values(ascending=False).copy()\n",
    "df_platform = df_test[df_test > 100.0]\n",
    "df_platform"
   ]
  },
  {
   "cell_type": "markdown",
   "metadata": {},
   "source": [
    "The above list of platform  that are considered to have greatest sales."
   ]
  },
  {
   "cell_type": "markdown",
   "metadata": {},
   "source": [
    "#### Greatest total sales by platform in graph."
   ]
  },
  {
   "cell_type": "code",
   "execution_count": 49,
   "metadata": {},
   "outputs": [
    {
     "data": {
      "image/png": "[encoded data removed]",
      "text/plain": [
       "<Figure size 1080x576 with 1 Axes>"
      ]
     },
     "metadata": {
      "needs_background": "light"
     },
     "output_type": "display_data"
    }
   ],
   "source": [
    "df_platform.plot.bar(figsize = (15, 8))\n",
    "plt.title('Total sales by platform')\n",
    "plt.legend()\n",
    "plt.xlabel('platforms', size=15)\n",
    "plt.ylabel('total_sales', size=15);"
   ]
  },
  {
   "cell_type": "markdown",
   "metadata": {},
   "source": [
    "By putting the data in the graph, it is easier to  how the sales differ from every platform.\n",
    "\n",
    "<p><a name=\"pop2zero\"></a></p>\n",
    "\n",
    "#### Platforms that used to be popular but now have zero sales."
   ]
  },
  {
   "cell_type": "code",
   "execution_count": 50,
   "metadata": {},
   "outputs": [
    {
     "name": "stdout",
     "output_type": "stream",
     "text": [
      "The following are the platforms which were once famous and now have zero sales:\n",
      "\n",
      " ['NES' 'GB' 'DS' 'PS2' 'SNES' 'GBA' 'N64' 'PS' 'XB' '2600' 'PSP' 'GC'\n",
      " 'GEN' 'DC' 'SAT' 'SCD' 'WS']\n"
     ]
    }
   ],
   "source": [
    "dfnew = df.copy()\n",
    "df_2016 = dfnew[dfnew['year_of_release'] == 2016]['platform'].unique()\n",
    "dfnew = dfnew[(dfnew['total_sales'] >= 0.5) & (dfnew['platform'].isin(df_2016) == False)]\n",
    "print(\"The following are the platforms which were once famous and now have zero sales:\\n\\n\", dfnew['platform'].unique())"
   ]
  },
  {
   "cell_type": "markdown",
   "metadata": {},
   "source": [
    "We determine the platforms that used to be popular but now have zero sales by assuming that any platform is popular if its total sales are greater than 0.5. The now time period will be considered 2016."
   ]
  },
  {
   "cell_type": "markdown",
   "metadata": {},
   "source": [
    "####  Determining how long does it generally take for new platforms to appear and old ones to fade."
   ]
  },
  {
   "cell_type": "code",
   "execution_count": 51,
   "metadata": {},
   "outputs": [],
   "source": [
    "# extracting the PS2 from the column since it has the greatest number of total sales \n",
    "ps2_data = df[(df['platform'] == 'PS2')] "
   ]
  },
  {
   "cell_type": "code",
   "execution_count": 52,
   "metadata": {},
   "outputs": [
    {
     "data": {
      "image/png": "[encoded data removed]",
      "text/plain": [
       "<Figure size 432x288 with 1 Axes>"
      ]
     },
     "metadata": {
      "needs_background": "light"
     },
     "output_type": "display_data"
    }
   ],
   "source": [
    "# building a distribution based on ps2 data for each year\n",
    "ps2_data['year_of_release'].plot.hist(bins=25)\n",
    "plt.title('year_of_release')\n",
    "plt.xlabel('Year');"
   ]
  },
  {
   "cell_type": "markdown",
   "metadata": {},
   "source": [
    "as we can see here in the graph the year distribution of ps2 is only in between 2000 to 2011, they have a high number of release in years 2002  to 2007 and with the lowest in 2011 and no more the following years."
   ]
  },
  {
   "cell_type": "code",
   "execution_count": 53,
   "metadata": {},
   "outputs": [],
   "source": [
    "# Wii platforms that used to be popular but now have zero sales\n",
    "X360_data = df[(df['platform'] == 'X360')]"
   ]
  },
  {
   "cell_type": "code",
   "execution_count": 54,
   "metadata": {},
   "outputs": [
    {
     "data": {
      "image/png": "[encoded data removed]",
      "text/plain": [
       "<Figure size 432x288 with 1 Axes>"
      ]
     },
     "metadata": {
      "needs_background": "light"
     },
     "output_type": "display_data"
    }
   ],
   "source": [
    "# building a distribution based on wii data for each year\n",
    "X360_data['year_of_release'].plot.hist(bins=25)\n",
    "plt.title('year_of_release')\n",
    "plt.xlabel('Year');"
   ]
  },
  {
   "cell_type": "markdown",
   "metadata": {},
   "source": [
    "extracting the PS3 from the column since it has the greatest number of total sales "
   ]
  },
  {
   "cell_type": "code",
   "execution_count": 55,
   "metadata": {},
   "outputs": [],
   "source": [
    "ps3_data = df[(df['platform'] == 'PS3')] "
   ]
  },
  {
   "cell_type": "markdown",
   "metadata": {},
   "source": [
    "Building a distribution based on wii data for each year"
   ]
  },
  {
   "cell_type": "code",
   "execution_count": 56,
   "metadata": {},
   "outputs": [
    {
     "data": {
      "image/png": "[encoded data removed]",
      "text/plain": [
       "<Figure size 432x288 with 1 Axes>"
      ]
     },
     "metadata": {
      "needs_background": "light"
     },
     "output_type": "display_data"
    }
   ],
   "source": [
    "ps3_data['year_of_release'].plot.hist(bins=25)\n",
    "plt.title('year_of_release')\n",
    "plt.xlabel('Year');"
   ]
  },
  {
   "cell_type": "markdown",
   "metadata": {},
   "source": [
    "By making the sample slices of platforms we observe that the most famous platforms has 10 years life span before it is being replaced or fade."
   ]
  },
  {
   "cell_type": "markdown",
   "metadata": {},
   "source": [
    "<p><a name=\"relevantperiod\"></a></p>\n",
    "\n",
    "#### Determining relevant data and period."
   ]
  },
  {
   "cell_type": "code",
   "execution_count": 57,
   "metadata": {},
   "outputs": [
    {
     "data": {
      "text/html": [
       "<div>\n",
       "<style scoped>\n",
       "    .dataframe tbody tr th:only-of-type {\n",
       "        vertical-align: middle;\n",
       "    }\n",
       "\n",
       "    .dataframe tbody tr th {\n",
       "        vertical-align: top;\n",
       "    }\n",
       "\n",
       "    .dataframe thead th {\n",
       "        text-align: right;\n",
       "    }\n",
       "</style>\n",
       "<table border=\"1\" class=\"dataframe\">\n",
       "  <thead>\n",
       "    <tr style=\"text-align: right;\">\n",
       "      <th></th>\n",
       "      <th>name</th>\n",
       "      <th>platform</th>\n",
       "      <th>year_of_release</th>\n",
       "      <th>genre</th>\n",
       "      <th>na_sales</th>\n",
       "      <th>eu_sales</th>\n",
       "      <th>jp_sales</th>\n",
       "      <th>other_sales</th>\n",
       "      <th>critic_score</th>\n",
       "      <th>user_score</th>\n",
       "      <th>rating</th>\n",
       "      <th>total_sales</th>\n",
       "    </tr>\n",
       "  </thead>\n",
       "  <tbody>\n",
       "    <tr>\n",
       "      <td>16</td>\n",
       "      <td>Grand Theft Auto V</td>\n",
       "      <td>PS3</td>\n",
       "      <td>2013</td>\n",
       "      <td>Action</td>\n",
       "      <td>7.02</td>\n",
       "      <td>9.09</td>\n",
       "      <td>0.98</td>\n",
       "      <td>3.96</td>\n",
       "      <td>97.0</td>\n",
       "      <td>8.2</td>\n",
       "      <td>M</td>\n",
       "      <td>21.05</td>\n",
       "    </tr>\n",
       "    <tr>\n",
       "      <td>23</td>\n",
       "      <td>Grand Theft Auto V</td>\n",
       "      <td>X360</td>\n",
       "      <td>2013</td>\n",
       "      <td>Action</td>\n",
       "      <td>9.66</td>\n",
       "      <td>5.14</td>\n",
       "      <td>0.06</td>\n",
       "      <td>1.41</td>\n",
       "      <td>97.0</td>\n",
       "      <td>8.1</td>\n",
       "      <td>M</td>\n",
       "      <td>16.27</td>\n",
       "    </tr>\n",
       "    <tr>\n",
       "      <td>31</td>\n",
       "      <td>Call of Duty: Black Ops 3</td>\n",
       "      <td>PS4</td>\n",
       "      <td>2015</td>\n",
       "      <td>Shooter</td>\n",
       "      <td>6.03</td>\n",
       "      <td>5.86</td>\n",
       "      <td>0.36</td>\n",
       "      <td>2.38</td>\n",
       "      <td>0.0</td>\n",
       "      <td>0.0</td>\n",
       "      <td>undefined</td>\n",
       "      <td>14.63</td>\n",
       "    </tr>\n",
       "    <tr>\n",
       "      <td>33</td>\n",
       "      <td>Pokemon X/Pokemon Y</td>\n",
       "      <td>3DS</td>\n",
       "      <td>2013</td>\n",
       "      <td>Role-Playing</td>\n",
       "      <td>5.28</td>\n",
       "      <td>4.19</td>\n",
       "      <td>4.35</td>\n",
       "      <td>0.78</td>\n",
       "      <td>0.0</td>\n",
       "      <td>0.0</td>\n",
       "      <td>undefined</td>\n",
       "      <td>14.60</td>\n",
       "    </tr>\n",
       "    <tr>\n",
       "      <td>42</td>\n",
       "      <td>Grand Theft Auto V</td>\n",
       "      <td>PS4</td>\n",
       "      <td>2014</td>\n",
       "      <td>Action</td>\n",
       "      <td>3.96</td>\n",
       "      <td>6.31</td>\n",
       "      <td>0.38</td>\n",
       "      <td>1.97</td>\n",
       "      <td>97.0</td>\n",
       "      <td>8.3</td>\n",
       "      <td>M</td>\n",
       "      <td>12.62</td>\n",
       "    </tr>\n",
       "    <tr>\n",
       "      <td>...</td>\n",
       "      <td>...</td>\n",
       "      <td>...</td>\n",
       "      <td>...</td>\n",
       "      <td>...</td>\n",
       "      <td>...</td>\n",
       "      <td>...</td>\n",
       "      <td>...</td>\n",
       "      <td>...</td>\n",
       "      <td>...</td>\n",
       "      <td>...</td>\n",
       "      <td>...</td>\n",
       "      <td>...</td>\n",
       "    </tr>\n",
       "    <tr>\n",
       "      <td>16703</td>\n",
       "      <td>Strawberry Nauts</td>\n",
       "      <td>PSV</td>\n",
       "      <td>2016</td>\n",
       "      <td>Adventure</td>\n",
       "      <td>0.00</td>\n",
       "      <td>0.00</td>\n",
       "      <td>0.01</td>\n",
       "      <td>0.00</td>\n",
       "      <td>0.0</td>\n",
       "      <td>0.0</td>\n",
       "      <td>undefined</td>\n",
       "      <td>0.01</td>\n",
       "    </tr>\n",
       "    <tr>\n",
       "      <td>16707</td>\n",
       "      <td>Aiyoku no Eustia</td>\n",
       "      <td>PSV</td>\n",
       "      <td>2014</td>\n",
       "      <td>Misc</td>\n",
       "      <td>0.00</td>\n",
       "      <td>0.00</td>\n",
       "      <td>0.01</td>\n",
       "      <td>0.00</td>\n",
       "      <td>0.0</td>\n",
       "      <td>0.0</td>\n",
       "      <td>undefined</td>\n",
       "      <td>0.01</td>\n",
       "    </tr>\n",
       "    <tr>\n",
       "      <td>16710</td>\n",
       "      <td>Samurai Warriors: Sanada Maru</td>\n",
       "      <td>PS3</td>\n",
       "      <td>2016</td>\n",
       "      <td>Action</td>\n",
       "      <td>0.00</td>\n",
       "      <td>0.00</td>\n",
       "      <td>0.01</td>\n",
       "      <td>0.00</td>\n",
       "      <td>0.0</td>\n",
       "      <td>0.0</td>\n",
       "      <td>undefined</td>\n",
       "      <td>0.01</td>\n",
       "    </tr>\n",
       "    <tr>\n",
       "      <td>16712</td>\n",
       "      <td>Haitaka no Psychedelica</td>\n",
       "      <td>PSV</td>\n",
       "      <td>2016</td>\n",
       "      <td>Adventure</td>\n",
       "      <td>0.00</td>\n",
       "      <td>0.00</td>\n",
       "      <td>0.01</td>\n",
       "      <td>0.00</td>\n",
       "      <td>0.0</td>\n",
       "      <td>0.0</td>\n",
       "      <td>undefined</td>\n",
       "      <td>0.01</td>\n",
       "    </tr>\n",
       "    <tr>\n",
       "      <td>16714</td>\n",
       "      <td>Winning Post 8 2016</td>\n",
       "      <td>PSV</td>\n",
       "      <td>2016</td>\n",
       "      <td>Simulation</td>\n",
       "      <td>0.00</td>\n",
       "      <td>0.00</td>\n",
       "      <td>0.01</td>\n",
       "      <td>0.00</td>\n",
       "      <td>0.0</td>\n",
       "      <td>0.0</td>\n",
       "      <td>undefined</td>\n",
       "      <td>0.01</td>\n",
       "    </tr>\n",
       "  </tbody>\n",
       "</table>\n",
       "<p>2233 rows × 12 columns</p>\n",
       "</div>"
      ],
      "text/plain": [
       "                                name platform  year_of_release         genre  \\\n",
       "16                Grand Theft Auto V      PS3             2013        Action   \n",
       "23                Grand Theft Auto V     X360             2013        Action   \n",
       "31         Call of Duty: Black Ops 3      PS4             2015       Shooter   \n",
       "33               Pokemon X/Pokemon Y      3DS             2013  Role-Playing   \n",
       "42                Grand Theft Auto V      PS4             2014        Action   \n",
       "...                              ...      ...              ...           ...   \n",
       "16703               Strawberry Nauts      PSV             2016     Adventure   \n",
       "16707               Aiyoku no Eustia      PSV             2014          Misc   \n",
       "16710  Samurai Warriors: Sanada Maru      PS3             2016        Action   \n",
       "16712        Haitaka no Psychedelica      PSV             2016     Adventure   \n",
       "16714            Winning Post 8 2016      PSV             2016    Simulation   \n",
       "\n",
       "       na_sales  eu_sales  jp_sales  other_sales  critic_score  user_score  \\\n",
       "16         7.02      9.09      0.98         3.96          97.0         8.2   \n",
       "23         9.66      5.14      0.06         1.41          97.0         8.1   \n",
       "31         6.03      5.86      0.36         2.38           0.0         0.0   \n",
       "33         5.28      4.19      4.35         0.78           0.0         0.0   \n",
       "42         3.96      6.31      0.38         1.97          97.0         8.3   \n",
       "...         ...       ...       ...          ...           ...         ...   \n",
       "16703      0.00      0.00      0.01         0.00           0.0         0.0   \n",
       "16707      0.00      0.00      0.01         0.00           0.0         0.0   \n",
       "16710      0.00      0.00      0.01         0.00           0.0         0.0   \n",
       "16712      0.00      0.00      0.01         0.00           0.0         0.0   \n",
       "16714      0.00      0.00      0.01         0.00           0.0         0.0   \n",
       "\n",
       "          rating  total_sales  \n",
       "16             M        21.05  \n",
       "23             M        16.27  \n",
       "31     undefined        14.63  \n",
       "33     undefined        14.60  \n",
       "42             M        12.62  \n",
       "...          ...          ...  \n",
       "16703  undefined         0.01  \n",
       "16707  undefined         0.01  \n",
       "16710  undefined         0.01  \n",
       "16712  undefined         0.01  \n",
       "16714  undefined         0.01  \n",
       "\n",
       "[2233 rows x 12 columns]"
      ]
     },
     "execution_count": 57,
     "metadata": {},
     "output_type": "execute_result"
    }
   ],
   "source": [
    "df_relyear = df[df['year_of_release'] > 2012 ]\n",
    "df_relyear"
   ]
  },
  {
   "cell_type": "code",
   "execution_count": 58,
   "metadata": {},
   "outputs": [],
   "source": [
    "#df_filetered_year = df_relyear[['platform', 'year_of_release']]\n",
    "#df_filetered_year"
   ]
  },
  {
   "cell_type": "code",
   "execution_count": 59,
   "metadata": {},
   "outputs": [],
   "source": [
    "#df_filtered = df[df['year_of_release'] > 2014]['platform'].unique()\n",
    "#df_filtered = np.delete(df_filtered, 5) # Removing PC platform\n",
    "#relevant_years = df[df['platform'].isin(df_filtered)]['year_of_release'].unique()\n",
    "#print(\"The following relevant periods are chosen:\\n\\n\", relevant_years)\n",
    "#print(\"\\n\\nThe following relevant platforms in the above time periods are chosen:\\n\\n\", df_filtered)"
   ]
  },
  {
   "cell_type": "markdown",
   "metadata": {},
   "source": [
    "The platform PC was also selected during our processing but was ignored due to its extreme number of outliers. If PC was included then all the other time periods would also get selected which would not present any relevant data for the rest of the selected platforms and it will become redundant, therefore PC platform was ignored from our finalized dataset.\n",
    "\n",
    "#### Selecting data for prognosis"
   ]
  },
  {
   "cell_type": "code",
   "execution_count": 60,
   "metadata": {},
   "outputs": [],
   "source": [
    "#df_final = df[(df['year_of_release'].isin(relevant_years)) & (df['platform'].isin(df_filtered))]\n",
    "#df_final"
   ]
  },
  {
   "cell_type": "code",
   "execution_count": 61,
   "metadata": {},
   "outputs": [
    {
     "data": {
      "text/plain": [
       "platform\n",
       "PS4     314.14\n",
       "PS3     181.43\n",
       "XOne    159.32\n",
       "3DS     143.25\n",
       "X360    136.80\n",
       "WiiU     64.63\n",
       "PC       39.43\n",
       "PSV      32.99\n",
       "Wii      13.66\n",
       "PSP       3.50\n",
       "DS        1.54\n",
       "Name: total_sales, dtype: float64"
      ]
     },
     "execution_count": 61,
     "metadata": {},
     "output_type": "execute_result"
    }
   ],
   "source": [
    "#grouping the final platform and determining the highest selling platform for the past 4 years\n",
    "df_relyear.groupby('platform')['total_sales'].sum().sort_values(ascending=False)"
   ]
  },
  {
   "cell_type": "markdown",
   "metadata": {},
   "source": [
    "The above platforms are the one selected for prognosis, from highest to lowest sales."
   ]
  },
  {
   "cell_type": "markdown",
   "metadata": {},
   "source": [
    "<p><a name=\"growsink\"></a></p>\n",
    "\n",
    "#### Growing and sinking platforms"
   ]
  },
  {
   "cell_type": "code",
   "execution_count": 62,
   "metadata": {},
   "outputs": [
    {
     "data": {
      "image/png": "[encoded data removed]",
      "text/plain": [
       "<Figure size 1080x576 with 1 Axes>"
      ]
     },
     "metadata": {
      "needs_background": "light"
     },
     "output_type": "display_data"
    }
   ],
   "source": [
    "df_relyear.groupby(['year_of_release', 'platform'])['total_sales'].sum().unstack().fillna(0).plot(figsize = (15, 8))\n",
    "plt.title('Growing and sinking platforms')\n",
    "plt.ylabel('total sales');"
   ]
  },
  {
   "cell_type": "markdown",
   "metadata": {},
   "source": [
    "The above line graph shows which of the choosen platforms in our choosen time periods are growing and shrinking in sales. According to the above graph, the platforms that are currently in the growth phase are PS4, XOne, 3DS and are growing in sales. The rest of the remaining platforms are shrinking in sales.\n",
    "\n",
    "#### Box plot for the global sales of all games."
   ]
  },
  {
   "cell_type": "code",
   "execution_count": 103,
   "metadata": {},
   "outputs": [
    {
     "data": {
      "image/png": "[encoded data removed]",
      "text/plain": [
       "<Figure size 432x288 with 1 Axes>"
      ]
     },
     "metadata": {
      "needs_background": "light"
     },
     "output_type": "display_data"
    },
    {
     "data": {
      "text/plain": [
       "<Figure size 1440x576 with 0 Axes>"
      ]
     },
     "metadata": {},
     "output_type": "display_data"
    }
   ],
   "source": [
    "ax = sns.boxplot(x=\"day\", y=\"total_bill\", hue=\"smoker\",\n",
    "                 data=tips, palette=\"Set3\")\n",
    "#sns.boxplot( y=df_relyear[\"total_sales\"], x=df_relyear[\"platform\"])\n",
    "#plt.figure(figsize=(15,8));\n",
    "plt.figure(figsize=(20, 8));"
   ]
  },
  {
   "cell_type": "code",
   "execution_count": 64,
   "metadata": {},
   "outputs": [
    {
     "name": "stdout",
     "output_type": "stream",
     "text": [
      "Mean Value of PS3 is 0.5258840579710146\n",
      "Mean Value of X360 is 0.735483870967742\n",
      "Mean Value of PS4 is 0.8013775510204081\n",
      "Mean Value of 3DS is 0.47277227722772275\n",
      "Mean Value of XOne is 0.6450202429149796\n",
      "Mean Value of WiiU is 0.562\n",
      "Mean Value of Wii is 0.5939130434782608\n",
      "Mean Value of PC is 0.20862433862433863\n",
      "Mean Value of PSV is 0.0921508379888268\n",
      "Mean Value of DS is 0.1925\n",
      "Mean Value of PSP is 0.05223880597014925\n"
     ]
    },
    {
     "data": {
      "image/png": "[encoded data removed]",
      "text/plain": [
       "<Figure size 1080x576 with 1 Axes>"
      ]
     },
     "metadata": {
      "needs_background": "light"
     },
     "output_type": "display_data"
    },
    {
     "data": {
      "image/png": "[encoded data removed]",
      "text/plain": [
       "<Figure size 1080x576 with 1 Axes>"
      ]
     },
     "metadata": {
      "needs_background": "light"
     },
     "output_type": "display_data"
    },
    {
     "data": {
      "image/png": "[encoded data removed]",
      "text/plain": [
       "<Figure size 1080x576 with 1 Axes>"
      ]
     },
     "metadata": {
      "needs_background": "light"
     },
     "output_type": "display_data"
    },
    {
     "data": {
      "image/png": "[encoded data removed]",
      "text/plain": [
       "<Figure size 1080x576 with 1 Axes>"
      ]
     },
     "metadata": {
      "needs_background": "light"
     },
     "output_type": "display_data"
    },
    {
     "data": {
      "image/png": "[encoded data removed]",
      "text/plain": [
       "<Figure size 1080x576 with 1 Axes>"
      ]
     },
     "metadata": {
      "needs_background": "light"
     },
     "output_type": "display_data"
    },
    {
     "data": {
      "image/png": "[encoded data removed]",
      "text/plain": [
       "<Figure size 1080x576 with 1 Axes>"
      ]
     },
     "metadata": {
      "needs_background": "light"
     },
     "output_type": "display_data"
    },
    {
     "data": {
      "image/png": "[encoded data removed]",
      "text/plain": [
       "<Figure size 1080x576 with 1 Axes>"
      ]
     },
     "metadata": {
      "needs_background": "light"
     },
     "output_type": "display_data"
    },
    {
     "data": {
      "image/png": "[encoded data removed]",
      "text/plain": [
       "<Figure size 1080x576 with 1 Axes>"
      ]
     },
     "metadata": {
      "needs_background": "light"
     },
     "output_type": "display_data"
    },
    {
     "data": {
      "image/png": "[encoded data removed]",
      "text/plain": [
       "<Figure size 1080x576 with 1 Axes>"
      ]
     },
     "metadata": {
      "needs_background": "light"
     },
     "output_type": "display_data"
    },
    {
     "data": {
      "image/png": "[encoded data removed]",
      "text/plain": [
       "<Figure size 1080x576 with 1 Axes>"
      ]
     },
     "metadata": {
      "needs_background": "light"
     },
     "output_type": "display_data"
    },
    {
     "data": {
      "image/png": "[encoded data removed]",
      "text/plain": [
       "<Figure size 1080x576 with 1 Axes>"
      ]
     },
     "metadata": {
      "needs_background": "light"
     },
     "output_type": "display_data"
    }
   ],
   "source": [
    "games_sales = df_relyear.groupby(['platform', 'name'])['total_sales'].sum()\n",
    "for name in df_relyear['platform'].unique():\n",
    "    plt.figure(figsize=(15,8))\n",
    "    plt.xlabel('total Sales', size=12)\n",
    "    plt.title(name, size = 30)\n",
    "    sns.boxplot(games_sales[name])\n",
    "    print(\"Mean Value of\", name, \"is\", games_sales[name].mean())"
   ]
  },
  {
   "cell_type": "markdown",
   "metadata": {},
   "source": [
    "The difference is sales is quite visible and significant in the above graphs. Every platform has a lot of positive outliers but it can also be seen that most of the outliers are clustered close to the maximum value. The average sales values for most of the platforms are pretty close except for the PSV platform. These similarities indicate that we were right in selecting these platforms and time periods to compute results for 2017 as they are all closely connected in terms of their statistical features.\n",
    "\n",
    "<p><a name=\"corelation\"></a></p>\n",
    "\n",
    "#### Build a scatter plot and calculate the correlation between reviews and sales of PS4"
   ]
  },
  {
   "cell_type": "code",
   "execution_count": 65,
   "metadata": {},
   "outputs": [
    {
     "data": {
      "image/png": "[encoded data removed]",
      "text/plain": [
       "<Figure size 432x432 with 3 Axes>"
      ]
     },
     "metadata": {
      "needs_background": "light"
     },
     "output_type": "display_data"
    }
   ],
   "source": [
    "# Scatter plot for PS4  critic_score with column Total_sales\n",
    "\n",
    "PS4_critic = df_relyear[df_relyear['platform'] == 'PS4'][['name', 'critic_score', 'total_sales']]\n",
    "sns.jointplot('critic_score', 'total_sales', PS4_critic, kind = 'scatter').annotate(stats.pearsonr);"
   ]
  },
  {
   "cell_type": "markdown",
   "metadata": {},
   "source": [
    "The above is a scatter plot between critic_score and Total_sales and on the top is the correlation score is displayed. The correlation score for them is 0.23 which means that the two columns are positively correlated but it is weak and likely unimportant. It means a good or higher critic_score might fetch higher sales for the PS4 platform."
   ]
  },
  {
   "cell_type": "code",
   "execution_count": 66,
   "metadata": {},
   "outputs": [
    {
     "data": {
      "image/png": "[encoded data removed]",
      "text/plain": [
       "<Figure size 432x432 with 3 Axes>"
      ]
     },
     "metadata": {
      "needs_background": "light"
     },
     "output_type": "display_data"
    }
   ],
   "source": [
    "# Scatter plot for PS4 user_score with column Total_sales\n",
    "\n",
    "PS4_user = df_relyear[df_relyear['platform'] == 'PS4'][['name', 'user_score', 'total_sales']]\n",
    "sns.jointplot('user_score', 'total_sales', PS4_user, kind = 'scatter').annotate(stats.pearsonr);"
   ]
  },
  {
   "cell_type": "markdown",
   "metadata": {},
   "source": [
    "The above is a scatter plot between user_score and total_sales of PS4 shows positive correlation score of 0.11 which means that the two columns display a positive correlation but a very weak one. As the correlation score is very close to 0, so the two columns wont display any correlated behaviour(not negative or positive). This suggests that no matter what the value of user_score is, it will not affect the sales of PS4 platform according to the provided data"
   ]
  },
  {
   "cell_type": "code",
   "execution_count": 67,
   "metadata": {},
   "outputs": [
    {
     "data": {
      "image/png": "[encoded data removed]",
      "text/plain": [
       "<Figure size 432x432 with 3 Axes>"
      ]
     },
     "metadata": {
      "needs_background": "light"
     },
     "output_type": "display_data"
    }
   ],
   "source": [
    "# Scatter plot for XOne user_score with column Total_sales\n",
    "\n",
    "XOne_user = df_relyear[df_relyear['platform'] == 'XOne'][['name', 'user_score', 'total_sales']]\n",
    "sns.jointplot('user_score', 'total_sales', XOne_user, kind = 'scatter').annotate(stats.pearsonr);"
   ]
  },
  {
   "cell_type": "markdown",
   "metadata": {},
   "source": [
    "Comparing the sales of the same games on other platforms, we still get almost similar result from the previous scatter plot of pS4 therefore we stick to our previous conclusion.\n",
    "\n",
    "<p><a name=\"gendist\"></a></p>\n",
    "\n",
    "#### General distribution of games by genre"
   ]
  },
  {
   "cell_type": "code",
   "execution_count": 95,
   "metadata": {},
   "outputs": [
    {
     "data": {
      "image/png": "[encoded data removed]",
      "text/plain": [
       "<Figure size 1440x720 with 1 Axes>"
      ]
     },
     "metadata": {
      "needs_background": "light"
     },
     "output_type": "display_data"
    }
   ],
   "source": [
    "df_relyear.groupby(['platform', 'genre'])['name'].count().unstack().fillna(0).plot.bar(figsize = (20, 10))\n",
    "plt.title('General distribution of games by genre')\n",
    "plt.xlabel('Platform', size=20)\n",
    "plt.ylabel('Game_count', size=20);"
   ]
  },
  {
   "cell_type": "markdown",
   "metadata": {},
   "source": [
    "The above graph the popularity of genre games in every platform. Here we can see that action genre is the most popular in all platforms wile puzzle to be the least popular.\n",
    "\n",
    "<p><a name=\"profitable\"></a></p>\n",
    "\n",
    "#### Most profitable games with high and low sales"
   ]
  },
  {
   "cell_type": "code",
   "execution_count": 70,
   "metadata": {},
   "outputs": [
    {
     "data": {
      "image/png": "[encoded data removed]",
      "text/plain": [
       "<Figure size 1080x576 with 1 Axes>"
      ]
     },
     "metadata": {
      "needs_background": "light"
     },
     "output_type": "display_data"
    }
   ],
   "source": [
    "df_relyear.groupby(['genre'])['total_sales'].sum().reset_index().sort_values('total_sales').plot.bar(x='genre', y='total_sales', figsize=(15,8))\n",
    "plt.title('Most profitable games with high and low sales')\n",
    "plt.xlabel('genre', size=20)\n",
    "plt.ylabel('total_sales', size=20);"
   ]
  },
  {
   "cell_type": "markdown",
   "metadata": {},
   "source": [
    "Action is the most popular genre it is normally the most profitable games genre in all platform including all other genre that are related to competitive type of gaming genres such as shooter and sports.Base on our graph games where users have to play against some other user or users are considered most profitable ones and the rest of the games can be considered less profitble according to the provided data. It can also be noted that games which are available on widely used devices also fetch higher sales than the games which require specific platforms for the games to work."
   ]
  },
  {
   "cell_type": "markdown",
   "metadata": {},
   "source": [
    "<p><a name=\"step3_conclusion\"></a></p>\n",
    "\n",
    "### Conclusion\n",
    "\n",
    "The Dataset contains  records of platforms since 1980, since our target is to forecast the sales on the following year, we need to filter the data into relevant years and flatforms. After doing so we found out that the greatest selling platform is ps2. After slicing the data to relevant yearn and platform the new data shows that X360 is the greatest selling platform which closely followed to PS3. I also notice that there is a 10 year life span of every platform before it disappear or being replaced by a new one. We also investigated the platforms that are growing and sinking and by plotting a graph we found out that PS4, XOne, 3DS and are growing in sales among all other platform. In terms of relationship between rating and user score relationship to sales, we found a positive corelation between them but a very weak one that is close to zero, meaning they do not have a very huge effect on sales.As for the genres the one that generates most sales are action, shooter and sports, mostly games that are related to competitive type of gaming genre or games that requires players to compeate against each other are the one the sells the most."
   ]
  },
  {
   "cell_type": "markdown",
   "metadata": {},
   "source": [
    "<p><a name=\"Step 4\"></a></p>\n",
    "\n",
    "### Step 4. Create a user profile for each region"
   ]
  },
  {
   "cell_type": "code",
   "execution_count": 71,
   "metadata": {},
   "outputs": [
    {
     "data": {
      "image/png": "[encoded data removed]",
      "text/plain": [
       "<Figure size 432x288 with 1 Axes>"
      ]
     },
     "metadata": {
      "needs_background": "light"
     },
     "output_type": "display_data"
    }
   ],
   "source": [
    "# the top 5 platforms based on sales in the na region.\n",
    "df_relyear.groupby(['platform'])['na_sales'].sum().reset_index().sort_values('na_sales', ascending=False).head().set_index('platform').plot.bar()\n",
    "plt.xlabel('Top 5 Platforms', size=15)\n",
    "plt.ylabel('Sales', size=15);"
   ]
  },
  {
   "cell_type": "code",
   "execution_count": 72,
   "metadata": {},
   "outputs": [
    {
     "data": {
      "image/png": "[encoded data removed]",
      "text/plain": [
       "<Figure size 432x288 with 1 Axes>"
      ]
     },
     "metadata": {
      "needs_background": "light"
     },
     "output_type": "display_data"
    }
   ],
   "source": [
    "# the top 5 platforms based on sales in the eu region.\n",
    "df_relyear.groupby(['platform'])['eu_sales'].sum().reset_index().sort_values('eu_sales', ascending=False).head().set_index('platform').plot.bar()\n",
    "plt.xlabel('Top 5 Platforms', size=15)\n",
    "plt.ylabel('Sales', size=15);"
   ]
  },
  {
   "cell_type": "code",
   "execution_count": 73,
   "metadata": {},
   "outputs": [
    {
     "data": {
      "image/png": "[encoded data removed]",
      "text/plain": [
       "<Figure size 432x288 with 1 Axes>"
      ]
     },
     "metadata": {
      "needs_background": "light"
     },
     "output_type": "display_data"
    }
   ],
   "source": [
    "# the top 5 platforms based on sales in the jp region.\n",
    "df_relyear.groupby(['platform'])['jp_sales'].sum().reset_index().sort_values('jp_sales', ascending=False).head().set_index('platform').plot.bar()\n",
    "plt.xlabel('Top 5 Platforms', size=15)\n",
    "plt.ylabel('Sales', size=15);"
   ]
  },
  {
   "cell_type": "markdown",
   "metadata": {},
   "source": [
    "The top 5 population platform in na and eu region has similarity where PS4 is the top selling platform while followed by PS3 ,X360, XOne and 3DS with slight variation in sales. While Jp region has another behavior in terms of choocing sa platform 3DS is the top selling followed by PS3, PSV, PS4 and WiiU."
   ]
  },
  {
   "cell_type": "markdown",
   "metadata": {},
   "source": [
    "#### variations of market shares from region to region."
   ]
  },
  {
   "cell_type": "code",
   "execution_count": 74,
   "metadata": {},
   "outputs": [],
   "source": [
    "market_share =df_relyear['total_sales'].sum()"
   ]
  },
  {
   "cell_type": "code",
   "execution_count": 75,
   "metadata": {},
   "outputs": [
    {
     "name": "stdout",
     "output_type": "stream",
     "text": [
      "the percentage of market share of na region: 40.13%\n"
     ]
    }
   ],
   "source": [
    "# Market share of na region\n",
    "na_share = df_relyear['na_sales'].sum()\n",
    "na_pshare = na_share / market_share \n",
    "print('the percentage of market share of na region:', \"{:.2%}\". format(na_pshare))"
   ]
  },
  {
   "cell_type": "code",
   "execution_count": 76,
   "metadata": {},
   "outputs": [
    {
     "name": "stdout",
     "output_type": "stream",
     "text": [
      "the percentage of market share of na region: 35.96%\n"
     ]
    }
   ],
   "source": [
    "# market share of eu region\n",
    "eu_share = df_relyear['eu_sales'].sum()\n",
    "eu_pshare = eu_share / market_share \n",
    "print('the percentage of market share of na region:', \"{:.2%}\". format(eu_pshare))"
   ]
  },
  {
   "cell_type": "code",
   "execution_count": 77,
   "metadata": {},
   "outputs": [
    {
     "name": "stdout",
     "output_type": "stream",
     "text": [
      "the percentage of market share of na region: 12.91%\n"
     ]
    }
   ],
   "source": [
    "# market share of jp region\n",
    "jp_share = df_relyear['jp_sales'].sum()\n",
    "jp_pshare = jp_share / market_share \n",
    "print('the percentage of market share of na region:', \"{:.2%}\". format(jp_pshare))"
   ]
  },
  {
   "cell_type": "markdown",
   "metadata": {},
   "source": [
    "our calculation shows that out of the 100% market share, the na region occupies 49.5% it gets the highest share among other region, the eu region occupies 31.4%, and the jp region occupies 8.5%. The remaining market share is occupied by the other_sales ."
   ]
  },
  {
   "cell_type": "markdown",
   "metadata": {},
   "source": [
    "#### Top five genres for each region based on sales"
   ]
  },
  {
   "cell_type": "code",
   "execution_count": 78,
   "metadata": {},
   "outputs": [
    {
     "data": {
      "image/png": "[encoded data removed]",
      "text/plain": [
       "<Figure size 432x288 with 1 Axes>"
      ]
     },
     "metadata": {
      "needs_background": "light"
     },
     "output_type": "display_data"
    }
   ],
   "source": [
    "# Top 5 genres based on sales in the na region\n",
    "df_relyear.groupby(['genre'])['na_sales'].sum().reset_index().sort_values('na_sales', ascending=False).head().set_index('genre').plot.bar()\n",
    "plt.xlabel('Top 5 Genres', size=15)\n",
    "plt.ylabel('Sales', size=15);"
   ]
  },
  {
   "cell_type": "markdown",
   "metadata": {},
   "source": [
    "Action genre is the most popular in terms of sale in na region while shooter and sports, Role-playing and Misc."
   ]
  },
  {
   "cell_type": "code",
   "execution_count": 79,
   "metadata": {},
   "outputs": [
    {
     "data": {
      "image/png": "[encoded data removed]",
      "text/plain": [
       "<Figure size 432x288 with 1 Axes>"
      ]
     },
     "metadata": {
      "needs_background": "light"
     },
     "output_type": "display_data"
    }
   ],
   "source": [
    "# top 5 genres based on sales in the eu region\n",
    "df_relyear.groupby(['genre'])['eu_sales'].sum().reset_index().sort_values('eu_sales', ascending=False).head().set_index('genre').plot.bar()\n",
    "plt.xlabel('Top 5 Genres', size=15)\n",
    "plt.ylabel('Sales', size=15);"
   ]
  },
  {
   "cell_type": "markdown",
   "metadata": {},
   "source": [
    "in eu region action is also the most popular genre and followed by shooter, sports, Role-playing and racing."
   ]
  },
  {
   "cell_type": "code",
   "execution_count": 80,
   "metadata": {},
   "outputs": [
    {
     "data": {
      "image/png": "[encoded data removed]",
      "text/plain": [
       "<Figure size 432x288 with 1 Axes>"
      ]
     },
     "metadata": {
      "needs_background": "light"
     },
     "output_type": "display_data"
    }
   ],
   "source": [
    "# Top 5 genres based on sales in the jp region\n",
    "df_relyear.groupby(['genre'])['jp_sales'].sum().reset_index().sort_values('jp_sales', ascending=False).head().set_index('genre').plot.bar()\n",
    "plt.xlabel('Top 5 Genres', size=15)\n",
    "plt.ylabel('Sales', size=15);"
   ]
  },
  {
   "cell_type": "markdown",
   "metadata": {},
   "source": [
    "In jp region.Role- playing game is more popular over action. In such games, a player is chosen who plays the major role in the storyline full of numerous adventurers and specializes in particular skill sets and that player progress in the storyline incrementing his skills and powers. Action genre follows  then the misc figthing and shooter."
   ]
  },
  {
   "cell_type": "markdown",
   "metadata": {},
   "source": [
    "#### Do ESRB ratings affect sales in individual regions?"
   ]
  },
  {
   "cell_type": "code",
   "execution_count": 81,
   "metadata": {},
   "outputs": [
    {
     "data": {
      "image/png": "[encoded data removed]",
      "text/plain": [
       "<Figure size 432x288 with 1 Axes>"
      ]
     },
     "metadata": {
      "needs_background": "light"
     },
     "output_type": "display_data"
    }
   ],
   "source": [
    "# ESRB rating for na region\n",
    "df_relyear.groupby(['rating'])['na_sales'].sum().reset_index().sort_values('na_sales', ascending=False).set_index('rating').plot.bar()\n",
    "plt.xlabel('Ratings', size=15)\n",
    "plt.ylabel('Sales', size=15);"
   ]
  },
  {
   "cell_type": "markdown",
   "metadata": {},
   "source": [
    "In the case of na region the sales of M for Mature has the highest sales, while undefined ratings has almost the same sales with E for everyone.rating does affect sales in this area but there are users who also buys games without rating."
   ]
  },
  {
   "cell_type": "code",
   "execution_count": 82,
   "metadata": {},
   "outputs": [
    {
     "data": {
      "image/png": "[encoded data removed]",
      "text/plain": [
       "<Figure size 432x288 with 1 Axes>"
      ]
     },
     "metadata": {
      "needs_background": "light"
     },
     "output_type": "display_data"
    }
   ],
   "source": [
    "# ESRB rating for eu region\n",
    "df_relyear.groupby(['rating'])['eu_sales'].sum().reset_index().sort_values('eu_sales', ascending=False).set_index('rating').plot.bar()\n",
    "plt.xlabel('Ratings', size=15)\n",
    "plt.ylabel('Sales', size=15);"
   ]
  },
  {
   "cell_type": "markdown",
   "metadata": {},
   "source": [
    "In the case of eu region Mature games has the highest sales, everyone and undefined almost has the sale sales while teen and E10+ rating almost has the same rating so the behavior of eu region is almost the same with na region, where rating affect the sales but not entirely."
   ]
  },
  {
   "cell_type": "code",
   "execution_count": 83,
   "metadata": {},
   "outputs": [
    {
     "data": {
      "image/png": "[encoded data removed]",
      "text/plain": [
       "<Figure size 432x288 with 1 Axes>"
      ]
     },
     "metadata": {
      "needs_background": "light"
     },
     "output_type": "display_data"
    }
   ],
   "source": [
    "# ESRB rating for jp region\n",
    "df_relyear.groupby(['rating'])['jp_sales'].sum().reset_index().sort_values('jp_sales', ascending=False).set_index('rating').plot.bar()\n",
    "plt.xlabel('Ratings', size=15)\n",
    "plt.ylabel('Sales', size=15);"
   ]
  },
  {
   "cell_type": "markdown",
   "metadata": {},
   "source": [
    "For jp region, the sales of games with undefined rating is higher compared to the one that has rating, So we can assume that in the jp region, the ESRB rating does not affect sales."
   ]
  },
  {
   "cell_type": "markdown",
   "metadata": {},
   "source": [
    "<p><a name=\"step4_conclusion\"></a></p>\n",
    "\n",
    "### Conclusion\n",
    "\n",
    "In this step we did the profilling per region for us to have a better view of the behavior of users and which platform is more popular and how many percentage they have on the market. we found out that in terms of platform the popularity is almost the same where PS3, PS4, Wii, X360 and 3DS in common in the 3 region. in terms of market share na region has the highest market share followed by eu this data could help us in terms of scope of promotion. In terms of genre, na and eu has almost similar behavior where they have the same top 3 genre which is action, sports and shooter, basically a genre that requires to compeate with another player.Japan region tend to have a slight different behavior in the type of genre where they prefer role-playing and action more over other genre.With ERSB rating na and eu region still have similar behavior where rating does affect the sales while in jp region is another thing because rating does not affect the sales."
   ]
  },
  {
   "cell_type": "markdown",
   "metadata": {},
   "source": [
    "<p><a name=\"Step 5\"></a></p>\n",
    "\n",
    "### Step 5. Test the hypotheses"
   ]
  },
  {
   "cell_type": "markdown",
   "metadata": {},
   "source": [
    "#### Hypotheses 1\n",
    "\n",
    "The null hypothesis H₀, is the average user ratings of the Xbox One and PC platforms are the same.\n",
    "\n",
    "And The alternative hypothesis, H₁, is the average user ratings of the Xbox One and PC platforms are not the same.\n"
   ]
  },
  {
   "cell_type": "code",
   "execution_count": 84,
   "metadata": {},
   "outputs": [],
   "source": [
    "Xbox_one = df[(df['platform'] == 'XOne')] \n",
    "PC_one = df[(df['platform'] == 'PC')] "
   ]
  },
  {
   "cell_type": "markdown",
   "metadata": {},
   "source": []
  },
  {
   "cell_type": "code",
   "execution_count": 85,
   "metadata": {},
   "outputs": [
    {
     "name": "stdout",
     "output_type": "stream",
     "text": [
      "Xbox mean: 4.8053\n",
      "PC mean: 5.5833\n"
     ]
    }
   ],
   "source": [
    "print('Xbox mean: '\"{:.5}\". format(Xbox_one['user_score'].mean()))\n",
    "print('PC mean: '\"{:.5}\". format(PC_one['user_score'].mean()))"
   ]
  },
  {
   "cell_type": "code",
   "execution_count": 86,
   "metadata": {},
   "outputs": [],
   "source": [
    "results = st.stats.ttest_ind(Xbox_one['user_score'], PC_one['user_score'], equal_var= False)"
   ]
  },
  {
   "cell_type": "code",
   "execution_count": 87,
   "metadata": {},
   "outputs": [],
   "source": [
    "alpha = .05"
   ]
  },
  {
   "cell_type": "code",
   "execution_count": 88,
   "metadata": {},
   "outputs": [
    {
     "name": "stdout",
     "output_type": "stream",
     "text": [
      "p-value: 0.0005315801015576501\n",
      "We reject the null hypothesis\n"
     ]
    }
   ],
   "source": [
    "print('p-value:', results.pvalue )\n",
    "if (results.pvalue < alpha):\n",
    "    print(\"We reject the null hypothesis\")\n",
    "else:\n",
    "    print(\"We can't reject the null hypothesis\")"
   ]
  },
  {
   "cell_type": "code",
   "execution_count": 90,
   "metadata": {},
   "outputs": [],
   "source": [
    "action_genre = df[(df['genre'] == 'Action')] \n",
    "sports_genre = df[(df['genre'] == 'Sports')] "
   ]
  },
  {
   "cell_type": "code",
   "execution_count": 91,
   "metadata": {},
   "outputs": [
    {
     "name": "stdout",
     "output_type": "stream",
     "text": [
      "Action mean: 3.8317\n",
      "Sports mean: 3.2701\n"
     ]
    }
   ],
   "source": [
    "print('Action mean: '\"{:.5}\". format(action_genre['user_score'].mean()))\n",
    "print('Sports mean: '\"{:.5}\". format(sports_genre['user_score'].mean()))"
   ]
  },
  {
   "cell_type": "code",
   "execution_count": 92,
   "metadata": {},
   "outputs": [],
   "source": [
    "results = st.stats.ttest_ind(action_genre['user_score'], sports_genre['user_score'], equal_var= False)"
   ]
  },
  {
   "cell_type": "code",
   "execution_count": 93,
   "metadata": {},
   "outputs": [],
   "source": [
    "alpha = .05"
   ]
  },
  {
   "cell_type": "code",
   "execution_count": 94,
   "metadata": {},
   "outputs": [
    {
     "name": "stdout",
     "output_type": "stream",
     "text": [
      "p-value: 1.1599167086071376e-08\n",
      "We reject the null hypothesis\n"
     ]
    }
   ],
   "source": [
    "print('p-value:', results.pvalue)\n",
    "if (results.pvalue < alpha):\n",
    "    print(\"We reject the null hypothesis\")\n",
    "else:\n",
    "    print(\"We can't reject the null hypothesis\")"
   ]
  },
  {
   "cell_type": "markdown",
   "metadata": {},
   "source": [
    "<p><a name=\"step5_conclusion\"></a></p>\n",
    "\n",
    "### Conclusion\n",
    "\n",
    "This part tackles about the ratings, we are trying to find out the probability that  the average user ratings of the Xbox One and PC platforms are the same. and by formulating the hyphothesis we found out its not the same. while the second hyphothesis we are tying to find out the probability that the average user ratings for the Action and Sports genres are not different and by formulating the hyphothesis we found out that out null hyphothesis is correct."
   ]
  },
  {
   "cell_type": "markdown",
   "metadata": {},
   "source": [
    "<p><a name=\"Step 6\"></a></p>\n",
    "\n",
    "### General Conclusion"
   ]
  },
  {
   "cell_type": "markdown",
   "metadata": {},
   "source": [
    "Our dataset contains historical datas og online games and sales around the world  by exploring and analyzing the data, we found out the behavior of users from 3 different major regions where na region has the highest market share followed by eu, we also found out that PS2, X360 and PS3 has greatest sales in the data and a platform typically last 10 years before its fades or being replaced. After slicing the data to relevant years and platforms it was easier we found out that PS4, XOne, 3DS are growing in sales and has the potential to earn in the following year. In terms of genre, our data shows action is the most popular followed by sports and shooter, mostly games that requires player to compeate with each other.We also tackle the posibility of corelation between user score and sales and we found out the weak positive corelation between the 2 meaning it does not affect so much. In terms of ERSB rating the region from na and eu has almost the same behavior where rating affect the sales but japan is the opposite where rating does not affect the sales. "
   ]
  }
 ],
 "metadata": {
  "kernelspec": {
   "display_name": "Python 3",
   "language": "python",
   "name": "python3"
  },
  "language_info": {
   "codemirror_mode": {
    "name": "ipython",
    "version": 3
   },
   "file_extension": ".py",
   "mimetype": "text/x-python",
   "name": "python",
   "nbconvert_exporter": "python",
   "pygments_lexer": "ipython3",
   "version": "3.8.5"
  },
  "toc": {
   "base_numbering": 1,
   "nav_menu": {},
   "number_sections": true,
   "sideBar": true,
   "skip_h1_title": false,
   "title_cell": "Table of Contents",
   "title_sidebar": "Contents",
   "toc_cell": false,
   "toc_position": {},
   "toc_section_display": true,
   "toc_window_display": false
  }
 },
 "nbformat": 4,
 "nbformat_minor": 4
}
